{
 "cells": [
  {
   "cell_type": "markdown",
   "metadata": {},
   "source": [
    "# Tuples"
   ]
  },
  {
   "cell_type": "markdown",
   "metadata": {},
   "source": [
    "## Learning Objectives"
   ]
  },
  {
   "cell_type": "markdown",
   "metadata": {},
   "source": [
    "- Understand the nature of a tuple and the basic idea of mutability.\n",
    "- Understand tuple assignment and tuple unpacking.\n",
    "- Know how perform tuple indexing/slicing.\n",
    "- Know some tuple methods."
   ]
  },
  {
   "cell_type": "markdown",
   "metadata": {},
   "source": [
    "### What are Tuples?"
   ]
  },
  {
   "cell_type": "markdown",
   "metadata": {},
   "source": [
    "- Tuples are like lists: flexible data input.\n",
    "- But they are immutable: cannot be changed once created.\n",
    "- Therefore no append/extend/remove/pop methods and no item reassignment for tuples.\n",
    "- Useful for holding values in data that you do not want to be reassigned by accident."
   ]
  },
  {
   "cell_type": "markdown",
   "metadata": {},
   "source": [
    "### Creating a Tuple"
   ]
  },
  {
   "cell_type": "markdown",
   "metadata": {},
   "source": [
    "Tuples are represented by parentheses `()`. You can also create a tuple using the `tuple` function"
   ]
  },
  {
   "cell_type": "code",
   "execution_count": 1,
   "metadata": {},
   "outputs": [
    {
     "name": "stdout",
     "output_type": "stream",
     "text": [
      "(1, 2, 3)\n",
      "(1, 'two', 3)\n"
     ]
    }
   ],
   "source": [
    "# immutable but flexible data input\n",
    "t = (1,2,3)\n",
    "t1 = tuple([1, \"two\", 3])\n",
    "print(t)\n",
    "print(t1)"
   ]
  },
  {
   "cell_type": "markdown",
   "metadata": {},
   "source": [
    "As mentioned, tuples are immutable, so you can't remove items from it"
   ]
  },
  {
   "cell_type": "code",
   "execution_count": 2,
   "metadata": {},
   "outputs": [
    {
     "ename": "AttributeError",
     "evalue": "'tuple' object has no attribute 'pop'",
     "output_type": "error",
     "traceback": [
      "\u001b[1;31m---------------------------------------------------------------------------\u001b[0m",
      "\u001b[1;31mAttributeError\u001b[0m                            Traceback (most recent call last)",
      "\u001b[1;32mc:\\Users\\admin\\Desktop\\ai-core\\Essentials\\2. Python programming\\5. Tuples\\Notebook.ipynb Cell 10'\u001b[0m in \u001b[0;36m<module>\u001b[1;34m\u001b[0m\n\u001b[1;32m----> <a href='vscode-notebook-cell:/c%3A/Users/admin/Desktop/ai-core/Essentials/2.%20Python%20programming/5.%20Tuples/Notebook.ipynb#ch0000012?line=0'>1</a>\u001b[0m t1\u001b[39m.\u001b[39;49mpop()\n",
      "\u001b[1;31mAttributeError\u001b[0m: 'tuple' object has no attribute 'pop'"
     ]
    }
   ],
   "source": [
    "t1.pop()"
   ]
  },
  {
   "cell_type": "markdown",
   "metadata": {},
   "source": [
    "And you can't reassign items to it"
   ]
  },
  {
   "cell_type": "code",
   "execution_count": 3,
   "metadata": {},
   "outputs": [
    {
     "ename": "TypeError",
     "evalue": "'tuple' object does not support item assignment",
     "output_type": "error",
     "traceback": [
      "\u001b[1;31m---------------------------------------------------------------------------\u001b[0m",
      "\u001b[1;31mTypeError\u001b[0m                                 Traceback (most recent call last)",
      "\u001b[1;32mc:\\Users\\admin\\Desktop\\ai-core\\Essentials\\2. Python programming\\5. Tuples\\Notebook.ipynb Cell 12'\u001b[0m in \u001b[0;36m<module>\u001b[1;34m\u001b[0m\n\u001b[1;32m----> <a href='vscode-notebook-cell:/c%3A/Users/admin/Desktop/ai-core/Essentials/2.%20Python%20programming/5.%20Tuples/Notebook.ipynb#ch0000014?line=0'>1</a>\u001b[0m t1[\u001b[39m1\u001b[39m] \u001b[39m=\u001b[39m \u001b[39m\"\u001b[39m\u001b[39mten\u001b[39m\u001b[39m\"\u001b[39m\n",
      "\u001b[1;31mTypeError\u001b[0m: 'tuple' object does not support item assignment"
     ]
    }
   ],
   "source": [
    "t1[1] = \"ten\""
   ]
  },
  {
   "cell_type": "code",
   "execution_count": 4,
   "metadata": {},
   "outputs": [
    {
     "name": "stdout",
     "output_type": "stream",
     "text": [
      "The length of the tuple is 3\n"
     ]
    }
   ],
   "source": [
    "# check length with len() function\n",
    "len(t)\n",
    "print(\"The length of the tuple is {x}\".format(x=len(t)))"
   ]
  },
  {
   "cell_type": "markdown",
   "metadata": {},
   "source": [
    "### Tuples' methods"
   ]
  },
  {
   "cell_type": "markdown",
   "metadata": {},
   "source": [
    "Tuples allow you to check how many times an item is repeated in it. To do so, you can use the method `.count()`"
   ]
  },
  {
   "cell_type": "code",
   "execution_count": 5,
   "metadata": {},
   "outputs": [
    {
     "name": "stdout",
     "output_type": "stream",
     "text": [
      "a occurs 3 times in the tuple\n"
     ]
    }
   ],
   "source": [
    "# count instances using .count() method\n",
    "t2 = ('a', 'a', 'b', 'b', 'a')\n",
    "t2.count(\"a\")\n",
    "print(\"a occurs {x} times in the tuple\".format(x=t2.count(\"a\")))"
   ]
  },
  {
   "cell_type": "markdown",
   "metadata": {},
   "source": [
    "Also, you can check the first occurrence of an element using the `index()` method"
   ]
  },
  {
   "cell_type": "code",
   "execution_count": 6,
   "metadata": {},
   "outputs": [
    {
     "name": "stdout",
     "output_type": "stream",
     "text": [
      "b occurs first at index 2 in the tuple\n"
     ]
    }
   ],
   "source": [
    "# find first index using .index() method\n",
    "t2.index(\"b\")\n",
    "print(\"b occurs first at index {x} in the tuple\".format(x=t2.index(\"b\")))"
   ]
  },
  {
   "cell_type": "markdown",
   "metadata": {},
   "source": [
    "### Tuple Packing and Unpacking"
   ]
  },
  {
   "cell_type": "markdown",
   "metadata": {},
   "source": [
    "- One of the most powerful aspects of tuples is a technique called tuple unpacking.\n",
    "- This allows us to assign variables using commas from a single tuple in order.\n",
    "- The syntax works as below, although the brackets can be omitted, unless required to be clear."
   ]
  },
  {
   "cell_type": "markdown",
   "metadata": {},
   "source": [
    "Python here 'unpacks' the tuple automatically and picks out the values and assigns them to the comma-separated variables:"
   ]
  },
  {
   "cell_type": "code",
   "execution_count": 7,
   "metadata": {},
   "outputs": [
    {
     "name": "stdout",
     "output_type": "stream",
     "text": [
      "a is equal to 1\n",
      "b is equal to 2\n",
      "c is equal to 3\n"
     ]
    }
   ],
   "source": [
    "a, b, c = (1, 2, 3)\n",
    "\n",
    "print(f'a is equal to {a}')\n",
    "print(f'b is equal to {b}')\n",
    "print(f'c is equal to {c}')"
   ]
  },
  {
   "cell_type": "markdown",
   "metadata": {},
   "source": [
    "We can also assign a tuple to a variable and perform tuple unpacking on the variable:"
   ]
  },
  {
   "cell_type": "markdown",
   "metadata": {},
   "source": [
    "Here, brackets are implied, Python performs tuple unpacking operation in same way 'under the hood'. <br>\n",
    "This comma notation is useful shorthand for assigning multiple variables:"
   ]
  },
  {
   "cell_type": "code",
   "execution_count": 8,
   "metadata": {},
   "outputs": [
    {
     "data": {
      "text/plain": [
       "int"
      ]
     },
     "execution_count": 8,
     "metadata": {},
     "output_type": "execute_result"
    }
   ],
   "source": [
    "t1 = (1)\n",
    "type(t1)"
   ]
  },
  {
   "cell_type": "markdown",
   "metadata": {},
   "source": [
    "If you simply use a comma (even without parentheses) you can create a tuple"
   ]
  },
  {
   "cell_type": "code",
   "execution_count": 9,
   "metadata": {},
   "outputs": [
    {
     "data": {
      "text/plain": [
       "tuple"
      ]
     },
     "execution_count": 9,
     "metadata": {},
     "output_type": "execute_result"
    }
   ],
   "source": [
    "t1 = 1, 2\n",
    "type(t1)"
   ]
  },
  {
   "cell_type": "markdown",
   "metadata": {},
   "source": [
    "## Summary\n",
    "We now understand:\n",
    "- The nature of tuples .\n",
    "- The basic concept of tuple unpacking.\n",
    "<br><br>\n",
    "\n",
    "We now know:\n",
    "- Tuple methods including .count() and .index().\n",
    "\n",
    "Please use this notebook as a reference, and refer to the links below for more information.\n",
    "\n",
    "## Further reading\n",
    "- Built-in types: https://docs.python.org/3/library/stdtypes.html\n"
   ]
  }
 ],
 "metadata": {
  "interpreter": {
   "hash": "beedbe2faf2f7048d727558d0bc3221e7eba2a0b921cac4d4771b2feb8f74b30"
  },
  "kernelspec": {
   "display_name": "Python 3.10.2 64-bit",
   "language": "python",
   "name": "python3"
  },
  "language_info": {
   "codemirror_mode": {
    "name": "ipython",
    "version": 3
   },
   "file_extension": ".py",
   "mimetype": "text/x-python",
   "name": "python",
   "nbconvert_exporter": "python",
   "pygments_lexer": "ipython3",
   "version": "3.10.2"
  },
  "orig_nbformat": 4
 },
 "nbformat": 4,
 "nbformat_minor": 2
}
