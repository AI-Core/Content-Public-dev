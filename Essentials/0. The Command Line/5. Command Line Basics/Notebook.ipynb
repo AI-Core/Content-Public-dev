{
 "cells": [
  {
   "cell_type": "markdown",
   "metadata": {},
   "source": [
    "# The Command Line"
   ]
  },
  {
   "cell_type": "markdown",
   "metadata": {},
   "source": [
    "## Operating Systems"
   ]
  },
  {
   "cell_type": "markdown",
   "metadata": {},
   "source": [
    "An operating system (OS) __is a computer program__ (admittedly large and quite sophisticated) which performs the following tasks:\n",
    "- manages computer hardware\n",
    "- manages software resources (e.g. runs applications)\n",
    "- provides common services for computer programs"
   ]
  },
  {
   "cell_type": "markdown",
   "metadata": {},
   "source": [
    "### Flavours of OSs"
   ]
  },
  {
   "cell_type": "markdown",
   "metadata": {},
   "source": [
    "\n",
    "> The __choice of an OS is essential.__\n",
    "\n",
    "Here, we present a brief overview of the widely used OSs."
   ]
  },
  {
   "cell_type": "markdown",
   "metadata": {},
   "source": [
    "\n",
    "#### Windows (discouraged)\n"
   ]
  },
  {
   "cell_type": "markdown",
   "metadata": {},
   "source": [
    "Windows is a family of OSs created by Microsoft Corporation and widely employed in day-to-day activities.\n",
    "\n",
    "*Pros*\n",
    "\n",
    "- It is widely used for day-to-day, non-professional tasks.\n",
    "- It is owned and supported by a large corporation.\n",
    "- It is easy to set up and use.\n",
    "\n",
    "*Cons*\n",
    "\n",
    "- The source code of Windows is not available (__Closed source__) as it is __compiled__.\n",
    "- Windows OSs are not free; they have to be purchased.\n",
    "- Comparatively poor support for open-source software (which we will use in this course).\n",
    "- It is difficult to customise.\n",
    "- Few professional software developers use it; thus, support from people around you may be inadequate or unavailable.\n",
    "- It includes a different terminal (powershell) by default.\n",
    "\n",
    "> __Generally, Windows is rarely used as a programming environment because of the above constraints.__\n",
    "\n",
    "> __Therefore, we encourage you to install and use MacOS or a Linux distribution (at least for this course).__\n"
   ]
  },
  {
   "cell_type": "markdown",
   "metadata": {},
   "source": [
    "#### MacOS (fine)\n"
   ]
  },
  {
   "cell_type": "markdown",
   "metadata": {},
   "source": [
    "*Pros*\n",
    "\n",
    "- It has good open-source software support (initially based on an open-source project: FreeBSD).\n",
    "- It is supported by a large corporation.\n",
    "- It is easy to setup and use.\n",
    "- It is quite customisable.\n",
    "\n",
    "*Cons*\n",
    "\n",
    "- The current source code of MacOS is not available (__Closed source__) as it is __compiled__.\n",
    "- MacOS is not free; however, it is included by default in Apple laptops.\n",
    "\n",
    "> __Consider MacOS as a middle ground between Windows and Linux.__\n",
    "\n",
    "> __If you have this OS installed, you are not required to change to Linux (unless you want to of course).__\n"
   ]
  },
  {
   "cell_type": "markdown",
   "metadata": {},
   "source": [
    "#### Linux (encouraged)\n"
   ]
  },
  {
   "cell_type": "markdown",
   "metadata": {},
   "source": [
    "*Pros*\n",
    "\n",
    "- It is an open-source kernel, and the code is available (see [here](https://github.com/torvalds/linux)).\n",
    "- It boasts good open-source software support (most open-source tools were created based on this OS).\n",
    "- It is free, as most of the distributions were created by contributors or non-profit organisations.\n",
    "- It is easy to set up and use.\n",
    "- It is quite customisable.\n",
    "\n",
    "*Cons*\n",
    "\n",
    "- It does not have __direct support from a large corporation__; however, many large corporations, including Google, Microsoft and Apple, are members of __the Linux Foundation__, which promotes the growth of Linux (Moreover, their software usually run on it).\n",
    "- Although the user interfaces (UIs) of many Linux distros (short for distribution) are similar to those of Windows and MacOS, some things work a little differently and __less intuitively__ (e.g. package managers).\n",
    "\n",
    "> __The code and dependencies required for this course work best with this OS.__\n"
   ]
  },
  {
   "cell_type": "markdown",
   "metadata": {},
   "source": [
    "*Linux distributions*\n"
   ]
  },
  {
   "cell_type": "markdown",
   "metadata": {},
   "source": [
    "As opposed to the other OSs, Linux was not created by a single organisation. As mentioned above, Linux is quite customisable, and as such, it is worked on by different organisations. \n",
    "\n",
    "Linux distributions, often shortened as 'distros', compile all the code from the open-source projects for users. \n",
    "\n",
    "There are a few Linux distros that you can explore, depending on the following factors:\n",
    "- how much time you are willing to dedicate to its installation, setup and maintenance\n",
    "- how much you are willing to learn about it\n",
    "\n",
    "Here are three distributions that you can consider:\n",
    "\n",
    "- __Ubuntu__ ([link here](https://ubuntu.com/download)). It is easy to use, stable, less configurable, good for day-to-day tasks and suitable for programming (__encouraged__).\n",
    "- __Manjaro__ ([link here](https://manjaro.org/)). This is a bleeding-edge software that is easy to use, difficult to maintain, good for programming and customisable (__requires comparatively more time though__).\n",
    "- __Arch Linux__ ([link here](https://archlinux.org/)). It is __difficult to set up and maintain__ (__requires considerable work__); however, it is completely customisable. It is built starting only with the command line."
   ]
  },
  {
   "cell_type": "markdown",
   "metadata": {},
   "source": [
    "### Virtual machines (discouraged)\n"
   ]
  },
  {
   "cell_type": "markdown",
   "metadata": {},
   "source": [
    "\n",
    "Virtual machines enable us to run one OS within another.\n",
    "\n",
    "You may consider this approach if you do not want to\n",
    "\n",
    "- uninstall your current Windows OS\n",
    "- install the Linux OS side-by-side with Windows\n",
    "\n",
    "Notably, virtual machines have some limitations:\n",
    "\n",
    "- They are relatively slow, attributed to the two OSs running simultaneously.\n",
    "- Occasionally, they may crash or freeze, depending on the virtualisation software).\n",
    "- They consume significant memory resources as you will be required to partition your device (i.e. allocate a large portion of memory to one OS, so that it cannot be used by the other)."
   ]
  },
  {
   "cell_type": "markdown",
   "metadata": {},
   "source": [
    "## Command-Line Interface\n"
   ]
  },
  {
   "cell_type": "markdown",
   "metadata": {},
   "source": [
    "Most likely, you are accustomed to interacting with your OS through a graphical user interface (GUI), such as your visual file explorer. These visual applications simply provide a user-friendly method for communicating with the computer. Behind the scenes, these applications run similarly to the way we run them in the terminal.\n",
    "\n",
    "Here, we review the basic terminal concepts and commands, which will enable you to use the command-line interface efficiently.\n"
   ]
  },
  {
   "cell_type": "markdown",
   "metadata": {},
   "source": [
    "### Terminal"
   ]
  },
  {
   "cell_type": "markdown",
   "metadata": {},
   "source": [
    "To apply commands, we run them through a terminal. A terminal is a human-centric interface for communicating with the OS of a computer.\n",
    "\n",
    "> A __terminal is a window where we input commands to the OS using the programming language, BASH.__\n",
    "\n",
    "If you are in a windows environment, you should install and use the [git-bash](https://gitforwindows.org) terminal. Do not use powershell or cmd as they do not work the same way."
   ]
  },
  {
   "cell_type": "markdown",
   "metadata": {},
   "source": [
    "### Commands\n"
   ]
  },
  {
   "cell_type": "markdown",
   "metadata": {},
   "source": [
    "\n",
    "> __Commands are programs that enable us to perform basic tasks in our OSs__\n",
    "\n",
    "Commands have the general form:\n",
    "\n",
    "```bash\n",
    "command [-short_flags] [--long_flags] [arguments]\n",
    "```\n",
    "\n",
    "> `[...]` indicates that the arguments are optional; __you do not have to pass them!__\n",
    "\n",
    "- `command`: refers to the name of the command, e.g. `ls`\n",
    "- `flags`: each flag can be used in one of two ways:\n",
    "    - implicit (short, `-a`)\n",
    "    - explicit (long, `--all`)\n",
    "- `arguments`: employed to specify something (or required by commands), e.g. `ls my_dir` (__note that no hyphen is required!__)\n",
    "     \n",
    "> __You can always run `command --help` or `man command` (manual) to know the role(s) of a particular command and what arguments are necessary.__\n",
    "\n",
    "As an example, we run the basic `ls` command with the `--help` flag, as follows:"
   ]
  },
  {
   "cell_type": "code",
   "execution_count": 3,
   "metadata": {},
   "outputs": [
    {
     "name": "stdout",
     "output_type": "stream",
     "text": [
      "Usage: ls [OPTION]... [FILE]...\n",
      "List information about the FILEs (the current directory by default).\n",
      "Sort entries alphabetically if none of -cftuvSUX nor --sort is specified.\n",
      "\n",
      "Mandatory arguments to long options are mandatory for short options too.\n",
      "  -a, --all                  do not ignore entries starting with .\n",
      "  -A, --almost-all           do not list implied . and ..\n",
      "      --author               with -l, print the author of each file\n",
      "  -b, --escape               print C-style escapes for nongraphic characters\n",
      "      --block-size=SIZE      with -l, scale sizes by SIZE when printing them;\n",
      "                               e.g., '--block-size=M'; see SIZE format below\n",
      "  -B, --ignore-backups       do not list implied entries ending with ~\n",
      "  -c                         with -lt: sort by, and show, ctime (time of last\n",
      "                               modification of file status information);\n",
      "                               with -l: show ctime and sort by name;\n",
      "                               otherwise: sort by ctime, newest first\n",
      "  -C                         list entries by columns\n",
      "      --color[=WHEN]         colorize the output; WHEN can be 'always' (default\n",
      "                               if omitted), 'auto', or 'never'; more info below\n",
      "  -d, --directory            list directories themselves, not their contents\n",
      "  -D, --dired                generate output designed for Emacs' dired mode\n",
      "  -f                         do not sort, enable -aU, disable -ls --color\n",
      "  -F, --classify             append indicator (one of */=>@|) to entries\n",
      "      --file-type            likewise, except do not append '*'\n",
      "      --format=WORD          across -x, commas -m, horizontal -x, long -l,\n",
      "                               single-column -1, verbose -l, vertical -C\n",
      "      --full-time            like -l --time-style=full-iso\n",
      "  -g                         like -l, but do not list owner\n",
      "      --group-directories-first\n",
      "                             group directories before files;\n",
      "                               can be augmented with a --sort option, but any\n",
      "                               use of --sort=none (-U) disables grouping\n",
      "  -G, --no-group             in a long listing, don't print group names\n",
      "  -h, --human-readable       with -l and -s, print sizes like 1K 234M 2G etc.\n",
      "      --si                   likewise, but use powers of 1000 not 1024\n",
      "  -H, --dereference-command-line\n",
      "                             follow symbolic links listed on the command line\n",
      "      --dereference-command-line-symlink-to-dir\n",
      "                             follow each command line symbolic link\n",
      "                               that points to a directory\n",
      "      --hide=PATTERN         do not list implied entries matching shell PATTERN\n",
      "                               (overridden by -a or -A)\n",
      "      --hyperlink[=WHEN]     hyperlink file names; WHEN can be 'always'\n",
      "                               (default if omitted), 'auto', or 'never'\n",
      "      --indicator-style=WORD  append indicator with style WORD to entry names:\n",
      "                               none (default), slash (-p),\n",
      "                               file-type (--file-type), classify (-F)\n",
      "  -i, --inode                print the index number of each file\n",
      "  -I, --ignore=PATTERN       do not list implied entries matching shell PATTERN\n",
      "  -k, --kibibytes            default to 1024-byte blocks for disk usage;\n",
      "                               used only with -s and per directory totals\n",
      "  -l                         use a long listing format\n",
      "  -L, --dereference          when showing file information for a symbolic\n",
      "                               link, show information for the file the link\n",
      "                               references rather than for the link itself\n",
      "  -m                         fill width with a comma separated list of entries\n",
      "  -n, --numeric-uid-gid      like -l, but list numeric user and group IDs\n",
      "  -N, --literal              print entry names without quoting\n",
      "  -o                         like -l, but do not list group information\n",
      "  -p, --indicator-style=slash\n",
      "                             append / indicator to directories\n",
      "  -q, --hide-control-chars   print ? instead of nongraphic characters\n",
      "      --show-control-chars   show nongraphic characters as-is (the default,\n",
      "                               unless program is 'ls' and output is a terminal)\n",
      "  -Q, --quote-name           enclose entry names in double quotes\n",
      "      --quoting-style=WORD   use quoting style WORD for entry names:\n",
      "                               literal, locale, shell, shell-always,\n",
      "                               shell-escape, shell-escape-always, c, escape\n",
      "                               (overrides QUOTING_STYLE environment variable)\n",
      "  -r, --reverse              reverse order while sorting\n",
      "  -R, --recursive            list subdirectories recursively\n",
      "  -s, --size                 print the allocated size of each file, in blocks\n",
      "  -S                         sort by file size, largest first\n",
      "      --sort=WORD            sort by WORD instead of name: none (-U), size (-S),\n",
      "                               time (-t), version (-v), extension (-X)\n",
      "      --time=WORD            change the default of using modification times;\n",
      "                               access time (-u): atime, access, use;\n",
      "                               change time (-c): ctime, status;\n",
      "                               birth time: birth, creation;\n",
      "                             with -l, WORD determines which time to show;\n",
      "                             with --sort=time, sort by WORD (newest first)\n",
      "      --time-style=TIME_STYLE  time/date format with -l; see TIME_STYLE below\n",
      "  -t                         sort by time, newest first; see --time\n",
      "  -T, --tabsize=COLS         assume tab stops at each COLS instead of 8\n",
      "  -u                         with -lt: sort by, and show, access time;\n",
      "                               with -l: show access time and sort by name;\n",
      "                               otherwise: sort by access time, newest first\n",
      "  -U                         do not sort; list entries in directory order\n",
      "  -v                         natural sort of (version) numbers within text\n",
      "  -w, --width=COLS           set output width to COLS.  0 means no limit\n",
      "  -x                         list entries by lines instead of by columns\n",
      "  -X                         sort alphabetically by entry extension\n",
      "  -Z, --context              print any security context of each file\n",
      "  -1                         list one file per line.  Avoid '\\n' with -q or -b\n",
      "      --help     display this help and exit\n",
      "      --version  output version information and exit\n",
      "\n",
      "The SIZE argument is an integer and optional unit (example: 10K is 10*1024).\n",
      "Units are K,M,G,T,P,E,Z,Y (powers of 1024) or KB,MB,... (powers of 1000).\n",
      "Binary prefixes can be used, too: KiB=K, MiB=M, and so on.\n",
      "\n",
      "The TIME_STYLE argument can be full-iso, long-iso, iso, locale, or +FORMAT.\n",
      "FORMAT is interpreted like in date(1).  If FORMAT is FORMAT1<newline>FORMAT2,\n",
      "then FORMAT1 applies to non-recent files and FORMAT2 to recent files.\n",
      "TIME_STYLE prefixed with 'posix-' takes effect only outside the POSIX locale.\n",
      "Also the TIME_STYLE environment variable sets the default style to use.\n",
      "\n",
      "Using color to distinguish file types is disabled both by default and\n",
      "with --color=never.  With --color=auto, ls emits color codes only when\n",
      "standard output is connected to a terminal.  The LS_COLORS environment\n",
      "variable can change the settings.  Use the dircolors command to set it.\n",
      "\n",
      "Exit status:\n",
      " 0  if OK,\n",
      " 1  if minor problems (e.g., cannot access subdirectory),\n",
      " 2  if serious trouble (e.g., cannot access command-line argument).\n",
      "\n",
      "GNU coreutils online help: <https://www.gnu.org/software/coreutils/>\n",
      "Full documentation <https://www.gnu.org/software/coreutils/ls>\n",
      "or available locally via: info '(coreutils) ls invocation'\n"
     ]
    }
   ],
   "source": [
    "ls --help"
   ]
  },
  {
   "cell_type": "markdown",
   "metadata": {},
   "source": [
    "#### Common commands\n"
   ]
  },
  {
   "cell_type": "markdown",
   "metadata": {},
   "source": [
    "Here, we present a list of basic commands.\n"
   ]
  },
  {
   "cell_type": "markdown",
   "metadata": {},
   "source": [
    "*Movement & output*\n"
   ]
  },
  {
   "cell_type": "markdown",
   "metadata": {},
   "source": [
    "\n",
    "- `pwd`: `p`rint `w`orking `d`irectory (displays where we currently are in the folder structure in our system).\n",
    "- `cd DIRECTORY`: `c`hange `d`irectory (folder) to `DIRECTORY`.\n",
    "- `ls`: `l`i`s`t the files in the current directory.\n",
    "- `clear`: `clear` the terminal output (the prompt will be positioned at the beginning).\n",
    "- `echo`: `echo`es the string inputs to the output.\n"
   ]
  },
  {
   "cell_type": "markdown",
   "metadata": {},
   "source": [
    "*Creation & files*\n"
   ]
  },
  {
   "cell_type": "markdown",
   "metadata": {},
   "source": [
    "\n",
    "- `mkdir PATH`: `m`a`k`e a `dir`ectory specified by PATH.\n",
    "- `cp SOURCE DIRECTORY`: `c`o`p`y SOURCE to DIRECTORY.\n",
    "- `mv SOURCE DIRECTORY`: `m`o`v`e  SOURCE to DIRECTORY.\n",
    "- `touch FILE`: create FILE.\n",
    "- `cat FILE`: display FILE contents.\n",
    "- `rm FILE`: `r`e`m`ove FILE (__THIS DELETES THE FILE PERMANENTLY__).\n",
    "    - `rm -r DIRECTORY`: remove `r`ecursively everything in the directory (__THIS DELETES THE DIRECTORY PERMANENTLY__).\n"
   ]
  },
  {
   "cell_type": "markdown",
   "metadata": {},
   "source": [
    "\n",
    "*Redirection*\n"
   ]
  },
  {
   "cell_type": "markdown",
   "metadata": {},
   "source": [
    "\n",
    "> __Redirection (`>`, `<`) enables us to redirect `stdout` (standard output stream) to/from a file.__\n",
    "\n",
    "For example:"
   ]
  },
  {
   "cell_type": "code",
   "execution_count": 1,
   "metadata": {},
   "outputs": [
    {
     "name": "stdout",
     "output_type": "stream",
     "text": [
      "THIS IS EXAMPLE\n"
     ]
    }
   ],
   "source": [
    "!cd /tmp\n",
    "\n",
    "!echo \"THIS IS EXAMPLE\" > foo.txt\n",
    "!cat foo.txt"
   ]
  },
  {
   "cell_type": "markdown",
   "metadata": {},
   "source": [
    "Note that a new file had been generated in the working directory, and we are simply displaying its content(s) using the `cat` command."
   ]
  },
  {
   "cell_type": "markdown",
   "metadata": {},
   "source": [
    "We can also `append` to files using `>>`:"
   ]
  },
  {
   "cell_type": "code",
   "execution_count": 13,
   "metadata": {},
   "outputs": [
    {
     "name": "stdout",
     "output_type": "stream",
     "text": [
      "THIS IS EXAMPLE\n",
      "ANOTHER LINE\n"
     ]
    }
   ],
   "source": [
    "!echo \"ANOTHER LINE\" >> foo.txt\n",
    "!cat foo.txt"
   ]
  },
  {
   "cell_type": "markdown",
   "metadata": {},
   "source": [
    "Please exercise caution! A single redirection sign creates or __overwrites__ a file if it already existed.\n",
    "\n",
    "For more information on redirections, click the following collapsible, `Standard streams`."
   ]
  },
  {
   "cell_type": "markdown",
   "metadata": {},
   "source": [
    "<details>\n",
    "  <summary> <font size=+1> Standard streams </font> </summary>\n",
    "  \n",
    "Linux has `3` standard streams, as shown in the figure below.\n",
    "\n",
    "<p align=center><img src=images/streams.png width=400></p>\n",
    "\n",
    "By default, we redirect the standard output stream (`1`) (as shown in the examples above); however, we can also redirect the error stream, as shown below:\n",
    "\n",
    "```\n",
    "echo \"Some some line\" 1> foo.txt\n",
    "cat foo.txt\n",
    "```\n",
    "If we add a '2' to the redirection sign (`2>` or `2>>`), the error will be redirected to the file:\n",
    "```\n",
    "!adfgdg 2>> foo.txt\n",
    "```\n",
    "Notice that the display does not print out any error. Instead, it is appended at the end of `foo.txt`:\n",
    "```\n",
    "!cat foo.txt\n",
    "```\n",
    "</details>"
   ]
  },
  {
   "cell_type": "markdown",
   "metadata": {},
   "source": [
    "### Terminal shortcuts"
   ]
  },
  {
   "cell_type": "markdown",
   "metadata": {},
   "source": [
    "\n",
    "On many occasions, you will need to access commands that you ran or you may need to type a long directory. Fortunately, the terminal has some very handy shortcuts.\n",
    "\n",
    "- Use `up arrow` to scroll over your last command(s).\n",
    "- Type in `!!` to retrieve the last command you ran at the current prompt.\n",
    "- Use `<TAB>` to auto-populate commands. If you use `cd` and hit `<TAB>`, the available directories will pop up.\n",
    "- Use `<CTRL + F>` and `<CTRL + B>` to move `f`orward and `b`ackward on a current line, respectively."
   ]
  },
  {
   "cell_type": "markdown",
   "metadata": {},
   "source": [
    "### Aliases\n"
   ]
  },
  {
   "cell_type": "markdown",
   "metadata": {},
   "source": [
    "__Aliases__ (and occasionally functions) are some of the most useful features available to programmers!\n",
    "\n",
    "> __Aliases allow us to define shortcuts for common commands.__\n",
    "\n",
    "The method for defining them is simple:\n",
    "\n",
    "```bash\n",
    "alias NAME_OF_ALIAS='COMMAND'\n",
    "```"
   ]
  },
  {
   "cell_type": "markdown",
   "metadata": {},
   "source": [
    "\n",
    "#### Storage of aliases/commands\n",
    "\n",
    "Each time we close the terminal (or restart the computer), we lose the commands we had run (including exported variables).\n",
    "\n",
    "Fortunately, there is a file called `~/.bashrc`, where we can store our commands/aliases!\n",
    "\n",
    "However, if you are using a shell in which you log in by default, the file you have to change is `~/.bash_profile`.\n",
    "\n",
    "> __When a new terminal is opened, bash will run a few files by default (including `~/.bashrc` or `~/.bash_profile`).__\n",
    "\n"
   ]
  },
  {
   "cell_type": "markdown",
   "metadata": {},
   "source": [
    "#### Exercise\n"
   ]
  },
  {
   "cell_type": "markdown",
   "metadata": {},
   "source": [
    "\n",
    "Put a few useful aliases (we hope you add more as we go through the next lessons) inside `~/.bashrc`.\n",
    "\n",
    "- Add them using `echo \"alias ~='cd ~'\" >> ~/.bashrc` or `echo \"alias ~='cd ~'\" >> ~/.bash_profile`.\n",
    "\n",
    "__Below is a list of useful aliases__ (restart the terminal after you add them to the file):\n",
    "\n",
    "- `alias ~='cd ~'`: use `~` to move directly to the `$HOME` directory\n",
    "- `alias ..='cd ..'`: use `..` to move one directory up\n",
    "- `alias ...='cd ../..'`: use `...` to move two directories up\n",
    "- `alias c='clear'`: use `c` to clear the output of the terminal\n",
    "- `alias cl='clear;ls'`: clear and list files immediately\n",
    "- `alias mv='mv -v'`: display the actions/steps that occur after the move operation\n",
    "- `alias cp='cp -v'`: verbose copy (like above)\n",
    "- `alias rm='rm -vi'`: `v`erbose and `i`nteractive (will enquire if you are certain that you want to remove the file)\n",
    "- `alias reload='source ~/.bashrc'`: after changing anything in `.bashrc` and running this command, new settings will be available immediately \n",
    "- `alias sudo='sudo '`: yes, the whitespace is there; it allows you to run `sudo` (escalated privileges, such as admin rights) with any alias you have defined\n",
    "- `alias ls='ls -AlhF --color=auto' `: cooler `ls` :D\n",
    "\n",
    "> __We will suggest other aliases throughout other parts of the course to enable you to perform the necessary tasks rapidly.__"
   ]
  },
  {
   "cell_type": "markdown",
   "metadata": {},
   "source": [
    "## Next Steps\n",
    "\n",
    "- Read about file permissions and how to change them using `chmod`.\n",
    "- Read about `pipes` (used as `|`). What are they and how are they different from redirection?\n",
    "- Read about environment variables?\n",
    "- Learn how to run programs in the background? How to move it to the foreground? How to move the running program to the background?\n",
    "- Learn about `su` and `sudo` in Linux.\n",
    "- Read about the following utilities (programs/tools):\n",
    "    - `grep`\n",
    "    - `ps`\n",
    "    - `head`\n",
    "    - `tail`\n",
    "    - `sort`\n",
    "\n",
    "- Read about `zsh` as an alternative to `bash` for improved productivity.\n",
    "- Check out [oh-my-zsh](https://github.com/ohmyzsh/ohmyzsh) as a suite for promoting productivity in the command line.\n",
    "- Customise your `prompt` to have the necessary info displayed. You can check out [this one](https://github.com/denysdovhan/spaceship-prompt) or experiment with others that are more to your liking. They should at least display information about `git` (next lesson) and the current working directory.\n",
    "- Read about other useful aliases, perhaps system update. \n",
    "- Read about `dotfiles` and `tmux`."
   ]
  }
 ],
 "metadata": {
  "interpreter": {
   "hash": "3d597f4c481aa0f25dceb95d2a0067e73c0966dcbd003d741d821a7208527ecf"
  },
  "kernelspec": {
   "display_name": "Bash",
   "language": "python",
   "name": "python3"
  },
  "language_info": {
   "codemirror_mode": {
    "name": "ipython",
    "version": 3
   },
   "file_extension": ".py",
   "mimetype": "text/x-python",
   "name": "python",
   "nbconvert_exporter": "python",
   "pygments_lexer": "ipython3",
   "version": "3.9.1"
  }
 },
 "nbformat": 4,
 "nbformat_minor": 4
}
