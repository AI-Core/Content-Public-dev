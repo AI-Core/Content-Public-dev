{
 "cells": [
  {
   "cell_type": "markdown",
   "metadata": {},
   "source": [
    "# Conda"
   ]
  },
  {
   "cell_type": "markdown",
   "metadata": {},
   "source": [
    "\n",
    "\n",
    ">Conda is an open-source package management system and also an environment management system. An environment in this context refers to a set of specific versions of libraries and tools that are isolated from others. With an environment manager like Conda, you can set up different versions of the libraries and tools you need for a specific project, thereby avoiding the situation where the requirements of two projects clash.\n",
    "\n",
    "### Advantages of Conda\n",
    "\n",
    "Conda offers several advantages as a package and environment manager:\n",
    "\n",
    "- **Cross-Platform**: Conda is platform-agnostic, so you can use it across Linux, macOS, and Windows. This makes sharing and collaborating on projects much easier.\n",
    "   \n",
    "- **Multi-Language Support**: While Conda was created for managing Python environments, it can manage libraries in any language, making it versatile for multi-language projects\n",
    "   \n",
    "- **Ease of Use**: Conda's command-line interface is intuitive and user-friendly, making environment and package management straightforward\n"
   ]
  },
  {
   "cell_type": "markdown",
   "metadata": {},
   "source": [
    "## Conda Environments\n",
    "\n",
    ">Conda environments are isolated spaces where software packages and dependencies can reside, ensuring that different projects can have their own specific versions of libraries and tools without interference. Think of them as isolated containers for your projects, each with its own set of rules and tools.\n",
    "\n",
    "In practice, a Python Conda environment is essentially a directory that contains a specific collection of Python packages. By switching between environments, you can quickly and easily change the tools and libraries available to your projects. This is especially useful when different projects have different requirements, preventing potential conflicts between package versions.\n",
    "\n",
    "### Why Use Conda Environments?\n",
    "\n",
    "Using Conda environments offers several benefits:\n",
    "\n",
    "- **Isolation**: Each environment is separate, so changes in one environment won't affect others. This is important when working on multiple projects with different requirements.\n",
    "\n",
    "- **Reproducibility**: By exporting an environment's specifications, you can recreate it on another machine, ensuring consistent behavior across platforms and systems\n",
    "\n",
    "- **Version Control**: Environments allow you to work with specific versions of packages and libraries, making it easier to manage and update them as needed\n",
    "\n",
    "- **Flexibility**: You can easily switch between different environments, test new packages without affecting your main environment, and ensure that your projects remain unaffected by changes in dependencies\n"
   ]
  },
  {
   "cell_type": "markdown",
   "metadata": {},
   "source": [
    "## Conda Commands\n",
    "\n",
    "Creating and managing environments in Conda is achieved via the command line interface (CLI). \n",
    "\n",
    "### Confirming Conda Installation\n",
    "\n",
    "There are two ways to check that you have Conda installed and that it is operating correctly. Firstly, when Conda is initialised, you should see the string `(base)` at the start of your command prompt:\n",
    "\n",
    "<p align=\"center\">\n",
    "    <img src=\"images/base.png\"  width=\"800\"/>\n",
    "</p>\n",
    "<br>\n",
    "\n",
    "This is letting you know that you are in conda's `base` environment, in other words there is no environment currently active. It's important to note that the Conda `base` environment is not the same as your machine's base or default environment. Your machine's environment is determined by the system and any software you've installed outside of Conda. The Conda `base` environment is specific to Conda and is isolated from the rest of your system.\n",
    "\n",
    "To check the path where Conda is installed on your machine, run the `which conda` command:\n",
    "\n",
    "<p align=\"center\">\n",
    "    <img src=\"images/which_conda.png\"  width=\"800\"/>\n",
    "</p>\n",
    "<br>\n",
    "\n",
    "You can also check the version of Conda by running `conda --version`:\n",
    "\n",
    "<p align=\"center\">\n",
    "    <img src=\"images/conda_version.png\"  width=\"800\"/>\n",
    "</p>\n",
    "<br>\n",
    "\n"
   ]
  },
  {
   "cell_type": "markdown",
   "metadata": {},
   "source": [
    "\n",
    "### Creating Environments\n",
    "\n",
    "To create a new Conda environment, use the `conda create` command. For example, to create an environment named `myenv` with Python 3.11, you would use:\n",
    "\n",
    "```bash\n",
    "conda create --name myenv python=3.11\n",
    "```\n",
    "\n",
    "This command creates a new environment called `myenv` with Python version 3.11 installed. Conda will develop a plan for the environment and then ask you to confirm that you wish to go ahead by typing `y`:\n",
    "\n",
    "<p align=\"center\">\n",
    "    <img src=\"images/conda_create.gif\"  width=\"800\"/>\n",
    "</p>\n",
    "<br>\n"
   ]
  },
  {
   "cell_type": "markdown",
   "metadata": {},
   "source": [
    "\n",
    "\n",
    "### Activating and Deactivating Environments\n",
    "\n",
    "Once you've created an environment, you need to activate it before you can use it. To activate the environment you have just created, use the following command:\n",
    "\n",
    "```bash\n",
    "conda activate myenv\n",
    "```\n",
    "\n",
    "Once activated, the first part of your command prompt should change from `(base)` to `(myenv)`:\n",
    "\n",
    "<p align=\"center\">\n",
    "    <img src=\"images/conda_activate.png\"  width=\"800\"/>\n",
    "</p>\n",
    "<br>\n",
    "\n",
    "To stop using an environment, use the deactivate command, without any arguments:\n",
    "\n",
    "```bash\n",
    "conda deactivate\n",
    "```\n",
    "This will return you to the `base` environment.\n",
    "\n",
    "You can also view a list of all the currently installed environments using the following command:\n",
    "\n",
    "```bash\n",
    "conda env list\n",
    "```\n",
    "\n",
    "<p align=\"center\">\n",
    "    <img src=\"images/conda_env_list.gif\"  width=\"800\"/>\n",
    "</p>\n",
    "<br>\n",
    "\n",
    "\n"
   ]
  },
  {
   "cell_type": "markdown",
   "metadata": {},
   "source": [
    "\n",
    "### Installing Packages\n",
    "\n",
    ">Conda acts as a Python package manager as well as an environment manager. A Python package manager is a tool that automates the process of installing, updating, and removing Python libraries. When you install a package using Conda, it does more than just download the package. Conda checks for dependencies the package might have and ensures that all required libraries are installed simultaneously. This dependency resolution helps prevent dependency conflicts, where two libraries each need different versions of a particular dependency.\n",
    "\n",
    "To install a package in the active Conda environment, you use the `conda install` command. For example, to install the Python library `NumPy`:\n",
    "\n",
    "```bash\n",
    "conda install numpy\n",
    "```\n",
    "\n",
    "This command installs the latest version of `NumPy` available in the Conda repositories. When you run the command, conda will decide which packages it needs to install to fulfil your request, and prompt you for confirmation, before downloading and installing the packages. \n",
    "\n",
    "<p align=\"center\">\n",
    "    <img src=\"images/install_numpy.gif\"  width=\"800\"/>\n",
    "</p>\n",
    "<br>\n",
    "\n",
    "You can also choose to install a specific version of a package by adding the specific version number, or a set of verison constraints:\n",
    "\n",
    "```bash\n",
    "conda install numpy=23.9.0\n",
    "conda install  torchvision\">=0.3.0\"\n",
    "conda install  openpyxl\">=2.4.10,<=2.6.0\"\n",
    "\n",
    "```\n",
    "It is also possible to bypass the confirmation step by including a `-y` flag to auto-approve the installation plan:\n",
    "\n",
    "```bash\n",
    "conda install -y numpy\n",
    "```\n"
   ]
  },
  {
   "cell_type": "markdown",
   "metadata": {},
   "source": [
    "\n",
    "\n",
    "### Installing Packages During Environment Creation\n",
    "\n",
    "It is also possible to add packages during the environment creation step. Consider an imaginary scenario where you are about to undertake a data science project. You know you'll be wanting to use `pandas` and `NumPy` packages for data handling, and you also want to build some simple machine learning models using `scikit-learn`. Additionally you wish to use `git`for version control. \n",
    "\n",
    "Instead of creating an environment and then installing each package one-by-one, you have a number of options for creating the whole environment in one go. \n",
    "\n",
    "One approach is to specify the packages you require as arguments to the `conda create` command:\n",
    "\n",
    "```bash\n",
    "conda create -n datascience_env git pandas numpy scikit-learn\n",
    "```\n",
    "\n",
    "Alternatively you can generate a `requirements.txt` file as follows:\n",
    "\n",
    "\n",
    "\n"
   ]
  },
  {
   "cell_type": "code",
   "execution_count": null,
   "metadata": {},
   "outputs": [],
   "source": [
    "# requirements.txt\n",
    "pandas\n",
    "numpy\n",
    "scikit-learn\n",
    "git"
   ]
  },
  {
   "cell_type": "markdown",
   "metadata": {},
   "source": [
    "Then you can pass this file as an argument to the `conda create` command by using the `--file` flag:"
   ]
  },
  {
   "cell_type": "markdown",
   "metadata": {},
   "source": [
    "```bash\n",
    "conda create -n datascience_env --file requirements.txt\n",
    "```"
   ]
  },
  {
   "cell_type": "markdown",
   "metadata": {},
   "source": [
    "\n",
    "\n",
    "### Updating Packages\n",
    "\n",
    "To update a specific package, like `NumPy`:\n",
    "\n",
    "```bash\n",
    "conda update numpy\n",
    "```\n",
    "\n",
    "To update all packages in the current environment:\n",
    "\n",
    "```bash\n",
    "conda update --all\n",
    "```\n"
   ]
  },
  {
   "cell_type": "markdown",
   "metadata": {},
   "source": [
    "\n",
    "\n",
    "### Listing Installed Packages\n",
    "\n",
    "To list all packages installed in the current environment:\n",
    "\n",
    "```bash\n",
    "conda list\n",
    "```\n",
    "\n",
    "This command provides a list of all packages and their versions installed in the active Conda environment.\n",
    "\n"
   ]
  },
  {
   "cell_type": "markdown",
   "metadata": {},
   "source": [
    "### Removing Packages and Deleting Environments\n",
    "\n",
    "Packages can be removed from an active environment using the `conda remove` command followed by the package name:\n",
    "\n",
    "```bash\n",
    "conda remove numpy\n",
    "```\n",
    "\n",
    "<p align=\"center\">\n",
    "    <img src=\"images/conda_remove_numpy.gif\"  width=\"800\"/>\n",
    "</p>\n",
    "<br>\n",
    "\n",
    "Conda environments can be deleted using the following syntax:\n",
    "\n",
    "```bash\n",
    "conda env remove --name myenv\n",
    "```\n",
    "\n",
    "<p align=\"center\">\n",
    "    <img src=\"images/conda_remove.gif\"  width=\"800\"/>\n",
    "</p>\n",
    "<br>\n",
    "\n",
    "This will remove the environment `myenv` from the system. Note that the environment must not be active when the command is issued."
   ]
  }
 ],
 "metadata": {
  "language_info": {
   "name": "python"
  }
 },
 "nbformat": 4,
 "nbformat_minor": 2
}
