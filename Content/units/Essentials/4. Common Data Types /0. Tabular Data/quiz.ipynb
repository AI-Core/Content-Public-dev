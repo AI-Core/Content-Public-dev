{
 "cells": [
  {
   "attachments": {},
   "cell_type": "markdown",
   "metadata": {},
   "source": [
    "# Tabular Data"
   ]
  },
  {
   "attachments": {},
   "cell_type": "markdown",
   "metadata": {},
   "source": [
    "## A CSV file is an example of:\n",
    "\n",
    "- Structured data ***\n",
    "- Unstructured data \n",
    "- Complete data \n",
    "- Complex data \n",
    "- Hard data "
   ]
  },
  {
   "attachments": {},
   "cell_type": "markdown",
   "metadata": {},
   "source": [
    "## Which of these is **not** an example of **unstructured** data?\n",
    "\n",
    "- Image data \n",
    "- Audio data \n",
    "- Tabular data ***\n",
    "- Text data \n",
    "- Video data "
   ]
  },
  {
   "attachments": {},
   "cell_type": "markdown",
   "metadata": {},
   "source": [
    "## Which of the following is true about **structured** data?\n",
    "\n",
    "- You always know what each data point represents ***\n",
    "- Each data point can have a different number of columns\n",
    "- Image data can be structured data, provided each image has the same number of pixels\n",
    "- Audio data is an example of structured data, provided it has a file header\n",
    "- Text data is usually structured"
   ]
  },
  {
   "attachments": {},
   "cell_type": "markdown",
   "metadata": {},
   "source": [
    "## If I were to read an image file with python's `open()` function, using the read binary (`rb`) parameter, what form would the data be read in as?\n",
    "\n",
    "\n",
    "- Binary \n",
    "- Hexadecimal ***\n",
    "- Machine code \n",
    "- Logits \n",
    "- Bytecode "
   ]
  },
  {
   "attachments": {},
   "cell_type": "markdown",
   "metadata": {},
   "source": [
    "## Which of the following is **not** a form of **tabular** data?\n",
    "\n",
    "- CSV \n",
    "- YAML \n",
    "- JSON \n",
    "- JPEG ***\n",
    "- TSV "
   ]
  }
 ],
 "metadata": {
  "kernelspec": {
   "display_name": "huggingface1",
   "language": "python",
   "name": "python3"
  },
  "language_info": {
   "codemirror_mode": {
    "name": "ipython",
    "version": 3
   },
   "file_extension": ".py",
   "mimetype": "text/x-python",
   "name": "python",
   "nbconvert_exporter": "python",
   "pygments_lexer": "ipython3",
   "version": "3.10.8"
  },
  "orig_nbformat": 4
 },
 "nbformat": 4,
 "nbformat_minor": 2
}
