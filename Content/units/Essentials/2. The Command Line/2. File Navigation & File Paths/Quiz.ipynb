{
 "cells": [
  {
   "attachments": {},
   "cell_type": "markdown",
   "metadata": {},
   "source": [
    "# File Navigation and File Paths"
   ]
  },
  {
   "attachments": {},
   "cell_type": "markdown",
   "metadata": {},
   "source": [
    "## Given the file structure `home/user/user1/documents`, which of the following is true? Select all that apply\n",
    "\n",
    "- The path `user1/documents` would be the relative path to the `documents` folder if you were in the `home` folder.\n",
    "- The path `documents` would be a valid relative path to the `documents` folder from the `user1` folder ***\n",
    "- The path `..`  would refer to the `home` directory if your current directory was `user1` \n",
    "- The path `..`  would refer to the `user` directory if your current directory was `user1`  ***\n",
    "- The path `.`  would  refer to the `user` directory if your current directory was `user1` "
   ]
  },
  {
   "attachments": {},
   "cell_type": "markdown",
   "metadata": {},
   "source": [
    "## On Unix systems the default delimiter that separates directories in a filepath is:\n",
    "\n",
    "- `/` ***\n",
    "- `\\`\n",
    "- `|`\n",
    "- `%`\n",
    "- `-`"
   ]
  },
  {
   "attachments": {},
   "cell_type": "markdown",
   "metadata": {},
   "source": [
    "## What does the tilde (~) character represent in Unix-like operating systems?\n",
    "\n",
    "- A hidden directory\n",
    "- The /home directory for the current user  ***\n",
    "- A shortcut to the `/Users` directory on a Mac\n",
    "- The root directory of the machine\n"
   ]
  }
 ],
 "metadata": {
  "language_info": {
   "name": "python"
  },
  "orig_nbformat": 4
 },
 "nbformat": 4,
 "nbformat_minor": 2
}
