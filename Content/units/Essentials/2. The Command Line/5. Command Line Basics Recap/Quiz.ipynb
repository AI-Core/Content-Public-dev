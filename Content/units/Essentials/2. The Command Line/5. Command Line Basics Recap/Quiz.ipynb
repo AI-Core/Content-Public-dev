{
 "cells": [
  {
   "attachments": {},
   "cell_type": "markdown",
   "metadata": {},
   "source": [
    "# Command Line Basics Recap"
   ]
  },
  {
   "attachments": {},
   "cell_type": "markdown",
   "metadata": {},
   "source": [
    "## What is the `cat` command used for?\n",
    "\n",
    "- A) Displaying the contents of a file on the terminal.\n",
    "- B) Creating a new file in the current directory.\n",
    "- C) Renaming a file or directory.\n",
    "- D) It is designed for concatenating files together, but if only one file is given can also be used for showing the contents of a file. ***"
   ]
  },
  {
   "attachments": {},
   "cell_type": "markdown",
   "metadata": {},
   "source": [
    "## What does the `touch` command do in the command line interface?\n",
    "\n",
    "- A) Creates a new directory.\n",
    "- B) Creates a new file.\n",
    "- C) Updates the modification time of a file or creates a new empty file. ***\n",
    "- D) Searches for a file or directory within the file system."
   ]
  },
  {
   "attachments": {},
   "cell_type": "markdown",
   "metadata": {},
   "source": [
    "## Which of the following code snippets correctly creates a new directory called `\"my_folder\"` ?\n",
    "\n",
    "- A) `mkdir my_folder` ***\n",
    "- B) `mkdir -p my_folder`\n",
    "- C) `mkdir --dir my_folder`\n",
    "- D) `mkdir /my_folder`"
   ]
  },
  {
   "attachments": {},
   "cell_type": "markdown",
   "metadata": {},
   "source": [
    "## What does the `pwd` command do in the command line interface?\n",
    "\n",
    "- A) Lists the contents of a directory.\n",
    "- B) Creates a new directory.\n",
    "- C) Deletes a file or directory.\n",
    "- D) Prints the current working directory. ***"
   ]
  },
  {
   "attachments": {},
   "cell_type": "markdown",
   "metadata": {},
   "source": [
    "## Which of the following code snippets correctly changes the current directory to `\"my_folder\"` using the `cd `command?\n",
    "\n",
    "- A) `cd my_folder` ***\n",
    "- B) `cd /my_folder`\n",
    "- C) `cd ./my_folder`\n",
    "- D) `cd ~/my_folder`"
   ]
  },
  {
   "attachments": {},
   "cell_type": "markdown",
   "metadata": {},
   "source": [
    "## Suppose your current working directory is `/home/user1`, and you want to navigate to the `Documents` directory located in `/home/user2`. Which of the following code snippets correctly navigates to the `Documents` directory?\n",
    "\n",
    "- A) `cd /user2/Documents`\n",
    "- B) `cd ../user2/Documents` ***\n",
    "- C) `cd ~/user2/Documents`\n",
    "- D) `cd ../../user2/Documents`"
   ]
  },
  {
   "attachments": {},
   "cell_type": "markdown",
   "metadata": {},
   "source": [
    "## Which of the following `ls` command options would display all files and directories (including hidden ones) in the long format, sorted by modification time, in reverse order?\n",
    "\n",
    "- A) `ls -alt`\n",
    "- B) `ls -latr` ***\n",
    "- C) `ls -rtl`\n",
    "- D) `ls -ltr`\n"
   ]
  },
  {
   "attachments": {},
   "cell_type": "markdown",
   "metadata": {},
   "source": [
    "## What is the purpose of the `-a` option in the ls command?\n",
    "\n",
    "- A) To display hidden files and directories ***\n",
    "- B) To sort files and directories alphabetically\n",
    "- C) To display files and directories in long format\n",
    "- D) To display the last modified date and time of files and directories\n"
   ]
  },
  {
   "attachments": {},
   "cell_type": "markdown",
   "metadata": {},
   "source": [
    "## Which command will rename the file `oldfile.txt` to `newfile.txt`?\n",
    "\n",
    "- A) `mv oldfile.txt newfile.txt` ***\n",
    "- B) `mv newfile.txt oldfile.txt`\n",
    "- C) `mv oldfile.txt/ newfile.txt/`\n",
    "- D) `mv oldfile.txt newfile.txt/`"
   ]
  },
  {
   "attachments": {},
   "cell_type": "markdown",
   "metadata": {},
   "source": [
    "## Which command will move the file `example.txt` from the current directory to the directory `/home/user/documents/` while renaming it to `new-example.txt`?\n",
    "\n",
    "- A) `mv example.txt /home/user/documents/new-example.txt` ***\n",
    "- B) `mv example.txt /home/user/documents/ -n new-example.txt`\n",
    "- C) `mv example.txt /home/user/documents/ -r new-example.txt`\n",
    "- D) `mv example.txt /home/user/documents/ --rename new-example.txt`"
   ]
  },
  {
   "attachments": {},
   "cell_type": "markdown",
   "metadata": {},
   "source": [
    "## Which command will copy the file `file1.txt` to `file2.txt` in the same directory using the `cp` command?\n",
    "\n",
    "- A) `cp file1.txt file2.txt` ***\n",
    "- B) `cp file2.txt file1.txt`\n",
    "- C) `cp file1.txt ./file2.txt`\n",
    "- D) `cp ./file1.txt file2.txt`"
   ]
  },
  {
   "attachments": {},
   "cell_type": "markdown",
   "metadata": {},
   "source": [
    "## Suppose you have a directory called `my_folder` that contains several files, and you want to copy all the files to a new directory called `backup_folder`. Which of the following commands will copy all the files?\n",
    "\n",
    "- A) `cp my_folder/* backup_folder/`\n",
    "- B) `cp -R my_folder backup_folder/` ***\n",
    "- C) `cp my_folder/. backup_folder/`\n",
    "- D) `cp my_folder backup_folder/`"
   ]
  },
  {
   "attachments": {},
   "cell_type": "markdown",
   "metadata": {},
   "source": [
    "## What is the difference between `rm` and `rm -rf` commands in Unix-based operating systems?\n",
    "\n",
    "- A) `rm` can only delete files while `rm -rf` can delete both files and directories. ***\n",
    "- B) `rm -rf` can recover deleted files while `rm` cannot.\n",
    "- C) `rm` deletes a file or directory only if it is empty, while `rm -rf` can delete a directory and its contents recursively.\n",
    "- D) There is no difference between the two commands, they are interchangeable."
   ]
  },
  {
   "attachments": {},
   "cell_type": "markdown",
   "metadata": {},
   "source": [
    "## Which of the following commands will print `Hello World` to the terminal using the `echo` command?\n",
    "\n",
    "- A) `echo \"Hello World\"` ***\n",
    "- B) `echo ('Hello World')`\n",
    "- C) `echo [\"Hello World\"]`\n",
    "- D) `echo \"Hello \" + \"World\"`"
   ]
  },
  {
   "attachments": {},
   "cell_type": "markdown",
   "metadata": {},
   "source": [
    "## Which symbol represents the standard input channel in Unix-based operating systems?\n",
    "\n",
    "- A) `>`\n",
    "- B) `|`\n",
    "- C) `<` ***\n",
    "- D) `&`"
   ]
  },
  {
   "attachments": {},
   "cell_type": "markdown",
   "metadata": {},
   "source": [
    "## Which symbol represents the standard output channel in Unix-based operating systems?\n",
    "\n",
    "- A) `>` ***\n",
    "- B) `|`\n",
    "- C) `<`\n",
    "- D) `&`"
   ]
  },
  {
   "attachments": {},
   "cell_type": "markdown",
   "metadata": {},
   "source": [
    "## Which of the following code snippets redirects standard input to a file named `input.txt`?\n",
    "\n",
    "- A) `input.txt <`\n",
    "- B) `< input.txt` ***\n",
    "- C) `> input.txt`\n",
    "- D) `input.txt >`"
   ]
  },
  {
   "attachments": {},
   "cell_type": "markdown",
   "metadata": {},
   "source": [
    "## Which of the following command snippets redirects the standard output channel to a file named `output.txt`?\n",
    "\n",
    "- A) `echo \"Hello world\" > output.txt` ***\n",
    "- B) `echo \"Hello world\" >> output.txt`\n",
    "- C) `echo \"Hello world\" < output.txt`\n",
    "- D) `echo \"Hello world\" << output.txt`"
   ]
  },
  {
   "attachments": {},
   "cell_type": "markdown",
   "metadata": {},
   "source": [
    "## Which of the following commands will append the output of the `echo` command to the end of an existing file named `output.txt` using the standard output channel?\n",
    "\n",
    "- A) `echo \"Hello, world!\" > output.txt`\n",
    "- B) `echo \"Hello, world!\" >> output.txt`\n",
    "- C) `echo \"Hello, world!\" < output.txt`\n",
    "- D) `echo \"Hello, world!\" &>> output.txt`"
   ]
  }
 ],
 "metadata": {
  "language_info": {
   "name": "python"
  },
  "orig_nbformat": 4
 },
 "nbformat": 4,
 "nbformat_minor": 2
}
