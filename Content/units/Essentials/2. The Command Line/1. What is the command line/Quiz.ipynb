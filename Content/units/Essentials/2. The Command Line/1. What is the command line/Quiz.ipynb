{
 "cells": [
  {
   "attachments": {},
   "cell_type": "markdown",
   "metadata": {},
   "source": [
    "# What is the command line?"
   ]
  },
  {
   "attachments": {},
   "cell_type": "markdown",
   "metadata": {},
   "source": [
    "## What is the command line?\n",
    "\n",
    "- A graphical user interface for navigating and managing files and folders ***\n",
    "- A text-based interface for interacting with a computer's operating system\n",
    "- A software application for running scripts and automating tasks\n",
    "- A programming language used for creating web applications"
   ]
  },
  {
   "attachments": {},
   "cell_type": "markdown",
   "metadata": {},
   "source": [
    "## Which of the following statements are true about the command line interface (CLI)? Select all that apply.\n",
    "\n",
    "- The command line allows for faster and more efficient execution of repetitive tasks ***\n",
    "- The command line interface is only available on Unix-based operating systems\n",
    "- The command line interface can be used to navigate the file system and execute commands on files and directories ***\n",
    "- The command line interface can only be accessed by experienced programmers and system administrators"
   ]
  },
  {
   "attachments": {},
   "cell_type": "markdown",
   "metadata": {},
   "source": [
    "## Which of the following statements is True about shell languages / CLIs?\n",
    "\n",
    "- The default shell on Windows platforms is zsh\n",
    "- The default shell on Unix-based systems is bash ***\n",
    "- Python is an example of a CLI language\n",
    "- SQL is an example of a CLI language"
   ]
  }
 ],
 "metadata": {
  "language_info": {
   "name": "python"
  },
  "orig_nbformat": 4
 },
 "nbformat": 4,
 "nbformat_minor": 2
}
