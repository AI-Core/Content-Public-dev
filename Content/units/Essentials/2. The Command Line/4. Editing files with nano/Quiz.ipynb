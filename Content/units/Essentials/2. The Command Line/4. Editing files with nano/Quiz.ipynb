{
 "cells": [
  {
   "attachments": {},
   "cell_type": "markdown",
   "metadata": {},
   "source": [
    "# Editing files with nano"
   ]
  },
  {
   "attachments": {},
   "cell_type": "markdown",
   "metadata": {},
   "source": [
    "## Which of the following is a correct statement about Nano?\n",
    "\n",
    "- A) Nano is a programming language.\n",
    "- B) Nano is a text editor. ***\n",
    "- C) Nano is a version control system.\n",
    "- D) Nano is a file compression tool."
   ]
  },
  {
   "attachments": {},
   "cell_type": "markdown",
   "metadata": {},
   "source": [
    "## Which of the following statements about Nano is false?\n",
    "\n",
    "- A) Nano is a command-line text editor. ***\n",
    "- B) Nano is open-source software.\n",
    "- C) Nano supports syntax highlighting for many programming languages.\n",
    "- D) Nano can be used on both Unix/Linux and Windows operating systems."
   ]
  },
  {
   "cell_type": "markdown",
   "metadata": {},
   "source": []
  }
 ],
 "metadata": {
  "language_info": {
   "name": "python"
  },
  "orig_nbformat": 4
 },
 "nbformat": 4,
 "nbformat_minor": 2
}
