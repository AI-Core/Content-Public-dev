{
 "cells": [
  {
   "attachments": {},
   "cell_type": "markdown",
   "metadata": {},
   "source": [
    "# Putting a Local Git Repo on GitHub Correctly"
   ]
  },
  {
   "attachments": {},
   "cell_type": "markdown",
   "metadata": {},
   "source": [
    "## What is the command to connect a local Git repository to a GitHub repository?\n",
    "\n",
    "- A) `git connect https://github.com/username/repo.git`\n",
    "- B) `git remote add origin https://github.com/username/repo.git` ***\n",
    "- C) `git push https://github.com/username/repo.git`\n",
    "- D) `git clone https://github.com/username/repo.git`"
   ]
  },
  {
   "attachments": {},
   "cell_type": "markdown",
   "metadata": {},
   "source": [
    "## What is the process for creating a local Git repository and then putting it on a GitHub?\n",
    "\n",
    "- A) Create a local Git repository, create a GitHub repository, and then clone the GitHub repository to your local machine.\n",
    "- B) Create a local Git repository, create a GitHub repository, add the Github repository as a remote and then push the local Git repository to the GitHub repository. ***\n",
    "- C) Create a GitHub repository, create a local Git repository, and then push the local Git repository to the GitHub repository.\n",
    "- D) Create a GitHub repository, create a local Git repository, and then clone the GitHub repository to your local machine."
   ]
  }
 ],
 "metadata": {
  "language_info": {
   "name": "python"
  },
  "orig_nbformat": 4
 },
 "nbformat": 4,
 "nbformat_minor": 2
}
