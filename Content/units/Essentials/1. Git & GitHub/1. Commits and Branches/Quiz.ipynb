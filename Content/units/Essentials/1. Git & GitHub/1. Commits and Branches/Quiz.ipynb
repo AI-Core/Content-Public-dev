{
 "cells": [
  {
   "attachments": {},
   "cell_type": "markdown",
   "metadata": {},
   "source": [
    "# Branching and Merging"
   ]
  },
  {
   "attachments": {},
   "cell_type": "markdown",
   "metadata": {},
   "source": [
    "## What is a git branch?\n",
    "\n",
    "- A feature that allows you to roll back changes to a previous version of the codebase\n",
    "- A separate version of the codebase that allows for independent development ***\n",
    "- A tool that helps you visualize the changes made to a codebase over time\n",
    "- A command that merges two or more branches of a codebase together"
   ]
  },
  {
   "attachments": {},
   "cell_type": "markdown",
   "metadata": {},
   "source": [
    "## What is the command used to list all the current branches in git?\n",
    "\n",
    "- `git clone`\n",
    "- `git branch` ***\n",
    "- `git checkout` \n",
    "- `git commit`"
   ]
  },
  {
   "attachments": {},
   "cell_type": "markdown",
   "metadata": {},
   "source": [
    "## What is the command used to switch to a different branch in git?\n",
    "\n",
    "- `git clone`\n",
    "- `git branch`\n",
    "- `git checkout` ***\n",
    "- `git commit`"
   ]
  },
  {
   "attachments": {},
   "cell_type": "markdown",
   "metadata": {},
   "source": [
    "## What is the command used to merge one branch into another in git?\n",
    "\n",
    "- `git clone`\n",
    "- `git branch`\n",
    "- `git checkout`\n",
    "- `git merge` ***\n"
   ]
  },
  {
   "attachments": {},
   "cell_type": "markdown",
   "metadata": {},
   "source": []
  }
 ],
 "metadata": {
  "language_info": {
   "name": "python"
  },
  "orig_nbformat": 4
 },
 "nbformat": 4,
 "nbformat_minor": 2
}
