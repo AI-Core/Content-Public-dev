{
 "cells": [
  {
   "attachments": {},
   "cell_type": "markdown",
   "metadata": {},
   "source": [
    "# The Essentials of Git"
   ]
  },
  {
   "attachments": {},
   "cell_type": "markdown",
   "metadata": {},
   "source": [
    "## What is a version control system (VCS)?\n",
    "\n",
    "- A) A tool used by developers to keep track of changes to their code over time ***\n",
    "- B) A programming language used to develop web applications\n",
    "- C) A technique used to optimize database performance\n",
    "- D) A type of server used to host web applications"
   ]
  },
  {
   "attachments": {},
   "cell_type": "markdown",
   "metadata": {},
   "source": [
    "## What is a distributed version control system (DVCS)?\n",
    "\n",
    "- A) A version control system where changes are stored on a central server\n",
    "- B) A version control system where changes are stored on each developer's local machine ***\n",
    "- C) A version control system where changes are synchronized between each developer's machine\n",
    "- D) A version control system where changes are tracked using blockchain technology"
   ]
  },
  {
   "attachments": {},
   "cell_type": "markdown",
   "metadata": {},
   "source": [
    "## What is Git?\n",
    "\n",
    "- A) A distributed version control system ***\n",
    "- B) A programming language used to develop web applications\n",
    "- C) A cloud-based file storage and collaboration platform\n",
    "- D) A text editor commonly used by software developers"
   ]
  },
  {
   "attachments": {},
   "cell_type": "markdown",
   "metadata": {},
   "source": [
    "## Which of the following is a feature of Git?\n",
    "\n",
    "- A) Branching and merging ***\n",
    "- B) Automatic code backups\n",
    "- C) Real-time collaboration\n",
    "- D) Graphical user interface (GUI) for code management\n"
   ]
  },
  {
   "attachments": {},
   "cell_type": "markdown",
   "metadata": {},
   "source": [
    "## What is a Git repository?\n",
    "\n",
    "- A) A central server that stores a copy of all changes made to a codebase\n",
    "- B) A directory on a local machine that contains all the files and metadata related to a project managed by Git ***\n",
    "- C) A file format used to store and transfer data between Git repositories\n",
    "- D) A web-based interface for managing Git repositories and code review workflows"
   ]
  },
  {
   "attachments": {},
   "cell_type": "markdown",
   "metadata": {},
   "source": [
    "## What are the three states that files can be in within a Git repository?\n",
    "\n",
    "- A) Untracked, staged, and committed ***\n",
    "- B) Unmodified, modified, and deleted\n",
    "- C) Local, remote, and merged\n",
    "- D) Clean, dirty, and conflicted"
   ]
  },
  {
   "attachments": {},
   "cell_type": "markdown",
   "metadata": {},
   "source": [
    "## What are untracked files in Git?\n",
    "\n",
    "- A) Files that have been modified since the last commit\n",
    "- B) Files that have been deleted from the repository but still exist on the local machine\n",
    "- C) Files that have been added to the repository but not yet committed\n",
    "- D) Files that exist on the local machine but are not being tracked by Git ***"
   ]
  },
  {
   "attachments": {},
   "cell_type": "markdown",
   "metadata": {},
   "source": [
    "## What are modified files in Git?\n",
    "\n",
    "- A) Files that have been deleted from the repository but still exist on the local machine\n",
    "- B) Files that exist on the local machine but are not being tracked by Git\n",
    "- C) Files that have been added to the repository but not yet committed\n",
    "- D) Files that have been changed since the last commit in the Git repository ***"
   ]
  },
  {
   "attachments": {},
   "cell_type": "markdown",
   "metadata": {},
   "source": [
    "## What are staged files in Git?\n",
    "\n",
    "- A) Files that have been deleted from the repository but still exist on the local machine\n",
    "- B) Files that have been changed since the last commit in the Git repository\n",
    "- C) Files that have been added to the repository but not yet committed ***\n",
    "- D) Files that exist on the local machine but are not being tracked by Git"
   ]
  },
  {
   "attachments": {},
   "cell_type": "markdown",
   "metadata": {},
   "source": [
    "## What are committed files in Git?\n",
    "\n",
    "- A) Files that have been deleted from the repository but still exist on the local machine\n",
    "- B) Files that have been changed since the last commit in the Git repository\n",
    "- C) Files that have been added to the repository but not yet committed\n",
    "- D) Files that have been saved permanently to the Git repository history ***"
   ]
  },
  {
   "attachments": {},
   "cell_type": "markdown",
   "metadata": {},
   "source": [
    "## What is a Git branch?\n",
    "\n",
    "- A) A feature that allows you to roll back changes to a previous version of the codebase\n",
    "- B) A separate version of the codebase that allows for independent development ***\n",
    "- C) A tool that helps you visualize the changes made to a codebase over time\n",
    "- D) A command that merges two or more branches of a codebase together"
   ]
  },
  {
   "attachments": {},
   "cell_type": "markdown",
   "metadata": {},
   "source": [
    "## What is the name of the default branch in Git?\n",
    "\n",
    "- A) master\n",
    "- B) main ***\n",
    "- C) trunk\n",
    "- D) development"
   ]
  },
  {
   "attachments": {},
   "cell_type": "markdown",
   "metadata": {},
   "source": [
    "## What is the purpose of the main branch in Git?\n",
    "\n",
    "- A) To store experimental changes to the codebase\n",
    "- B) To serve as the primary branch for ongoing development and collaboration ***\n",
    "- C) To track changes to the codebase over time\n",
    "- D) To store historical versions of the codebase"
   ]
  },
  {
   "attachments": {},
   "cell_type": "markdown",
   "metadata": {},
   "source": [
    "## What is the command used to create a new branch in Git?\n",
    "\n",
    "- A) `git clone`\n",
    "- B) `git branch` ***\n",
    "- C) `git checkout`\n",
    "- D) `git commit`"
   ]
  },
  {
   "attachments": {},
   "cell_type": "markdown",
   "metadata": {},
   "source": [
    "## What is the command used to switch to a different branch in Git?\n",
    "\n",
    "- A) `git clone`\n",
    "- B) `git branch`\n",
    "- C) `git checkout` ***\n",
    "- D) `git commit`"
   ]
  },
  {
   "attachments": {},
   "cell_type": "markdown",
   "metadata": {},
   "source": [
    "## What is the command used to merge one branch into another in Git?\n",
    "\n",
    "- A) `git clone`\n",
    "- B) `git branch`\n",
    "- C) `git checkout`\n",
    "- D) `git merge` ***"
   ]
  },
  {
   "attachments": {},
   "cell_type": "markdown",
   "metadata": {},
   "source": [
    "## What is the command used to check the status of the files in a Git repository?\n",
    "\n",
    "- A) `git status` ***\n",
    "- B) `git log`\n",
    "- C) `git diff`\n",
    "- D) `git commit`"
   ]
  },
  {
   "attachments": {},
   "cell_type": "markdown",
   "metadata": {},
   "source": [
    "## What is the command used to initialize a new Git repository?\n",
    "\n",
    "- A) `git clone`\n",
    "- B) `git init` ***\n",
    "- C) `git add`\n",
    "- D) `git commit` "
   ]
  },
  {
   "attachments": {},
   "cell_type": "markdown",
   "metadata": {},
   "source": [
    "## What is the purpose of the staging area in Git?\n",
    "\n",
    "- A) To store the working copy of the repository\n",
    "- B) To hold a snapshot of the entire repository at a specific point in time\n",
    "- C) To mark specific changes to the repository as ready for commit ***\n",
    "- D) To store the commit history of the repository"
   ]
  },
  {
   "attachments": {},
   "cell_type": "markdown",
   "metadata": {},
   "source": [
    "## What is the command used to add files to the staging area in Git?\n",
    "\n",
    "- A) `git commit`\n",
    "- B) `git push`\n",
    "- C) `git add` ***\n",
    "- D) `git merge`"
   ]
  },
  {
   "attachments": {},
   "cell_type": "markdown",
   "metadata": {},
   "source": [
    "## What is the command used to commit changes to a Git repository?\n",
    "\n",
    "- A) `git status`\n",
    "- B) `git commit` ***\n",
    "- C) `git add`\n",
    "- D) `git push`"
   ]
  },
  {
   "attachments": {},
   "cell_type": "markdown",
   "metadata": {},
   "source": [
    "## What is the difference between `git commit` and `git commit -m`?\n",
    "\n",
    "- A) `git commit` commits all changes to the repository, while g`it commit -m` commits only staged changes.\n",
    "- B) `git commit -m` requires a commit message, while `git commit` does not. ***\n",
    "- C) `git commit` creates a new branch, while `git commit -m` does not.\n",
    "- D) `git commit` is used to commit changes to a specific file, while `git commit -m` is used to commit changes to the entire repository."
   ]
  },
  {
   "attachments": {},
   "cell_type": "markdown",
   "metadata": {},
   "source": [
    "## What is a `git merge`?\n",
    "\n",
    "- A) A command used to delete a branch in git.\n",
    "- B) A command used to combine changes from one branch into another branch in git. ***\n",
    "- C) A command used to create a new branch in git.\n",
    "- D) A command used to rename a branch in git."
   ]
  },
  {
   "attachments": {},
   "cell_type": "markdown",
   "metadata": {},
   "source": [
    "## How does git track changes to files in a repository?\n",
    "\n",
    "- A) By taking snapshots of the entire repository at each commit. ***\n",
    "- B) By comparing the current state of files to the previous state of files at each commit.\n",
    "- C) By tracking the differences between the working directory and the staging area.\n",
    "- D) By storing a separate copy of each file for each commit."
   ]
  }
 ],
 "metadata": {
  "language_info": {
   "name": "python"
  },
  "orig_nbformat": 4
 },
 "nbformat": 4,
 "nbformat_minor": 2
}
