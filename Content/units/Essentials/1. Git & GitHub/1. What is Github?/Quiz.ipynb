{
 "cells": [
  {
   "attachments": {},
   "cell_type": "markdown",
   "metadata": {},
   "source": [
    "# What is Github?"
   ]
  },
  {
   "attachments": {},
   "cell_type": "markdown",
   "metadata": {},
   "source": [
    "## What is GitHub?\n",
    "\n",
    "- A) A version control system\n",
    "- B) A social media platform for developers\n",
    "- C) A web-based hosting service for Git repositories ***\n",
    "- D) An online IDE for coding"
   ]
  },
  {
   "attachments": {},
   "cell_type": "markdown",
   "metadata": {},
   "source": [
    "## What is the command to create a new repository on GitHub from the command line interface (CLI)?\n",
    "\n",
    "- A) `git init`\n",
    "- B) `git clone`\n",
    "- C) `git remote add origin`\n",
    "- D) `git push -u origin master` ***"
   ]
  },
  {
   "attachments": {},
   "cell_type": "markdown",
   "metadata": {},
   "source": [
    "## What is the purpose of the `.gitignore` file in a Git repository?\n",
    "\n",
    "- A) It is a file that lists all the files that need to be tracked by Git.\n",
    "- B) It is a file that lists all the files that should be excluded from the Git repository. ***\n",
    "- C) It is a file that lists all the files that should be automatically committed to the Git repository.\n",
    "- D) It is a file that contains a backup of all the changes made to the Git repository."
   ]
  },
  {
   "attachments": {},
   "cell_type": "markdown",
   "metadata": {},
   "source": [
    "## What is the command to clone a GitHub repository to your local machine?\n",
    "\n",
    "- A) `git add`\n",
    "- B) `git commit`\n",
    "- C) `git clone` ***\n",
    "- D) `git push` "
   ]
  },
  {
   "attachments": {},
   "cell_type": "markdown",
   "metadata": {},
   "source": [
    "## What command is used to push changes from a local repository to a remote repository in Git?\n",
    "\n",
    "- A) `git merge`\n",
    "- B) `git add`\n",
    "- C) `git commit`\n",
    "- D) `git push` ***"
   ]
  },
  {
   "attachments": {},
   "cell_type": "markdown",
   "metadata": {},
   "source": [
    "## Which of the following statements is true about pushing changes in git?\n",
    "\n",
    "- A) Pushing changes sends all changes in the local repository to the remote repository. \n",
    "- B) Pushing changes overwrites any changes made on the remote repository.\n",
    "- C) Pushing changes only updates the branch currently checked out locally. ***\n",
    "- D) Pushing changes requires a merge with the remote repository."
   ]
  },
  {
   "attachments": {},
   "cell_type": "markdown",
   "metadata": {},
   "source": [
    "## What command do you use to pull changes from a remote repository in Git?\n",
    "\n",
    "- A) `git commit`\n",
    "- B) `git push`\n",
    "- C) `git fetch`\n",
    "- D) `git pull` ***"
   ]
  },
  {
   "attachments": {},
   "cell_type": "markdown",
   "metadata": {},
   "source": [
    "## What does the `git pull` command do in git?\n",
    "\n",
    "- A) Pushes the changes from the local repository to the remote repository.\n",
    "- B) Retrieves changes from the remote repository and merges them into the current branch. ***\n",
    "- C) Deletes the current branch and retrieves the previous commit.\n",
    "- D) Creates a new branch and switches to it."
   ]
  },
  {
   "attachments": {},
   "cell_type": "markdown",
   "metadata": {},
   "source": [
    "## What is `git fetch` in Git?\n",
    "\n",
    "- A) A command used to retrieve changes from a remote repository without merging them to the local branch ***\n",
    "- B) A command used to apply changes from the staging area to the local repository\n",
    "- C) A command used to undo the changes made to the local repository since the last commit\n",
    "- D) A command used to create a new branch in the local repository"
   ]
  },
  {
   "attachments": {},
   "cell_type": "markdown",
   "metadata": {},
   "source": [
    "## What is the main difference between `git pull` and `git fetch` in Git?\n",
    "\n",
    "- A) `git pull` and `git fetch` both update the local repository with the latest changes from the remote repository, but `git pull` requires an additional `git merge` command to integrate the changes.\n",
    "\n",
    "- B) `git fetch` updates the local repository with the latest changes from the remote repository, while `git pull` only downloads the changes to the local copy of the remote repository.\n",
    "\n",
    "- C) `git pull` and `git fetch` are the same command in Git.\n",
    "\n",
    "- D) `git pull` and `git fetch` both update the local repository with the latest changes from the remote repository, but `git fetch` requires an additional `git merge` command to integrate the changes. ***"
   ]
  },
  {
   "attachments": {},
   "cell_type": "markdown",
   "metadata": {},
   "source": [
    "## What are the steps to clone a git repository?\n",
    "\n",
    "- A) `git clone <repository URL> <local directory>` ***\n",
    "- B) `git init <local directory> `followed by `git remote add origin <repository URL>`\n",
    "- C) `git add <file>` followed by `git commit -m \"Initial commit\"` and then `git remote add origin <repository URL>` and finally `git push -u origin master`\n",
    "- D) `git fetch <repository URL>` followed by `git merge origin/master`"
   ]
  }
 ],
 "metadata": {
  "language_info": {
   "name": "python"
  },
  "orig_nbformat": 4
 },
 "nbformat": 4,
 "nbformat_minor": 2
}
