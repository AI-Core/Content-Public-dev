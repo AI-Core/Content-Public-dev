{
 "cells": [
  {
   "attachments": {},
   "cell_type": "markdown",
   "metadata": {},
   "source": [
    "# A tour of VSCode"
   ]
  },
  {
   "attachments": {},
   "cell_type": "markdown",
   "metadata": {},
   "source": [
    "## Which of the following statements about Visual Studio Code (VSCode) is true?\n",
    "\n",
    "- A) VSCode is a text editor that is only available for Windows operating system\n",
    "- B) VSCode is a code editor that is only available for macOS operating system\n",
    "- C) VSCode is an open-source code editor that is available for Windows, macOS, and Linux operating systems ***\n",
    "- D) VSCode is a web-based code editor that requires an internet connection to use"
   ]
  },
  {
   "attachments": {},
   "cell_type": "markdown",
   "metadata": {},
   "source": [
    "## Which of the following statements are true about VSCode?\n",
    "\n",
    "- A) VSCode is a free and open-source code editor developed by Microsoft. ***\n",
    "- B) VSCode is only available for Windows operating system.\n",
    "- C) VSCode supports multiple programming languages and has an extensive marketplace for extensions. ***\n",
    "- D) VSCode does not support debugging features.\n",
    "- E) VSCode cannot be customized with user settings and keybindings."
   ]
  },
  {
   "attachments": {},
   "cell_type": "markdown",
   "metadata": {},
   "source": [
    "## Which of the following statements about Visual Studio Code (VSCode) is false?\n",
    "\n",
    "- A) VSCode is a free and open-source code editor developed by Microsoft.\n",
    "- B) VSCode supports multiple programming languages and extensions.\n",
    "- C) VSCode can only be used on Windows operating system. ***\n",
    "- D) VSCode includes built-in debugging and version control tools."
   ]
  }
 ],
 "metadata": {
  "language_info": {
   "name": "python"
  },
  "orig_nbformat": 4
 },
 "nbformat": 4,
 "nbformat_minor": 2
}
