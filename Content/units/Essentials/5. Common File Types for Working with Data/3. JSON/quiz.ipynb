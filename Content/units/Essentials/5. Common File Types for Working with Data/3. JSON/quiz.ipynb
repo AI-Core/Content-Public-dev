{
 "cells": [
  {
   "attachments": {},
   "cell_type": "markdown",
   "metadata": {},
   "source": [
    "# JSON and YAML"
   ]
  },
  {
   "attachments": {},
   "cell_type": "markdown",
   "metadata": {},
   "source": [
    "## When reading JSON data into Python, it is usually stored in which variable type?\n",
    "\n",
    "- List \n",
    "- Tuple \n",
    "- String \n",
    "- Dictionary ***\n",
    "- Scalar \n"
   ]
  },
  {
   "attachments": {},
   "cell_type": "markdown",
   "metadata": {},
   "source": [
    "## Which of the following is true of JSON files:\n",
    "\n",
    "- JSON files can store any kind of data\n",
    "- JSON files can only store text data\n",
    "- JSON files can store any kind of serialisable data ***\n",
    "- JSON files must always have at least one key-value pair\n",
    "- JSON files can only store unstructured data"
   ]
  },
  {
   "attachments": {},
   "cell_type": "markdown",
   "metadata": {},
   "source": [
    "## In order to store data in a JSON file, what must be done to it?\n",
    "\n",
    "- It must be encoded in binary \n",
    "- It must be serialised ***\n",
    "- It must be parallelised \n",
    "- It must be structured \n",
    "- It must be made into tabular data \n",
    "\n"
   ]
  },
  {
   "attachments": {},
   "cell_type": "markdown",
   "metadata": {},
   "source": [
    "## What is the maximum depth of nesting for JSON objects?\n",
    "- 10\n",
    "- 50\n",
    "- 100\n",
    "- There is no maximum depth of nesting ***\n",
    "- JSON does not support nesting"
   ]
  },
  {
   "attachments": {},
   "cell_type": "markdown",
   "metadata": {},
   "source": [
    "## YAML file notation:\n",
    "- Requires brackets\n",
    "- Requires quotes\n",
    "- Requires commas\n",
    "- Requires all three of quotes, commas and brackets\n",
    "- None of the above ***"
   ]
  },
  {
   "attachments": {},
   "cell_type": "markdown",
   "metadata": {},
   "source": [
    "## If a file is a valid JSON file, it is also automatically a valid YAML file\n",
    "\n",
    "- True ***\n",
    "- False"
   ]
  },
  {
   "attachments": {},
   "cell_type": "markdown",
   "metadata": {},
   "source": [
    "## Which file format is more flexible in terms of formatting?\n",
    "\n",
    "- JSON\n",
    "- YAML ***"
   ]
  },
  {
   "attachments": {},
   "cell_type": "markdown",
   "metadata": {},
   "source": [
    "## In the YAML file format, you can represent list items with which symbol? \n",
    "\n",
    "- `-` ***\n",
    "- `:`\n",
    "- Using indentation\n",
    "- `'`\n",
    "- `/`"
   ]
  },
  {
   "attachments": {},
   "cell_type": "markdown",
   "metadata": {},
   "source": [
    "# What is represented in the following YAML snippet?\n",
    "\n",
    "``` yaml\n",
    "\n",
    "section:\n",
    "    -  section 1: hedgehog\n",
    "       section 2: worms\n",
    "    -  section 1: owl\n",
    "       section 2: mice\n",
    "```\n",
    "\n",
    "- List\n",
    "- Dictionary\n",
    "- List of lists\n",
    "- List of dictionaries ***\n",
    "- Dictionary of dictionaries\n",
    "\n",
    "        "
   ]
  },
  {
   "attachments": {},
   "cell_type": "markdown",
   "metadata": {},
   "source": [
    "What is represented in the following YAML snippet?\n",
    "\n",
    "```yaml\n",
    "Fish:\n",
    "    - Herring\n",
    "    - Sprat\n",
    "    - Mackerel\n",
    "    - Scad\n",
    "```\n",
    "\n",
    "- List ***\n",
    "- Dictionary\n",
    "- Dictionary, where the value is a list\n",
    "- None of the above\n"
   ]
  },
  {
   "attachments": {},
   "cell_type": "markdown",
   "metadata": {},
   "source": [
    "Is the following code a valid representation of a list of dictionaries in YAML?\n",
    "\n",
    "```yaml\n",
    "My_list:\n",
    "    - key1 : value 2\n",
    "    - key2 : value 2\n",
    "    - key1 : value 1\n",
    "    - key2 : value 2\n",
    "```\n",
    "- True \n",
    "- False ***"
   ]
  }
 ],
 "metadata": {
  "language_info": {
   "name": "python"
  },
  "orig_nbformat": 4
 },
 "nbformat": 4,
 "nbformat_minor": 2
}
