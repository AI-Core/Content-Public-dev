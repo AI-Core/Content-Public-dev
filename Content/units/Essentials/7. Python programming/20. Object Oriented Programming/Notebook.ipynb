{
 "cells": [
  {
   "cell_type": "markdown",
   "metadata": {},
   "source": [
    "# Object-Oriented Programming (OOP)"
   ]
  },
  {
   "cell_type": "markdown",
   "metadata": {},
   "source": [
    "Up until now, our approach to programming has been primarily procedural. In procedural programming, we follow a step-by-step recipe, where functions play a central role, each designed to execute a specific set of instructions.\n",
    "\n",
    "Let's take a quick look at a simple example of procedural programming in Python:"
   ]
  },
  {
   "cell_type": "code",
   "execution_count": null,
   "metadata": {},
   "outputs": [],
   "source": [
    "# Procedural Python program\n",
    "\n",
    "def greet(name):\n",
    "    \"\"\"A simple function to greet someone.\"\"\"\n",
    "    print(f\"Hello, {name}!\")\n",
    "\n",
    "def main():\n",
    "    \"\"\"Main function to execute the program.\"\"\"\n",
    "    user_name = input(\"Enter your name: \")\n",
    "    greet(user_name)\n",
    "\n",
    "# Execute the program\n",
    "if __name__ == \"__main__\":\n",
    "    main()"
   ]
  },
  {
   "cell_type": "markdown",
   "metadata": {},
   "source": [
    "In this example, the `greet` function is a procedure that performs a specific task (greeting someone), and the `main` function orchestrates the overall flow of the program by calling the `greet` function. This structure is typical of procedural programming.\n",
    "\n",
    "As our programming needs become more complex, we might require a more efficient and scalable way to organize our code, leading us to Object-Oriented Programming (OOP)."
   ]
  },
  {
   "cell_type": "markdown",
   "metadata": {},
   "source": [
    "## Introduction to OOP\n",
    "\n",
    "> In OOP, we shift from the procedural step-by-step approach to a more intuitive and modular structure. Instead of focusing solely on procedures or functions, OOP revolves around the concepts of *objects*. \n",
    "\n",
    "Let's look at how we would change an example of using procedural programming to OOP to better understand the core concepts underlying OOP: **objects** and *classes*.\n",
    "\n",
    "In procedural programming, we often use separate data structures and functions to manage information. Let's consider a scenario where we want to handle information about employees in a company:"
   ]
  },
  {
   "cell_type": "code",
   "execution_count": null,
   "metadata": {},
   "outputs": [],
   "source": [
    "# Procedural Approach - Employee Management\n",
    "\n",
    "# Employee data\n",
    "employee_names = [\"Alice\", \"Bob\", \"Charlie\"]\n",
    "employee_salaries = [50000, 60000, 70000]\n",
    "\n",
    "# Function to calculate bonus\n",
    "def calculate_bonus(salary):\n",
    "    return salary * 0.1\n",
    "\n",
    "# Calculate and print bonuses\n",
    "for i in range(len(employee_names)):\n",
    "    bonus = calculate_bonus(employee_salaries[i])\n",
    "    print(f\"{employee_names[i]}'s bonus: ${bonus}\")\n"
   ]
  },
  {
   "cell_type": "markdown",
   "metadata": {},
   "source": [
    "While this procedural code works, managing data and operations in this way can become challenging as our program grows. This is where OOP comes to the rescue.\n",
    "\n",
    "### Objects and Classes \n",
    "\n",
    "In OOP, we can represent each employee as an **object** with *attributes* (e.g., `name`, `salary`) and *methods* (e.g., `calculate_bonus`). The basic building blocks are objects and classes.\n",
    "\n",
    "> **Objects** are instances of a class. They encapsulate data (**attributes**) and the operations (**methods**) that can be performed on that data.\n",
    "\n",
    "> *Classes* are blueprints or templates for creating objects. They define the structure, attributes, and behaviors that objects instantiated from that class will have.\n",
    "\n",
    "Let's start by defining a simple `Person` class without any methods. This class will act as a blueprint for creating person objects."
   ]
  },
  {
   "cell_type": "code",
   "execution_count": null,
   "metadata": {},
   "outputs": [],
   "source": [
    "# Object-Oriented Approach - Step 1\n",
    "\n",
    "class Person:\n",
    "    pass  # We'll add details later\n"
   ]
  },
  {
   "cell_type": "markdown",
   "metadata": {},
   "source": [
    "Next, let's add a **method** to the `Person` class. A **method** is a function associated with an object, representing actions or behaviors that the object can perform."
   ]
  },
  {
   "cell_type": "code",
   "execution_count": null,
   "metadata": {},
   "outputs": [],
   "source": [
    "# Object-Oriented Approach - Step 2\n",
    "\n",
    "class Person:\n",
    "    def greet(self):\n",
    "        print(\"Hello, I am a person!\")\n"
   ]
  },
  {
   "cell_type": "markdown",
   "metadata": {},
   "source": [
    "In this example, we've added a method called `greet` to our `Person` class. This method doesn't take any additional parameters for now.\n",
    "\n",
    "### Understanding `self` in Methods\n",
    "\n",
    "In OOP in Python, the term `self` is used as a reference to the instance of the class. It represents the current object on which the method is being called. In simpler terms, when a method is called on an object, `self` allows the method to access and manipulate the attributes of that specific object.\n",
    "\n",
    "> `self` is the conventional name used for the first parameter in any instance method. \n",
    "\n",
    "In the example above, where the `greet` method is called on a `Person` object, Python automatically passes the instance as the first argument, and conventionally, this parameter is named `self`.\n",
    "\n",
    "To better understand this, let's create an instance of the class, representing an individual employee."
   ]
  },
  {
   "cell_type": "code",
   "execution_count": null,
   "metadata": {},
   "outputs": [],
   "source": [
    "# Creating an instance of the 'Person' class\n",
    "person_instance = Person()\n",
    "\n",
    "# Calling the greet method on the instance\n",
    "person_instance.greet()"
   ]
  },
  {
   "cell_type": "markdown",
   "metadata": {},
   "source": [
    "When `person_instance.greet()` is executed, behind the scenes, Python interprets it as `Person.greet(person_instance)`. Here, `self` in the method refers to the specific instance (`person_instance`), allowing the method to access and work with the attributes of that particular person.\n",
    "\n",
    "In summary, `self` is a way for methods to interact with the instance they are called on. It allows methods to distinguish between different instances of the same class, ensuring that attributes and operations are specific to the individual object."
   ]
  },
  {
   "cell_type": "markdown",
   "metadata": {},
   "source": [
    "### Introduction to the `__init__` Method and Attributes\n",
    "\n",
    "Now, let's have a look at the concept of **attributes** and the special method called `__init__`.\n",
    "\n",
    "In a class, **attributes** are variables that store data representing the characteristics of an object. \n",
    "\n",
    "> The _`_init__` method is a special method in Python classes, also known as a constructor. It is automatically called when an object is created, and it is used to initialize the attributes of the object."
   ]
  },
  {
   "cell_type": "code",
   "execution_count": null,
   "metadata": {},
   "outputs": [],
   "source": [
    "# Object-Oriented Approach - Step 3\n",
    "\n",
    "class Person:\n",
    "    def __init__(self, name, age):\n",
    "        self.name = name\n",
    "        self.age = age\n",
    "\n",
    "    def greet(self):\n",
    "        print(f\"Hello, my name is {self.name} and I am {self.age} years old!\")\n"
   ]
  },
  {
   "cell_type": "markdown",
   "metadata": {},
   "source": [
    "In this example, the `__init__` method takes three parameters: `self`, `name`, and `age`. `name` and `age` are parameters that act as placeholders for values that will be provided when creating an instance of the `Person` class.\n",
    "\n",
    "Inside the `__init__` method, `self.name` and `self.age` are used to define attributes for the object being created. `self.name = name `initializes the `name` attribute of the object with the value passed as the `name` parameter when creating the object. Similarly, `self.age = age` initializes the `age` attribute of the object with the value passed as the `age` parameter.\n",
    "\n",
    "By assigning values to `self.name` and `self.age`, we make these attributes accessible within the entire class. They can be used not only during object creation but also in other methods of the class, such as the `greet` method.\n",
    "\n",
    "Let's now create an instance of the `Person` class and explore how attributes are initialized:"
   ]
  },
  {
   "cell_type": "code",
   "execution_count": null,
   "metadata": {},
   "outputs": [],
   "source": [
    "# Object-Oriented Approach - Step 4\n",
    "\n",
    "# Creating an instance of the 'Person' class\n",
    "person_instance = Person(name=\"Alice\", age=25)\n",
    "\n",
    "# Accessing attributes of the instance\n",
    "print(f\"Name: {person_instance.name}\")\n",
    "print(f\"Age: {person_instance.age}\")\n",
    "\n",
    "# Calling the greet method\n",
    "person_instance.greet()"
   ]
  },
  {
   "cell_type": "markdown",
   "metadata": {},
   "source": [
    "In this example, we create a `Person` instance named `person_instance` and provide values for the `name` and `age` attributes during the object creation:\n",
    "\n",
    "- `name=\"Alice\"` sets the `name` attribute of `person_instance` to `Alice`\n",
    "- `age=25` sets the `age` attribute of `person_instance` to `25`\n",
    "\n",
    "We then access and print the values of these attributes using `person_instance.name` and `person_instance.age`. Finally, we call the `greet` method, which utilizes the initialized attributes to display a greeting message."
   ]
  },
  {
   "attachments": {},
   "cell_type": "markdown",
   "metadata": {},
   "source": [
    "### Class inheritance\n",
    "- Classes can be employed as a base to create other classes; this is called __INHERITANCE__.\n",
    "- The class used as a base is called the __BASE CLASS__ or __Parent__.\n",
    "- The new class is called the __DERIVED CLASS(ES)__ or __Child(ren)__.\n",
    "- The derived classes 'inherit' features from the base class.\n",
    "- Similar to 'self' above, super() can be utilised to access the elements (attributes and methods) in the parent.\n",
    "- Additionally, the inherited methods can be overwritten using the same method name.\n",
    "- New methods can be defined using novel method names."
   ]
  },
  {
   "cell_type": "code",
   "execution_count": 1,
   "metadata": {},
   "outputs": [],
   "source": [
    "class Rectangle:\n",
    "    def __init__(self, length, width):\n",
    "        self.length = length\n",
    "        self.width = width\n",
    "\n",
    "    def area(self):\n",
    "        return self.length * self.width\n",
    "\n",
    "    def perimeter(self):\n",
    "        return 2 * self.length + 2 * self.width\n"
   ]
  },
  {
   "cell_type": "code",
   "execution_count": 2,
   "metadata": {},
   "outputs": [
    {
     "name": "stdout",
     "output_type": "stream",
     "text": [
      "10\n",
      "14\n"
     ]
    }
   ],
   "source": [
    "rec_1 = Rectangle(2, 5)\n",
    "print(rec_1.area())\n",
    "print(rec_1.perimeter())\n"
   ]
  },
  {
   "cell_type": "code",
   "execution_count": 3,
   "metadata": {},
   "outputs": [],
   "source": [
    "# Observe the Square class\n",
    "\n",
    "class Square:\n",
    "    def __init__(self, length):\n",
    "        self.length = length\n",
    "\n",
    "    def area(self):\n",
    "        return self.length * self.length\n",
    "\n",
    "    def perimeter(self):\n",
    "        return 4 * self.length\n"
   ]
  },
  {
   "cell_type": "markdown",
   "metadata": {},
   "source": [
    "Basically, the Square class is the same as the Rectangle class, i.e. both length and width are the same. In other words, both attributes are not required to create a Square object.\n",
    "\n",
    "To inherit a __base class__, the super() function can be applied, which, in short, is similar to using self, but with the base class."
   ]
  },
  {
   "cell_type": "code",
   "execution_count": 4,
   "metadata": {},
   "outputs": [
    {
     "data": {
      "text/plain": [
       "16"
      ]
     },
     "execution_count": 4,
     "metadata": {},
     "output_type": "execute_result"
    }
   ],
   "source": [
    "square = Square(4)\n",
    "square.area()\n"
   ]
  },
  {
   "cell_type": "code",
   "execution_count": 5,
   "metadata": {},
   "outputs": [],
   "source": [
    "class Rectangle:\n",
    "    def __init__(self, length, width):\n",
    "        self.length = length\n",
    "        self.width = width\n",
    "\n",
    "    def area(self):\n",
    "        return self.length * self.width\n",
    "\n",
    "    def perimeter(self):\n",
    "        return 2 * self.length + 2 * self.width\n",
    "\n",
    "\n",
    "class Square(Rectangle):\n",
    "    def __init__(self, length):\n",
    "        super().__init__(length, length)\n",
    "        self.width\n",
    "        # super is calling the __init__ in Rectangle, which is similar to\n",
    "        # instantiating a Rectangle object with length=length and width=length.\n",
    "        # The new class will also obtain (inherit) the rectangle's methods.\n"
   ]
  },
  {
   "cell_type": "code",
   "execution_count": 6,
   "metadata": {},
   "outputs": [
    {
     "name": "stdout",
     "output_type": "stream",
     "text": [
      "rectangle area is 16\n",
      "square area is 16\n",
      "rectangle type is <class '__main__.Rectangle'>\n",
      "square type is <class '__main__.Square'>\n"
     ]
    }
   ],
   "source": [
    "rectangle = Rectangle(4, 4)\n",
    "square = Square(4)\n",
    "print(f'rectangle area is {rectangle.area()}')\n",
    "print(f'square area is {square.area()}')\n",
    "print(f'rectangle type is {type(rectangle)}')\n",
    "print(f'square type is {type(square)}')\n"
   ]
  },
  {
   "cell_type": "markdown",
   "metadata": {},
   "source": [
    "The functions, issubclass and isinstance, can be utilised to examine the relation between the classes. "
   ]
  },
  {
   "cell_type": "code",
   "execution_count": null,
   "metadata": {},
   "outputs": [],
   "source": [
    "print(f'Is the Square Class a subclass of the Rectangle Class?: {issubclass(Square, Rectangle)}')\n",
    "print(f'Is the Rectagle Class a subclass of the Square Class?: {issubclass(Rectangle, Square)}')\n",
    "print(f'Is square an instance of a Square object?: {isinstance(square, Square)}') \n",
    "print(f'Is \"Hello\" an instance of a String Object?: {isinstance(\"Hello\", str)}')\n",
    "print(f'Is \"Hello\" an instance of a Integer Object?: {isinstance(\"Hello\", int)}')\n",
    "print(f'Is square an instance of a Rectangle object?: {isinstance(square, Rectangle)}')\n",
    "print(f'Is rectangle an instance of a Square object?: {isinstance(rectangle, Square)}')\n"
   ]
  },
  {
   "cell_type": "markdown",
   "metadata": {},
   "source": [
    "Although only the length was supplied to Square, Square implicitly inherits all attributes from Rectangle."
   ]
  },
  {
   "cell_type": "code",
   "execution_count": null,
   "metadata": {},
   "outputs": [],
   "source": [
    "print(square.__dict__)\n",
    "# __dict__ is a method that returns a dictionary with the \n",
    "# attributes and values of an instance.\n",
    "print(dir(square))"
   ]
  },
  {
   "cell_type": "markdown",
   "metadata": {},
   "source": [
    "Consider that we do not have to call super().\\_\\_init__() every time we inherit a parent (or base class). We call it if we intend to change the number of attributes to be called by the child(ren). \n",
    "\n",
    "In the following example, a Cube class is created, and the volume and surface area are calculated. Thus, one length is all that is required to calculate everything.\n",
    "\n",
    "Additionally, we can call for methods that were defined in the parent. In the example above, self was required to call a method in the same class that was being defined (work method was calling the increase_salary method). To use a method from the parent (or the grandparent in this case), super() is required."
   ]
  },
  {
   "cell_type": "code",
   "execution_count": null,
   "metadata": {},
   "outputs": [],
   "source": [
    "class Square(Rectangle):\n",
    "    def __init__(self, length):\n",
    "        super().__init__(length, length)\n",
    "\n",
    "class Cube(Square):\n",
    "    # No __init__ is required, since it has the same __init__ function\n",
    "    # as Square (parent).\n",
    "    \n",
    "    def surface_area(self):\n",
    "        face_area = super().area()\n",
    "        return face_area * 6\n",
    "\n",
    "    def volume(self):\n",
    "        face_area = super().area()\n",
    "        return face_area * self.length\n",
    "    \n",
    "    def perimeter(self):\n",
    "        return 12 * self.length"
   ]
  },
  {
   "cell_type": "markdown",
   "metadata": {},
   "source": [
    "Things to note.\n",
    "- When inheriting, the __init__ from the base class is called by default. This explains why super() or __init__ was not required in Cube.\n",
    "- The methods added to the Cube class are not passed to Square or Rectangle.\n",
    "- Cube inherits implicitly from Rectangle (Grandparent)."
   ]
  },
  {
   "cell_type": "code",
   "execution_count": null,
   "metadata": {},
   "outputs": [],
   "source": [
    "cube = Cube(4)"
   ]
  },
  {
   "cell_type": "code",
   "execution_count": null,
   "metadata": {},
   "outputs": [],
   "source": [
    "print(cube.volume())\n",
    "print(cube.surface_area())\n",
    "print(cube.perimeter())"
   ]
  },
  {
   "cell_type": "code",
   "execution_count": null,
   "metadata": {},
   "outputs": [],
   "source": [
    "class Cube(Square):\n",
    "    def __init__(self, length):\n",
    "        print('I am a cube! Nice to meet you')\n",
    "        super().__init__(length)\n",
    "    # No __init__ is required, since it has the same __init__ function\n",
    "    # as Square (parent).\n",
    "\n",
    "    def surface_area(self):\n",
    "        face_area = super().area()\n",
    "        return face_area * 6\n",
    "\n",
    "    def volume(self):\n",
    "        face_area = super().area()\n",
    "        return face_area * self.length\n"
   ]
  },
  {
   "cell_type": "markdown",
   "metadata": {},
   "source": [
    "Note that super().init is called to change the behaviour of the constructor. Upon inheriting a class, the class init method is also inherited."
   ]
  },
  {
   "cell_type": "code",
   "execution_count": null,
   "metadata": {},
   "outputs": [],
   "source": [
    "cube = Cube(4)\n",
    "cube2 = Cube(5)\n",
    "cube.length"
   ]
  },
  {
   "cell_type": "markdown",
   "metadata": {},
   "source": [
    "Below, we ascertain that Cube is still a subclass of Rectangle, and similar to Square, Cube is considered an instance of its grandparent."
   ]
  },
  {
   "cell_type": "code",
   "execution_count": null,
   "metadata": {},
   "outputs": [],
   "source": [
    "print(f'Is the Cube Class a subclass of the Square Class?: {issubclass(Cube, Square)}')\n",
    "print(f'Is the Cube Class a subclass of the Rectangle Class?: {issubclass(Cube, Rectangle)}')\n",
    "print(f'Is cube an instance of a Square object?: {isinstance(cube, Square)}') \n",
    "print(f'Is cube an instance of a Rectangle object?: {isinstance(cube, Rectangle)}') "
   ]
  },
  {
   "cell_type": "markdown",
   "metadata": {},
   "source": [
    "Children can override their parent's methods. For example, imagine defining a RightTriangle class. The area and perimeter are different from those of Rectangle; therefore, the Rectangle methods can be overridden by rewriting the methods in the child class."
   ]
  },
  {
   "cell_type": "code",
   "execution_count": null,
   "metadata": {},
   "outputs": [],
   "source": [
    "class RightTriangle(Rectangle):\n",
    "    def area(self):\n",
    "        return self.length * self.width / 2\n",
    "    def perimeter(self):\n",
    "        hypotenuse = (self.width ** 2 + self.length ** 2) ** 0.5\n",
    "        return hypotenuse + self.width + self.length"
   ]
  },
  {
   "cell_type": "code",
   "execution_count": null,
   "metadata": {},
   "outputs": [],
   "source": [
    "right_triangle = RightTriangle(3, 4)\n",
    "print(dir(right_triangle))\n",
    "print(right_triangle.area())\n",
    "print(right_triangle.perimeter())"
   ]
  },
  {
   "cell_type": "markdown",
   "metadata": {},
   "source": [
    "### Multiple inheritance\n",
    "\n"
   ]
  },
  {
   "cell_type": "markdown",
   "metadata": {},
   "source": [
    "Thus far, we have discussed multilevel inheritance (grandparent > parent > child). Multiple inheritance also exists, which corresponds to a father - Mother > child relationship."
   ]
  },
  {
   "cell_type": "markdown",
   "metadata": {},
   "source": [
    "<p align=center><img src=images/Multiple_OOP.png width=500></p>"
   ]
  },
  {
   "cell_type": "markdown",
   "metadata": {},
   "source": [
    "Consider the below Right Pyramid example, with faces comprising one square and four triangles.\n",
    "\n",
    "<p align=center><img src=images/right_pyramid.png width=500></p>"
   ]
  },
  {
   "cell_type": "code",
   "execution_count": 7,
   "metadata": {},
   "outputs": [],
   "source": [
    "class Triangle:\n",
    "    def __init__(self, base, height):\n",
    "        self.base = base\n",
    "        self.height = height\n",
    "\n",
    "    def area(self):\n",
    "        return 0.5 * self.base * self.height\n",
    "\n",
    "class RightPyramid(Triangle, Square):\n",
    "    def __init__(self, base, slant_height):\n",
    "        self.base = base\n",
    "        self.slant_height = slant_height\n",
    "\n",
    "    def area(self):\n",
    "        base_area = super().area()\n",
    "        perimeter = super().perimeter()\n",
    "        return 0.5 * perimeter * self.slant_height + base_area\n"
   ]
  },
  {
   "cell_type": "markdown",
   "metadata": {},
   "source": [
    "This example declares a Triangle class and a RightPyramid class that inherits from both Square and Triangle.\n",
    "\n",
    "We introduce another .area() method that uses super() similar to the case in single inheritance, aiming to access the .perimeter() and .area() methods defined in the Rectangle class. "
   ]
  },
  {
   "cell_type": "code",
   "execution_count": 8,
   "metadata": {},
   "outputs": [
    {
     "name": "stdout",
     "output_type": "stream",
     "text": [
      "[<class '__main__.RightPyramid'>, <class '__main__.Triangle'>, <class '__main__.Square'>, <class '__main__.Rectangle'>, <class 'object'>]\n"
     ]
    },
    {
     "ename": "AttributeError",
     "evalue": "'RightPyramid' object has no attribute 'height'",
     "output_type": "error",
     "traceback": [
      "\u001b[0;31m---------------------------------------------------------------------------\u001b[0m",
      "\u001b[0;31mAttributeError\u001b[0m                            Traceback (most recent call last)",
      "\u001b[1;32m/Users/maya/Desktop/AiCore Work/Content-Projects/Content/units/Essentials/7. Python programming/20. Object Oriented Programming/Notebook.ipynb Cell 63\u001b[0m line \u001b[0;36m<cell line: 3>\u001b[0;34m()\u001b[0m\n\u001b[1;32m      <a href='vscode-notebook-cell:/Users/maya/Desktop/AiCore%20Work/Content-Projects/Content/units/Essentials/7.%20Python%20programming/20.%20Object%20Oriented%20Programming/Notebook.ipynb#Y116sZmlsZQ%3D%3D?line=0'>1</a>\u001b[0m \u001b[39mprint\u001b[39m(RightPyramid\u001b[39m.\u001b[39mmro())\n\u001b[1;32m      <a href='vscode-notebook-cell:/Users/maya/Desktop/AiCore%20Work/Content-Projects/Content/units/Essentials/7.%20Python%20programming/20.%20Object%20Oriented%20Programming/Notebook.ipynb#Y116sZmlsZQ%3D%3D?line=1'>2</a>\u001b[0m pyramid \u001b[39m=\u001b[39m RightPyramid(\u001b[39m2\u001b[39m, \u001b[39m4\u001b[39m)\n\u001b[0;32m----> <a href='vscode-notebook-cell:/Users/maya/Desktop/AiCore%20Work/Content-Projects/Content/units/Essentials/7.%20Python%20programming/20.%20Object%20Oriented%20Programming/Notebook.ipynb#Y116sZmlsZQ%3D%3D?line=2'>3</a>\u001b[0m pyramid\u001b[39m.\u001b[39;49marea()\n",
      "\u001b[1;32m/Users/maya/Desktop/AiCore Work/Content-Projects/Content/units/Essentials/7. Python programming/20. Object Oriented Programming/Notebook.ipynb Cell 63\u001b[0m line \u001b[0;36mRightPyramid.area\u001b[0;34m(self)\u001b[0m\n\u001b[1;32m     <a href='vscode-notebook-cell:/Users/maya/Desktop/AiCore%20Work/Content-Projects/Content/units/Essentials/7.%20Python%20programming/20.%20Object%20Oriented%20Programming/Notebook.ipynb#Y116sZmlsZQ%3D%3D?line=13'>14</a>\u001b[0m \u001b[39mdef\u001b[39;00m \u001b[39marea\u001b[39m(\u001b[39mself\u001b[39m):\n\u001b[0;32m---> <a href='vscode-notebook-cell:/Users/maya/Desktop/AiCore%20Work/Content-Projects/Content/units/Essentials/7.%20Python%20programming/20.%20Object%20Oriented%20Programming/Notebook.ipynb#Y116sZmlsZQ%3D%3D?line=14'>15</a>\u001b[0m     base_area \u001b[39m=\u001b[39m \u001b[39msuper\u001b[39;49m()\u001b[39m.\u001b[39;49marea()\n\u001b[1;32m     <a href='vscode-notebook-cell:/Users/maya/Desktop/AiCore%20Work/Content-Projects/Content/units/Essentials/7.%20Python%20programming/20.%20Object%20Oriented%20Programming/Notebook.ipynb#Y116sZmlsZQ%3D%3D?line=15'>16</a>\u001b[0m     perimeter \u001b[39m=\u001b[39m \u001b[39msuper\u001b[39m()\u001b[39m.\u001b[39mperimeter()\n\u001b[1;32m     <a href='vscode-notebook-cell:/Users/maya/Desktop/AiCore%20Work/Content-Projects/Content/units/Essentials/7.%20Python%20programming/20.%20Object%20Oriented%20Programming/Notebook.ipynb#Y116sZmlsZQ%3D%3D?line=16'>17</a>\u001b[0m     \u001b[39mreturn\u001b[39;00m \u001b[39m0.5\u001b[39m \u001b[39m*\u001b[39m perimeter \u001b[39m*\u001b[39m \u001b[39mself\u001b[39m\u001b[39m.\u001b[39mslant_height \u001b[39m+\u001b[39m base_area\n",
      "\u001b[1;32m/Users/maya/Desktop/AiCore Work/Content-Projects/Content/units/Essentials/7. Python programming/20. Object Oriented Programming/Notebook.ipynb Cell 63\u001b[0m line \u001b[0;36mTriangle.area\u001b[0;34m(self)\u001b[0m\n\u001b[1;32m      <a href='vscode-notebook-cell:/Users/maya/Desktop/AiCore%20Work/Content-Projects/Content/units/Essentials/7.%20Python%20programming/20.%20Object%20Oriented%20Programming/Notebook.ipynb#Y116sZmlsZQ%3D%3D?line=5'>6</a>\u001b[0m \u001b[39mdef\u001b[39;00m \u001b[39marea\u001b[39m(\u001b[39mself\u001b[39m):\n\u001b[0;32m----> <a href='vscode-notebook-cell:/Users/maya/Desktop/AiCore%20Work/Content-Projects/Content/units/Essentials/7.%20Python%20programming/20.%20Object%20Oriented%20Programming/Notebook.ipynb#Y116sZmlsZQ%3D%3D?line=6'>7</a>\u001b[0m     \u001b[39mreturn\u001b[39;00m \u001b[39m0.5\u001b[39m \u001b[39m*\u001b[39m \u001b[39mself\u001b[39m\u001b[39m.\u001b[39mbase \u001b[39m*\u001b[39m \u001b[39mself\u001b[39;49m\u001b[39m.\u001b[39;49mheight\n",
      "\u001b[0;31mAttributeError\u001b[0m: 'RightPyramid' object has no attribute 'height'"
     ]
    }
   ],
   "source": [
    "print(RightPyramid.mro())\n",
    "pyramid = RightPyramid(2, 4)\n",
    "pyramid.area()"
   ]
  },
  {
   "cell_type": "markdown",
   "metadata": {},
   "source": [
    "What occurred here? Why is height required? By inspecting the error and determining where the height is required, we establish that the area must be obtained from the Square base and that retrieving the height here is pointless.\n",
    "\n",
    "RightPyramid.\\_\\_mro__ Method Resolution Order provides the order in which the child will search the parent's methods.\n",
    "\n",
    "This informs us that the Rightpyramid's methods will be searched first, followed by Triangle, Square, and Rectangle. Triangle.area() expects .height and .base attributes, hence the AttributeError thrown by Python."
   ]
  },
  {
   "cell_type": "code",
   "execution_count": null,
   "metadata": {},
   "outputs": [],
   "source": [
    "class RightPyramid(Square, Triangle): # Change the order of the parents\n",
    "    def __init__(self, base, slant_height):\n",
    "        self.base = base\n",
    "        self.slant_height = slant_height\n",
    "        super().__init__(self.base) # Modify the Square class substituting length with base\n",
    "\n",
    "    def area(self):\n",
    "        base_area = super().area()\n",
    "        perimeter = super().perimeter()\n",
    "        return 0.5 * perimeter * self.slant_height + base_area\n"
   ]
  },
  {
   "cell_type": "code",
   "execution_count": null,
   "metadata": {},
   "outputs": [],
   "source": [
    "pyramid = RightPyramid(2, 4)\n",
    "print(RightPyramid.__mro__)\n",
    "pyramid.__dict__"
   ]
  },
  {
   "cell_type": "markdown",
   "metadata": {},
   "source": [
    "In multiple inheritance, the classes should be designed such that they are in sync. For example, the same name should not be used for methods, and if necessary, the name of said methods should be adjusted slightly. For instance, the Triangle class’s .area() method  can be named .tri_area()."
   ]
  },
  {
   "cell_type": "code",
   "execution_count": null,
   "metadata": {},
   "outputs": [],
   "source": [
    "class Triangle:\n",
    "    def __init__(self, base, height):\n",
    "        self.base = base\n",
    "        self.height = height\n",
    "        super().__init__()\n",
    "\n",
    "    def tri_area(self):\n",
    "        return 0.5 * self.base * self.height\n"
   ]
  },
  {
   "cell_type": "code",
   "execution_count": null,
   "metadata": {},
   "outputs": [],
   "source": [
    "class Square(Rectangle):\n",
    "    def __init__(self, length):\n",
    "        super().__init__(length, length)\n",
    "\n",
    "class Triangle:\n",
    "    def __init__(self, base, height):\n",
    "        self.base = base\n",
    "        self.height = height\n",
    "        super().__init__()\n",
    "\n",
    "    def tri_area(self):\n",
    "        return 0.5 * self.base * self.height\n",
    "\n",
    "class RightPyramid(Square, Triangle):\n",
    "    def __init__(self, base, slant_height):\n",
    "        self.base = base\n",
    "        self.slant_height = slant_height\n",
    "        super().__init__(self.base)\n",
    "        \n",
    "    def area(self):\n",
    "        base_area = super().area()\n",
    "        perimeter = super().perimeter()\n",
    "        return 0.5 * perimeter * self.slant_height + base_area\n",
    "\n",
    "    def area_2(self):\n",
    "        base_area = super().area()\n",
    "        triangle_area = super().tri_area()\n",
    "        return triangle_area * 4 + base_area\n"
   ]
  },
  {
   "cell_type": "code",
   "execution_count": null,
   "metadata": {},
   "outputs": [],
   "source": [
    "right_pyramid = RightPyramid(3, 4)\n",
    "print(right_pyramid.area())\n",
    "print(right_pyramid.area_2())\n"
   ]
  },
  {
   "cell_type": "code",
   "execution_count": null,
   "metadata": {},
   "outputs": [],
   "source": [
    "class Rectangle:\n",
    "    def __init__(self, length, width, **kwargs):\n",
    "        self.length = length\n",
    "        self.width = width\n",
    "        super().__init__(**kwargs)\n",
    "\n",
    "    def area(self):\n",
    "        return self.length * self.width\n",
    "\n",
    "    def perimeter(self):\n",
    "        return 2 * self.length + 2 * self.width\n",
    "\n",
    "# Here, we declare that the Square class inherits from \n",
    "# the Rectangle class.\n",
    "class Square(Rectangle):\n",
    "    def __init__(self, length, **kwargs):\n",
    "        super().__init__(length=length, width=length, **kwargs)\n",
    "\n",
    "class Cube(Square):\n",
    "    def surface_area(self):\n",
    "        face_area = super().area()\n",
    "        return face_area * 6\n",
    "\n",
    "    def volume(self):\n",
    "        face_area = super().area()\n",
    "        return face_area * self.length\n",
    "\n",
    "class Triangle:\n",
    "    def __init__(self, base, height, **kwargs):\n",
    "        self.base = base\n",
    "        self.height = height\n",
    "        super().__init__(**kwargs)\n",
    "\n",
    "    def tri_area(self):\n",
    "        return 0.5 * self.base * self.height\n",
    "\n",
    "class RightPyramid(Square, Triangle):\n",
    "    def __init__(self, base, slant_height, **kwargs):\n",
    "        self.base = base\n",
    "        self.slant_height = slant_height\n",
    "        kwargs[\"height\"] = slant_height\n",
    "        kwargs[\"length\"] = base\n",
    "        super().__init__(base=base, **kwargs)\n",
    "\n",
    "    def area(self):\n",
    "        base_area = super().area()\n",
    "        perimeter = super().perimeter()\n",
    "        return 0.5 * perimeter * self.slant_height + base_area\n",
    "\n",
    "    def area_2(self):\n",
    "        base_area = super().area()\n",
    "        triangle_area = super().tri_area()\n",
    "        return triangle_area * 4 + base_area\n"
   ]
  },
  {
   "cell_type": "markdown",
   "metadata": {},
   "source": [
    "### Abstract base classes\n",
    "\n",
    "![](images/ABC.jpg)\n",
    "\n",
    "Abstract base classes (ABCs) are classes with abstract methods. To create an ABC, a class must inherit from an ABC and subsequently implement an abstract method."
   ]
  },
  {
   "cell_type": "code",
   "execution_count": null,
   "metadata": {},
   "outputs": [],
   "source": [
    "from abc import ABC, abstractmethod\n",
    "\n",
    "class Animal():\n",
    "\n",
    "    def __init__(self, name):\n",
    "            self.name = name\n",
    "\n",
    "    def say_hello(self):\n",
    "        pass\n",
    "\n",
    "cuddles = Animal('Cuddles')\n",
    "# No errors, still not an ABC"
   ]
  },
  {
   "cell_type": "code",
   "execution_count": null,
   "metadata": {},
   "outputs": [],
   "source": [
    "from abc import ABC, abstractmethod\n",
    "\n",
    "class Animal(ABC):\n",
    "\n",
    "    def __init__(self, name):\n",
    "            self.name = name\n",
    "\n",
    "    def say_hello(self):\n",
    "        pass\n",
    "\n",
    "cuddles = Animal('Cuddles')\n",
    "# No errors, still not an ABC"
   ]
  },
  {
   "cell_type": "markdown",
   "metadata": {},
   "source": [
    "Observe what occurs when the Animal inherits from ABC and implements the abstract method."
   ]
  },
  {
   "cell_type": "code",
   "execution_count": null,
   "metadata": {},
   "outputs": [],
   "source": [
    "from abc import ABC, abstractmethod\n",
    "\n",
    "class Animal(ABC):\n",
    "\n",
    "    def __init__(self, name, characteristic):\n",
    "        self.name = name\n",
    "        self.characteristic = characteristic\n",
    "\n",
    "    @abstractmethod\n",
    "    def say_hello(self):\n",
    "        pass\n",
    "\n",
    "cuddles = Animal('Cuddles')"
   ]
  },
  {
   "cell_type": "markdown",
   "metadata": {},
   "source": [
    "Python throws an error. The Animal class is an ABC, and it only serves as a base class for other classes; therefore, it is only useful for inheritance and not for creating objects."
   ]
  },
  {
   "cell_type": "markdown",
   "metadata": {},
   "source": [
    "The Animal class is a blueprint for blueprints, i.e. for creating consistent classes."
   ]
  },
  {
   "cell_type": "markdown",
   "metadata": {},
   "source": [
    "#### Creating an ABC\n",
    "\n",
    "To enable the animals say hello and state a characteristic using a method, each method is named differently."
   ]
  },
  {
   "cell_type": "code",
   "execution_count": null,
   "metadata": {},
   "outputs": [],
   "source": [
    "class Lion(Animal):\n",
    "    def __init__(self, name, characteristic):\n",
    "        self.name = name\n",
    "        self.characteristic = characteristic\n",
    "\n",
    "    def roar_hello(self):\n",
    "        print(f'Hi, my name is {self.name} and I have {self.characteristic}')\n",
    "\n",
    "class Mouse(Animal):\n",
    "    def __init__(self, name, characteristic):\n",
    "        self.name = name\n",
    "        self.characteristic = characteristic\n",
    "\n",
    "    def squeak_hello(self):\n",
    "        print(f'Hi, my name is {self.name} and I have {self.characteristic}')\n",
    "\n",
    "class Koala(Animal):\n",
    "    def __init__(self, name, characteristic):\n",
    "        self.name = name\n",
    "        self.characteristic = characteristic\n",
    "\n",
    "    def growl_hello(self):\n",
    "        print(f'Hi, my name is {self.name} and I have {self.characteristic}')\n"
   ]
  },
  {
   "cell_type": "markdown",
   "metadata": {},
   "source": [
    "Observe that each animal has a different method for saying hello, which is quite tedious and deviates from OOP."
   ]
  },
  {
   "cell_type": "code",
   "execution_count": null,
   "metadata": {},
   "outputs": [],
   "source": [
    "animals = [Lion('Alex', 'a long mane'), Mouse('Mickey', 'a long tail'), Koala('Cuddles', 'chlamydia')]\n",
    "for animal in animals:\n",
    "    if 'roar_hello' in dir(animal):\n",
    "        animal.roar_hello()\n",
    "    elif 'squeak_hello' in dir(animal):\n",
    "        animal.squeak_hello()\n",
    "    elif 'growl_hello' in dir(animal):\n",
    "        animal.growl_hello()\n",
    "    "
   ]
  },
  {
   "cell_type": "markdown",
   "metadata": {},
   "source": [
    "However, the user is usually not aware that the parent class already has a method for saying hello."
   ]
  },
  {
   "cell_type": "markdown",
   "metadata": {},
   "source": [
    "Remember that Animal has an abstract method. This will force the children to have that method. In the below example, we attempt to instantiate Lion, which inherits from Animal, without introducing a say_hello method."
   ]
  },
  {
   "cell_type": "code",
   "execution_count": null,
   "metadata": {},
   "outputs": [],
   "source": [
    "class Lion(Animal):\n",
    "\n",
    "    def roar_hello(self):\n",
    "        print(f'Hi, my name is {self.name} and I have {self.characteristic}')\n",
    "\n",
    "alex = Lion('Alex', 'a long mane')"
   ]
  },
  {
   "cell_type": "markdown",
   "metadata": {},
   "source": [
    "As expected, this is not permissible because we are forcing Animal's children to have a method named say_hello. There are two general rules to be followed when defining an ABC: the abstract method must be present, and when defining an abstract method, a descriptive name is required (since all the children will have this method, descriptive names are preferable to simplify the user's task)."
   ]
  },
  {
   "cell_type": "markdown",
   "metadata": {},
   "source": [
    "Now, we create classes with the say_hello method."
   ]
  },
  {
   "cell_type": "code",
   "execution_count": null,
   "metadata": {},
   "outputs": [],
   "source": [
    "class Lion(Animal):\n",
    "    def say_hello(self):\n",
    "        print(f'Hi, my name is {self.name} and I have {self.characteristic}')\n",
    "\n",
    "class Mouse(Animal):\n",
    "   def say_hello(self):\n",
    "        print(f'Hi, my name is {self.name} and I have {self.characteristic}')\n",
    "\n",
    "class Koala(Animal):\n",
    "    def say_hello(self):\n",
    "        print(f'Hi, my name is {self.name} and I have {self.characteristic}')\n",
    "        \n",
    "animals = [Lion('Alex', 'a long mane'), Mouse('Mickey', 'a long tail'), Koala('Cuddles', 'chlamydia')]\n",
    "for animal in animals:\n",
    "    animal.say_hello()\n"
   ]
  },
  {
   "cell_type": "markdown",
   "metadata": {},
   "source": [
    "## Magic Methods"
   ]
  },
  {
   "cell_type": "markdown",
   "metadata": {},
   "source": [
    "Magic methods enable the use of Python's built-in functions and operators with classes. Consider the below example, where we use the len() function in the Building class:"
   ]
  },
  {
   "cell_type": "code",
   "execution_count": null,
   "metadata": {},
   "outputs": [],
   "source": [
    "class Building:\n",
    "    def __init__(self, floor_area, n_floors):\n",
    "        self.floor_area = floor_area\n",
    "        self.n_floors = n_floors\n",
    "\n",
    "library = Building(200, 5)\n",
    "print(len(library))\n",
    "\n"
   ]
  },
  {
   "cell_type": "markdown",
   "metadata": {},
   "source": [
    "Python does not know how to use the len() function because it has not been properly educated. It is the programmer's responsibility to tell Python what to do in such cases. The contents of the magic method depend on the programmer and what they think will be more useful for the user. For example, say we want the length of the Building class to be the number of floors,"
   ]
  },
  {
   "cell_type": "code",
   "execution_count": null,
   "metadata": {},
   "outputs": [],
   "source": [
    "class Building:\n",
    "    def __init__(self, floor_area, n_floors):\n",
    "        self.floor_area = floor_area\n",
    "        self.n_floors = n_floors\n",
    "    \n",
    "    def __len__(self): # Magic methods are also called dunder methods because they have Double UNDERscore.\n",
    "        return self.n_floors # The __len__ Magic method must return an integer.\n",
    "    \n",
    "    def __add__(self, other):\n",
    "        return self.n_floors + other.n_floors"
   ]
  },
  {
   "cell_type": "code",
   "execution_count": null,
   "metadata": {},
   "outputs": [],
   "source": [
    "library = Building(200, 5)\n",
    "library2 = Building(300,5)\n",
    "print(len(library))\n"
   ]
  },
  {
   "cell_type": "markdown",
   "metadata": {},
   "source": [
    "There are many possible magic methods. For example, the \\_\\_gt__ method (greater than) can be used to compare two buildings:"
   ]
  },
  {
   "cell_type": "code",
   "execution_count": null,
   "metadata": {},
   "outputs": [],
   "source": [
    "class Building:\n",
    "    def __init__(self, floor_area, n_floors):\n",
    "        self.floor_area = floor_area\n",
    "        self.n_floors = n_floors\n",
    "    \n",
    "    def __len__(self): # Magic methods are also called dunder methods because they have Double UNDERscores.\n",
    "        return self.n_floors # The __len__ Magic method must return an integer.\n",
    "    \n",
    "    def __gt__(self, other): # 'other' usually refers to other instances of the same class.\n",
    "        return self.floor_area > other.floor_area # We compare to determine which one has a larger floor area. This is possible because Python\n",
    "                                                  # knows how to compare floats and integers.\n",
    "    def __eq__(self, other): # 'other' usually refers to other instances of the same class.\n",
    "        return self.floor_area == other.floor_area \n",
    "    \n",
    "    def __lt__(self, other):\n",
    "        return other > self\n",
    "\n",
    "library = Building(10000, 5)\n",
    "hotel = Building(15000, 20)\n",
    "hospital = Building(15000, 10)\n",
    "gherkin = Building(48000, 41)\n",
    "\n",
    "print(library < hospital)\n",
    "print(library > gherkin)\n",
    "print(hotel == hospital)\n",
    "print(hotel > hospital)\n",
    "print(library < hospital < gherkin)\n",
    "\n"
   ]
  },
  {
   "cell_type": "code",
   "execution_count": null,
   "metadata": {},
   "outputs": [],
   "source": [
    "library <= hospital"
   ]
  },
  {
   "cell_type": "markdown",
   "metadata": {},
   "source": [
    "There are more magic methods for adding two objects of the same class, e.g. \\_\\_add__. Please consider the Potion class below and attempt to understand the magic method utilised:"
   ]
  },
  {
   "cell_type": "code",
   "execution_count": null,
   "metadata": {},
   "outputs": [],
   "source": [
    "class Potion:\n",
    "    def __init__(self, volume):\n",
    "        self.volume = volume\n",
    "    \n",
    "    def __add__(self, other):\n",
    "        new_volume = self.volume + other.volume\n",
    "        return Potion(new_volume)\n",
    "\n",
    "felix_felicis = Potion(250)\n",
    "veritaserum = Potion(100)\n",
    "\n",
    "new_potion = felix_felicis + veritaserum"
   ]
  },
  {
   "cell_type": "code",
   "execution_count": null,
   "metadata": {},
   "outputs": [],
   "source": [
    "print(new_potion.volume)\n",
    "print(new_potion)"
   ]
  },
  {
   "cell_type": "code",
   "execution_count": null,
   "metadata": {},
   "outputs": [],
   "source": [
    "class Potion:\n",
    "    def __init__(self, volume):\n",
    "        self.volume = volume\n",
    "    \n",
    "    def __add__(self, other):\n",
    "        new_volume = self.volume + other.volume\n",
    "        return Potion(new_volume)\n",
    "\n",
    "    def __repr__(self): # The representation magic method can only return a string.\n",
    "        return f'A potion with {self.volume}mL left'\n",
    "\n",
    "felix_felicis = Potion(250)\n",
    "veritaserum = Potion(100)\n",
    "\n",
    "new_potion = felix_felicis + veritaserum\n",
    "print(new_potion)"
   ]
  }
 ],
 "metadata": {
  "kernelspec": {
   "display_name": "base",
   "language": "python",
   "name": "python3"
  },
  "language_info": {
   "codemirror_mode": {
    "name": "ipython",
    "version": 3
   },
   "file_extension": ".py",
   "mimetype": "text/x-python",
   "name": "python",
   "nbconvert_exporter": "python",
   "pygments_lexer": "ipython3",
   "version": "3.9.2"
  },
  "vscode": {
   "interpreter": {
    "hash": "a2592652612463181e69ac003232387e3e9a99279aa6b168e76f5df16d5110f4"
   }
  }
 },
 "nbformat": 4,
 "nbformat_minor": 4
}
