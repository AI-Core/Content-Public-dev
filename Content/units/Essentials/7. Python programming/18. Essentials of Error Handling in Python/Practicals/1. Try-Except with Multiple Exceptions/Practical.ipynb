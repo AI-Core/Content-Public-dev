{
 "cells": [
  {
   "cell_type": "markdown",
   "id": "4d0507e4",
   "metadata": {},
   "source": [
    "# Try-Except with Multiple Exceptions"
   ]
  },
  {
   "attachments": {},
   "cell_type": "markdown",
   "id": "5aa81027",
   "metadata": {},
   "source": [
    "After running the first cell, you will find a new file called `try_except_multiple.py`. Inside it, you have a try block that asks the user for two numbers, then casts them to integers and divides them.\n",
    "\n",
    "In this practical, you will add multiple except blocks to handle the following exceptions:\n",
    "\n",
    "  * `ValueError` - if the user enters a non-numeric value\n",
    "  * `ZeroDivisionError` - if the user enters 0 as the second number\n",
    "  * `KeyboardInterrupt` - if the user presses `Ctrl+C` to exit the program\n",
    "\n",
    "<details>\n",
    "<summary>Click here to see how to open and run a Python file on Google Colab</summary>\n",
    "<p>\n",
    "\n",
    "  1. Click on the folder icon on the left side of the screen.\n",
    "  <p align=center><img src=\"images/open_1.png\" width=500></p>\n",
    "  2. Double click on the file you want to open.\n",
    "  <p align=center><img src=\"images/open_2.png\" width=500></p>\n",
    "  3. You can modify the code in the opened file that is displayed in the right pane.\n",
    "  <p align=center><img src=\"images/open_3.png\" width=500></p>\n",
    "  4. To run the code, you can simply run a cell with the following code:\n",
    "\n",
    "    !python <name_of_your_file>.py\n",
    "  \n",
    "  <p align=center><img src=\"images/open_4.png\" width=500></p>\n",
    "</p>\n",
    "</details>\n",
    "\n",
    "#### 1. "
   ]
  },
  {
   "cell_type": "markdown",
   "id": "75a64522",
   "metadata": {},
   "source": [
    "#### 2. In `try_except_multiple.py`, you already have a try-except block that asks the user for two numbers, then casts them to integers and divides them"
   ]
  },
  {
   "cell_type": "code",
   "execution_count": null,
   "id": "659cc997",
   "metadata": {},
   "outputs": [],
   "source": []
  },
  {
   "cell_type": "markdown",
   "id": "995b2e51",
   "metadata": {},
   "source": [
    "#### 3. If the user enters a string, the code will raise a `ValueError`. Add an except block that catches this error and prints \"You must enter a number\"."
   ]
  },
  {
   "cell_type": "code",
   "execution_count": null,
   "id": "055dff48",
   "metadata": {},
   "outputs": [],
   "source": []
  },
  {
   "cell_type": "markdown",
   "id": "a0627434",
   "metadata": {},
   "source": [
    "#### 4. If the user enters a zero for the second number, the code will raise a `ZeroDivisionError`. Add an except block that catches this error and prints \"You cannot divide by zero\"."
   ]
  },
  {
   "cell_type": "code",
   "execution_count": null,
   "id": "0cccc52a",
   "metadata": {},
   "outputs": [],
   "source": []
  },
  {
   "cell_type": "markdown",
   "id": "7229b6dd",
   "metadata": {},
   "source": [
    "#### 5. If, when asked for a number, the user presses Ctrl+C (or Cmd+C on a Mac), the code will raise a `KeyboardInterrupt`. Add an except block that catches this error and prints \"You pressed Ctrl+C\"."
   ]
  },
  {
   "cell_type": "code",
   "execution_count": null,
   "id": "743df947",
   "metadata": {},
   "outputs": [],
   "source": []
  },
  {
   "cell_type": "markdown",
   "id": "174df429",
   "metadata": {},
   "source": [
    "#### 6. Run `try_except_multiple.py` and try entering different inputs. You should see the correct error message printed for each error"
   ]
  },
  {
   "cell_type": "code",
   "execution_count": null,
   "id": "09d50971",
   "metadata": {},
   "outputs": [],
   "source": []
  },
  {
   "cell_type": "markdown",
   "id": "9e2b82f4",
   "metadata": {},
   "source": [
    "#### 7. Add an `else` block after the `try-except` block. Inside it print \"No errors were raised\", and then print the result of the division."
   ]
  },
  {
   "cell_type": "code",
   "execution_count": null,
   "id": "e807dd91",
   "metadata": {},
   "outputs": [],
   "source": []
  },
  {
   "cell_type": "markdown",
   "id": "557e0b3b",
   "metadata": {},
   "source": [
    "#### 8. Run `try_except_multiple.py` and try entering different inputs. You should see the correct error message printed for each error, and \"No errors were raised\" printed if no errors are raised."
   ]
  },
  {
   "cell_type": "code",
   "execution_count": null,
   "id": "23889a0f",
   "metadata": {},
   "outputs": [],
   "source": []
  },
  {
   "cell_type": "markdown",
   "id": "e27a4441",
   "metadata": {},
   "source": [
    "#### 9. Add a while loop to iteratively ask the user for two numbers until they enter a valid input"
   ]
  },
  {
   "cell_type": "code",
   "execution_count": null,
   "id": "67005992",
   "metadata": {},
   "outputs": [],
   "source": []
  }
 ],
 "metadata": {
  "kernelspec": {
   "display_name": "content-projects_new",
   "language": "python",
   "name": "python3"
  },
  "language_info": {
   "codemirror_mode": {
    "name": "ipython",
    "version": 3
   },
   "file_extension": ".py",
   "mimetype": "text/x-python",
   "name": "python",
   "nbconvert_exporter": "python",
   "pygments_lexer": "ipython3",
   "version": "3.10.8"
  },
  "vscode": {
   "interpreter": {
    "hash": "4b961f8166aad6ccb4cf65d0f9c742ef9c6c23ffe83ad932438cd83ed96aebaf"
   }
  }
 },
 "nbformat": 4,
 "nbformat_minor": 5
}
