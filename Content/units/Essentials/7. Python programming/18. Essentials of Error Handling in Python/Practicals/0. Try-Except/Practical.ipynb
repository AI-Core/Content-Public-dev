{
 "cells": [
  {
   "cell_type": "markdown",
   "id": "58dd1f65",
   "metadata": {},
   "source": [
    "# Try-Except"
   ]
  },
  {
   "cell_type": "markdown",
   "id": "110a6c43",
   "metadata": {},
   "source": [
    "#### Create a script to handle expected errors raised when a file is not found"
   ]
  },
  {
   "cell_type": "code",
   "execution_count": null,
   "id": "be75275d",
   "metadata": {},
   "outputs": [],
   "source": []
  },
  {
   "cell_type": "markdown",
   "id": "7887f6e7",
   "metadata": {},
   "source": [
    "#### 1. Create a new file called `try_except.py`"
   ]
  },
  {
   "cell_type": "code",
   "execution_count": null,
   "id": "55746911",
   "metadata": {},
   "outputs": [],
   "source": []
  },
  {
   "cell_type": "markdown",
   "id": "8554e7db",
   "metadata": {},
   "source": [
    "#### 2. In `try_except.py`, create a try-except block that tries to open a file called `test.txt`"
   ]
  },
  {
   "cell_type": "code",
   "execution_count": null,
   "id": "dad0f918",
   "metadata": {},
   "outputs": [],
   "source": []
  },
  {
   "cell_type": "markdown",
   "id": "55abcbe0",
   "metadata": {},
   "source": [
    "#### 3. In the `try` block, print the contents of the file. Use a context manager to open the file."
   ]
  },
  {
   "cell_type": "code",
   "execution_count": null,
   "id": "ef1b47d7",
   "metadata": {},
   "outputs": [],
   "source": []
  },
  {
   "cell_type": "markdown",
   "id": "1644b45c",
   "metadata": {},
   "source": [
    "#### 4. In the `except` block, print \"File not found\" and then create a file called `test.txt` and write \"Hello, I am a file!\" to it. Use a context manager to do this."
   ]
  },
  {
   "cell_type": "code",
   "execution_count": null,
   "id": "c570a951",
   "metadata": {},
   "outputs": [],
   "source": []
  },
  {
   "cell_type": "markdown",
   "id": "5262e3e4",
   "metadata": {},
   "source": [
    "#### 5. Run `try_except.py` once. You should see the message \"File not found\" and then a file called `test.txt` in your directory."
   ]
  },
  {
   "cell_type": "code",
   "execution_count": null,
   "id": "a83e5c6f",
   "metadata": {},
   "outputs": [],
   "source": []
  },
  {
   "cell_type": "markdown",
   "id": "bf84c27f",
   "metadata": {},
   "source": [
    "#### 6. Run the file again, and you should see the contents of the file printed to the console"
   ]
  },
  {
   "cell_type": "code",
   "execution_count": null,
   "id": "23865e62",
   "metadata": {},
   "outputs": [],
   "source": []
  },
  {
   "cell_type": "markdown",
   "id": "a9e3eb7e",
   "metadata": {},
   "source": [
    "#### 7. Add a `print` statement to the `except` block that prints the exception that is raised"
   ]
  },
  {
   "cell_type": "code",
   "execution_count": null,
   "id": "e8d9d937",
   "metadata": {},
   "outputs": [],
   "source": []
  },
  {
   "cell_type": "markdown",
   "id": "fa05214e",
   "metadata": {},
   "source": [
    "#### 8. Before running `try_except.py`, if you have a file called `test.txt` in your directory, delete it"
   ]
  },
  {
   "cell_type": "code",
   "execution_count": null,
   "id": "7d854522",
   "metadata": {},
   "outputs": [],
   "source": []
  },
  {
   "cell_type": "markdown",
   "id": "23faaf92",
   "metadata": {},
   "source": [
    "#### 9. Then run `try_except.py`. You should see the message corresponding to the error that is raised."
   ]
  },
  {
   "cell_type": "code",
   "execution_count": null,
   "id": "5449cec3",
   "metadata": {},
   "outputs": [],
   "source": []
  }
 ],
 "metadata": {},
 "nbformat": 4,
 "nbformat_minor": 5
}
