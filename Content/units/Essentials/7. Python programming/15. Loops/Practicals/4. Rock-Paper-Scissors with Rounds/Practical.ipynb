{
 "cells": [
  {
   "cell_type": "markdown",
   "id": "ae88abd9",
   "metadata": {},
   "source": [
    "# Rock-Paper-Scissors with Rounds"
   ]
  },
  {
   "attachments": {},
   "cell_type": "markdown",
   "id": "e320f0c6",
   "metadata": {},
   "source": [
    "---"
   ]
  },
  {
   "attachments": {},
   "cell_type": "markdown",
   "id": "f6ec9fb2",
   "metadata": {},
   "source": [
    "Open the file called `simple_rps.py` and check its content. \n",
    "\n",
    "To open a file on Google Colab, you can check the left hand side of the screen. You will see a list of files. Click on the file you want to open.\n",
    "\n",
    "<p align=center> <img src=\"images/sample.png\" alt=\"Example\" style=\"width: 800px;\"/> </p>\n",
    "\n",
    "After double clicking on the file, you will see the content of the file.\n",
    "\n",
    "<p align=center> <img src=\"images/sample_2.png\" alt=\"Example\" style=\"width: 800px;\"/> </p>"
   ]
  },
  {
   "attachments": {},
   "cell_type": "markdown",
   "id": "193cc33c",
   "metadata": {},
   "source": [
    "You can run the file by running the next cell"
   ]
  },
  {
   "cell_type": "code",
   "execution_count": null,
   "id": "0266a924",
   "metadata": {},
   "outputs": [],
   "source": [
    "!python simple_rps.py"
   ]
  },
  {
   "attachments": {},
   "cell_type": "markdown",
   "id": "a70cc4b4",
   "metadata": {},
   "source": [
    "Use the same command everytime you want to run the file."
   ]
  },
  {
   "attachments": {},
   "cell_type": "markdown",
   "id": "f8165f88",
   "metadata": {},
   "source": [
    "---"
   ]
  },
  {
   "attachments": {},
   "cell_type": "markdown",
   "id": "d63419df",
   "metadata": {},
   "source": [
    "The program asks two inputs from the user: `player1` and `player2`. The inputs can be either 'rock', 'paper' or 'scissors'.\n",
    "\n",
    "#### 1. Code the logic of the game to see who wins. Print the result like: 'Player 1 wins' or 'Player 2 wins'"
   ]
  },
  {
   "cell_type": "code",
   "execution_count": null,
   "id": "f1e5dcaf",
   "metadata": {},
   "outputs": [],
   "source": []
  },
  {
   "cell_type": "markdown",
   "id": "17f838b8",
   "metadata": {},
   "source": [
    "#### 2. If one of the inputs is not \"rock\", \"paper\" or \"scissors\", print \"Invalid input\""
   ]
  },
  {
   "cell_type": "code",
   "execution_count": null,
   "id": "beea4602",
   "metadata": {},
   "outputs": [],
   "source": []
  },
  {
   "cell_type": "markdown",
   "id": "008f6bac",
   "metadata": {},
   "source": [
    "#### 3. If both inputs are the same, print \"It's a tie\""
   ]
  },
  {
   "cell_type": "code",
   "execution_count": null,
   "id": "c18cd5c9",
   "metadata": {},
   "outputs": [],
   "source": []
  },
  {
   "cell_type": "markdown",
   "id": "4c3bc148",
   "metadata": {},
   "source": [
    "#### 4. Create two new variables, `num_player_one_wins` and `num_player_two_wins`, and use them to keep track of the number of wins each player has"
   ]
  },
  {
   "cell_type": "code",
   "execution_count": null,
   "id": "17ff8921",
   "metadata": {},
   "outputs": [],
   "source": []
  },
  {
   "cell_type": "markdown",
   "id": "4bf41d9a",
   "metadata": {},
   "source": [
    "#### 5. Put the code inside a `while` loop that runs until one of the players has won three rounds"
   ]
  },
  {
   "cell_type": "code",
   "execution_count": null,
   "id": "fe589e40",
   "metadata": {},
   "outputs": [],
   "source": []
  }
 ],
 "metadata": {
  "kernelspec": {
   "display_name": "content-projects_new",
   "language": "python",
   "name": "python3"
  },
  "language_info": {
   "codemirror_mode": {
    "name": "ipython",
    "version": 3
   },
   "file_extension": ".py",
   "mimetype": "text/x-python",
   "name": "python",
   "nbconvert_exporter": "python",
   "pygments_lexer": "ipython3",
   "version": "3.10.8"
  },
  "vscode": {
   "interpreter": {
    "hash": "4b961f8166aad6ccb4cf65d0f9c742ef9c6c23ffe83ad932438cd83ed96aebaf"
   }
  }
 },
 "nbformat": 4,
 "nbformat_minor": 5
}
