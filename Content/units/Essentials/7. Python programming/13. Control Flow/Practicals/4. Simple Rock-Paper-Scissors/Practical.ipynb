{
 "cells": [
  {
   "cell_type": "markdown",
   "id": "b7006b7b",
   "metadata": {},
   "source": [
    "# Simple Rock-Paper-Scissors"
   ]
  },
  {
   "attachments": {},
   "cell_type": "markdown",
   "id": "3e8892e0",
   "metadata": {},
   "source": [
    "Open the file called `simple_rps.py` and check its content. \n",
    "\n",
    "To open a file on Google Colab, you can check the left hand side of the screen. You will see a list of files. Click on the file you want to open.\n",
    "\n",
    "<p align=center> <img src=\"images/sample.png\" alt=\"Example\" style=\"width: 800px;\"/> </p>\n",
    "\n",
    "After double clicking on the file, you will see the content of the file.\n",
    "\n",
    "<p align=center> <img src=\"images/sample_2.png\" alt=\"Example\" style=\"width: 800px;\"/> </p>"
   ]
  },
  {
   "attachments": {},
   "cell_type": "markdown",
   "id": "c98cf7d3",
   "metadata": {},
   "source": [
    "You can run the file by running the next cell"
   ]
  },
  {
   "cell_type": "code",
   "execution_count": null,
   "id": "d937fd93",
   "metadata": {},
   "outputs": [],
   "source": [
    "!python simple_rps.py"
   ]
  },
  {
   "attachments": {},
   "cell_type": "markdown",
   "id": "17737207",
   "metadata": {},
   "source": [
    "The program asks two inputs from the user: `player1` and `player2`. The inputs can be either 'rock', 'paper' or 'scissors'.\n",
    "\n",
    "#### 1. Code the logic of the game to see who wins. Print the result like: 'Player 1 wins' or 'Player 2 wins'"
   ]
  },
  {
   "cell_type": "code",
   "execution_count": null,
   "id": "61e7dd3d",
   "metadata": {},
   "outputs": [],
   "source": []
  },
  {
   "cell_type": "markdown",
   "id": "d5b2fa0d",
   "metadata": {},
   "source": [
    "#### 2. If one of the inputs is not 'rock', 'paper' or 'scissors', print 'Invalid input'"
   ]
  },
  {
   "cell_type": "code",
   "execution_count": null,
   "id": "1110ee8d",
   "metadata": {},
   "outputs": [],
   "source": []
  },
  {
   "cell_type": "markdown",
   "id": "aa4e1c13",
   "metadata": {},
   "source": [
    "#### 3. If both inputs are the same, print \"It's a tie\""
   ]
  },
  {
   "cell_type": "code",
   "execution_count": null,
   "id": "2665ee84",
   "metadata": {},
   "outputs": [],
   "source": []
  },
  {
   "attachments": {},
   "cell_type": "markdown",
   "id": "50a2ca97",
   "metadata": {},
   "source": [
    "#### 4. Test your code with the following inputs:\n",
    "- Player 1: scissors, Player 2: paper (This should print 'Player 1 wins')\n",
    "- Player 1: scissors, Player 2: rock (This should print 'Player 2 wins')\n",
    "- Player 1: paper, Player 2: paper (This should print 'It's a tie')\n",
    "- Player 1: rock, Player 2: lizzard (This should print 'Invalid input')"
   ]
  },
  {
   "cell_type": "code",
   "execution_count": null,
   "id": "f9960b58",
   "metadata": {},
   "outputs": [],
   "source": []
  }
 ],
 "metadata": {
  "kernelspec": {
   "display_name": "content-projects_new",
   "language": "python",
   "name": "python3"
  },
  "language_info": {
   "codemirror_mode": {
    "name": "ipython",
    "version": 3
   },
   "file_extension": ".py",
   "mimetype": "text/x-python",
   "name": "python",
   "nbconvert_exporter": "python",
   "pygments_lexer": "ipython3",
   "version": "3.10.8"
  },
  "vscode": {
   "interpreter": {
    "hash": "4b961f8166aad6ccb4cf65d0f9c742ef9c6c23ffe83ad932438cd83ed96aebaf"
   }
  }
 },
 "nbformat": 4,
 "nbformat_minor": 5
}
