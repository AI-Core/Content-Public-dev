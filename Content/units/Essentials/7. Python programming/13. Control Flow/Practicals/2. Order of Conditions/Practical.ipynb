{
 "cells": [
  {
   "cell_type": "markdown",
   "id": "89107eb1",
   "metadata": {},
   "source": [
    "# Order of Conditions"
   ]
  },
  {
   "attachments": {},
   "cell_type": "markdown",
   "id": "0285b284",
   "metadata": {},
   "source": [
    "Open the file called order_conditions.py and check its content. \n",
    "\n",
    "To open a file on Google Colab, you can check the left hand side of the screen. You will see a list of files. Click on the file you want to open.\n",
    "\n",
    "<p align=center> <img src=\"images/sample.png\" alt=\"Example\" style=\"width: 800px;\"/> </p>\n",
    "\n",
    "\n",
    "After double clicking on the file, you will see the content of the file.\n",
    "\n",
    "<p align=center> <img src=\"images/sample_2.png\" alt=\"Example\" style=\"width: 800px;\"/> </p>\n",
    "\n"
   ]
  },
  {
   "attachments": {},
   "cell_type": "markdown",
   "id": "9534b877",
   "metadata": {},
   "source": [
    "After downloading the file (by running the first cell), you can run the file in the notebook by running the following cell"
   ]
  },
  {
   "cell_type": "code",
   "execution_count": null,
   "id": "6860b758",
   "metadata": {},
   "outputs": [],
   "source": [
    "!python order_conditions.py"
   ]
  },
  {
   "attachments": {},
   "cell_type": "markdown",
   "id": "aed02924",
   "metadata": {},
   "source": [
    "#### 1. Run the code and enter 5 as the input. What is the output?"
   ]
  },
  {
   "cell_type": "code",
   "execution_count": null,
   "id": "a6beec03",
   "metadata": {},
   "outputs": [],
   "source": []
  },
  {
   "cell_type": "markdown",
   "id": "158bbea3",
   "metadata": {},
   "source": [
    "#### 2. Run the code again and enter 20 as the input. What is the output?"
   ]
  },
  {
   "cell_type": "code",
   "execution_count": null,
   "id": "059d1407",
   "metadata": {},
   "outputs": [],
   "source": []
  },
  {
   "attachments": {},
   "cell_type": "markdown",
   "id": "e6b68a9f",
   "metadata": {},
   "source": [
    "#### 3. Run the code again and enter 50 as the input. What is the output?\n",
    "\n",
    "Notice that for all three inputs, you received the same output, why is this?"
   ]
  },
  {
   "cell_type": "code",
   "execution_count": null,
   "id": "99cb9c33",
   "metadata": {},
   "outputs": [],
   "source": []
  },
  {
   "attachments": {},
   "cell_type": "markdown",
   "id": "d9377a39",
   "metadata": {},
   "source": [
    "#### 4. Change the order of the conditions so that the correct output is printed for each input.\n",
    "\n",
    "Remember that you can change the `order_conditions.py` file by clicking on the file name on the left hand side of the screen. You can then edit the file and save it."
   ]
  },
  {
   "cell_type": "code",
   "execution_count": null,
   "id": "732f6638",
   "metadata": {},
   "outputs": [],
   "source": []
  }
 ],
 "metadata": {
  "kernelspec": {
   "display_name": "content-projects_new",
   "language": "python",
   "name": "python3"
  },
  "language_info": {
   "codemirror_mode": {
    "name": "ipython",
    "version": 3
   },
   "file_extension": ".py",
   "mimetype": "text/x-python",
   "name": "python",
   "nbconvert_exporter": "python",
   "pygments_lexer": "ipython3",
   "version": "3.10.8"
  },
  "vscode": {
   "interpreter": {
    "hash": "4b961f8166aad6ccb4cf65d0f9c742ef9c6c23ffe83ad932438cd83ed96aebaf"
   }
  }
 },
 "nbformat": 4,
 "nbformat_minor": 5
}
