{
 "cells": [
  {
   "attachments": {},
   "cell_type": "markdown",
   "id": "9e4f2082",
   "metadata": {},
   "source": [
    "# Boolean Basics\n",
    "\n",
    "A Boolean variable is one that can take the value of `True` or `False`. In programming, you often want to evaluate whether a condition is true or false. You can evaluate any `Python` expression, and when you do so, the result that is returned will be of the Boolean type. \n",
    "\n",
    "Note that the word Boolean is also used to describe Boolean operators such as `not`, `and` and `or`. We will cover these in a later practical.\n",
    "\n",
    "For example, run the code block below to print the result of evaluating the expression `8 > 5`"
   ]
  },
  {
   "cell_type": "code",
   "execution_count": 14,
   "id": "139b9e36",
   "metadata": {},
   "outputs": [
    {
     "name": "stdout",
     "output_type": "stream",
     "text": [
      "True\n"
     ]
    }
   ],
   "source": [
    "print( 8 > 5)"
   ]
  },
  {
   "attachments": {},
   "cell_type": "markdown",
   "id": "0bd69e5c",
   "metadata": {},
   "source": [
    "In the cell below, come up with a python expression that will evaluate to `False`, and enclose it in a print statement. Then run the cell and check if your expression correctly evaluates to a `False` Boolean."
   ]
  },
  {
   "cell_type": "code",
   "execution_count": 15,
   "id": "950b9796",
   "metadata": {},
   "outputs": [
    {
     "name": "stdout",
     "output_type": "stream",
     "text": [
      "False\n"
     ]
    }
   ],
   "source": [
    "print (5 > 9) # TODO Print the evaluation of a False expression."
   ]
  },
  {
   "attachments": {},
   "cell_type": "markdown",
   "id": "39abc958",
   "metadata": {},
   "source": [
    "In Python, we can evaluate variables, which is a bit like evaulating whether or not they exist. We do this with the `bool()` function.\n",
    "\n",
    "In the code block below, perform the following steps, and check the result at each step by pressing the 'run' button:\n",
    "- Create a variable called `x` and assign it to the value `1`.\n",
    "- Evaluate the variable using `bool()`.\n",
    "- Now change the value to `0` and evaluate it again.\n",
    "- Now change the value to `None` and evaluate it again.\n"
   ]
  },
  {
   "cell_type": "code",
   "execution_count": null,
   "id": "74986f7f",
   "metadata": {},
   "outputs": [],
   "source": [
    "x = 1 # TODO - Create a variable `x` and assign it the value `1`.\n",
    "bool(x) # TODO - Evaluate 'x'\n",
    "x = 0 # TODO - Change the value of `x` to `0`\n",
    "bool(x) # TODO - Evaluate `x`\n",
    "x = None # TODO - Change the value of `x` to `None`\n",
    "bool(x) # TODO - Evaluate `x`\n",
    "\n",
    "\n"
   ]
  },
  {
   "attachments": {},
   "cell_type": "markdown",
   "id": "a9100918",
   "metadata": {},
   "source": [
    "- Call `bool()` on `x` again, and assign it to a variable `my_boolean`.\n",
    "- Print  the type of `my_boolean`"
   ]
  },
  {
   "cell_type": "code",
   "execution_count": null,
   "id": "9ea98bc7",
   "metadata": {},
   "outputs": [],
   "source": [
    "my_boolean = bool(x) # TODO - Call `bool()` on `x` again, and assign it to a variable `my_boolean`.\n",
    "type(my_boolean) # TODO - Print the type of `my_boolean`"
   ]
  },
  {
   "attachments": {},
   "cell_type": "markdown",
   "id": "52ef52e9",
   "metadata": {},
   "source": [
    "To create a Boolean variable, we can assign the value `True` or `False` to it. It must always be capitalised. \n",
    "\n",
    "- Try creating a variable called `new_boolean` and assigning it the value `true`. What happens?\n",
    "- Now assign it a value that will create a valid Boolean."
   ]
  },
  {
   "cell_type": "code",
   "execution_count": null,
   "id": "45de9b80",
   "metadata": {},
   "outputs": [],
   "source": [
    "# TODO - Create a variable called `new_boolean` and assign a value of `true` to it.\n",
    "new_boolean=True # TODO - Now create a valid Boolean.\n",
    "print(new_boolean) # KEEP"
   ]
  },
  {
   "attachments": {},
   "cell_type": "markdown",
   "id": "442ac0e4",
   "metadata": {},
   "source": [
    "We can also evaluate strings in a similar way. Strings will evaluate to `True` unless they are empty:"
   ]
  },
  {
   "cell_type": "code",
   "execution_count": null,
   "id": "2246c114",
   "metadata": {},
   "outputs": [],
   "source": [
    "x = \"\" \n",
    "bool(x) # TODO - Assign `x` to an empty string and cast it to a Boolean\n",
    "\n"
   ]
  }
 ],
 "metadata": {
  "kernelspec": {
   "display_name": "huggingface1",
   "language": "python",
   "name": "python3"
  },
  "language_info": {
   "codemirror_mode": {
    "name": "ipython",
    "version": 3
   },
   "file_extension": ".py",
   "mimetype": "text/x-python",
   "name": "python",
   "nbconvert_exporter": "python",
   "pygments_lexer": "ipython3",
   "version": "3.10.8"
  },
  "vscode": {
   "interpreter": {
    "hash": "e36d4b688d7e3685ae8ad6703c0e99019531dd9f05b6e8f8c82292a1f759bcdc"
   }
  }
 },
 "nbformat": 4,
 "nbformat_minor": 5
}
