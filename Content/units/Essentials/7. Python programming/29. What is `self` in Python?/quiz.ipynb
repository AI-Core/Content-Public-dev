{
 "cells": [
  {
   "attachments": {},
   "cell_type": "markdown",
   "metadata": {},
   "source": [
    "# What is `self` in Python?"
   ]
  },
  {
   "attachments": {},
   "cell_type": "markdown",
   "metadata": {},
   "source": [
    "## Where are you likely to see the word `self` in Python? Select all that apply.\n",
    "\n",
    "- When defining Python attributes ***\n",
    "- As the first argument to a method of a class ***\n",
    "- As the first argument to a Python function\n",
    "- When calling a Python class\n",
    "- It's usually passed to a function as the first argument\n",
    "- When calling a class method inside another class method ***\n"
   ]
  },
  {
   "attachments": {},
   "cell_type": "markdown",
   "metadata": {},
   "source": [
    "## Which of the following statements are true about the `self` keyword? Select all that apply.\n",
    "\n",
    "- `self` represents a particular instance of a Python class *** \n",
    "- `self` is used to differentiate between two instance of the same Python class ***\n",
    "- The use of `self` isn't always required when defining a class method\n",
    "- When calling a class method you always need to pass the name of the class instance as an argument in place of `self` \n",
    "- `self` is just an optional argument which helps differentiate between class instances"
   ]
  }
 ],
 "metadata": {
  "kernelspec": {
   "display_name": "base",
   "language": "python",
   "name": "python3"
  },
  "language_info": {
   "name": "python",
   "version": "3.10.9"
  },
  "orig_nbformat": 4,
  "vscode": {
   "interpreter": {
    "hash": "a2592652612463181e69ac003232387e3e9a99279aa6b168e76f5df16d5110f4"
   }
  }
 },
 "nbformat": 4,
 "nbformat_minor": 2
}
