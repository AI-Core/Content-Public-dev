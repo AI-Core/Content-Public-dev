{
 "cells": [
  {
   "attachments": {},
   "cell_type": "markdown",
   "metadata": {},
   "source": [
    "# Imports and Package managers"
   ]
  },
  {
   "attachments": {},
   "cell_type": "markdown",
   "metadata": {},
   "source": [
    "## What is the purpose of the `as` keyword in an import statement?\n",
    "- It renames a module or function to a different alias ***\n",
    "- It imports a module or function with a specific name\n",
    "- It creates a new object in memory\n"
   ]
  },
  {
   "attachments": {},
   "cell_type": "markdown",
   "metadata": {},
   "source": [
    "## In Python, what does the term **module** refer to?\n",
    "\n",
    "- Any Python file that contains definitions and statements that we might want to import into another script. ***\n",
    "- A large group of functions, spread across multiple files.\n",
    "- Any block of Python code.\n",
    "- An umbrella term for any grouping of code, such as functions or classes."
   ]
  },
  {
   "attachments": {},
   "cell_type": "markdown",
   "metadata": {},
   "source": [
    "## You have three Python modules, labelled A-C. Which of the following situations will **not** create a circular import error?\n",
    "\n",
    "\n",
    "\n",
    "- Attempting to import Module A into Module B, and Module B into Module C\n",
    "- Attempting to import Module A into Module B, and Module B into Module A\n",
    "- Attempting to import Modules C and B into Module A, and Module A into Module C ***\n",
    "- Attempting to import Module A into Module A\n"
   ]
  },
  {
   "attachments": {},
   "cell_type": "markdown",
   "metadata": {},
   "source": [
    "## When importing a module in Python:\n",
    "\n",
    "- All of the code in the module will be imported.\n",
    "- Only the function and class definitions will be imported\n",
    "- All of the code in the module will be imported, except that which is contained in an `if __name__ == \"__main__\":` statement  ***\n",
    "- Only the code in the module that is contained in the `if __name__ == \"__main__\":` statement will be run"
   ]
  },
  {
   "attachments": {},
   "cell_type": "markdown",
   "metadata": {},
   "source": [
    "## If you are importing module_1 into script_1, and they both contain a variable called `my_variable` :\n",
    "\n",
    "- The variable in script_1 will be overwritten by the one in the module\n",
    "- There will be no issue, as the imported variable will be accessed as `module_1.my_variable` ***\n",
    "- The variable in module_1 will not be imported\n",
    "- The script will throw an `ImportError`"
   ]
  },
  {
   "attachments": {},
   "cell_type": "markdown",
   "metadata": {},
   "source": [
    "## If you just import one part of the module, the rest of the code in the module will still run, except for anything in an `if __name__ == \"__main__\":` statement:\n",
    "\n",
    " - True ***\n",
    " - False"
   ]
  },
  {
   "attachments": {},
   "cell_type": "markdown",
   "metadata": {},
   "source": [
    "## Which of the following statements are true, regarding the code in the image below?\n",
    "\n",
    "image: ![](quiz_images/example_module.png)\n",
    "\n",
    "\n",
    "- If `example_module2` is run directly from the terminal, the first and third statements will print. ***\n",
    "- If `example_module2` is run directly from the terminal, all three statements will print.\n",
    "- If `example_module2` is imported into another python file, the first and third statements will print.\n",
    "- If `example_module2` is imported into another python file, only the third statement will print.\n"
   ]
  },
  {
   "attachments": {},
   "cell_type": "markdown",
   "metadata": {},
   "source": [
    "## What is the function of `__main__.py` ?\n",
    "\n",
    "- If a folder contains a file called `__main__.py`, the code inside it will execute if the user attempts to run the folder ***\n",
    "- Unless a file has this filename, any code in an `if __name__ == \"__main__\":` statement  contained within it will not run\n",
    "- It contains all of Python's core libraries\n",
    "- It contains temporary program states that are utilised by the libraries that you import\n",
    "- It is a python keyword, shorthand for \"the file that is currently being run\""
   ]
  },
  {
   "attachments": {},
   "cell_type": "markdown",
   "metadata": {},
   "source": [
    "## Attempting to import a Python module into itself will create a circular import condition\n",
    "\n",
    "- True ***\n",
    "- False"
   ]
  }
 ],
 "metadata": {
  "language_info": {
   "name": "python"
  },
  "orig_nbformat": 4
 },
 "nbformat": 4,
 "nbformat_minor": 2
}
