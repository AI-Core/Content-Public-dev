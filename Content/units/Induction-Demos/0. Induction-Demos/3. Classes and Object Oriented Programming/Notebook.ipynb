{
 "cells": [
  {
   "attachments": {},
   "cell_type": "markdown",
   "metadata": {},
   "source": [
    "# Classes and Object Oriented Programming"
   ]
  },
  {
   "attachments": {},
   "cell_type": "markdown",
   "metadata": {},
   "source": [
    "## What is Object Oriented Programming?\n",
    "\n",
    "Object-oriented programming (OOP) is a programming paradigm where everything revolves around objects. Sounds simple enough, but what is an object?\n",
    "\n",
    "In the wider world, an object is a thing. A cup is an object, but so is an email. For our purposes in programming, an object is just any thing that can be said to have properites, such as colour, size, or shape, or can do particular things because it is that object. Your computer is an object. It has properties like amount of RAM, and also can do things that computers can do that other objects can't, like run python!\n",
    "\n",
    "This is all very vague though. How does it apply to Python programming? \n",
    "\n",
    "### Objects in Python\n",
    "\n",
    "Many of the things you have encountered in Python already are objects. Variable types are objects, for example. A given string can have a length, which is a property of that string, AKA an __attribute__ in OOP language. It also has methods, like `.index()`, which is a thing that strings can do. \n",
    "\n",
    "### Classes and Instances\n",
    "\n",
    "You might have noticed that the definiton of object that we have so far is mixing up two concepts - there's the general class of object, like __cat__ , and then there's the specific cat that has wandered in through your catflap and is currently urinating on your rug. In OOP former is a __class__, and the latter is an __instance__ of that class"
   ]
  },
  {
   "cell_type": "code",
   "execution_count": null,
   "metadata": {
    "vscode": {
     "languageId": "plaintext"
    }
   },
   "outputs": [],
   "source": []
  },
  {
   "cell_type": "markdown",
   "metadata": {},
   "source": []
  }
 ],
 "metadata": {
  "language_info": {
   "name": "python"
  }
 },
 "nbformat": 4,
 "nbformat_minor": 2
}
