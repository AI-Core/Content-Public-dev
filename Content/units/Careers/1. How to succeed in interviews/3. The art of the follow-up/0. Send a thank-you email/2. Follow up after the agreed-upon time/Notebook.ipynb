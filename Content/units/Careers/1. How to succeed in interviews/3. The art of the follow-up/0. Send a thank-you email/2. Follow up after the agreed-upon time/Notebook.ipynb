{
 "cells": [
  {
   "cell_type": "markdown",
   "metadata": {},
   "source": [
    "If the interviewer said they would get back to you in a week, make sure you wait until the end of the week to follow up. You can send a polite email to check on the status of your application and reiterate your interest in the position."
   ]
  }
 ],
 "metadata": {
  "kernelspec": {
   "display_name": "base",
   "language": "python",
   "name": "python3"
  },
  "language_info": {
   "name": "python",
   "version": "3.10.9"
  },
  "vscode": {
   "interpreter": {
    "hash": "a2592652612463181e69ac003232387e3e9a99279aa6b168e76f5df16d5110f4"
   }
  }
 },
 "nbformat": 4,
 "nbformat_minor": 2
}
