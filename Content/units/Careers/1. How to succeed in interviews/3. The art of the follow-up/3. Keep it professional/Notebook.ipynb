{
 "cells": [
  {
   "cell_type": "markdown",
   "metadata": {},
   "source": [
    "When following up, make sure your tone is professional and polite. Avoid being pushy or demanding, and always thank the interviewer for their time.\n",
    "\n",
    "Remember, following up after a job interview shows your interest in the position and helps you stand out from other candidates. However, be patient and don't follow up too frequently or aggressively, as this may turn off the employer.\n"
   ]
  }
 ],
 "metadata": {
  "kernelspec": {
   "display_name": "base",
   "language": "python",
   "name": "python3"
  },
  "language_info": {
   "name": "python",
   "version": "3.10.9"
  },
  "vscode": {
   "interpreter": {
    "hash": "a2592652612463181e69ac003232387e3e9a99279aa6b168e76f5df16d5110f4"
   }
  }
 },
 "nbformat": 4,
 "nbformat_minor": 2
}
