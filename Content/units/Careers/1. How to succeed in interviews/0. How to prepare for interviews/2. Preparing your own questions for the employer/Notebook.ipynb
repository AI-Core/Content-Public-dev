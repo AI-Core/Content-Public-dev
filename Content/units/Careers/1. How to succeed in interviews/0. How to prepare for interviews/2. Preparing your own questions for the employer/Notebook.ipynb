{
 "cells": [
  {
   "attachments": {},
   "cell_type": "markdown",
   "metadata": {},
   "source": [
    "Asking questions during a job interview is an important way to demonstrate your interest in the position, learn more about the company and the job, and showcase your skills and experience. It can help you make a positive impression on the interviewer and increase your chances of landing the job.\n",
    "\n",
    "Here’s a list of questions you can ask potential employers, use your own judgement as to which questions best fit. Your conversation should always be natural. There’s no particular order to ask these questions, and by no means should you ask all of them.\n",
    "\n",
    "- Can you describe a typical project or product lifecycle at your company?\n",
    "- Can you tell me about your company culture and how it supports the development team? \n",
    "- How do you measure success for your engineering teams?\n",
    "- What makes your best employee stand out?\n",
    "- What’s the vision of the company?\n",
    "- Is there anything I can do to improve my skillset in the meantime?\n",
    "- Is there anything about me that you are unsure about? If so, I would like to address any concerns.\n"
   ]
  }
 ],
 "metadata": {
  "language_info": {
   "name": "python"
  }
 },
 "nbformat": 4,
 "nbformat_minor": 2
}
