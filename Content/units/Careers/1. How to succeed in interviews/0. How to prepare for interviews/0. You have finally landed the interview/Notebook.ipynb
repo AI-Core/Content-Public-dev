{
 "cells": [
  {
   "attachments": {},
   "cell_type": "markdown",
   "metadata": {},
   "source": [
    "## You are done applying, but you are not hired yet! \n",
    "\n",
    "Now it’s time to prepare for that all-important interview that stands between you and your new role!\n",
    "\n",
    "Preparing for an interview can be a daunting task, but there are several simple things you can do to increase your chances of success.\n",
    "\n",
    "### Research the company\n",
    "Before the interview, take some time to research the company. Look at their website, read about their mission, and learn about their products or services. This will help you understand the company's culture and values and allow you to better tailor your answers to the interview questions.\n",
    "\n",
    "### Review the job description\n",
    "Study the job description carefully and make a list of the required skills and qualifications. This will help you prepare specific examples of how you meet these requirements and can excel in the role. So many people do not do this..\n",
    "\n",
    "### Prepare for common questions\n",
    "Review common interview questions and practice answering them out loud. This will help you feel more confident during the interview and ensure that you are prepared to answer questions that may arise.\n",
    "\n",
    "### Practice with a friend\n",
    "Practice your interview skills with a friend or family member. This will help you get comfortable with the process and give you the opportunity to receive feedback on your answers. And don’t forget to book your mock interview\n",
    "\n",
    "### Dress appropriately\n",
    "Even if the company has a casual dress code, it's important to make a good first impression. It doesn’t matter if it’s a remote interview, you should still dress appropriately. Avoid being too colourful and flashy.\n",
    "\n",
    ">Pro tip: Benjamin Franklin said, “By failing to prepare, you are preparing to fail”"
   ]
  }
 ],
 "metadata": {
  "language_info": {
   "name": "python"
  }
 },
 "nbformat": 4,
 "nbformat_minor": 2
}
