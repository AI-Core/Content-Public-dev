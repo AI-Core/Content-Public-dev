{
 "cells": [
  {
   "attachments": {},
   "cell_type": "markdown",
   "metadata": {},
   "source": [
    "Active listening involves paying attention to what the interviewer is saying, clarifying any points that you are unsure of, and asking relevant questions. This shows the interviewer that you are interested in the position and have good communication skills.\n",
    "\n",
    "Remember, interview soft skills are just as important as technical skills in getting hired. By practising these tips, you'll be well on your way to mastering interview soft skills and landing your dream job.\n"
   ]
  }
 ],
 "metadata": {
  "language_info": {
   "name": "python"
  }
 },
 "nbformat": 4,
 "nbformat_minor": 2
}
