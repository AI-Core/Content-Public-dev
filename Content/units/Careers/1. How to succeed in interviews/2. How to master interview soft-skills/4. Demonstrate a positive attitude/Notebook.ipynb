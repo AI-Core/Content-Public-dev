{
 "cells": [
  {
   "attachments": {},
   "cell_type": "markdown",
   "metadata": {},
   "source": [
    "A positive attitude can go a long way in an interview. Smile, be enthusiastic, and show your passion for the position you're interviewing for.\n",
    "\n",
    "> Pro tip: When your attitude is right, the facts don't count!"
   ]
  }
 ],
 "metadata": {
  "language_info": {
   "name": "python"
  }
 },
 "nbformat": 4,
 "nbformat_minor": 2
}
