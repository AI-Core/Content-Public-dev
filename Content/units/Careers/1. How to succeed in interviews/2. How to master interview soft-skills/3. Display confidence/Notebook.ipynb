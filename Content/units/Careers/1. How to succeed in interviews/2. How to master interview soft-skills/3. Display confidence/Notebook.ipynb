{
 "cells": [
  {
   "attachments": {},
   "cell_type": "markdown",
   "metadata": {},
   "source": [
    "Confidence is a key trait that employers look for in candidates. Be sure to maintain eye contact, sit up straight, and speak clearly to show that you're confident in your abilities."
   ]
  }
 ],
 "metadata": {
  "language_info": {
   "name": "python"
  }
 },
 "nbformat": 4,
 "nbformat_minor": 2
}
