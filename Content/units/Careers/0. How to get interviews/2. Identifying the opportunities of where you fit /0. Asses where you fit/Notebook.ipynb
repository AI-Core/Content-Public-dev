{
 "cells": [
  {
   "attachments": {},
   "cell_type": "markdown",
   "metadata": {},
   "source": [
    "Before you start looking for companies, you must identify your career goals and asses where you would fit best as a professional. You must be applying only for jobs which match these goals.\n",
    "\n",
    "Ask yourself the following questions:\n",
    "- What type of industry interests me?\n",
    "- What kind of work would make me happy and fulfilled in the long term?\n",
    "- What kind of lifestyle and work-life balance do I want to have?\n",
    "- What kind of company culture do I want to be a part of?\n",
    "- What are my weaknesses, and what steps can I take to improve them?\n",
    "- What kind of work environment do I thrive in?\n",
    "- What role or position would help me achieve my long-term career goals?\n",
    "\n",
    "By asking yourself these questions and reflecting on your answers, you can gain a better understanding of your career goals and the kind of job you want. This can help you focus your job search on positions that align with your interests, skills, and aspirations, which increases your chances of finding a fulfilling and rewarding job.\n"
   ]
  }
 ],
 "metadata": {
  "language_info": {
   "name": "python"
  }
 },
 "nbformat": 4,
 "nbformat_minor": 2
}
