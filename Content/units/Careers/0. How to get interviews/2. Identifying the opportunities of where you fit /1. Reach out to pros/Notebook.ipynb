{
 "cells": [
  {
   "attachments": {},
   "cell_type": "markdown",
   "metadata": {},
   "source": [
    "If you are still not sure as to where you fit, then reach out to people who work in your desired field, mentors, career counsellors, and industry experts for advice on what kind of career path would be suitable for you. There’s no shame in asking. Most people will gladly give you advice and share valuable insights with you. Some of them might even offer you a job!\n",
    "\n",
    ">Pro tip: Gone are the days of mass applications"
   ]
  }
 ],
 "metadata": {
  "language_info": {
   "name": "python"
  }
 },
 "nbformat": 4,
 "nbformat_minor": 2
}
