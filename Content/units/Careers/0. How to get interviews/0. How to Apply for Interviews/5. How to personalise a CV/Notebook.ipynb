{
 "cells": [
  {
   "attachments": {},
   "cell_type": "markdown",
   "metadata": {},
   "source": [
    "# How to Personalise a CV\n",
    "\n",
    "Sending targeted applications is more effective than mass sending the same CV. Quality over quantity can increase the chances of winning an interview.\n",
    "Don't forget that the recruiter or hiring manager is looking for someone to meet their needs – not someone out to meet their own needs. A tailored resume or CV will directly address the recruiter's requirements and prove that you're the best candidate to meet them.\n",
    "\n",
    "\n",
    "- Keep a master CV\n",
    "    - Keeping a master CV template can be a helpful way to organize and maintain all of your professional experience and qualifications in one place. The master template should include all relevant information, such as education, work experience, volunteer work, skills, awards, and certifications.In addition to a master CV template, it may be helpful to have multiple versions tailored to different types of positions or industries. This can help you to easily customize your CV for each job application, highlighting the specific qualifications and experience that are most relevant for that particular position. Overall, keeping a master CV template can be a useful tool for organizing your professional experience and qualifications, making it easier to customize your CV for different job applications and present yourself in the best possible way to potential employers.\n",
    "- Tailor your CV to the job\n",
    "    - Tailoring your CV to the job is a critical step in the job search process. It involves customizing your CV for each job application to ensure that you are highlighting the skills and experiences that are most relevant to the position you are applying for. It's essential to review the job description carefully and identify the skills, experience, and qualifications that the employer is looking for. You can then tweak your CV to ensure that you are highlighting these specific skills and experiences. Remember that tailoring your CV doesn't mean you need to create an entirely new document for each application. Just make minor adjustments to your master CV to highlight the most relevant information for each job you apply for. \n",
    "- Use keywords\n",
    "    - Use relevant keywords from the job description or industry to help your CV get noticed in search results.\n"
   ]
  }
 ],
 "metadata": {
  "language_info": {
   "name": "python"
  }
 },
 "nbformat": 4,
 "nbformat_minor": 2
}
