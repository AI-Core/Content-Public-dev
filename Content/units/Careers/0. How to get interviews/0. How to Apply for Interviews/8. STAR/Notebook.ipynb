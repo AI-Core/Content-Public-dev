{
 "cells": [
  {
   "attachments": {},
   "cell_type": "markdown",
   "metadata": {},
   "source": [
    "The STAR method is a technique used to answer behavioural interview questions by providing specific examples that demonstrate your skills and accomplishments. \n",
    "\n",
    "STAR stands for Situation, Task, Action, and Result. Here's how it works:\n",
    "\n",
    "- Situation: Begin by describing the situation you faced, providing enough detail for the interviewer to understand the context.\n",
    "- Task: Next, describe the task or goal you were trying to accomplish in that situation.\n",
    "- Action: Then, describe the specific actions you took to achieve the task or goal, focusing on your own role in the situation.\n",
    "- Result: Finally, describe the outcome of your actions and the impact it had on the situation or organisation.\n",
    "\n",
    "### Example\n",
    "Example of using the STAR method in an interview:\n",
    "\n",
    "Q: Can you describe a time when you had to solve a complex technical problem?\n",
    "\n",
    "A: Situation: Previous job, faced a technical issue with a software development project.\n",
    "\n",
    "Task: Find a solution to keep project on track and meet deadlines.\n",
    "\n",
    "Action: Conducted research, consulted colleagues and experts, and developed a plan involving a new tool.\n",
    "\n",
    "Result: Successful implementation of tool improved development process, recognised for problem-solving skills.\n",
    "\n",
    "Using STAR method helps structure answers clearly, useful for behavioural interviews. An easy way to showcase skills and achievements."
   ]
  },
  {
   "cell_type": "markdown",
   "metadata": {},
   "source": []
  }
 ],
 "metadata": {
  "language_info": {
   "name": "python"
  }
 },
 "nbformat": 4,
 "nbformat_minor": 2
}
