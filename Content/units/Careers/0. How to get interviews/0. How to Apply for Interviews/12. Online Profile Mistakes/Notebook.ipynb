{
 "cells": [
  {
   "attachments": {},
   "cell_type": "markdown",
   "metadata": {},
   "source": [
    "# Online Profile Mistakes\n",
    "\n",
    "### Do NOT put “Open to work” on your LinkedIn\n",
    "Subconsciously, employers believe that great candidates are not searching for jobs, the best opportunities are already searching for them. Having “Open to work” on your LinkedIn profile looks desperate. From my experience in hiring, it’s an immediate turnoff.\n",
    "\n",
    "### Unprofessional display pictures on social profiles\n",
    "\n",
    "WAIT! This doesn’t just mean to make sure that your display picture is not wildly inappropriate - obviously, it shouldn’t be you at a party doing a keg stand. Display pictures can look unprofessional in other ways too. \n",
    "\n",
    "Including:\n",
    "- Low quality pictures\n",
    "- Obvious selfies\n",
    "- Bad lighting\n",
    "- Wearing a hat or hood\n",
    "- Poor background\n",
    "\n",
    "Here are some examples of good display pictures.\n",
    "\n",
    "Here are two approaches to find a good display picture quickly:\n",
    "- Use an AI avatar from Lensa\n",
    "- Ask someone to take a picture of you against a white background, then apply a background\n",
    "\n",
    "\n",
    "You can use the AiCore background\n"
   ]
  }
 ],
 "metadata": {
  "language_info": {
   "name": "python"
  }
 },
 "nbformat": 4,
 "nbformat_minor": 2
}
