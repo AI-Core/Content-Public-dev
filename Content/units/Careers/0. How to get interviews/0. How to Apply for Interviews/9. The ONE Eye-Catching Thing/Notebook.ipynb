{
 "cells": [
  {
   "attachments": {},
   "cell_type": "markdown",
   "metadata": {},
   "source": [
    "### The ONE Eye-Catching Thing\n",
    "\n",
    "From my experience in hiring over 20 people, I’ve noticed that what helps candidates to get past the screening process is having one thing which directly makes me intrigued.\n",
    "\n",
    "It might be that they’ve worked with the exact same stack as I have, it might be that they have the same hobbies as I do\n",
    "\n",
    "The more you can find out about the employer as a company, and the person who’s going to be reading the CV, then the more likely you can find something that they can resonate with.\n"
   ]
  }
 ],
 "metadata": {
  "kernelspec": {
   "display_name": "base",
   "language": "python",
   "name": "python3"
  },
  "language_info": {
   "name": "python",
   "version": "3.10.9"
  },
  "vscode": {
   "interpreter": {
    "hash": "a2592652612463181e69ac003232387e3e9a99279aa6b168e76f5df16d5110f4"
   }
  }
 },
 "nbformat": 4,
 "nbformat_minor": 2
}
