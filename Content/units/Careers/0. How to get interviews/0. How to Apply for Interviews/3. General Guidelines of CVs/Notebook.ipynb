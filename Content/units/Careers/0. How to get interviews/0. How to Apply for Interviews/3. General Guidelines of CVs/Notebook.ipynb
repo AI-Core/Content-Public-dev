{
 "cells": [
  {
   "cell_type": "markdown",
   "metadata": {},
   "source": [
    "# General CV Guidelines\n",
    "\n",
    "- Don’t include a display picture - even unconscious biases can play against your CV\n",
    "- Keep it simple\n",
    "- Keep a master CV \n",
    "- Keep it concise: Your CV should be no longer than two pages, and ideally one page if possible. Use bullet points and clear headings to make your CV easy to read.\n",
    "- Use clear formatting: Use a simple, professional font and a clear, easy-to-read format. Avoid using flashy colors or graphics that may distract from the content.\n",
    "- Include relevant information: Your CV should include your name and contact information, work experience, education, skills, and any relevant certifications or awards.\n",
    "- Highlight your achievements: Use concrete examples and achievements to demonstrate your skills and experience. This can help to differentiate you from other applicants and demonstrate your value.\n",
    "- Proofread and edit: Before submitting your CV, proofread it carefully and ask a friend or mentor to review it for errors or inconsistencies.\n",
    "- Remember, your CV is often the first impression you make on potential employers, so it's important to take the time to create a strong, professional document that showcases your skills and experience.\n"
   ]
  }
 ],
 "metadata": {
  "kernelspec": {
   "display_name": "base",
   "language": "python",
   "name": "python3"
  },
  "language_info": {
   "name": "python",
   "version": "3.10.9"
  },
  "vscode": {
   "interpreter": {
    "hash": "a2592652612463181e69ac003232387e3e9a99279aa6b168e76f5df16d5110f4"
   }
  }
 },
 "nbformat": 4,
 "nbformat_minor": 2
}
