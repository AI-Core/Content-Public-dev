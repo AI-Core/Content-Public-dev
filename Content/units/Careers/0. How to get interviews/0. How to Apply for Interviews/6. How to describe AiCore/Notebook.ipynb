{
 "cells": [
  {
   "attachments": {},
   "cell_type": "markdown",
   "metadata": {},
   "source": [
    "# How to describe AiCore\n",
    "- Don’t describe it as a bootcamp\n",
    "- Describe industry projects\n",
    "\n",
    "> Pro Tip: Talk about AiCore as a certification rather than a bootcamp\n",
    "\n",
    "### Perceived value\n",
    "Unfortunately, many bootcamps don’t emphasise the same level of academic excellence and industry experience as we do, and so some employers may expect you to have the skills of a junior - we know that this is not true, having seen countless examples of AiCore alumni achieve mid-level jobs as their first step in the industry. You can do it too - it’s just a case of framing your experience in the best light. This may be especially true in more traditional or conservative industries. In these cases, you may need to be strategic about how you present your AiCore education, such as emphasising the specific skills and projects you worked on.\n"
   ]
  }
 ],
 "metadata": {
  "language_info": {
   "name": "python"
  }
 },
 "nbformat": 4,
 "nbformat_minor": 2
}
