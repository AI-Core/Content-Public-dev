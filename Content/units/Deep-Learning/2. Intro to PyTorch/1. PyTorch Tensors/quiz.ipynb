{
 "cells": [
  {
   "attachments": {},
   "cell_type": "markdown",
   "metadata": {},
   "source": [
    "# Pytorch Tensors "
   ]
  },
  {
   "attachments": {},
   "cell_type": "markdown",
   "metadata": {},
   "source": [
    "## What is a tensor?\n",
    "\n",
    "- a general term for an n-dimensional array ***\n",
    "- a 4D array\n",
    "- the output of a differentiation function\n",
    "- an array of complex numbers"
   ]
  },
  {
   "attachments": {},
   "cell_type": "markdown",
   "metadata": {},
   "source": [
    "## What is the default datatype of the elements in a torch tensor?\n",
    "\n",
    "- float32 ***\n",
    "- float64\n",
    "- int\n",
    "- long\n",
    "- double\n"
   ]
  },
  {
   "attachments": {},
   "cell_type": "markdown",
   "metadata": {},
   "source": [
    "## The main difference between a torch tensor and a numpy array is:\n",
    "\n",
    "- numpy arrays can only have up to three dimensions\n",
    "- torch tensors can only store integer values\n",
    "- torch tensors can store information about the mathematical functions used to create them ***"
   ]
  },
  {
   "attachments": {},
   "cell_type": "markdown",
   "metadata": {},
   "source": [
    "## Which of the following torch tensor methods gives the dimensions of the tensor?\n",
    "\n",
    "- Tensor.size \n",
    "- Tensor.shape ***\n",
    "- Tensor.grad\n",
    "- Tensor.backward"
   ]
  },
  {
   "attachments": {},
   "cell_type": "markdown",
   "metadata": {},
   "source": [
    "## True or False? I can add an integer to a torch tensor, but in doing so, it stops being a torch tensor and becomes a numpy array instead.\n",
    "\n",
    "- True\n",
    "- False ***"
   ]
  }
 ],
 "metadata": {
  "language_info": {
   "name": "python"
  },
  "orig_nbformat": 4
 },
 "nbformat": 4,
 "nbformat_minor": 2
}
