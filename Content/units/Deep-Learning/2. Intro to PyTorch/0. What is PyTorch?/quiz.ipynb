{
 "cells": [
  {
   "attachments": {},
   "cell_type": "markdown",
   "metadata": {},
   "source": [
    "# What is Pytorch?\n"
   ]
  },
  {
   "attachments": {},
   "cell_type": "markdown",
   "metadata": {},
   "source": [
    "## What is Pytorch?\n",
    "\n",
    "- a library for creating and training deep learning models ***\n",
    "- a library for manipulating images\n",
    "- a library for organising databases\n",
    " "
   ]
  },
  {
   "attachments": {},
   "cell_type": "markdown",
   "metadata": {},
   "source": [
    "## Which of the following is NOT true about Pytorch\n",
    "\n",
    "- it is built around a datatype called a torch tensor\n",
    "- the central feature of the library is automatic differentiation\n",
    "- it is possible to create your own custom deep learning models with Pytorch\n",
    "- Pytorch is only used for computer vision problems ***"
   ]
  },
  {
   "attachments": {},
   "cell_type": "markdown",
   "metadata": {},
   "source": [
    "## Which of the following is a correct instruction to import Pytorch into a python script?\n",
    "\n",
    "- `from torchvision import pytorch`\n",
    "- `import torch` ***\n",
    "- `import pytorch`\n",
    "- `from pytorch import torch`"
   ]
  },
  {
   "cell_type": "markdown",
   "metadata": {},
   "source": []
  }
 ],
 "metadata": {
  "language_info": {
   "name": "python"
  },
  "orig_nbformat": 4
 },
 "nbformat": 4,
 "nbformat_minor": 2
}
