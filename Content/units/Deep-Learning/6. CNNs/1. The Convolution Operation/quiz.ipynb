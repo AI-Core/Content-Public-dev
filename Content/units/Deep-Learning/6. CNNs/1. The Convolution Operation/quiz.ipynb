{
 "cells": [
  {
   "attachments": {},
   "cell_type": "markdown",
   "metadata": {},
   "source": [
    "# The Convolution Operation"
   ]
  },
  {
   "attachments": {},
   "cell_type": "markdown",
   "metadata": {},
   "source": [
    "## Convolutional layers are linear transformations. \n",
    "\n",
    "- True ***\n",
    "- False\n"
   ]
  },
  {
   "attachments": {},
   "cell_type": "markdown",
   "metadata": {},
   "source": [
    "## A convolutional layer extracts high level features using a filter called a:\n",
    "\n",
    "- seed\n",
    "- kernel ***\n",
    "- centroid\n",
    "- equaliser"
   ]
  },
  {
   "attachments": {},
   "cell_type": "markdown",
   "metadata": {},
   "source": [
    "## When designing a convolutional layer ,it is necessary to specify the size of the output.\n",
    "\n",
    "- True \n",
    "- False ***"
   ]
  },
  {
   "attachments": {},
   "cell_type": "markdown",
   "metadata": {},
   "source": [
    "## The operation performed between the filter and the area of output it covers is a:\n",
    "\n",
    "- dot product ***\n",
    "- sum of squares\n",
    "- average\n",
    "- cosine distance"
   ]
  },
  {
   "attachments": {},
   "cell_type": "markdown",
   "metadata": {},
   "source": [
    "## The output of a convolutional layer is called:\n",
    "\n",
    "- activation map ***\n",
    "- result vector\n",
    "- weight matrix\n",
    "- filter kernel"
   ]
  },
  {
   "attachments": {},
   "cell_type": "markdown",
   "metadata": {},
   "source": [
    "## The filter kernels in a convolutional layer are fixed, and do not change with training. \n",
    "- True\n",
    "- False ***\n",
    "\n"
   ]
  },
  {
   "attachments": {},
   "cell_type": "markdown",
   "metadata": {},
   "source": [
    "## Convolutional layers are linear transformations. \n",
    "\n",
    "- True ***\n",
    "- False"
   ]
  },
  {
   "attachments": {},
   "cell_type": "markdown",
   "metadata": {},
   "source": [
    "## The output of a convolutional layer that processes a 2D grayscale image is:\n",
    "\n",
    "- one dimensional\n",
    "- two dimensional\n",
    "- three dimensional ***\n",
    "- four dimensional"
   ]
  },
  {
   "attachments": {},
   "cell_type": "markdown",
   "metadata": {},
   "source": [
    "## The output of a convolutional layer that processes a 2D RGB image is:\n",
    "\n",
    "- one dimensional\n",
    "- two dimensional\n",
    "- three dimensional ***\n",
    "- four dimensional "
   ]
  },
  {
   "attachments": {},
   "cell_type": "markdown",
   "metadata": {},
   "source": [
    "## The filter kernel that is used for processing a 2D RGB image is a:\n",
    "\n",
    "- vector\n",
    "- 2D matrix\n",
    "- 3D tensor ***\n",
    "- 4D tensor"
   ]
  },
  {
   "attachments": {},
   "cell_type": "markdown",
   "metadata": {},
   "source": [
    "## The filter kernel that is used for processing a 2D Grayscale image is a:\n",
    "\n",
    "- vector\n",
    "- 2D matrix ***\n",
    "- 3D tensor \n",
    "- 4D tensor"
   ]
  },
  {
   "attachments": {},
   "cell_type": "markdown",
   "metadata": {},
   "source": [
    "## Image convolution only convolves over the spatial dimensions, not the colour channels\n",
    "\n",
    "- True ***\n",
    "- False"
   ]
  },
  {
   "attachments": {},
   "cell_type": "markdown",
   "metadata": {},
   "source": [
    "## In a convolutional filter, the stride is:\n",
    "\n",
    "- the step-size of the filter kernel centre as it moves over the image ***\n",
    "- the width of the filter\n",
    "- the number of colour channels over which the filter operates\n",
    "- the number of times the filter can fit into the image"
   ]
  },
  {
   "attachments": {},
   "cell_type": "markdown",
   "metadata": {},
   "source": [
    "## Increasing the stride parameter in a convolutional layer:\n",
    "\n",
    "- Makes the convolution operation slower\n",
    "- Makes the convolution operation more accurate\n",
    "- Decreases the memory cost of the convolution operation ***\n",
    "- Increases the number of high-level features output by the layer"
   ]
  },
  {
   "attachments": {},
   "cell_type": "markdown",
   "metadata": {},
   "source": [
    "## The filter kernels in a modern convolutional network:\n",
    "\n",
    "- are learned during gradient descent ***\n",
    "- are fixed in advanced, based on designs inspired by neuron receptive fields in the human brain\n",
    "- are simple Gaussian kernels\n",
    "- None of the above"
   ]
  },
  {
   "attachments": {},
   "cell_type": "markdown",
   "metadata": {},
   "source": [
    "## Adding padding to the input of a convolutional layer:\n",
    "\n",
    "- increases the sampling of the image edges\n",
    "- descreases the sampling of the image edges\n",
    "-  makes it harder to model more complex relationships between image features\n",
    "- decreases the size of the ouput tensor"
   ]
  },
  {
   "cell_type": "markdown",
   "metadata": {},
   "source": []
  }
 ],
 "metadata": {
  "language_info": {
   "name": "python"
  },
  "orig_nbformat": 4
 },
 "nbformat": 4,
 "nbformat_minor": 2
}
