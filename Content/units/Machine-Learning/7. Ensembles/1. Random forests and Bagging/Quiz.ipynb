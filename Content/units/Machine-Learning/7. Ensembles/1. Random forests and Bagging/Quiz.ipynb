{
 "cells": [
  {
   "attachments": {},
   "cell_type": "markdown",
   "metadata": {},
   "source": [
    "# Random Forests and Bagging"
   ]
  },
  {
   "attachments": {},
   "cell_type": "markdown",
   "metadata": {},
   "source": [
    "## Which of the following are ensemble methods? Select all that apply\n",
    "\n",
    "- Random forests ***\n",
    "- Gradient boosting ***\n",
    "- Decision trees\n",
    "- Support vector machines\n",
    "- Logistic regression\n",
    "- AdaBoost ***"
   ]
  },
  {
   "attachments": {},
   "cell_type": "markdown",
   "metadata": {},
   "source": [
    "## What is the main idea behind ensemble methods? Select all that apply\n",
    "\n",
    "- To combine the predictions of several models to improve generalizability or performance ***\n",
    "- To create a model that is more interpretable than the individual constituent models\n",
    "- To create a model that performs better than the individual constituent models ***\n",
    "- To reduce the variance of a black-box model like a neural network\n"
   ]
  },
  {
   "attachments": {},
   "cell_type": "markdown",
   "metadata": {},
   "source": [
    "## What does _bootstraping_ refer to?\n",
    "\n",
    "- A method for fitting a decision tree\n",
    "- A method for training a model with different combinations of hyperparameters\n",
    "- A method for taking random samples from a dataset with replacement ***\n",
    "- A method for taking random samples from a dataset without replacement"
   ]
  },
  {
   "cell_type": "code",
   "execution_count": null,
   "metadata": {},
   "outputs": [],
   "source": []
  },
  {
   "cell_type": "code",
   "execution_count": null,
   "metadata": {},
   "outputs": [],
   "source": []
  }
 ],
 "metadata": {
  "language_info": {
   "name": "python"
  },
  "orig_nbformat": 4
 },
 "nbformat": 4,
 "nbformat_minor": 2
}
