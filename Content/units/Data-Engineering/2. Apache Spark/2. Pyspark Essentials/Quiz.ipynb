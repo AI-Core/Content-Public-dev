{
 "cells": [
  {
   "attachments": {},
   "cell_type": "markdown",
   "metadata": {},
   "source": [
    "# PySpark Essentials"
   ]
  },
  {
   "attachments": {},
   "cell_type": "markdown",
   "metadata": {},
   "source": [
    "## What is the correct syntax to read a CSV file in PySpark?\n",
    "\n",
    "- `df = spark.read.csv(\"path/to/file.csv\")`\n",
    "\n",
    "- `df = spark.read.csv(\"path/to/file.csv\")` ***\n",
    "\n",
    "- `df = sqlContext.read.csv(\"path/to/file.csv\")`\n",
    "\n",
    "- `df = spark.read.text(\"path/to/file.csv\")`\n"
   ]
  },
  {
   "attachments": {},
   "cell_type": "markdown",
   "metadata": {},
   "source": [
    "## What is the correct syntax to display the contents of a PySpark DataFrame in the console?\n",
    "\n",
    "- `df.print()`\n",
    "\n",
    "- `df.show()` ***\n",
    "\n",
    "- `df.display()`\n",
    "\n",
    "- `df.printSchema()`"
   ]
  },
  {
   "attachments": {},
   "cell_type": "markdown",
   "metadata": {},
   "source": [
    "## What is the correct syntax to display a PySpark DataFrame with headers in the console?\n",
    "\n",
    "- `df.show()`\n",
    "\n",
    "- `df.head()`\n",
    "\n",
    "- `df.display(header=True)`\n",
    "\n",
    "- `df.display(header=True)` ***"
   ]
  },
  {
   "attachments": {},
   "cell_type": "markdown",
   "metadata": {},
   "source": [
    "## What is the correct syntax to aggregate by column in PySpark?\n",
    "\n",
    "- `df.agg(sum(\"column_name\"))`\n",
    "\n",
    "- `df.groupby(\"column_name\").sum()`\n",
    "\n",
    "- `df.groupby(\"column_name\").agg(sum(\"column_name\"))`\n",
    "\n",
    "- `df.groupBy(\"column_name\").agg({\"column_name\": \"sum\"})` ***"
   ]
  },
  {
   "attachments": {},
   "cell_type": "markdown",
   "metadata": {},
   "source": [
    "## What is the correct syntax to group a PySpark DataFrame by a specific column?\n",
    "\n",
    "- `df.groupBy(\"column_name\")` ***\n",
    "\n",
    "- `df.group(\"column_name\")`\n",
    "\n",
    "- `df.aggregateBy(\"column_name\")`\n",
    "\n",
    "- `df.groupby(\"column_name\")`\n"
   ]
  },
  {
   "attachments": {},
   "cell_type": "markdown",
   "metadata": {},
   "source": [
    "## What is the correct syntax to count the number of entries in a PySpark DataFrame column?\n",
    "\n",
    "- `df.count(column_name)`\n",
    "\n",
    "- `df.count(column_name)` ***\n",
    "\n",
    "- `df.select(count(\"column_name\")).show()`\n",
    "\n",
    "- `df.column_name().count()`\n"
   ]
  }
 ],
 "metadata": {
  "language_info": {
   "name": "python"
  },
  "orig_nbformat": 4
 },
 "nbformat": 4,
 "nbformat_minor": 2
}
