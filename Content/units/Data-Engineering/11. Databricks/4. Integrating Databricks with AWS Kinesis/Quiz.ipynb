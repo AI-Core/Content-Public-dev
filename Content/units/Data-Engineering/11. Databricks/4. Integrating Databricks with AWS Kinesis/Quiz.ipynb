{
 "cells": [
  {
   "attachments": {},
   "cell_type": "markdown",
   "metadata": {},
   "source": [
    "# Integrating Databricks with AWS Kinesis"
   ]
  },
  {
   "attachments": {},
   "cell_type": "markdown",
   "metadata": {},
   "source": [
    "## Which of the following code snippets shows the correct way to read streaming data from Amazon Kinesis in PySpark?\n",
    "\n",
    "- A)\n",
    "\n",
    "`from pyspark.streaming.kinesis import KinesisUtils`\n",
    "`kinesisStream = KinesisUtils.createStream(ssc, \"myApp\", \"myStream\", \"us-east-1\", \"latest\")`\n",
    "\n",
    "- B)\n",
    "\n",
    "`from pyspark.streaming import StreamingContext`\n",
    "`from pyspark.streaming.kinesis import KinesisUtils`\n",
    "`ssc = StreamingContext(sparkContext, batchDuration)`\n",
    "`kinesisStream = KinesisUtils.createStream(ssc, \"myApp\", \"myStream\", \"us-east-1\", \"latest\")`\n",
    "\n",
    "- C)\n",
    "\n",
    "`kinesisDF = spark \\`\n",
    "    `.readStream \\`\n",
    "    `.format(\"kinesis\") \\`\n",
    "    `.option(\"streamName\", \"myStream\") \\`\n",
    "    `.option(\"region\", \"us-east-1\") \\`\n",
    "    `.option(\"startingPosition\", \"latest\") \\`\n",
    "    `.load()` ***\n",
    "    \n",
    "\n",
    "\n"
   ]
  },
  {
   "attachments": {},
   "cell_type": "markdown",
   "metadata": {},
   "source": [
    "## What is the default schema of a Spark DataFrame that reads data from a Kinesis stream?\n",
    "\n",
    "- A) A single column named `value` of type String\n",
    "- B) Two columns named `partitionKey` and `data` of types `String` and `Binary`, respectively\n",
    "- C) Three columns named `partitionKey`, `sequenceNumber`, and `data` of types `String`, `String`, and `Binary`, respectively\n",
    "- D) The schema is dynamically inferred based on the content of the data records and can vary but will always contain a `data` column. ***"
   ]
  }
 ],
 "metadata": {
  "language_info": {
   "name": "python"
  },
  "orig_nbformat": 4
 },
 "nbformat": 4,
 "nbformat_minor": 2
}
