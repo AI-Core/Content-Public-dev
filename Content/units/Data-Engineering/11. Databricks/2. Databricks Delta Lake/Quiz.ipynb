{
 "cells": [
  {
   "cell_type": "markdown",
   "metadata": {},
   "source": [
    "# Databricks Delta Lake"
   ]
  },
  {
   "cell_type": "markdown",
   "metadata": {},
   "source": [
    "## What is a Delta Table in Databricks?\n",
    "\n",
    "- A data storage format for structured data that supports ACID transactions and time-travel queries ***\n",
    "- A type of Databricks cluster used for running Apache Spark streaming applications\n",
    "- A visualization tool for exploring and analyzing data stored in Databricks\n",
    "- A type of Databricks notebook that supports advanced data science and machine learning workflows"
   ]
  }
 ],
 "metadata": {
  "language_info": {
   "name": "python"
  }
 },
 "nbformat": 4,
 "nbformat_minor": 2
}
