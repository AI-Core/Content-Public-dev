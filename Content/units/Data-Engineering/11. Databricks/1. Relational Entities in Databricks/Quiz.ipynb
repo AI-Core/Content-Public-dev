{
 "cells": [
  {
   "cell_type": "markdown",
   "metadata": {},
   "source": [
    "# Relational Entities in Databricks"
   ]
  },
  {
   "cell_type": "markdown",
   "metadata": {},
   "source": [
    "## In Databricks, what is the correct order of hierarchy for catalogs, schemas, tables, views, and functions?\n",
    "\n",
    "- Catalog > Schema > View > Table > Function\n",
    "- Catalog > Schema > Table > View > Function ***\n",
    "- Schema > Catalog > Table > View > Function\n",
    "- Schema > Catalog > View > Table > Function"
   ]
  },
  {
   "cell_type": "markdown",
   "metadata": {},
   "source": []
  }
 ],
 "metadata": {
  "language_info": {
   "name": "python"
  }
 },
 "nbformat": 4,
 "nbformat_minor": 2
}
