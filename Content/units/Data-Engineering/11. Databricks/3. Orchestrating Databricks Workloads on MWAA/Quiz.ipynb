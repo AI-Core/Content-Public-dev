{
 "cells": [
  {
   "attachments": {},
   "cell_type": "markdown",
   "metadata": {},
   "source": [
    "# Orchestrating Databricks Workloads on MWAA"
   ]
  },
  {
   "attachments": {},
   "cell_type": "markdown",
   "metadata": {},
   "source": [
    "## What is the recommended way to orchestrate Databricks workloads on an Amazon Web Services Managed Workflows for Apache Airflow (MWAA) environment?\n",
    "\n",
    "- Use the Databricks CLI to run the Databricks notebooks\n",
    "- Use the Databricks REST API to run the Databricks notebooks\n",
    "- Use the MWAA DAGs to trigger the Databricks notebooks ***\n",
    "- Use the MWAA CLI to run the Databricks notebooks"
   ]
  },
  {
   "attachments": {},
   "cell_type": "markdown",
   "metadata": {},
   "source": [
    "## What is the process for creating an API token in Databricks?\n",
    "\n",
    "- Click on the user profile icon in the Databricks workspace, select \"User Settings\", navigate to the \"Access Tokens\" tab, and click \"Generate New Token\" ***\n",
    "- Click on the \"Clusters\" tab in the Databricks workspace, select the cluster on which the token will be used, navigate to the \"Security\" tab, and click \"Generate New Token\"\n",
    "- Use the Databricks CLI to generate a new API token\n",
    "- Open a support ticket with Databricks to request a new API token\n",
    "\n"
   ]
  },
  {
   "attachments": {},
   "cell_type": "markdown",
   "metadata": {},
   "source": [
    "## What are the steps to create a connection between an Amazon Web Services Managed Workflows for Apache Airflow (MWAA) environment and a Databricks workspace using the MWAA UI?\n",
    "\n",
    "- Navigate to the MWAA console, select the desired MWAA environment, navigate to the \"Connections\" tab, click \"Create Connection\", select \"Databricks\" as the connection type, enter the Databricks workspace details, and save the connection ***\n",
    "\n",
    "- Navigate to the Databricks workspace, select \"Settings\", navigate to the \"Connections\" tab, click \"Create Connection\", select \"MWAA\" as the connection type, enter the MWAA environment details, and save the connection\n",
    "\n",
    "- Use the Databricks CLI to create a connection between the MWAA environment and the Databricks workspace\n",
    "\n",
    "- Use the MWAA CLI to create a connection between the MWAA environment and the Databricks workspace"
   ]
  },
  {
   "attachments": {},
   "cell_type": "markdown",
   "metadata": {},
   "source": [
    "## What are the steps to orchestrate Databricks workloads on an Amazon Web Services Managed Workflows for Apache Airflow (MWAA) environment?\n",
    "\n",
    "- Create an S3 bucket for storing the Databricks notebooks, configure the MWAA environment, create an MWAA DAG to trigger the Databricks notebook runs, and schedule the DAG to run at the desired frequency ***\n",
    "\n",
    "- Create a Databricks workspace, configure the MWAA environment, create an MWAA DAG to trigger the Databricks notebook runs, and schedule the DAG to run at the desired frequency\n",
    "\n",
    "- Create an EC2 instance for running the Databricks notebooks, configure the MWAA environment, create an MWAA DAG to trigger the Databricks notebook runs, and schedule the DAG to run at the desired frequency\n",
    "\n",
    "- Use the Databricks CLI to trigger the Databricks notebook runs, configure the MWAA environment, create an MWAA DAG to monitor the Databricks notebook runs, and schedule the DAG to run at the desired frequency"
   ]
  }
 ],
 "metadata": {
  "language_info": {
   "name": "python"
  },
  "orig_nbformat": 4
 },
 "nbformat": 4,
 "nbformat_minor": 2
}
