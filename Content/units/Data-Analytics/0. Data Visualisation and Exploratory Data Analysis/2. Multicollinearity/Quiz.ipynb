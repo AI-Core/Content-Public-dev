{
 "cells": [
  {
   "attachments": {},
   "cell_type": "markdown",
   "metadata": {},
   "source": [
    "# Multicollinearity"
   ]
  },
  {
   "attachments": {},
   "cell_type": "markdown",
   "metadata": {},
   "source": [
    "## What is multicollinearity in statistical analysis?\n",
    "\n",
    "- A) The presence of multiple dependent variables in a regression model\n",
    "- B) The existence of correlation among independent variables in a regression model ***\n",
    "- C) The use of multiple regression models to analyze a single dataset\n",
    "- D) The presence of outliers in a regression model"
   ]
  },
  {
   "attachments": {},
   "cell_type": "markdown",
   "metadata": {},
   "source": [
    "## What is perfect multicollinearity in regression analysis?\n",
    "\n",
    "- A) The existence of correlation among independent variables in a regression model\n",
    "- B) The presence of outliers in a regression model\n",
    "- C) A situation where one independent variable is a perfect linear combination of one or more other independent variables ***\n",
    "- D) The use of multiple regression models to analyze a single dataset"
   ]
  },
  {
   "attachments": {},
   "cell_type": "markdown",
   "metadata": {},
   "source": [
    "## What is the purpose of using a heatmap in a regression analysis?\n",
    "\n",
    "- A) To identify outliers in the data\n",
    "- B) To visualize the distribution of the dependent variable\n",
    "- C) To visualize the correlation between independent variables ***\n",
    "- D) To visualize the relationship between the dependent variable and one or more independent variables"
   ]
  },
  {
   "attachments": {},
   "cell_type": "markdown",
   "metadata": {},
   "source": [
    "## What is the impact of highly correlated data on a linear regression model?\n",
    "\n",
    "- A) It increases the accuracy of the model\n",
    "- B) It causes the model to overestimate the relationship between independent and dependent variables ***\n",
    "- C) It causes the model to underestimate the relationship between independent and dependent variables\n",
    "- D) It has no effect on the model"
   ]
  },
  {
   "attachments": {},
   "cell_type": "markdown",
   "metadata": {},
   "source": [
    "## What is the difference between the correlation coefficient and R-squared in regression analysis?\n",
    "\n",
    "- A) The correlation coefficient measures the strength and direction of the linear relationship between two variables, while R-squared measures the proportion of the variance in the dependent variable that is explained by the independent variable(s). ***\n",
    "\n",
    "- B) The correlation coefficient measures the proportion of the variance in the dependent variable that is explained by the independent variable(s), while R-squared measures the strength and direction of the linear relationship between two variables.\n",
    "\n",
    "- C) The correlation coefficient is a standardized measure, while R-squared is a raw measure.\n",
    "\n",
    "- D) There is no difference between the two, they are interchangeable."
   ]
  }
 ],
 "metadata": {
  "language_info": {
   "name": "python"
  },
  "orig_nbformat": 4
 },
 "nbformat": 4,
 "nbformat_minor": 2
}
