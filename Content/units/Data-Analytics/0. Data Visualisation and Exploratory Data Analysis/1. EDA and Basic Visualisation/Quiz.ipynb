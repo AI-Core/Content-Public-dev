{
 "cells": [
  {
   "attachments": {},
   "cell_type": "markdown",
   "metadata": {},
   "source": [
    "# EDA and Basic Visualisation"
   ]
  },
  {
   "attachments": {},
   "cell_type": "markdown",
   "metadata": {},
   "source": [
    "## What is the difference between a population and a sample in statistics?\n",
    "\n",
    "- A) A population is a subset of a sample, while a sample is the entire group being studied\n",
    "- B) A population is a group of individuals, while a sample is a group of variables\n",
    "- C) A population is a group of individuals or objects, while a sample is a subset of that population ***\n",
    "- D) A population is a subset of a sample, while a sample is a subset of a population"
   ]
  },
  {
   "attachments": {},
   "cell_type": "markdown",
   "metadata": {},
   "source": [
    "## Which of the following is an example of a descriptive statistic?\n",
    "\n",
    "- A) The p-value of a hypothesis test\n",
    "- B) The slope of a linear regression line\n",
    "- C) The mean of a sample ***\n",
    "- D) The confidence interval of a population parameter"
   ]
  },
  {
   "attachments": {},
   "cell_type": "markdown",
   "metadata": {},
   "source": [
    "## What is central tendency in statistics?\n",
    "\n",
    "- A) The tendency of data points to be distributed evenly around the mean\n",
    "- B) The tendency of data points to be clustered around a particular value ***\n",
    "- C) The tendency of data points to be highly variable and difficult to summarize\n",
    "- D) The tendency of data points to be skewed towards one end of the distribution"
   ]
  },
  {
   "attachments": {},
   "cell_type": "markdown",
   "metadata": {},
   "source": [
    "## Which of the following statements is true about the difference between mode and mean?\n",
    "\n",
    "- A) The mode is always greater than the mean\n",
    "- B) The mean is always greater than the mode\n",
    "- C) The mode is the most frequently occurring value in a dataset, while the mean is the average value ***\n",
    "- D) The mode is the middle value of a dataset, while the mean is the sum of all values divided by the number of values"
   ]
  },
  {
   "attachments": {},
   "cell_type": "markdown",
   "metadata": {},
   "source": [
    "## Which of the following statements is true about outliers in a dataset?\n",
    "\n",
    "- A) Outliers always indicate an error in the data\n",
    "- B) Outliers are values that are smaller than the mean of the dataset\n",
    "- C) Outliers are values that are significantly different from the other values in the dataset ***\n",
    "- D) Outliers have no effect on the statistical measures of a dataset"
   ]
  },
  {
   "attachments": {},
   "cell_type": "markdown",
   "metadata": {},
   "source": [
    "## Which Pandas method can you use to find the largest values in a dataframe?\n",
    "\n",
    "- A) `max()`\n",
    "- B) `sort_values()`\n",
    "- C) `nlargest()` ***\n",
    "- D) `argmax()`"
   ]
  },
  {
   "attachments": {},
   "cell_type": "markdown",
   "metadata": {},
   "source": [
    "## Which of the following measures is used to describe the spread or variability of a dataset?\n",
    "\n",
    "- A) Mean\n",
    "- B) Median\n",
    "- C) Range ***\n",
    "- D) Mode"
   ]
  },
  {
   "attachments": {},
   "cell_type": "markdown",
   "metadata": {},
   "source": [
    "##  Which of the following statements is true about variance and standard deviation?\n",
    "\n",
    "- A) Variance is the square of the standard deviation\n",
    "- B) Standard deviation is the square of the variance\n",
    "- C) Variance and standard deviation are both measures of central tendency\n",
    "- D) Variance and standard deviation measure the spread or variability of a dataset ***"
   ]
  },
  {
   "attachments": {},
   "cell_type": "markdown",
   "metadata": {},
   "source": [
    "## Which of the following statements is true about Q1, Q2, and Q3?\n",
    "\n",
    "- A) Q1 is the median of the upper half of the dataset ***\n",
    "- B) Q2 is the value that separates the highest 25% of the data from the lowest 75% of the data\n",
    "- C) Q3 is the value that separates the lowest 25% of the data from the highest 75% of the data\n",
    "- D) Q1, Q2, and Q3 are used to describe the central tendency of a dataset"
   ]
  },
  {
   "attachments": {},
   "cell_type": "markdown",
   "metadata": {},
   "source": [
    "## What is the formula for calculating the interquartile range (IQR) of a dataset?\n",
    "\n",
    "- A) IQR = Q3 - Q1 ***\n",
    "- B) IQR = (Q3 - Q1) / 2\n",
    "- C) IQR = (Q3 + Q1) / 2\n",
    "- D) IQR = (Q3 - Q1) * 1.5"
   ]
  },
  {
   "attachments": {},
   "cell_type": "markdown",
   "metadata": {},
   "source": [
    "## Which of the following statements correctly defines the difference between categorical, nominal, and ordinal data?\n",
    "\n",
    "- A) Categorical data is qualitative data that can be sorted into groups or categories, while nominal data is categorical data that has no inherent order, and ordinal data is categorical data that can be ranked or ordered. ***\n",
    "\n",
    "- B) Categorical data is quantitative data that can be sorted into groups or categories, while ordinal data is categorical data that has no inherent order, and nominal data is categorical data that can be ranked or ordered.\n",
    "\n",
    "- C) Nominal data is qualitative data that can be sorted into groups or categories, while categorical data is nominal data that has no inherent order, and ordinal data is categorical data that can be ranked or ordered.\n",
    "\n",
    "- D) Ordinal data is qualitative data that can be sorted into groups or categories, while categorical data is nominal data that has no inherent order, and nominal data is categorical data that can be ranked or ordered."
   ]
  }
 ],
 "metadata": {
  "language_info": {
   "name": "python"
  },
  "orig_nbformat": 4
 },
 "nbformat": 4,
 "nbformat_minor": 2
}
