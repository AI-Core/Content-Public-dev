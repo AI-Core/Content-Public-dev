{
 "cells": [
  {
   "attachments": {},
   "cell_type": "markdown",
   "metadata": {},
   "source": [
    "# Data Visualisation"
   ]
  },
  {
   "attachments": {},
   "cell_type": "markdown",
   "metadata": {},
   "source": [
    "## Which of the following best describes the purpose of Exploratory Data Analysis (EDA)?\n",
    "\n",
    "- A) To predict the future trends in data\n",
    "- B) To confirm a hypothesis or preconceived notion about the data\n",
    "- C) To uncover underlying patterns, relationships, and anomalies in the data ***\n",
    "- D) To visualize data in a presentable format for reports"
   ]
  },
  {
   "attachments": {},
   "cell_type": "markdown",
   "metadata": {},
   "source": [
    "## What is a choropleth map?\n",
    "\n",
    "- A) A map that shows the density of population in a region\n",
    "- B) A map that shows the distribution of temperature across different locations\n",
    "- C) A map that shows the topographical features of a region\n",
    "- D) A map that shows the distribution of a variable across geographic areas ***"
   ]
  },
  {
   "attachments": {},
   "cell_type": "markdown",
   "metadata": {},
   "source": [
    "## What is the best way to visualize categorical data?\n",
    "\n",
    "- A) Scatter plot\n",
    "- B) Histogram\n",
    "- C) Bar chart ***\n",
    "- D) Box plot"
   ]
  },
  {
   "attachments": {},
   "cell_type": "markdown",
   "metadata": {},
   "source": [
    "## What type of data is best suited for a histogram?\n",
    "\n",
    "- A) Categorical data\n",
    "- B) Continuous data ***\n",
    "- C) Discrete data\n",
    "- D) Ordinal data"
   ]
  },
  {
   "attachments": {},
   "cell_type": "markdown",
   "metadata": {},
   "source": [
    "## What type of data is best suited for a scatterplot?\n",
    "\n",
    "- A) Categorical data\n",
    "- B) Continuous data ***\n",
    "- C) Discrete data\n",
    "- D) Nominal data"
   ]
  },
  {
   "attachments": {},
   "cell_type": "markdown",
   "metadata": {},
   "source": [
    "## What are Sankey diagrams used for?\n",
    "\n",
    "- A) Displaying the relationships between variables in a dataset\n",
    "- B) Showing the flow of energy or resources between different stages of a system ***\n",
    "- C) Visualizing the distribution of a variable across a geographic area\n",
    "- D) Comparing the frequencies or counts of different categories"
   ]
  }
 ],
 "metadata": {
  "language_info": {
   "name": "python"
  },
  "orig_nbformat": 4
 },
 "nbformat": 4,
 "nbformat_minor": 2
}
