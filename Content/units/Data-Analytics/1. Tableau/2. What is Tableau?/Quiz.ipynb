{
 "cells": [
  {
   "attachments": {},
   "cell_type": "markdown",
   "metadata": {},
   "source": [
    "# What is Tableau?"
   ]
  },
  {
   "attachments": {},
   "cell_type": "markdown",
   "metadata": {},
   "source": [
    "## What is Tableau?\n",
    "\n",
    "- A. A programming language used for data analysis\n",
    "- B. A cloud-based storage platform for big data\n",
    "- C. A business intelligence and data visualization tool ***\n",
    "- D. A machine learning algorithm for predictive analytics"
   ]
  },
  {
   "attachments": {},
   "cell_type": "markdown",
   "metadata": {},
   "source": [
    "## What is Tableau Prep Builder?\n",
    "\n",
    "- A. A data cleaning and preparation tool ***\n",
    "- B. A data visualization tool\n",
    "- C. A cloud-based storage platform for big data\n",
    "- D. A machine learning algorithm for predictive analytics"
   ]
  },
  {
   "attachments": {},
   "cell_type": "markdown",
   "metadata": {},
   "source": [
    "## What is Tableau Server?\n",
    "\n",
    "- A. A cloud-based storage platform for big data\n",
    "- B. A business intelligence and data visualization tool\n",
    "- C. A data cleaning and preparation tool\n",
    "- D. A web-based platform for sharing and collaborating on Tableau content ***"
   ]
  },
  {
   "attachments": {},
   "cell_type": "markdown",
   "metadata": {},
   "source": [
    "## Which of the following Tableau products allows users to create and edit interactive dashboards and visualizations on their local computer?\n",
    "\n",
    "- A. Tableau Server\n",
    "- B. Tableau Online\n",
    "- C. Tableau Desktop ***\n",
    "- D. Tableau Public\n",
    "- E. Tableau Mobile"
   ]
  },
  {
   "attachments": {},
   "cell_type": "markdown",
   "metadata": {},
   "source": [
    "## Which Tableau product allows you to create and publish interactive dashboards and visualizations on the web, without requiring any software installation?\n",
    "\n",
    "- A. Tableau Desktop\n",
    "- B. Tableau Server\n",
    "- C. Tableau Online ***\n",
    "- D. Tableau Mobile\n",
    "- E. Tableau Public"
   ]
  },
  {
   "attachments": {},
   "cell_type": "markdown",
   "metadata": {},
   "source": [
    "## Which of the following is a key difference between Tableau Desktop, Server, Online, Mobile, and Public?\n",
    "\n",
    "- A. The type of data sources they can connect to\n",
    "- B. The type of devices they can be used on\n",
    "- C. The level of access to features and functionality ***\n",
    "- D. The type of security and privacy controls available"
   ]
  },
  {
   "attachments": {},
   "cell_type": "markdown",
   "metadata": {},
   "source": [
    "## Which of the following is a key feature of Tableau?\n",
    "\n",
    "- A. Data cleaning and preparation tools\n",
    "- B. Interactive dashboards and visualizations ***\n",
    "- C. Cloud-based storage for big data\n",
    "- D. Machine learning algorithms for predictive analytics"
   ]
  }
 ],
 "metadata": {
  "language_info": {
   "name": "python"
  },
  "orig_nbformat": 4
 },
 "nbformat": 4,
 "nbformat_minor": 2
}
