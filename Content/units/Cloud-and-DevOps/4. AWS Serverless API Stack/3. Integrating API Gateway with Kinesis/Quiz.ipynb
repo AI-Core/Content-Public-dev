{
 "cells": [
  {
   "attachments": {},
   "cell_type": "markdown",
   "metadata": {},
   "source": [
    "# Integrating API Gateway with Kinesis"
   ]
  },
  {
   "attachments": {},
   "cell_type": "markdown",
   "metadata": {},
   "source": [
    "## Which of the following AWS services can be used to allow API Gateway to invoke Kinesis actions?\n",
    "\n",
    "- A) IAM Roles ***\n",
    "- B) Lambda Functions\n",
    "- C) CloudFront\n",
    "- D) SNS Topics"
   ]
  }
 ],
 "metadata": {
  "language_info": {
   "name": "python"
  },
  "orig_nbformat": 4
 },
 "nbformat": 4,
 "nbformat_minor": 2
}
