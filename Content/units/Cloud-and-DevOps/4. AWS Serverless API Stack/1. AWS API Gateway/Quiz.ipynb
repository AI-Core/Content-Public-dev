{
 "cells": [
  {
   "attachments": {},
   "cell_type": "markdown",
   "metadata": {},
   "source": [
    "# API Gateway"
   ]
  },
  {
   "attachments": {},
   "cell_type": "markdown",
   "metadata": {},
   "source": [
    "## What is AWS API Gateway?\n",
    "\n",
    "- A) A tool for creating and managing APIs ***\n",
    "- B) A service for managing microservices architecture\n",
    "- C) A database service for managing API data\n",
    "- D) A tool for monitoring API performance"
   ]
  },
  {
   "attachments": {},
   "cell_type": "markdown",
   "metadata": {},
   "source": [
    "## What types of APIs can you create in AWS API Gateway?\n",
    "\n",
    "- A) REST and WebSocket APIs only\n",
    "- B) REST and HTTP APIs only\n",
    "- C) REST, WebSocket, HTTP, and GraphQL APIs\n",
    "- D) REST, HTTP and WebSocket APIs only ***"
   ]
  },
  {
   "attachments": {},
   "cell_type": "markdown",
   "metadata": {},
   "source": [
    "## What are the steps to create a REST API in the AWS API Gateway console?\n",
    "\n",
    "- A) Create a new API, define resources and methods, configure integration with backend services, and deploy the API ***\n",
    "- B) Define resources and methods, create a new API, configure integration with backend services, and deploy the API\n",
    "- C) Create a new API, configure integration with backend services, define resources and methods, and deploy the API\n",
    "- D) Deploy the API, create a new API, define resources and methods, and configure integration with backend services"
   ]
  },
  {
   "attachments": {},
   "cell_type": "markdown",
   "metadata": {},
   "source": [
    "## What is the difference between regional, edge-optimized, and private endpoints in AWS API Gateway?\n",
    "\n",
    "- A) Regional endpoints are deployed in a single AWS region, edge-optimized endpoints use Amazon CloudFront for caching, and private endpoints are only accessible from within a VPC. ***\n",
    "\n",
    "- B) Regional endpoints are accessible from any location, edge-optimized endpoints are only accessible from within a VPC, and private endpoints use Amazon CloudFront for caching.\n",
    "\n",
    "- C) Regional endpoints use Amazon CloudFront for caching, edge-optimized endpoints are deployed in a single AWS region, and private endpoints are accessible from any location.\n",
    "\n",
    "- D) Regional endpoints are only accessible from within a VPC, edge-optimized endpoints use Amazon CloudFront for caching, and private endpoints are deployed in a single AWS region."
   ]
  },
  {
   "attachments": {},
   "cell_type": "markdown",
   "metadata": {},
   "source": [
    "## What is a proxy resource in AWS API Gateway?\n",
    "\n",
    "- A) A resource that is used to handle incoming requests that don't match any defined resource in the API. ***\n",
    "- B) A resource that is used to handle all incoming requests to the API and forward them to the appropriate backend integration.\n",
    "- C) A resource that is used to cache the responses from the backend integrations to improve API performance.\n",
    "- D) A resource that is used to authenticate and authorize incoming requests to the API."
   ]
  },
  {
   "attachments": {},
   "cell_type": "markdown",
   "metadata": {},
   "source": [
    "## What is a proxy integration in AWS API Gateway?\n",
    "\n",
    "- A) An integration type that allows API Gateway to forward incoming requests to an HTTP or HTTPS endpoint without mapping the request to a specific resource. ***\n",
    "\n",
    "- B) An integration type that allows API Gateway to call an AWS Lambda function to handle incoming requests to the API.\n",
    "\n",
    "- C) An integration type that allows API Gateway to call a backend service hosted on EC2 instances or on-premises servers.\n",
    "\n",
    "- D) An integration type that allows API Gateway to cache the responses from the backend integrations to improve API performance."
   ]
  },
  {
   "attachments": {},
   "cell_type": "markdown",
   "metadata": {},
   "source": [
    "## What types of integrations are available in AWS API Gateway?\n",
    "\n",
    "- A) HTTP/HTTPS, AWS Lambda, AWS Step Functions, and AWS Service integrations. ***\n",
    "- B) HTTP/HTTPS, AWS Lambda, and AWS SNS integrations.\n",
    "- C) HTTP/HTTPS, AWS Lambda, and AWS DynamoDB integrations.\n",
    "- D) HTTP/HTTPS, AWS Lambda, and AWS S3 integrations.\n",
    "\n"
   ]
  },
  {
   "attachments": {},
   "cell_type": "markdown",
   "metadata": {},
   "source": [
    "## What is the purpose of the deployment stage in AWS API Gateway?\n",
    "\n",
    "- A) To create a snapshot of the API configuration and associated resources at a specific point in time.\n",
    "- B) To deploy the API to a specific environment, such as a development, staging, or production environment. ***\n",
    "- C) To test the API before making it publicly available to API consumers.\n",
    "- D) To configure the access control policies and permissions for the API resources.\n",
    "\n"
   ]
  }
 ],
 "metadata": {
  "language_info": {
   "name": "python"
  },
  "orig_nbformat": 4
 },
 "nbformat": 4,
 "nbformat_minor": 2
}
