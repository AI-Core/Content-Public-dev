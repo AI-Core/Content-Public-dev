{
 "cells": [
  {
   "attachments": {},
   "cell_type": "markdown",
   "metadata": {},
   "source": [
    "# Integrating API Gateway with Kafka"
   ]
  },
  {
   "attachments": {},
   "cell_type": "markdown",
   "metadata": {},
   "source": [
    "## Which of the following is NOT a recommended step for building a Kafka REST Proxy integration in an API gateway?\n",
    "\n",
    "- Ensure the API gateway has access to the Kafka cluster\n",
    "- Create a REST API endpoint in the API gateway that maps to a Kafka topic\n",
    "- Configure the API gateway to use the Kafka REST Proxy URL as the endpoint for the Kafka topic\n",
    "- Integrate the Kafka REST Proxy directly into the API gateway server without any additional configuration ***"
   ]
  },
  {
   "attachments": {},
   "cell_type": "markdown",
   "metadata": {},
   "source": [
    "## Which of the following is the primary benefit of using a Kafka REST Proxy integration in an API gateway?\n",
    "\n",
    "- Increased security for communication between RESTful APIs and Kafka topics\n",
    "- Decreased latency for message delivery between RESTful APIs and Kafka topics\n",
    "- Simplified configuration for API gateway and Kafka cluster communication ***\n",
    "- Increased throughput for message processing between RESTful APIs and Kafka topics"
   ]
  },
  {
   "attachments": {},
   "cell_type": "markdown",
   "metadata": {},
   "source": [
    "## What is the purpose of the endpoint for a Kafka REST Proxy integration in an API gateway?\n",
    "\n",
    "- To provide a standardized HTTP interface for communication between RESTful APIs and Kafka topics ***\n",
    "- To authenticate and authorize requests to the Kafka cluster\n",
    "- To optimize message delivery latency between RESTful APIs and Kafka topics\n",
    "- To increase the throughput of message processing between RESTful APIs and Kafka topics\n",
    "\n"
   ]
  },
  {
   "attachments": {},
   "cell_type": "markdown",
   "metadata": {},
   "source": [
    "## What is the Confluent package for Kafka REST Proxy?\n",
    "\n",
    "- A standalone server that provides a RESTful interface for communication with Kafka\n",
    "- A collection of libraries and tools for working with Kafka, including a REST Proxy ***\n",
    "- A software development kit for building RESTful APIs that integrate with Kafka\n",
    "- A cloud-based platform for managing Kafka clusters and RESTful API integrations"
   ]
  },
  {
   "attachments": {},
   "cell_type": "markdown",
   "metadata": {},
   "source": [
    "## What is the purpose of the `kafka-rest.properties` file in a Kafka REST Proxy installation?\n",
    "\n",
    "- To specify the configuration options for the Kafka REST Proxy server ***\n",
    "- To define the schema for messages being sent to and received from Kafka\n",
    "- To only provide authentication credentials for accessing the Kafka cluster\n",
    "- To configure the API gateway for communication with the Kafka REST Proxy"
   ]
  },
  {
   "attachments": {},
   "cell_type": "markdown",
   "metadata": {},
   "source": [
    "## What command is used to start the Kafka REST Proxy?\n",
    "\n",
    "- `kafka-rest-start` ***\n",
    "- `kafka-server-start`\n",
    "- `kafka-rest-proxy`\n",
    "- `kafka-proxy-start`\n"
   ]
  },
  {
   "attachments": {},
   "cell_type": "markdown",
   "metadata": {},
   "source": [
    "## What is the recommended way to send data from Python to an API in an API Gateway with Kafka REST integration?\n",
    "\n",
    "- Use the Kafka client libraries directly in the Python code to publish messages to the Kafka topic\n",
    "- Use the requests library in Python to send HTTP requests to the Kafka REST Proxy endpoint in the API Gateway ***\n",
    "- Use a third-party Python library to interact with the Kafka REST Proxy endpoint in the API Gateway\n",
    "- Use the AWS SDK for Python to send messages to the Kafka topic through the API Gateway"
   ]
  }
 ],
 "metadata": {
  "language_info": {
   "name": "python"
  },
  "orig_nbformat": 4
 },
 "nbformat": 4,
 "nbformat_minor": 2
}
