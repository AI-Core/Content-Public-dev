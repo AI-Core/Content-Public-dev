{
 "cells": [
  {
   "attachments": {},
   "cell_type": "markdown",
   "metadata": {},
   "source": [
    "# AWS Kinesis"
   ]
  },
  {
   "attachments": {},
   "cell_type": "markdown",
   "metadata": {},
   "source": [
    "## Which of the following is NOT one of the four services offered by AWS Kinesis?\n",
    "\n",
    "- A) Amazon Kinesis Video Streams\n",
    "- B) Amazon Kinesis Data Firehose\n",
    "- C) Amazon Kinesis Data Analytics\n",
    "- D) Amazon Kinesis Data Warehouse ***"
   ]
  },
  {
   "attachments": {},
   "cell_type": "markdown",
   "metadata": {},
   "source": [
    "## Which of the following statements best describes AWS Kinesis?\n",
    "\n",
    "- A) A database service for storing and retrieving data\n",
    "- B) A serverless computing platform for building and running applications\n",
    "- C) A managed streaming service for processing real-time data ***\n",
    "- D) A content delivery network for accelerating the delivery of web content"
   ]
  },
  {
   "attachments": {},
   "cell_type": "markdown",
   "metadata": {},
   "source": [
    "## Which of the following AWS Kinesis services is best suited for capturing, processing, and storing real-time data streams at scale?\n",
    "\n",
    "- A) Amazon Kinesis Data Streams ***\n",
    "- B) Amazon Kinesis Data Firehose\n",
    "- C) Amazon Kinesis Video Streams\n",
    "- D) Amazon Kinesis Data Analytics"
   ]
  },
  {
   "attachments": {},
   "cell_type": "markdown",
   "metadata": {},
   "source": [
    "## Which AWS Kinesis service is best suited for real-time data analysis and provides the ability to run SQL queries against streaming data, generate real-time metrics, and create custom dashboards?\n",
    "\n",
    "- A) Amazon Kinesis Data Streams\n",
    "- B) Amazon Kinesis Data Firehose\n",
    "- C) Amazon Kinesis Video Streams\n",
    "- D) Amazon Kinesis Data Analytics ***\n",
    "\n"
   ]
  },
  {
   "attachments": {},
   "cell_type": "markdown",
   "metadata": {},
   "source": [
    "## Which of the following is a key difference between Amazon Kinesis Data Firehose and Amazon Kinesis Data Streams?\n",
    "\n",
    "- A) Data Firehose is designed for video streams, while Data Streams is designed for generic data streams\n",
    "- B) Data Streams can process data in real-time, while Data Firehose only provides near real-time processing\n",
    "- C) Data Firehose can automatically transform and deliver data to destinations, while Data Streams requires custom coding for data delivery ***\n",
    "- D) Data Streams supports parallel processing of data across multiple shards, while Data Firehose can only process data serially."
   ]
  },
  {
   "attachments": {},
   "cell_type": "markdown",
   "metadata": {},
   "source": [
    "## What is a shard in Amazon Kinesis Data Streams?\n",
    "\n",
    "- A) A storage unit for storing data records in a Kinesis stream \n",
    "- B) A data processing unit that can read and write data records in parallel ***\n",
    "- C) A scalable compute resource for running real-time analytics on data streams\n",
    "- D) A streaming endpoint for delivering data records to downstream applications"
   ]
  },
  {
   "attachments": {},
   "cell_type": "markdown",
   "metadata": {},
   "source": [
    "## What does an Amazon Kinesis Data Streams shard contain?\n",
    "\n",
    "- A) A sequence number and one or more data records ***\n",
    "- B) A partition key and one or more data records\n",
    "- C) A list of AWS IAM users with access to the shard\n",
    "- D) A copy of the entire Kinesis stream data at a given point in time"
   ]
  },
  {
   "attachments": {},
   "cell_type": "markdown",
   "metadata": {},
   "source": [
    "## Which of the following is used to uniquely identify a data record in an Amazon Kinesis Data Stream?\n",
    "\n",
    "- A) The partition key\n",
    "- B) The sequence number ***\n",
    "- C) The data blob\n",
    "- D) The producer ID"
   ]
  },
  {
   "attachments": {},
   "cell_type": "markdown",
   "metadata": {},
   "source": [
    "## What is a data blob in Amazon Kinesis Data Streams?\n",
    "\n",
    "- A) The actual data of a data record ***\n",
    "- B) The unique identifier of a data record\n",
    "- C) The data processing unit of a Kinesis stream\n",
    "- D) The endpoint for delivering data records to downstream applications"
   ]
  },
  {
   "attachments": {},
   "cell_type": "markdown",
   "metadata": {},
   "source": [
    "## What is a partition key in Amazon Kinesis Data Streams?\n",
    "\n",
    "- A) A string that determines the shard that a data record belongs to ***\n",
    "- B) A unique identifier for a data record in a Kinesis stream\n",
    "- C) A data processing unit that can read and write data records in parallel\n",
    "- D) A serialized binary data of a data record\n",
    "\n"
   ]
  },
  {
   "attachments": {},
   "cell_type": "markdown",
   "metadata": {},
   "source": [
    "## How does the sequence number increase over time in Amazon Kinesis Data Streams?\n",
    "\n",
    "- A) The sequence number increases in ascending order over time for each shard in the stream. ***\n",
    "- B) The sequence number is randomly generated for each data record added to the stream.\n",
    "- C) The sequence number is determined by the size of the data blob for each record.\n",
    "- D) The sequence number is based on the producer ID for each data record."
   ]
  },
  {
   "attachments": {},
   "cell_type": "markdown",
   "metadata": {},
   "source": [
    "## What are the key differences between Amazon Kinesis Data Streams and Amazon Kinesis Data Firehose?\n",
    "\n",
    "- A) Data Streams supports custom processing applications, while Data Firehose is designed for simpler data delivery use cases. ***\n",
    "- B) Data Firehose supports real-time processing of data, while Data Streams is designed for batch processing use cases.\n",
    "- C) Data Streams is a fully managed service, while Data Firehose requires you to provision and manage your own resources.\n",
    "- D) Data Firehose supports multiple output destinations, while Data Streams only supports delivery to one destination.\n",
    "\n"
   ]
  }
 ],
 "metadata": {
  "language_info": {
   "name": "python"
  },
  "orig_nbformat": 4
 },
 "nbformat": 4,
 "nbformat_minor": 2
}
