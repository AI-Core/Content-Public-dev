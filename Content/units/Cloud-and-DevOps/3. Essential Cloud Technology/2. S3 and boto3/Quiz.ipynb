{
 "cells": [
  {
   "attachments": {},
   "cell_type": "markdown",
   "metadata": {},
   "source": [
    "# S3 and boto3"
   ]
  },
  {
   "attachments": {},
   "cell_type": "markdown",
   "metadata": {},
   "source": [
    "## Which of the following statements best describes Amazon S3?\n",
    "\n",
    "- A) Amazon S3 is a managed database service that allows you to store, retrieve, and manage structured data easily.\n",
    "\n",
    "- B) Amazon S3 is a managed file storage service that allows you to store and retrieve any amount of data from anywhere on the internet. ***\n",
    "\n",
    "- C) Amazon S3 is a virtual private network that allows you to securely connect your on-premises environment to the AWS Cloud.\n",
    "\n",
    "- D) Amazon S3 is a service that allows you to deploy and manage containers on the AWS Cloud."
   ]
  },
  {
   "attachments": {},
   "cell_type": "markdown",
   "metadata": {},
   "source": [
    "## Which of the following are True about S3 buckets?\n",
    "\n",
    "- 1. A S3 bucket is a container for objects stored in Amazon S3\n",
    "- 2. You can store any number of objects in a bucket\n",
    "- 3. You can have multiple buckets in the same AWS account\n",
    "- 4. The bucket name must be unique across all accounts in AWS\n",
    "\n",
    "Select the answer:\n",
    "- A) 1 and 2\n",
    "- B) 1, 2 and 3\n",
    "- C) 1, 2, 3 and 4 ***\n",
    "- D) 1 and 3"
   ]
  },
  {
   "attachments": {},
   "cell_type": "markdown",
   "metadata": {},
   "source": [
    "## Which of the following steps is required to create an S3 bucket in AWS using the AWS Management Console?\n",
    "\n",
    " - A) Choose the desired region for the bucket.\n",
    "\n",
    "- B) Specify the bucket access control settings.\n",
    "\n",
    "- C) Select the type of storage class for the bucket.\n",
    "\n",
    "- D) All of the above. ***"
   ]
  },
  {
   "attachments": {},
   "cell_type": "markdown",
   "metadata": {},
   "source": [
    "## What is an IAM user in AWS?\n",
    "\n",
    "- A) A user who can access and manage AWS resources and services. ***\n",
    "\n",
    "- B) A user who can only access AWS resources and services through a root account.\n",
    "\n",
    "- C) A user who can only access and manage resources and services within a specific AWS region.\n",
    "\n",
    "- D) A user who can only access AWS resources and services through an API."
   ]
  },
  {
   "attachments": {},
   "cell_type": "markdown",
   "metadata": {},
   "source": [
    "## What is AWS CLI?\n",
    "\n",
    "- A) A graphical user interface tool for managing AWS resources and services.\n",
    "\n",
    "- B) A command-line interface tool for managing AWS resources and services. ***\n",
    "\n",
    "- D) A web-based interface for managing AWS resources and services.\n",
    "\n",
    "- D) An open-source tool for managing AWS resources and services."
   ]
  },
  {
   "attachments": {},
   "cell_type": "markdown",
   "metadata": {},
   "source": [
    "## Which command is used to configure the AWS CLI?\n",
    "\n",
    "- A) `aws config`\n",
    "\n",
    "- B) `aws configure` ***\n",
    "\n",
    "- C) `aws setup`\n",
    "\n",
    "- D) `aws setup-cli`"
   ]
  },
  {
   "attachments": {},
   "cell_type": "markdown",
   "metadata": {},
   "source": [
    "## What do you need to configure in AWS CLI?\n",
    "\n",
    "- A) AWS account name and password\n",
    "\n",
    "- B) AWS access key ID, secret access key, default region name, and default output format ***\n",
    "\n",
    "- C) AWS security groups and network settings\n",
    "\n",
    "- D) AWS virtual private cloud (VPC) settings"
   ]
  },
  {
   "attachments": {},
   "cell_type": "markdown",
   "metadata": {},
   "source": [
    "## What is `boto3`?\n",
    "\n",
    "- A) A database management system\n",
    "\n",
    "- B) A web application framework\n",
    "\n",
    "- C) A software development kit (SDK) for Python that provides an interface to AWS services ***\n",
    "\n",
    "- D) A cloud-based file storage service"
   ]
  },
  {
   "attachments": {},
   "cell_type": "markdown",
   "metadata": {},
   "source": [
    "## How can you make a file in an S3 bucket public?\n",
    "\n",
    "- A) Set the file permissions to \"public\" using the AWS Management Console.\n",
    "\n",
    "- B) Enable public access for the entire S3 bucket using the AWS Management Console.\n",
    "\n",
    "- C) Modify the bucket policy to allow public access to the file, if public access wasn't blocked on creation. ***\n",
    "\n",
    "- D) Use the AWS CLI to run the \"s3 make-public\" command on the file."
   ]
  }
 ],
 "metadata": {
  "language_info": {
   "name": "python"
  },
  "orig_nbformat": 4
 },
 "nbformat": 4,
 "nbformat_minor": 2
}
