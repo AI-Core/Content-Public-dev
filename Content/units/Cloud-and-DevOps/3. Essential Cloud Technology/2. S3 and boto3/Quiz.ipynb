{
 "cells": [
  {
   "attachments": {},
   "cell_type": "markdown",
   "metadata": {},
   "source": [
    "# S3 and boto3"
   ]
  },
  {
   "attachments": {},
   "cell_type": "markdown",
   "metadata": {},
   "source": [
    "## Which of the following statements best describes Amazon S3?\n",
    "\n",
    "- Amazon S3 is a managed database service that allows you to store, retrieve, and manage structured data easily\n",
    "\n",
    "- Amazon S3 is a managed file storage service that allows you to store and retrieve any amount of data from anywhere on the internet ***\n",
    "\n",
    "- Amazon S3 is a virtual private network that allows you to securely connect your on-premises environment to the AWS Cloud\n",
    "\n",
    "- Amazon S3 is a service that allows you to deploy and manage containers on the AWS Cloud"
   ]
  },
  {
   "attachments": {},
   "cell_type": "markdown",
   "metadata": {},
   "source": [
    "## Which of the following are True about S3 buckets?\n",
    "\n",
    "- 1. A S3 bucket is a container for objects stored in Amazon S3\n",
    "- 2. You can store any number of objects in a bucket\n",
    "- 3. You can have multiple buckets in the same AWS account\n",
    "- 4. The bucket name must be unique across all accounts in AWS\n",
    "\n",
    "Select the answer:\n",
    "- 1 and 2\n",
    "- 1, 2 and 3\n",
    "- 1, 2, 3 and 4 ***\n",
    "- 1 and 3"
   ]
  },
  {
   "attachments": {},
   "cell_type": "markdown",
   "metadata": {},
   "source": [
    "## Which of the following steps is required to create an S3 bucket in AWS using the AWS Management Console?\n",
    "\n",
    " - Choose the desired region for the bucket\n",
    "\n",
    "- Specify the bucket access control settings\n",
    "\n",
    "- Select the type of storage class for the bucket\n",
    "\n",
    "- All answers are correct ***"
   ]
  },
  {
   "attachments": {},
   "cell_type": "markdown",
   "metadata": {},
   "source": [
    "## What is an IAM user in AWS?\n",
    "\n",
    "- A user who can access and manage AWS resources and services ***\n",
    "\n",
    "- A user who can only access AWS resources and services through a root account\n",
    "\n",
    "- A user who can only access and manage resources and services within a specific AWS region\n",
    "\n",
    "- A user who can only access AWS resources and services through an API"
   ]
  },
  {
   "attachments": {},
   "cell_type": "markdown",
   "metadata": {},
   "source": [
    "## What is AWS CLI?\n",
    "\n",
    "- A graphical user interface tool for managing AWS resources and services\n",
    "\n",
    "- A command-line interface tool for managing AWS resources and services ***\n",
    "\n",
    "- A web-based interface for managing AWS resources and services\n",
    "\n",
    "- An open-source tool for managing AWS resources and services"
   ]
  },
  {
   "attachments": {},
   "cell_type": "markdown",
   "metadata": {},
   "source": [
    "## Which command is used to configure the AWS CLI?\n",
    "\n",
    "- `aws config`\n",
    "\n",
    "- `aws configure` ***\n",
    "\n",
    "- `aws setup`\n",
    "\n",
    "- `aws setup-cli`"
   ]
  },
  {
   "attachments": {},
   "cell_type": "markdown",
   "metadata": {},
   "source": [
    "## What do you need to configure in AWS CLI?\n",
    "\n",
    "- AWS account name and password\n",
    "\n",
    "- AWS access key ID, secret access key, default region name, and default output format ***\n",
    "\n",
    "- AWS security groups and network settings\n",
    "\n",
    "- AWS virtual private cloud (VPC) settings"
   ]
  },
  {
   "attachments": {},
   "cell_type": "markdown",
   "metadata": {},
   "source": [
    "## What is boto3?\n",
    "\n",
    "- A database management system\n",
    "\n",
    "- A web application framework\n",
    "\n",
    "- A software development kit (SDK) for Python that provides an interface to AWS services ***\n",
    "\n",
    "- A cloud-based file storage service"
   ]
  },
  {
   "attachments": {},
   "cell_type": "markdown",
   "metadata": {},
   "source": [
    "## How can you make a file in an S3 bucket public?\n",
    "\n",
    "- Set the file permissions to \"public\" using the AWS Management Console\n",
    "\n",
    "- Enable public access for the entire S3 bucket using the AWS Management Console\n",
    "\n",
    "- Modify the bucket policy to allow public access to the file, if public access wasn't blocked on creation ***\n",
    "\n",
    "- Use the AWS CLI to run the \"s3 make-public\" command on the file"
   ]
  }
 ],
 "metadata": {
  "language_info": {
   "name": "python"
  },
  "orig_nbformat": 4
 },
 "nbformat": 4,
 "nbformat_minor": 2
}
