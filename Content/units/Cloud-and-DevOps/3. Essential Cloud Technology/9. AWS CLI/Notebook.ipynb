{
 "cells": [
  {
   "attachments": {},
   "cell_type": "markdown",
   "metadata": {},
   "source": [
    "# AWS CLI"
   ]
  },
  {
   "attachments": {},
   "cell_type": "markdown",
   "metadata": {},
   "source": [
    "The *AWS Command Line Interface (AWS CLI)* is a powerful tool that allows users to interact with various Amazon Web Services (AWS) resources and services through a command-line interface. It provides a command-line alternative to the AWS Management Console, enabling users to manage and automate their AWS infrastructure more efficiently.\n",
    "\n",
    "The main purpose of AWS CLI is to simplify and streamline the management of AWS resources and services. It provides a consistent and unified interface across different AWS services, allowing users to perform administrative tasks, configure services, and access resources from their local machines using a set of commands."
   ]
  },
  {
   "attachments": {},
   "cell_type": "markdown",
   "metadata": {},
   "source": [
    "## Benefits of Using AWS CLI\n",
    "\n",
    "Using AWS CLI offers several benefits over other management interfaces like the AWS Management Console:\n",
    "- **Automation and Scripting**: AWS CLI enables users to automate various AWS tasks, such as provisioning resources, configuring services, and managing deployments. By writing scripts or incorporating AWS CLI commands into automation workflows, users can achieve greater efficiency, repeatability, and scalability.\n",
    "\n",
    "- **Flexibility and Customization**: With AWS CLI, users have granular control over their AWS resources and services. They can tailor commands to their specific needs, combining them with other command-line tools or integrating them into custom scripts and applications.\n",
    "\n",
    "- **Command-Line Efficiency**: For users comfortable with command-line interfaces, AWS CLI provides a fast and efficient way to interact with AWS. It eliminates the need to navigate through web-based interfaces, reducing manual steps and allowing for quicker execution of commands.\n",
    "\n",
    "- **Portability and Reproducibility**: AWS CLI commands can be easily shared, version-controlled, and reproduced across different environments. This simplifies collaboration and ensures consistency in managing AWS infrastructure across teams and development stages."
   ]
  },
  {
   "attachments": {},
   "cell_type": "markdown",
   "metadata": {},
   "source": [
    "## Installing and Configuring AWS CLI\n",
    "\n",
    "AWS CLI can be installed on various operating systems, including Windows, macOS, and Linux. Once installed, it needs to be configured with access credentials and additional settings. In this section, we will walk through the installation process and configuration steps.\n",
    "\n",
    "### Installing AWS CLI\n",
    "\n",
    "#### Windows\n",
    "\n",
    "1. Visit the AWS Command Line Interface (CLI) Downloads page: https://aws.amazon.com/cli/.\n",
    "\n",
    "<p align=\"center\">\n",
    "    <img src=\"images/CLI-website.png\" height=\"300\" width=\"500\"/>\n",
    "</p>\n",
    "\n",
    "2. Click on the **Download and run the 64-bit Windows installer** link to download the installer.\n",
    "3. Run the downloaded installer (`.msi` file) and follow the on-screen instructions.\n",
    "4. Choose the installation directory and select the **Add AWS CLI to system PATH** option for easier command execution.\n",
    "5. Complete the installation process by clicking **Next** and then **Install**.\n",
    "6. Open a new command prompt (Git Bash) and verify the installation by running the command `aws --version`.\n",
    "\n",
    "#### macOS\n",
    "\n",
    "1. Open a terminal window.\n",
    "2. Install Homebrew (a package manager for macOS) if you haven't already. Visit the Homebrew website (https://brew.sh/) and follow the installation instructions.\n",
    "3. Once Homebrew is installed, run the following command in the terminal: `brew install awscli`.\n",
    "4. After the installation is complete, verify it by running the command `aws --version`.\n",
    "\n",
    "#### Linux\n",
    "\n",
    "1. Open a terminal window.\n",
    "2. Use the package manager specific to your Linux distribution to install AWS CLI. For example, on Ubuntu, run the following command: `sudo apt-get install awscli`.\n",
    "3. After the installation is complete, verify it by running the command `aws --version`."
   ]
  }
 ],
 "metadata": {
  "language_info": {
   "name": "python"
  }
 },
 "nbformat": 4,
 "nbformat_minor": 2
}
