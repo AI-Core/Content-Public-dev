{
 "cells": [
  {
   "attachments": {},
   "cell_type": "markdown",
   "metadata": {},
   "source": [
    "# MSK Essentials"
   ]
  },
  {
   "attachments": {},
   "cell_type": "markdown",
   "metadata": {},
   "source": [
    "## Which of the following components are included in Amazon MSK?\n",
    "\n",
    "- A) Apache Kafka brokers\n",
    "- B) Apache ZooKeeper\n",
    "- C) Kafka Connect\n",
    "- D) All of the above ***"
   ]
  },
  {
   "attachments": {},
   "cell_type": "markdown",
   "metadata": {},
   "source": [
    "## What are broker nodes in Amazon MSK?\n",
    "\n",
    "- A) Virtual machines that run Apache Kafka ***\n",
    "- B) Cloud storage services for message data\n",
    "- C) Nodes that manage configuration information\n",
    "- D) Network load balancers for routing traffic\n",
    "\n"
   ]
  },
  {
   "attachments": {},
   "cell_type": "markdown",
   "metadata": {},
   "source": [
    "## What is the role of ZooKeeper nodes in Amazon MSK?\n",
    "\n",
    "- A) To manage message processing and storage\n",
    "- B) To handle cluster coordination and configuration ***\n",
    "- C) To provide network load balancing for broker nodes\n",
    "- D) To store and manage external data sources and sinks"
   ]
  },
  {
   "attachments": {},
   "cell_type": "markdown",
   "metadata": {},
   "source": [
    "## What are producers, consumers, and topics in Amazon MSK?\n",
    "\n",
    "- A) Network load balancers for routing traffic to broker nodes\n",
    "- B) Nodes that manage configuration information for Kafka clusters\n",
    "- C) Components for handling message processing and storage\n",
    "- D) Entities for sending, receiving, and categorizing messages in a Kafka cluster ***"
   ]
  },
  {
   "attachments": {},
   "cell_type": "markdown",
   "metadata": {},
   "source": [
    "## Which of the following is a cluster operation that can be performed in Amazon MSK?\n",
    "\n",
    "- A) Creating a virtual machine\n",
    "- B) Installing software packages\n",
    "- C) Scaling up or down the number of broker nodes ***\n",
    "- D) Allocating storage volumes"
   ]
  },
  {
   "attachments": {},
   "cell_type": "markdown",
   "metadata": {},
   "source": [
    "## Which of the following is a benefit of using Amazon MSK?\n",
    "\n",
    "- A) Ability to process batch data in real-time\n",
    "- B) Automatic scaling to handle changing workloads ***\n",
    "- C) Integration with machine learning models\n",
    "- D) Support for multiple programming languages\n",
    "\n"
   ]
  },
  {
   "attachments": {},
   "cell_type": "markdown",
   "metadata": {},
   "source": [
    "## What is the availability model for Amazon MSK?\n",
    "\n",
    "- A) Single Availability Zone (AZ)\n",
    "- B) Multi-AZ ***\n",
    "- C) Regional\n",
    "- D) Global"
   ]
  },
  {
   "attachments": {},
   "cell_type": "markdown",
   "metadata": {},
   "source": [
    "## How does Amazon MSK ensure high availability of Kafka clusters?\n",
    "\n",
    "- A) By providing multiple options for data storage\n",
    "- B) By replicating data across multiple broker nodes ***\n",
    "- C) By integrating with machine learning models\n",
    "- D) By providing automatic load balancing for network traffic"
   ]
  },
  {
   "attachments": {},
   "cell_type": "markdown",
   "metadata": {},
   "source": [
    "## Which of the following is a step in creating an Amazon MSK cluster in the AWS Management Console?\n",
    "\n",
    "- 1) Launch an EC2 instance, install Kafka, and configure ZooKeeper\n",
    "- 2) Selecting a storage volume size for each broker node \n",
    "- 3) Selecting the region where the cluster will be located \n",
    "- 4) Select the Kafka version to use\n",
    "\n",
    "The correct answer is:\n",
    "- A) 1 and 2\n",
    "- B) 2 and 3 \n",
    "- C) 2, 3 and 4 ***\n",
    "- D) all the above "
   ]
  },
  {
   "attachments": {},
   "cell_type": "markdown",
   "metadata": {},
   "source": [
    "## What is the Bootstrap server string in Amazon MSK?\n",
    "\n",
    "- A) A list of all the broker nodes in the cluster ***\n",
    "- B) A configuration setting for data retention policies\n",
    "- C) A security group for controlling network access to the cluster\n",
    "- D) A file system mount point for Kafka data"
   ]
  },
  {
   "attachments": {},
   "cell_type": "markdown",
   "metadata": {},
   "source": [
    "## What is the Apache ZooKeeper connection string in Amazon MSK?\n",
    "\n",
    "- A) A list of all the broker nodes in the cluster\n",
    "- B) A configuration setting for data retention policies\n",
    "- C) A security group for controlling network access to the cluster\n",
    "- D) A list of ZooKeeper nodes used for cluster coordination and configuration management ***"
   ]
  },
  {
   "attachments": {},
   "cell_type": "markdown",
   "metadata": {},
   "source": [
    "## What AWS CLI command can be used to retrieve information about an Amazon MSK cluster?\n",
    "\n",
    "- A) `aws kafka describe-cluster --cluster-arn <cluster-arn>` ***\n",
    "- B) `aws kafka get-cluster-info --cluster-arn <cluster-arn>`\n",
    "- C) `aws kafka list-clusters --cluster-arn <cluster-arn>`\n",
    "- D) `aws kafka get-cluster-arn --cluster-info <cluster-name>`"
   ]
  },
  {
   "attachments": {},
   "cell_type": "markdown",
   "metadata": {},
   "source": [
    "## What is the cluster ARN in Amazon MSK?\n",
    "\n",
    "- A) An identifier for a Kafka topic in the cluster\n",
    "- B) A unique name for a Kafka producer or consumer\n",
    "- C) An Amazon Resource Name (ARN) that uniquely identifies an MSK cluster in AWS ***\n",
    "- D) A configuration setting for managing data retention policies in the cluster\n",
    "\n"
   ]
  },
  {
   "attachments": {},
   "cell_type": "markdown",
   "metadata": {},
   "source": [
    "## What AWS CLI command can be used to retrieve the bootstrap brokers in an Amazon MSK cluster?\n",
    "\n",
    "- A) `aws kafka list-bootstrap-brokers --cluster-name <cluster-name>`\n",
    "- B) `aws kafka get-bootstrap-brokers --cluster-arn <cluster-arn>` ***\n",
    "- C) `aws kafka describe-cluster --cluster-arn <cluster-arn>`\n",
    "- D) `aws kafka get-broker-nodes --cluster-arn <cluster-arn>`"
   ]
  },
  {
   "attachments": {},
   "cell_type": "markdown",
   "metadata": {},
   "source": [
    "##  What are the steps for sending data from an EC2 client to an Amazon MSK cluster?\n",
    "\n",
    "- A) Set up an S3 bucket, configure an AWS Lambda function to read data from the bucket and write to the MSK cluster, and trigger the Lambda function with an S3 event notification.\n",
    "\n",
    "- B) Create an IAM role with permissions to write data to the MSK cluster, configure a Kafka producer application on the EC2 instance to use the IAM role, and send data to the cluster using the producer application.\n",
    "\n",
    "- C) Configure security groups to allow inbound traffic to the MSK cluster from the EC2 instance, configure a Kafka producer application on the EC2 instance to use the bootstrap brokers for the cluster, and send data to the cluster using the producer application. ***\n",
    "\n",
    "- D) Install the AWS CLI on the EC2 instance, run the aws msk describe-cluster command to retrieve information about the cluster, and use the information to manually create a Kafka producer application that sends data to the cluster."
   ]
  },
  {
   "attachments": {},
   "cell_type": "markdown",
   "metadata": {},
   "source": [
    "## What is the purpose of the client.properties file when using IAM authentication to connect a Kafka client to an Amazon MSK cluster?\n",
    "\n",
    "- A) To specify the SSL/TLS encryption configuration for the client's communication with the MSK cluster.\n",
    "- B) To specify the bootstrap servers for the client's connection to the MSK cluster.\n",
    "- C) To specify the SASL mechanism and authentication protocol for the client's authentication to the MSK cluster. ***\n",
    "- D) To specify the IAM role ARN and AWS region for the client's authentication to the MSK cluster."
   ]
  }
 ],
 "metadata": {
  "language_info": {
   "name": "python"
  },
  "orig_nbformat": 4
 },
 "nbformat": 4,
 "nbformat_minor": 2
}
