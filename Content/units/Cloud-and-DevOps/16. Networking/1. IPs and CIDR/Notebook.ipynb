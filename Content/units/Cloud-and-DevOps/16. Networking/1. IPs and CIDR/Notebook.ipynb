{
 "cells": [
  {
   "cell_type": "markdown",
   "metadata": {},
   "source": [
    "# IPs and CIDR"
   ]
  },
  {
   "cell_type": "markdown",
   "metadata": {},
   "source": [
    "Every machine and server connected to the internet has a uniquely identifiable sequence of numbers called an IP address. They ensure data are sent to and from the correct machines when connected over a network.\n",
    "\n",
    "This notebook will explore the following key concepts to do with IPs:\n",
    "- IP address notation (IPv4 vs IPv6)\n",
    "- Public vs private IPs\n",
    "- NAT \n",
    "- CIDR notation and ranges\n",
    "\n",
    "## IP Address Notation\n",
    "### IPv4\n",
    "This is version 4 of the Internet Protocol, and is the most commonly used on the internet today. The actual address is a series of 4 numbers separated by dots. Each of these \n",
    "numbers is 1 byte in size, therefore IPv4 addresses can range from `0.0.0.0` to `255.255.255.255`, since 255 is the maximum number you can reach with 1 byte of memory. \n",
    "\n",
    "1 byte is equivalent to 8 bits (1s or 0s), so an IP address like `172.16.0.0` converted to binary would look like this: `10101100.00010000.00000000.00000000`. This is an important concept to grasp before learning about CIDR notation a bit later in the notebook.\n",
    "\n",
    "There are 4.2 billion possible IPv4 addresses in this range, which may seem like a lot, but they are very quickly running out. To solve this problem, IPv6 addresses were introduced:\n",
    "\n",
    "### IPv6\n",
    "IPv6 addresses are written as 8 sections of 16 bits each, meaning in total they are 128 bits long. This allows for a possible 3.4×10^38 possible IP addresses. The addresses are expressed using hexadecimal notation, so each section can range from `0` to `FFFF`. Sections are delimited by colons, and leading zeros in each section can be omitted. If two or more consecutive sections have all zeros, the sections can be collapsed to a double colon. These are some examples of IPv6 addresses:\n",
    "- `2001:db8:3333:4444:5555:6666:7777:8888`\n",
    "- `2001:db8:3333:4444:CCCC:DDDD:EEEE:FFFF`\n",
    "- `::` (implies all 8 segments are zero)\n",
    "- `2001:db8::` (implies that the last six segments are zero)\n",
    "- `::1234:5678` (implies that the first six segments are zero)\n",
    "- `2001:db8::1234:5678` (implies that the middle four segments are zero)\n",
    "\n",
    "Since IPv6 addresses are so much longer, IPv4 will be used in the rest of this notebook for illustrating further concept to do with IP and CIDR ranges."
   ]
  },
  {
   "cell_type": "markdown",
   "metadata": {},
   "source": [
    "## Public vs Private IPs \n",
    "\n",
    "### Private IPs\n",
    "A range of the total IP addresses available are reserved for private IPs. These are only accessible from inside each Local Area Network (LAN), not the wider internet. Since the reserved ranges are the same globally, each private IP address is **not universally unique**. There are many different private IP address ranges available, but these are a few more commonly known ones:\n",
    "- `127.0.0.0` to `127.255.255.255` are known as *loopback* IP addresses. They are reserved on each device to test networking to itself, otherwise known as *localhost*.\n",
    "- `10.0.0.0` to `10.255.255.255` (Class A)\n",
    "- `172.16.0.0` to `172.31.255.255` (Class B)\n",
    "- `192.168.0.0` to `192.168.255.255` (Class C)\n",
    "\n",
    "### Public IPs\n",
    "A public IP address is assigned to each device by a router so that the device can communicate outside of the local network. They are **globally unique** to each device and are generally assigned by a router whereby it will map the private IP used in the LAN to a public IP accessible in the WAN.\n",
    "\n",
    "### NAT (Network Access Translation)\n",
    "NAT is the process of translating and assigning private IP addresses to public IP addresses, and the reverse. Without NAT, individual devices on a private network (like your home Wi-FI) cannot connect to the internet."
   ]
  },
  {
   "cell_type": "markdown",
   "metadata": {},
   "source": [
    "## CIDR\n",
    "CIDR (Classless Inter-Domain Routing) is a way of grouping a range of IP addresses together for more efficient management and routing. \n",
    "\n",
    "CIDR notation comprises an IP address followed by a forward slash (`/`), then another number, like the large numbers in the below image. The number after the forward slash denotes the number of bits in the IP address that must remain the same, therefore allowing for the rest to change, creating the maximum range of IP addresses available. For example:"
   ]
  },
  {
   "cell_type": "markdown",
   "metadata": {},
   "source": [
    "<p align=center> <img src=images/CIDR.png width=500 height=300> </p>"
   ]
  },
  {
   "cell_type": "markdown",
   "metadata": {},
   "source": [
    ">One of the main purposes of CIDR ranges is that it allows us create our own custom networks connected over the internet, also called *subnets.* Subnets can be made either publicly accessible or private. In order to access a private subnet we have to use NAT, using a service called a *NAT Gateway*. "
   ]
  },
  {
   "cell_type": "markdown",
   "metadata": {},
   "source": [
    "## Key Takeaways\n",
    "- IP addresses make up the address book of the internet. They can be public or private, and certain ranges are reserved to be private IP addresses only.\n",
    "- IPv4 addresses are most commonly used, but they are running out, so IPv6 addresses have been introduced. IPv6 addresses are much longer and have significantly more possible addresses available.\n",
    "- NAT is the process of translating and assigning private IP addresses to public IP addresses, and the reverse\n",
    "- CIDR blocks are ranges of IP addresses denoted by a number at the end of the address. The smaller the number, the more IP addresses in that range. \n",
    "- CIDR blocks allow for us to create subnets, which can be private or public"
   ]
  }
 ],
 "metadata": {
  "language_info": {
   "name": "python"
  }
 },
 "nbformat": 4,
 "nbformat_minor": 2
}
