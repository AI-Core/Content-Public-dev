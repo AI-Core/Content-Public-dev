{
 "cells": [
  {
   "cell_type": "markdown",
   "metadata": {},
   "source": [
    "# IPs and CIDR"
   ]
  },
  {
   "cell_type": "markdown",
   "metadata": {},
   "source": [
    "Every machine and server connected to the internet has a uniquely identifiable sequence of numbers called an *IP address*. They ensure data are sent to and from the correct machines when connected over a network.\n",
    "\n",
    "## IP Address Notation\n",
    "### IPv4\n",
    "This is version 4 of the Internet Protocol, and is the most commonly used on the internet today. The address format is a series of 4 numbers separated by periods. Each of these numbers is 1 byte in size, therefore IPv4 addresses can range from `0.0.0.0` to `255.255.255.255`, since 255 is the maximum number you can reach with 1 byte of memory ($2^8$ = 256).\n",
    "\n",
    "So an IP address like `172.16.0.0` converted to binary would look like this: `10101100.00010000.00000000.00000000`.\n",
    "\n",
    "There are 4,294,967,296 possible IPv4 addresses in this range, which may seem like a lot, but they are very quickly running out. To solve this problem, IPv6 addresses were introduced:\n",
    "\n",
    "### IPv6\n",
    "IPv6 addresses are written as 8 sections of 16 bits each, meaning in total they are 128 bits long. This allows for a possible $3.4×10^{38}$ possible IP addresses. The addresses are expressed using hexadecimal notation, so each section can range from `0` to `FFFF`. Sections are delimited by colons, and leading zeros in each section can be omitted. If two or more consecutive sections have all zeros, the sections can be collapsed to a double colon. These are some examples of IPv6 addresses:\n",
    "- `2001:db8:3333:4444:CCCC:DDDD:5555:FFFF`\n",
    "- `::` (implies all 8 segments are zero)\n",
    "- `2001:db8::1234:5678` (implies that the middle four segments are zero)\n",
    "\n",
    "For simplicity, IPv4 will be used in the rest of this notebook for illustrating further concepts to do with IP and CIDR ranges.\n",
    "\n",
    "### Classful IP Addresses\n",
    "During the early growth of the internet, organisations were given networks of IP addresses defined by classes. It's not important to know exactly how the classes are defined because it is now an obsolete system; the exponential explosion of the internet made this an impractical solution. \n",
    "\n",
    "However, sometimes you will see ranges of IP addresses assigned a certain class, so it's useful to know about when reading any literature on IPs, including for the introduction of CIDR later in this notebook. The following are the three main classes of IP ranges you may encounter:\n",
    "- **Class A:** `0.0.0.0` to `127.255.255.255 ` (128 networks containing 16,777,216 IPs each)\n",
    "- **Class B:** `128.0.0.0` to `191.255.255.255` (16,384 networks containing 65,536 IPs each)\n",
    "- **Class C:** `192.0.0.0` to `223.255.255.255` (2,097,152 networks containing 256 IPs each)"
   ]
  },
  {
   "cell_type": "markdown",
   "metadata": {},
   "source": [
    "## Public vs Private IPs \n",
    "\n",
    "### Private IPs\n",
    "Subsets of the IPv4 address space are reserved for *private IPs*. These are only accessible from inside each Local Area Network (LAN), not the wider internet. Since the reserved ranges are the same globally, each private IP address is not universally unique. There are three IPv4 address ranges reserved for private networks:\n",
    "- `10.0.0.0` to `10.255.255.255` (Class A): This range provides over 16 million addresses for large private networks.\n",
    "- `172.16.0.0` to `172.31.255.255` (Class B): This range contains over 1 million addresses, suitable for medium-sized private networks.\n",
    "- `192.168.0.0` to `192.168.255.255` (Class C): This range has over 65,000 addresses, typically used for small private networks.\n",
    "\n",
    "There is also a special type of private IP address called a *link-local address*, which is generally used for devices to connect to themselves, or other devices on the same Local Area Network. One example of this case is the *loopback interface*, otherwise known as *localhost*: `127.0.0.0` to `127.255.255.255`.\n",
    "\n",
    "\n",
    "### Public IPs\n",
    "A *public IP* address is used by an individual device to communicate with the internet, outside of the local network. They are globally unique to each device and are generally assigned by a router whereby it will map the private IP used in the LAN to a public IP accessible in the WAN.\n",
    "\n",
    "### NAT (Network Access Translation)\n",
    "*NAT* is the process of assigning public IP addresses to devices on a local network, so they can be accessed from outside that network. Without NAT, individual devices on a private network (like your home Wi-FI) cannot connect to the internet.\n",
    "\n",
    "This means two things:\n",
    "- More public IPs are available for use on the internet, because each device in a private network has a distinct private IP address, which then share a public IP address through the process of NAT.\n",
    "- Devices on a local network are secure, because in order to access them you need NAT to convert the public IP addresses to individual private IP addresses. This process generally happens in a router. In other words: private IP addresses are not *traceable* because of NAT."
   ]
  },
  {
   "cell_type": "markdown",
   "metadata": {},
   "source": [
    "## CIDR\n",
    "The previous method of classful grouping became innefficient and inflexible because if an organisation needed one more than 256 IP addresses, for example, then they would have to use a whole extra class C network, a massive waste of IPs. *CIDR (Classless Inter-Domain Routing)* is a way of grouping a range of IP addresses together for more efficient management and routing. \n",
    "\n",
    "CIDR notation comprises an IP address followed by a forward slash (`/`), then another number, like the large numbers in the image below. The number after the forward slash denotes the number of bits in the IP address that must remain the same, therefore allowing for the rest to change, creating the maximum range of IP addresses available. For example:"
   ]
  },
  {
   "cell_type": "markdown",
   "metadata": {},
   "source": [
    "<p align=center> <img src=images/CIDR.png width=500 height=300> </p>"
   ]
  },
  {
   "cell_type": "markdown",
   "metadata": {},
   "source": [
    "The number of possible IP addresses in a CIDR range can be calculated using the following expression: $2^{(32-X)}$, where $X$ is the number after the forward slash. For example, consider the following CIDR range: `192.111.1.0/24`\n",
    "\n",
    "$2^{32-24} = 2^{8} = 256$\n",
    "\n",
    "Therefore there are 256 possible IP addresses in the CIDR range `192.111.1.0/24`.\n",
    "\n",
    "Some more examples of CIDR ranges including how many IP addresses they contain, reusing the private IP addresses already discussed previously:\n",
    "- `10.0.0.0/8`: 16,777,216\n",
    "- `172.16.0.0/12`: 1,048,576\n",
    "- `192.168.0.0/16`: 65,536 \n"
   ]
  },
  {
   "cell_type": "markdown",
   "metadata": {},
   "source": [
    "## Key Takeaways\n",
    "- IP addresses make up the address book of the internet. They can be public or private, and certain ranges are reserved to be private IP addresses only.\n",
    "- IPv4 addresses are most commonly used, but they are running out, so IPv6 addresses have been introduced. IPv6 addresses are much longer and have significantly more possible addresses available.\n",
    "- NAT is the process of translating and assigning private IP addresses to public IP addresses, and the reverse\n",
    "- CIDR blocks are ranges of IP addresses denoted by a number at the end of the address. The smaller the number, the more IP addresses in that range. "
   ]
  }
 ],
 "metadata": {
  "language_info": {
   "name": "python"
  }
 },
 "nbformat": 4,
 "nbformat_minor": 2
}
