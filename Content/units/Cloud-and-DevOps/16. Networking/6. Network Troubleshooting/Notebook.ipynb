{
 "cells": [
  {
   "cell_type": "markdown",
   "metadata": {},
   "source": [
    "# Network Troubleshooting"
   ]
  },
  {
   "cell_type": "markdown",
   "metadata": {},
   "source": [
    "What sort of things might you want to troubleshoot?"
   ]
  },
  {
   "cell_type": "markdown",
   "metadata": {},
   "source": [
    "Network Troubleshooting tools\n",
    "\n",
    "https://medium.com/@DevOpsfreak/net-tools-networking-toolkit-for-devops-engineers-and-system-administrators-890b689a2037\n",
    "\n",
    "--command line utilities\n",
    "    --Ping\n",
    "    --ip-route2: a package of command-line utilities that provides a collection of essential networking tools for Linux operating systems.\n",
    "\n",
    "        --ifconfig/ipconfig: used to configure and display network interfaces information.\n",
    "            --can enable or disable a network interface\n",
    "            --can configure the ip address of an interface\n",
    "\n",
    "        --netstat: used to display network statistics for TCP, UDP, and other protocols.\n",
    "            --displays active network connections and associated stats for above protocols\n",
    "            --tests network connectivity by checking if a remote host is available\n",
    "    \n",
    "\n",
    "\n",
    "\n",
    "--Telnat"
   ]
  },
  {
   "cell_type": "markdown",
   "metadata": {},
   "source": []
  },
  {
   "cell_type": "markdown",
   "metadata": {},
   "source": []
  }
 ],
 "metadata": {
  "language_info": {
   "name": "python"
  }
 },
 "nbformat": 4,
 "nbformat_minor": 2
}
