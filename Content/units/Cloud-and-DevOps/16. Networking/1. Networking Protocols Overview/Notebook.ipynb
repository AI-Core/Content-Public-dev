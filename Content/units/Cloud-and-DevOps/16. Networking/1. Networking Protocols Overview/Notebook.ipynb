{
 "cells": [
  {
   "cell_type": "markdown",
   "metadata": {},
   "source": [
    "# Networking Protocols Overview"
   ]
  },
  {
   "cell_type": "markdown",
   "metadata": {},
   "source": [
    ">A protocol is a set of rules and conventions that determine how data is transmitted and communicated across a network. It defines the procedures for formatting the data into packets, orchestrating the transmission of signals between devices, authentication, and error handling, ensuring reliable and secure information exchange. Protocols enable different network devices and software applications to understand each other and work together, even if they are from different manufacturers or use different technologies."
   ]
  },
  {
   "cell_type": "markdown",
   "metadata": {},
   "source": [
    "Protocols serve several essential roles in networking:\n",
    "\n",
    "- **Data Encapsulation**: Defining how data is packaged into packets, to ensure that the data can be correctly transmitted and interpreted <br><br>\n",
    "- **Addressing and Routing**: Providing mechanisms for assigning addresses to devices and routing packets between networks, ensuring data reaches the correct destination <br><br>\n",
    "- **Error Detection and Correction**: Implementing error-checking methods to detect and correct errors that occur during data transmission, enhancing the reliability of communication <br><br>\n",
    "- **Flow Control and Congestion Control**: Managing the rate of data transmission between devices to prevent network congestion and ensure efficient use of network resources <br><br>\n",
    "- **Session Management**: Establishing, managing, and terminating communication sessions between devices, maintaining state information for reliable data exchange <br><br>\n",
    "- **Security and Authentication**: Protocols incorporate security measures to protect data integrity, confidentiality, and authenticity, safeguarding against unauthorized access and attacks"
   ]
  },
  {
   "cell_type": "markdown",
   "metadata": {},
   "source": [
    "## The Internet Protocol (TCP/IP) Suite "
   ]
  },
  {
   "cell_type": "markdown",
   "metadata": {},
   "source": [
    ">The Internet Protocol Suite is the fundamental framework that enables internet and network communication. It is also commonly known as TCP/IP, after the core protocols around which it is built. It was developed in the 1970s as an extension of the ARPANET project, which was the first operational packet-based network. Its success led to its adoption as the global standard, forming the foundation of the modern internet we use today."
   ]
  },
  {
   "cell_type": "markdown",
   "metadata": {},
   "source": [
    "The Internet Protocol Suite consists a set of protocols, each optimised for transferring different types of data, and operating in one of four layers:\n",
    "\n",
    "- Application\n",
    "- Transport\n",
    "- Internet\n",
    "- Network Access"
   ]
  },
  {
   "cell_type": "markdown",
   "metadata": {},
   "source": [
    "These layers are related to the layers of the OSI model discussed earlier in this course, but whereas OSI is a theoretical framework used to facilitate understanding and troubleshooting, the layers of the Internet Protocol Suite represent how the protocols that comprise TCP/IP actually interoperate.\n",
    "\n",
    "While the OSI model has seven layers, the Internet Protocol Suite combines similar functions into four layers, merging the top three layers of the OSI model into *Application*, and the bottom two layers into *Network Access*:"
   ]
  },
  {
   "cell_type": "markdown",
   "metadata": {},
   "source": [
    "<p align=center><img src=images/osi_vs_tcpip.png width=800></p>"
   ]
  },
  {
   "cell_type": "markdown",
   "metadata": {},
   "source": [
    "## Key Protocols in Each Layer"
   ]
  },
  {
   "cell_type": "markdown",
   "metadata": {},
   "source": [
    "Each layer of the TCP/IP suite contains multiple protocols, each specialised for particular tasks within that layer. Below is a description of the most important protocols in each layer:"
   ]
  },
  {
   "cell_type": "markdown",
   "metadata": {},
   "source": [
    "### Application Layer\n",
    "\n",
    ">The Application layer in the TCP/IP model is responsible for providing network services directly to end-user applications. It enables communication and data exchange between software programs and network resources, facilitating functions such as web browsing, email, and file transfers.\n",
    "\n",
    "- **HTTP/HTTPS**: HTTP (Hypertext Transfer Protocol) is the core protocol for web communication, enabling web browsing and other web services through a stateless request-response model. HTTPS (Hypertext Transfer Protocol Secure) adds encryption for secure data transmission. These protocols will be covered in more detail in a future lesson.<br><br>\n",
    "- **SSH**: SSH (Secure Shell) provides secure, encrypted remote access to one device from another device, crucial for secure management and automation of servers in modern systems<br><br>\n",
    "- **FTP/SFTP**: FTP (File Transfer Protocol) is used for transferring files between devices. SFTP (SSH File Transfer Protocol) enhancing security by using SSH for encrypted file transfers<br><br>\n",
    "- **SMTP**: SMTP (Simple Mail Transfer Protocol) is used for sending emails across networks. It handles basic email transmission operations and is often used in automated notification systems.<br><br>\n",
    "- **DNS**: DNS (Domain Name System) translates human-readable domain names such as `http://google.com` into *IP addresses*, unique addresses given to every device by the IP protocol. This process is essential for locating services on the internet.<br><br>\n",
    "- **Specific Application Protocols:** Applications for specific tasks, such as PostgresQL, also operate in the application layer of the TCP/IP model if they are involved in transmitting data over a network, though these are not part of the suite itself."
   ]
  },
  {
   "cell_type": "markdown",
   "metadata": {},
   "source": [
    "### Transport Layer"
   ]
  },
  {
   "cell_type": "markdown",
   "metadata": {},
   "source": [
    "> The Transport layer ensures reliable data transfer between devices within a network. It manages addressing, end-to-end communication, error detection, and data flow control within a local network, enabling applications to communicate effectively without overloading the network resources.\n",
    "> \n",
    "- **TCP**: TCP (Transmission Control Protocol) is a stateful, connection-oriented protocol ensuring reliable data transmission between devices through features like error checking and flow control. Use cases include email, database access, and web browsing. <br><br>\n",
    "- **UDP**: UDP (User Datagram Protocol) is a stateless, connectionless protocol that transmits data with low latency (the delay between instruction to transmit and the transmission occurring), and with minimal additional data added to each packet. It is often used in real-time applications like streaming and gaming.\n",
    "\n",
    "TCP emphasises reliability and error-free transfer of important information, including situations where preserving the packet order is important. UDP emphasises speed and efficiency in situations where loss or mis-ordering of some packets is acceptable. TCP and UDP will be discussed in more detail in a later lesson in the course.\n",
    "\n",
    "| Feature | UDP | TCP |\n",
    "| --- | --- | --- |\n",
    "| Connection type | Connectionless | Connected |\n",
    "| State control | Stateless | Stateful |\n",
    "| Error control | No | Yes |\n",
    "| Order Presevation | No | Yes |\n",
    "| Speed of transfer | Fast  | Slow  |\n",
    "| Reliability | Unreliable | Reliable |\n",
    "| Use cases | Online gaming, video streaming, voice and video calls | Email delivery, database access, web browsing |"
   ]
  },
  {
   "cell_type": "markdown",
   "metadata": {},
   "source": [
    "### Internet Layer"
   ]
  },
  {
   "cell_type": "markdown",
   "metadata": {},
   "source": [
    "> The Internet layer handles logical addressing and routing of data packets between networks. It is responsible for the delivery of packets between server and client, managing the paths data takes across interconnected networks.\n",
    "\n",
    "- **IP (IPv4 and IPv6)**: IP (Internet Protocol) is responsible for addressing and routing packets between devices in different networks. The details of the protocol will be covered later in the course, but in general terms, the IP protocol assigns unique addresses to the devices on the internet, and handles the routes to get from one device to another.<br><br>\n",
    "- **ICMP**: ICMP (Internet Control Message Protocol) is used for error reporting and diagnostic functions. Typical messages include echo requests and replies (used by tools like ping) to test connectivity.<br><br>\n",
    "- **Routing Protocols (RIP, OSPF, BGP)**: Routing protocols like RIP, OSPF, and BGP manage network paths, determining the most efficient routes for data transmission. These protocols are crucial for maintaining optimal network performance.<br><br>\n",
    "- **IPsec**: IPsec (Internet Protocol Security) provides secure IP communications by authenticating and encrypting each IP packet in a communication session, ensuring confidentiality and integrity"
   ]
  },
  {
   "cell_type": "markdown",
   "metadata": {},
   "source": [
    "### Network Access Layer"
   ]
  },
  {
   "cell_type": "markdown",
   "metadata": {},
   "source": [
    ">The Network Access layer manages the transmission of data at the level of the physical infrastructure. It defines protocols for accessing and transmitting data over various physical media, such as Ethernet and Wi-Fi, and handles hardware addressing and error detection within the local network.\n",
    "\n",
    "- **Ethernet**: Ethernet is the most common technology for local area networks (LANs). It handles the addressing and routing of information within a local network, as well as translation of the message into a stream of bits (ones and zeros) for transmission over physical media such as  fibre optic cables. Just as each device on the internet has an IP address, so each device in a local network has a physical address, known as a MAC address. The WiFi protocol performs a similar role but for local transmission via radio waves. <br><br>\n",
    "- **ARP**: ARP (Address Resolution Protocol) maps IP addresses to MAC addresses, enabling communication within a local network by resolving the hardware address of a device. Technically ARP sits in between the Internet and Network Access layers, and acts as an intermediary between the two addressing systems. <br><br>\n",
    "- **Data Transmission**: The physical transmission media (e.g. fibre optic cables or radio waves) are considered part of the network access layer of the model. <br><br>"
   ]
  },
  {
   "cell_type": "markdown",
   "metadata": {},
   "source": [
    "## Data Encapsulation "
   ]
  },
  {
   "cell_type": "markdown",
   "metadata": {},
   "source": [
    ">Data encapsulation is the process of wrapping data with the necessary protocol information before it is transmitted over a network. This process occurs on the sending device at each layer of the TCP/IP model, with each layer adding its own header (and sometimes footer) to the data. Once it reaches the receiving device, the headers are removed from the data by each layer in reverse order to which they were applied.\n",
    "\n",
    "Let’s look at the example of a PostgresQL query being sent via TCP over the internet. The diagram below shows how the sending machine encapsulates the message to be transported.\n",
    "\n",
    "<p align=center><img src=images/network_encapsulation_diagram.png width=1000></p>\n",
    "\n",
    "1. The user data might be a query like:\n",
    "    \n",
    "    `SELECT * FROM product` <br><br>\n",
    "    \n",
    "2. The application (in this case the PostgresQL) will use the PostgresQL protocol to add it’s header to the user data. The application header will include metadata that will be required by the PostgresQL protocol on the receiving device to handle the user data on arrival. Together the user data and application header form the Application Data, which is passed to the Transport layer. <br><br>\n",
    "3. The Transport layer protocol in this case is TCP. It will split the data into segments, based on the largest size of packet that can be transmitted by the network access layer. It will add its own header to each segment of the data, which will include the source and destination ports, error checking data and sequencing information. Information wrapped in this way is called a TCP segment and contains the information needed for the receiving machine’s TCP protocol to handle the message once it arrives.<br><br>\n",
    "4. The TCP segment is then passed to the Internet layer, where the IP protocol adds its own header to create an IP packet. Segment size generally chosen so that each segment forms a single packet. The details of how IP works will be covered in a future lesson, but the header contains information on which machine on the internet the packet should be sent to, and the route it should take to get there.<br><br>\n",
    "5. Finally the IP packet is passed to the Network Access Layer, where the ethernet protocol adds a header and footer to the packet, creating what is known as a frame. The header and footer contain information on the source and destination MAC addresses, information on what the packet contains, and error checking to ensure the frame that is sent is the same as the one that is received."
   ]
  },
  {
   "cell_type": "markdown",
   "metadata": {},
   "source": [
    "## Data Transmission and Receipt"
   ]
  },
  {
   "cell_type": "markdown",
   "metadata": {},
   "source": [
    "Once the frame of data has been fully encapsulated, it will be sent to the recipient machine. The steps are as follows:\n",
    "\n",
    "1. If this is a machine on the same network, the transmission from one machine to another might happen in a single hop (from one MAC address to another). If the receiving machine is on a different network, the frame will be addressed to the router that connects the local network to the internet on the first hop. <br><br>\n",
    "2. Upon receiving the frame, the router examines the Ethernet frame, strips off the Ethernet header, and examines the IP packet. It uses the destination IP address from the IP header to determine where to send the packet, and which route to use to get there.<br><br>\n",
    "3. The router then encapsulates the IP packet in a new Ethernet frame (or appropriate frame for the next network segment), with the new Ethernet header specifying the router's MAC address as the source and the next hop's MAC address as the destination.<br><br>\n",
    "4. There may be several similar hops in the message’s journey across the internet before it reaches the destination network, with each router along the path examining the IP packet, determining the next hop, and re-encapsulating the message into a new frame. <br><br>\n",
    "5. On arrival at the receiving machine, the headers are stripped off in the reverse order, with each protocol determining where the message should be sent until it eventually reaches the PostgresQL protocol, which determines what to do with the original query.<br><br>"
   ]
  },
  {
   "cell_type": "markdown",
   "metadata": {},
   "source": [
    "## Key Takeaways"
   ]
  },
  {
   "cell_type": "markdown",
   "metadata": {},
   "source": [
    "- **Data Encapsulation**: Protocols package data into packets with headers and trailers for transmission\n",
    "- **Addressing and Routing**: Protocols ensure data reaches its intended destination by assigning addresses and routing packets\n",
    "- **Error Detection and Correction**: Protocols check and correct errors during data transmission to enhance reliability\n",
    "- **Flow and Congestion Control**: Protocols regulate data transfer rates to prevent congestion and maximize network efficiency\n",
    "- **Session Management**: Protocols manage communication sessions, maintaining state information for reliable exchanges\n",
    "- **Security and Authentication**: Protocols incorporate security measures to protect data and verify authenticity\n",
    "- **TCP/IP Layers**: The Internet Protocol Suite organizes protocols into four layers, streamlining the OSI model\n",
    "- **Application Layer Protocols**: Includes HTTP/HTTPS for web browsing, SSH for secure access, and SMTP for email\n",
    "- **Transport Layer Protocols**: TCP ensures reliable data transfer, while UDP offers speed for real-time applications\n",
    "- **Internet and Network Access Layers**: Handle packet routing across networks and data transmission over physical media"
   ]
  }
 ],
 "metadata": {
  "language_info": {
   "name": "python"
  }
 },
 "nbformat": 4,
 "nbformat_minor": 2
}
