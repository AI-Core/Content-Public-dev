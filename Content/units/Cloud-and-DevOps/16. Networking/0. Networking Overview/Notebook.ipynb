{
 "cells": [
  {
   "cell_type": "markdown",
   "metadata": {},
   "source": [
    "# Networking Overview\n",
    "\n",
    "This notebook outlines a high-level picture of what a network is, how computers connect to eachother, and some of the terminology and concepts you need to know when discussing networking.\n",
    "\n",
    "Note that often you will read the words *machine*, *computer* and *device* used interchangeably. In the context of networking they are meant as the same thing, unless otherwise specified. "
   ]
  },
  {
   "cell_type": "markdown",
   "metadata": {},
   "source": [
    "## How Does The Internet Work?\n",
    "Before we can answer this question we first need to define what a network is. \n",
    "\n",
    ">A *network* is a group of computers connected to eachother that can exchange data. \n",
    "\n",
    "The devices in your house for example are connected on a network called a *LAN (Local Area Network)*, either through Wi-Fi or ethernet cables. This then connects through a router to a much larger network, often a *WAN (Wide Area Network)*, controlled by your internet service provider. The internet itself is a vast network of networks.\n",
    "\n",
    "In order to understand how the internet works the following three terms are important to know: packets, protocols and network interfaces.\n",
    "\n",
    ">**Packets** are small segments of a larger message. When data is sent over the internet it is broken up into packets, which are then sent to the destination separately. At the other end, the packets are reassembled in order to display the data. \n",
    "\n",
    "Therefore many different packets can be transmitted using the same networking equipment simultaneously, to connect and to interact with eachother over the internet at the same time. If two computers were to exchange data using one unbroken stream instead of packets, no other devices could use the same networking equipment at the same time, instead they would have to wait. Packets enable billions of devices to use the internet simultaneously, rather than just a handful. You will learn more about packets in a later section on the OSI Model.\n",
    "\n",
    "Computers use different hardware and software, so making them able to connect to one another requires communication methods that are understandable by all computers. These methods are called protocols. \n",
    "\n",
    ">A **protocol** is a set of rules which governs how devices in a network communicate and interact with one another. \n",
    "\n",
    "You will learn more deeply about protocols in a later lesson of this pathway. \n",
    "\n",
    ">A **network interface** is a virtual point on a device which is responsible for the network connections to that device. A laptop, for example, will have multiple network interfaces for being able to connect to Wi-Fi, or use an ethernet cable."
   ]
  },
  {
   "cell_type": "markdown",
   "metadata": {},
   "source": [
    "## Clients & Servers\n",
    "Generally when discussing networking in the context of the internet, the terms used to describe two computers communicating with eachother are client and server:\n",
    "\n",
    ">A *client* is the device that is requesting the information, the *server* is the machine or group of machines where that information is stored and is sent from. \n",
    "\n",
    "For example, when you visit google.com your local computer is the client, and the server is a group machines managed by Google. A server will consist of the hardware, an OS, and server software to handle the particular purpose of that server. \n",
    "\n",
    "Servers can be used in many different forms, where the specification of each machine will differ depending on the needs of the server. For example, a database server will require more storage capacity, with the prerequisite database software installed. A web server will need to be able to handle large amounts of traffic so will require more advanced networking capabilities. "
   ]
  },
  {
   "cell_type": "markdown",
   "metadata": {},
   "source": [
    "## The OSI Model\n",
    ">The OSI (Open Systems Interconnection) model is a conceptual framework which standardises how different computer systems communicate over the internet. It is made up of seven layers and each layer has a specific role in managing different steps of the data transfer process between two devices.\n",
    "\n",
    "The OSI model is useful for troubleshooting network issues as it compartmentalises and simplifies the communication process, allowing you to better localise an issue. A network issue can be anything from connecting a single computer to the internet, or a website being down for thousands of users.\n",
    "\n",
    "The layers of the OSI model are:"
   ]
  },
  {
   "cell_type": "markdown",
   "metadata": {},
   "source": [
    "<p align=\"center\"> <img src=\"images/osi-model.png\" height=\"522\" width=\"757\"/> </p>"
   ]
  },
  {
   "cell_type": "markdown",
   "metadata": {},
   "source": [
    "In order for human-readable information to be sent between two devices, it must travel down the layers of the OSI Model on the sending device, then back up the layers on the receiving device.\n",
    "\n",
    "- **Application (layer 7):** This is where user-facing services like web browsers and email services interact with the data. The application layer is where the specific protocol is decided, which is then used by these services to begin the transfer process. \n",
    "\n",
    "- **Presentation (layer 6):** This layer is responsible for compressing the data so that it can be more efficiently and quickly transferred, and if using an encrypted connection, also encrypts the data on the sending device, and decrypts it on the receiving device.\n",
    "\n",
    "- **Session (layer 5):** This is where the communication window between the two devices is opened and closed. The time between this window being open and closed is known as the session. The session layer is responsible for ensuring that the session stays open long enough for the data to be exchanged. \n",
    "\n",
    "- **Transport (layer 4):** The transport layer is where the actual data transfer is launched; up until now the data has been in preparation. On the sending device this involves breaking the message into smaller pieces known as *segments*, which are also reassembled in the transport layer of the receiving device. The transport layer is also responsible for error control. For example, making sure that different connection speeds between the two devices do not cause packets to be dropped.\n",
    "\n",
    "- **Network (layer 3):** The network layer is responsible for sending the data between networks, over the internet. This involves finding the best physical path for the data, known as its *route*. The network layer also breaks up the segments into even smaller pieces, known as packets.\n",
    "\n",
    "- **Data Link (layer 2):** The data link layer is responsible for data transfer and error control within a single network, whereas the network layer controls the connection between networks. \n",
    "\n",
    "- **Physical (layer 1):** This layer comprises the physical equipment needed to transfer the data, such as cables or wireless technology. This is also where the conversion to or from bits (1s and 0s) happens.\n",
    "\n",
    "\n",
    "Understanding the OSI Model when becomes easier when it is described using a practical example. Imagine you need to send an email to your colleague:\n",
    "\n",
    "1. Once you press the send button, your email service will pass the email message over to the *application layer*, which will choose a specific protocol, then pass it over to the presentation layer.\n",
    "\n",
    "2. The *presentation layer* will compress and encrypt the data, before passing it to the *session layer*\n",
    "\n",
    "3. The *session layer* will establish the connection window, or the session, ready for the data to be transferred\n",
    "\n",
    "4. Next, the *transport layer* implements error control measures to ensure optimal transfer, and breaks the data into segments\n",
    "\n",
    "5. Once it hits the *network layer*, the segments are broken into packets, and the most efficient route is established across networks\n",
    "\n",
    "6. The *data link layer* will then implement error checking within the same network, then deliver the data to the physical layer\n",
    "\n",
    "7. Once on the physical layer, the data is converted into bits, then travels across cables and wireless connections to reach the destination\n",
    "\n",
    "8. Once the data reaches your colleague's computer, it travels back through the layers but in the reverse order, ultimately displaying the email message"
   ]
  },
  {
   "cell_type": "markdown",
   "metadata": {},
   "source": [
    "## Ports\n",
    ">A port is a virtual point on a machine where network connections start and end. There are 65,535 possible port numbers in total on each computer, and some of them are reserved for a specific process or service: emails use a different port than web traffic, for example. In the OSI Model they are part of layer 4 (transport).\n",
    "\n",
    "These are some of the most commonly used ports:\n",
    "\n",
    "- **22:** Secure Shell (SSH), this is one of the many ways to send secure and encrypted data between computers.\n",
    "\n",
    "- **80 and 443:** Responsible for all web traffic\n",
    "- **5432:** If you use a PostgreSQL database, this is the port used by default\n",
    "- **3389:** Microsoft users can use a service called Remote Desktop Protocol (RDP) to access their device remotely from another computer.\n",
    "\n",
    "### Ephemeral Ports\n",
    "For an client and a server to establish a connection they must both use ports. The client connects to a *defined port* on the target, and expects a response on an *ephemeral port*, which is chosen by the client machine and reserved temporarily for the server to send information to."
   ]
  },
  {
   "cell_type": "markdown",
   "metadata": {},
   "source": [
    "## Key Takeaways\n",
    "- The internet is a vast network of networks. It is made up of LANs and WANs.\n",
    "\n",
    "- Packets are small segments of a larger message, they are sent over the internet separately, and then reassembled at the other end to display the information\n",
    "- Protocols are sets of rules which govern how devices in a network communicate and interact with one another\n",
    "- The OSI model is a seven-layer framework for understanding and compartmentalising the different steps involved when two computers communicate over the internet\n",
    "- In the context of networking, a client requests information from a server, which then responds with the required information\n",
    "- Ports are virtual points on a machine where traffic is directed to and from. There are 65,535 port numbers in total, but some of them are reserved for specific processes or services. "
   ]
  }
 ],
 "metadata": {
  "language_info": {
   "name": "python"
  }
 },
 "nbformat": 4,
 "nbformat_minor": 2
}
