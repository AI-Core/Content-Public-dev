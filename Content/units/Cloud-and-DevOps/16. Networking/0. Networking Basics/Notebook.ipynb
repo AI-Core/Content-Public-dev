{
 "cells": [
  {
   "cell_type": "markdown",
   "metadata": {},
   "source": [
    "# Networking Overview\n",
    "\n",
    "This notebook outlines a high-level picture of what a network is, how computers connect to each other, and some of the terminology and concepts you need to know when discussing networking.\n",
    "\n",
    "Note that often you will read the words *machine*, *computer* and *device* used interchangeably. In the context of networking they are meant as the same thing, unless otherwise specified. "
   ]
  },
  {
   "cell_type": "markdown",
   "metadata": {},
   "source": [
    "## What Are Networks?\n",
    ">A *network* is a group of computers connected to each other that can exchange data. \n",
    "\n",
    "The devices in your house for example are connected on a network called a *LAN (Local Area Network)*, either through Wi-Fi or ethernet cables. This then connects to a much larger network, often a *WAN (Wide Area Network)*, controlled by your internet service provider. The internet itself is a vast network of networks. \n",
    "\n",
    "In order to understand how the internet works the following four terms are important to know: packets, routers, protocols and network interfaces.\n",
    "\n",
    "### Packets\n",
    ">*Packets* are small pieces of a larger message, combined with metadata about the data such as its source and destination. When data is sent over the internet it is broken up into packets, which are then sent to the destination separately. At the other end, the packets are reassembled in order to display the data. \n",
    "\n",
    "There are multiple reasons why packets are used:\n",
    "\n",
    "- **Efficiency:** Because data is transmitted in small pieces rather than entire files, this allows many more connections to share the same networking equipment, meaning many more devices can use the internet simultaneously.\n",
    "\n",
    "- **Error Handling**: It is more efficient to identify and resend any packet that fails to reach its destination correctly, rather than resending the entire message\n",
    "\n",
    "- **Security**: Encrypting packets individually can enhance security by, making it harder for unauthorised interceptors to reconstruct the entire message\n",
    "\n",
    "- **Control**: With packets, a network can better control flow and congestion as they move through different network points, ensuring smooth data transmission\n",
    "\n",
    "### Routers\n",
    ">A *router* is a device that connects networks together. They have two main jobs: passing packets between these networks towards their intended destination, and allowing multiple devices to use the same internet connection. \n",
    "\n",
    "A router is what connects the devices in your home on a LAN, and connects that to a WAN.\n",
    "\n",
    "### Protocols\n",
    ">A *protocol* is a set of rules which governs how devices in a network communicate and interact with one another. They specify how data should be broken into packets, how they are transmitted and how the packets are received and reassembled at the destination. They are essential for enabling various network operations such as facilitating error checking and recovery of dropped packets, and managing data transmission speeds and network traffic.\n",
    "\n",
    "There are many different protocols which operate differently depending on the nature of the connection, the transmitted data, and the specific requirements for speed, reliability, and security. For instance, some protocols prioritise rapid data transfer for real-time applications, while others focus on ensuring data integrity and error correction for reliable file transfers.\n",
    "\n",
    "You will learn about protocols in more depth later in this pathway. \n",
    "\n",
    "### Network Interfaces\n",
    ">A *network interface* is a physical point of connection on a device which is responsible for the network connections to that device. Traditionally, a *network interface card (NIC)* was an extra piece of hardware required for computers to have this functionality. Now it is more often an on-board component of modern computers, which is called a *network interface controller (also NIC)*.\n",
    "\n",
    "A laptop, for example, will have multiple network interfaces for being able to connect to Wi-Fi or use an ethernet cable."
   ]
  },
  {
   "cell_type": "markdown",
   "metadata": {},
   "source": [
    "## Clients & Servers\n",
    "Generally when discussing networking in the context of the internet, the terms used to describe two computers communicating with each other are client and server:\n",
    "\n",
    ">A *client* is the device or software application that is requesting the information, the *server* is the machine or group of machines where that information is stored and is sent from. \n",
    "\n",
    "For example, when you visit https://google.com, your web browser is the client, and the server is a group of machines managed by Google, which are responsible for returning the information you see in the browser when you visit the site. \n",
    "\n",
    "A server will consist of the hardware, an OS, and server software to handle the particular purpose of that server. Servers can come in many different forms, where the specification of each machine will differ depending on the needs of the server. For example, a database server will require more storage capacity, with the prerequisite database software installed. A web server will need to be able to handle large amounts of traffic so will require more advanced networking capabilities. "
   ]
  },
  {
   "cell_type": "markdown",
   "metadata": {},
   "source": [
    "## The OSI Model\n",
    ">The OSI (Open Systems Interconnection) model is a conceptual framework which standardises how different computer systems communicate over the internet. It is made up of seven layers and each layer has a specific role in managing different steps of the data transfer process between two devices.\n",
    "\n",
    "The OSI model is useful for troubleshooting network issues as it compartmentalises and simplifies the communication process, allowing you to better localise an issue. A network issue can be anything from connecting a single computer to the internet, or a website being down for thousands of users.\n",
    "\n",
    "The layers of the OSI model are:"
   ]
  },
  {
   "cell_type": "markdown",
   "metadata": {},
   "source": [
    "<p align=\"center\"> <img src=\"images/osi-model.png\" height=\"522\" width=\"757\"/> </p>"
   ]
  },
  {
   "cell_type": "markdown",
   "metadata": {},
   "source": [
    "For human-readable information to be sent between two devices, it must travel down the layers of the OSI Model on the sending device, then back up the layers on the receiving device.\n",
    "\n",
    "- **Application (layer 7):** This is where user-facing services like web browsers and email services interact with the data. The application layer decides which protocol is needed for this particular data transfer, and then interfaces with that protocol to perform the data transfer operation.\n",
    "\n",
    "- **Presentation (layer 6):** The presentation layer is responsible for compressing the data so that it can be more efficiently and quickly transferred, and encoding or decoding the data into the correct format for transmission. If using an encrypted connection, this is where the data is encrypted on the sending device, and decrypted on the receiving device.\n",
    "\n",
    "- **Session (layer 5):** This is where the connection between the two applications is established, managed, and terminated. The time between this connection being open and closed is known as the session. The session layer is responsible for ensuring that the session stays open long enough for the data to be exchanged, as well as managing dialog control, deciding which session participants can transmit data at a given time.\n",
    "\n",
    "- **Transport (layer 4):** The transport layer is where the data transfer is launched within the local network; up until now the data and connection have been in preparation. On the sending device this involves breaking the message into smaller pieces known as *segments*, which are reassembled on the transport layer of the receiving device. It also manages an aspect of flow control: adjusting the data transmission rate based on the network capacity and the receiving device's ability to handle incoming data, ensuring that the network does not become overwhelmed and that data is not lost.\n",
    "\n",
    "- **Network (layer 3):** The network layer packages the segments into packets, adding header data such as addressing information. Packets are then transferred between networks, over the internet. This involves finding the best path for the data, known as its *route*.\n",
    "\n",
    "- **Data Link (layer 2):** The data link layer handles the transmission of data across a physical network link. Each machine has its own *MAC address (Media Access Control)*: a physical address unique to each machine, which the data link layer uses to make sure the data is delivered to the right place, and without errors.\n",
    "\n",
    "- **Physical (layer 1):** This layer comprises the physical equipment needed to transfer the data, such as cables or wireless technology. This is also where the conversion from bits to a physical transmission signal happens, or vice versa.\n",
    "\n",
    "\n",
    "Understanding the OSI Model when becomes easier when it is described using a practical example. Imagine you need to send an email to your colleague:\n",
    "\n",
    "1. Once you press the send button, your email application will pass the email message over to the *application layer*, which will enact a specific protocol\n",
    "\n",
    "2. The *presentation layer* will compress and encrypt the data\n",
    "\n",
    "3. The *session layer* will establish the connection window, or the session, ready for the data to be transferred\n",
    "\n",
    "4. Next, the *transport layer* implements error control measures to ensure optimal transfer, and breaks the data into segments\n",
    "\n",
    "5. Once it hits the *network layer*, the segments are broken into packets, and the most efficient route is established across networks\n",
    "\n",
    "6. The *data link layer* will then implement error checking within the same network, then deliver the data to the physical layer\n",
    "\n",
    "7. Once on the physical layer, the data travels as a physical signal across cables and wireless connections to reach the destination\n",
    "\n",
    "8. Once the data reaches your colleague's computer, it travels back through the layers but in the reverse order, ultimately displaying the email message"
   ]
  },
  {
   "cell_type": "markdown",
   "metadata": {},
   "source": [
    "## Key Takeaways\n",
    "- The internet is a vast network of networks. It is made up of LANs and WANs.\n",
    "\n",
    "- Packets are small segments of a larger message, they are sent over the internet separately, and then reassembled at the other end to display the information\n",
    "- Protocols are sets of rules which govern how devices in a network communicate and interact with one another\n",
    "- The OSI model is a seven-layer framework for understanding and compartmentalising the different steps involved when two computers communicate over the internet\n",
    "- In the context of networking, a client requests information from a server, which then responds with the required information\n"
   ]
  }
 ],
 "metadata": {
  "language_info": {
   "name": "python"
  }
 },
 "nbformat": 4,
 "nbformat_minor": 2
}
