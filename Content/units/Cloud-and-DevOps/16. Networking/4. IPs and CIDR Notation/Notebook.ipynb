{
 "cells": [
  {
   "cell_type": "markdown",
   "metadata": {},
   "source": [
    "# IPs and CIDR Notation\n",
    ">The *Internet Protocol (IP)* is a set of rules that governs how data is sent and received over the internet today. It ensures that data packets are addressed, routed, and delivered to the correct destinations. \n",
    "\n",
    "These are the main functionalities of the Internet Protocol:\n",
    "\n",
    "- **Addressing:** Every device has a uniquely identifiable sequence of numbers called an *IP address*, this ensures data are sent to and from the correct machines when connected over the internet.\n",
    "\n",
    "- **Routing:** Determining the best path for data packets to travel from the source to the destination across multiple networks. This often happens through the use of a *route table*, which is a table of rules (routes) which dictate the path data packets should take.\n",
    "\n",
    "- **Encapsulation and De-encapsulation:** Operating in the internet layer of the TCP/IP model, the Internet Protocol takes segments from the transport layer and wraps them with header information, converting them into packets. On the receiving device it then inspects the header and if error-free, unraps the segment ready to pass back to the transport layer.\n",
    "\n",
    "- **Packet Forwarding:** Moving packets through intermediate routers, which involves inspecting the header to see where the packet needs to be sent, then forwarding it on. This transition is sometimes known as a *hop*.\n",
    "\n",
    "- **Error Handling:** Detecting and handling errors in data transmission, such as packet loss or corruption, by requesting retransmission or other corrective actions.\n",
    "\n",
    "There are two versions of the protocol in use today: IPv4 and IPv6. Each has a distinct address format."
   ]
  },
  {
   "cell_type": "markdown",
   "metadata": {},
   "source": [
    "## IP Address Notation\n",
    "### IPv4\n",
    "This is the most common type of IP address used on the internet today. The address format is a series of 4 integers separated by periods, for example: `192.168.0.1`.\n",
    "\n",
    "In IPv4, each of these numbers represents 1 byte of data. A byte is a unit of digital information that consists of 8 bits. In binary, a bit can be either a 1 or a 0. So with 8 bits you can represent 256 (or 2^8) different values, ranging from 0 to 255.\n",
    "\n",
    "Since each of the four numbers in an IPv4 address represents a byte, and each byte can have values from 0 to 255, IPv4 addresses can range from `0.0.0.0` to `255.255.255.255`.\n",
    "\n",
    "So an IP address like `172.16.0.0` converted to binary would look like this: `10101100.00010000.00000000.00000000`.\n",
    "\n",
    "There are 4,294,967,296 possible IPv4 addresses in this range, which may seem like a lot, but they are very quickly running out. To solve this problem, IPv6 addresses were introduced:\n",
    "\n",
    "### IPv6\n",
    "They are notated as 8 sections of 16 bits each, meaning in total they are 128 bits long. This allows for a possible $3.4×10^{38}$ possible IP addresses. The addresses are delimited by colons and are expressed using hexadecimal notation, which uses the digits 0-9 and the letters A-F. Therefore, each section can range from `0000` to `FFFF`. \n",
    "\n",
    "IPv6 allows certain simplifications to be made in the notation to make addresses shorter and more readable. \n",
    "\n",
    "1. Leading zeros in each section can be omitted, for example:\n",
    "\n",
    "    `2001:0db8:85a3:00f5:5d33:8a2e:0370:7334` can be simplified to `2001:db8:85a3:f5:5d33:8a2e:370:7334`.\n",
    "\n",
    "2. If two or more consecutive sections have all zeros, the sections can be collapsed to a double colon. For example:\n",
    "\n",
    "- `2001:0db8:85a3:0000:0000:8a2e:0370:7334` would be simplified to `2001:db8:85a3::8a2e:370:7334`\n",
    "- `1234:0078:9abc:def0:0000:0000:0000:0000` would be simplified to `1234:78:9abc:def0::`\n",
    "\n",
    "For simplicity, IPv4 will be used in the rest of this notebook for illustrating further concepts to do with IP and CIDR ranges.\n",
    "\n",
    "### Classful IP Addresses\n",
    "During the early growth of the internet, organisations were given networks of IP addresses defined by classes. It's not important to know exactly how the classes are defined because it is now an obsolete system; the exponential explosion of the internet made this an impractical solution. \n",
    "\n",
    "However, sometimes you will see ranges of IP addresses assigned a certain class, so it's useful to know about when reading any literature on IPs, including for the introduction of CIDR later in this notebook. The following are the three main classes of IP ranges you may encounter:\n",
    "- **Class A:** `0.0.0.0` to `127.255.255.255 ` (128 networks containing 16,777,216 IPs each)\n",
    "- **Class B:** `128.0.0.0` to `191.255.255.255` (16,384 networks containing 65,536 IPs each)\n",
    "- **Class C:** `192.0.0.0` to `223.255.255.255` (2,097,152 networks containing 256 IPs each)"
   ]
  },
  {
   "cell_type": "markdown",
   "metadata": {},
   "source": [
    "## Public vs Private IPs \n",
    "\n",
    "### Private IPs\n",
    ">Subsets of the IPv4 address space are reserved for *private IPs*. These are only accessible from inside each Local Area Network (LAN), not the wider internet. Since the reserved ranges are the same globally, private IP addresses are re-used in countless private networks, meaning each private IP address is not universally unique.\n",
    "\n",
    "There are three IPv4 address ranges reserved for private networks:\n",
    "- `10.0.0.0` to `10.255.255.255` (Class A): This range provides over 16 million addresses for large private networks (most often used for cloud networks)\n",
    "- `172.16.0.0` to `172.31.255.255` (Class B): This range contains over 1 million addresses, suitable for medium-sized private networks\n",
    "- `192.168.0.0` to `192.168.255.255` (Class C): This range has over 65,000 addresses, typically used for small private networks\n",
    "\n",
    "#### Link-local Addresses (localhost)\n",
    "There is also a special type of private IP address called a *link-local address*, which is generally used for devices to connect to themselves, or other devices on the same LAN (without requiring a router). \n",
    "\n",
    "One example of this is the *loopback interface*, otherwise known as *localhost*, which is the IP range `127.0.0.0` to `127.255.255.255`. Packets routed to an IP address in this range never leave the device. This can be useful for testing network interfaces, or running server applications locally without the need for an external network connection.\n",
    "\n",
    "### Public IPs\n",
    ">A *public IP* address is used by the Internet Protocol to communicate with devices in other networks, via the internet. Therefore, each public IP address must be globally unique.\n",
    "\n",
    "### NAT (Network Access Translation)\n",
    "*NAT* is the process of modifying network address information in IP packet headers while they are in transit across a traffic routing device such as a router, mapping public IP addresses to devices on a private network, and vice versa. Without NAT, individual devices on a private network (like your home Wi-FI) cannot connect to the internet.\n",
    "\n",
    "This means two things:\n",
    "- More public IPs are available for use on the internet, because each device in a private network has a distinct private IP address, which then share a public IP address through the process of NAT.\n",
    "- Devices on a local network are secure, because in order to access them you need NAT to convert the public IP addresses to individual private IP addresses. This process generally happens in a router. In other words: private IP addresses are not *traceable* because of NAT."
   ]
  },
  {
   "cell_type": "markdown",
   "metadata": {},
   "source": [
    "## CIDR (Classless Inter-Domain Routing)\n",
    "The previous method of classful grouping became innefficient and inflexible because if an organisation needed one more than 256 IP addresses, for example, then it would have to use a whole extra class C network, a massive waste of IPs. \n",
    "\n",
    ">*CIDR* is a way of grouping a range of IP addresses together for more efficient management and routing. \n",
    "\n",
    "CIDR notation comprises an IP address followed by a forward slash (`/`), then another number (known as the *subnet mask*). For example, `192.168.1.0/24`. The number after the forward slash denotes the number of bits in the IP address that must remain the same, therefore allowing for the rest to change, creating the maximum range of IP addresses available in that CIDR block. \n",
    "\n",
    "For example, consider the examples in the image below. The large numbers are CIDR blocks, then the three smaller lines below are the IP address translated into binary, followed by the first and last available IP addresses in that CIDR block. The red line indicates at what point in the binary IP address the bits must remain the same, and where they are variable (to the right of the line)."
   ]
  },
  {
   "cell_type": "markdown",
   "metadata": {},
   "source": [
    "<p align=center> <img src=images/CIDR.png width=500 height=300> </p>"
   ]
  },
  {
   "cell_type": "markdown",
   "metadata": {},
   "source": [
    "The number of possible IP addresses in a CIDR block can be calculated using the following expression: $2^{(32-X)}$, where $X$ is the number after the forward slash. For example, consider the following CIDR block: `192.111.1.0/24`\n",
    "\n",
    "$2^{32-24} = 2^{8} = 256$\n",
    "\n",
    "Therefore there are 256 possible IP addresses in the CIDR block `192.111.1.0/24`.\n",
    "\n",
    "Some more examples of CIDR ranges including how many IP addresses they contain:\n",
    "- `10.0.0.0/24`: 256\n",
    "- `172.16.0.0/28`: 16\n",
    "- `192.168.0.0/32`: 1"
   ]
  },
  {
   "cell_type": "markdown",
   "metadata": {},
   "source": [
    "## Key Takeaways\n",
    "- The Internet Protocol governs how data is sent and received over the internet. It assigns unique IP addresses to devices, determines optimal routes, encapsulates data into packets, forwards them through routers, and handles transmission errors.\n",
    "\n",
    "- IP addresses make up the address book of the internet. They can be public or private, and certain ranges are reserved to be private IP addresses only.\n",
    "\n",
    "- IPv4 addresses are most commonly used, but they are running out, so IPv6 addresses have been introduced. IPv6 addresses are much longer and have significantly more possible addresses available.\n",
    "\n",
    "- NAT is the process of translating and assigning private IP addresses to public IP addresses, and the reverse\n",
    "\n",
    "- CIDR blocks are ranges of IP addresses denoted by a number at the end of the address. The smaller the number, the more IP addresses in that range. "
   ]
  }
 ],
 "metadata": {
  "language_info": {
   "name": "python"
  }
 },
 "nbformat": 4,
 "nbformat_minor": 2
}
