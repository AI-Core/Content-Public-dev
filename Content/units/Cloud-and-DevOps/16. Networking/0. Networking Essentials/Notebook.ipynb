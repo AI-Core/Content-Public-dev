{
 "cells": [
  {
   "cell_type": "markdown",
   "metadata": {},
   "source": [
    "# Networking Overview\n",
    "This notebook outlines a high-level picture of what a network is, how computers connect to eachother, and some of the terminology and concepts you need to know when discussing networking.\n",
    "\n",
    "Note that often you will read the words *machine*, *computer* and *device* used interchangeably. In the context of networking they are meant as the same thing unless otherwise specified. "
   ]
  },
  {
   "cell_type": "markdown",
   "metadata": {},
   "source": [
    "## How Does The Internet Work?\n",
    "Before we can answer this question we first need to define what a network is. \n",
    "\n",
    ">A *network* is a group of computers connected to each other that can exchange data. \n",
    "\n",
    "The devices in your house for example are connected on a network called a *LAN (Local Area Network)*, either through Wi-Fi or ethernet cables. This then connects through a router to a much larger network, often a *WAN (Wide Area Network)*, controlled by your internet service provider. The internet itself is a vast network of networks.\n",
    "\n",
    "Data on the internet is sent via packets and using protocols:\n",
    "\n",
    ">**Packets** are small segments of a larger message. When data is sent over the internet it is broken up into packets, which are then sent to the destination separately. At the other end the packets are then reassembled in order to display the data. \n",
    "\n",
    "This is so that many different packets can be transmitted using the same networking equipment simultaneously, allowing many devices to be connected and interacting with each other over the internet at once. \n",
    "\n",
    "If two computers were to exchange data using one unbroken stream instead of packets, no other devices could use the same networking equipment at the same time: they would have to wait their turn. Packets enable billions of devices to use the internet simultaneously, rather than just a handful.\n",
    "\n",
    ">A **protocol** is a set of rules which govern how devices in a network communicate and interact with one another. \n",
    "\n",
    "Computers use different hardware and software, so making them able to connect to one another requires communication methods that are understandable by all computers. That’s where protocols come in. \n",
    "\n",
    "\n",
    "This is a high-level introduction to how the internet works. You will learn more deeply about protocols in a later lesson of this pathway. "
   ]
  },
  {
   "cell_type": "markdown",
   "metadata": {},
   "source": [
    "## The OSI Model\n",
    ">The OSI (Open Systems Interconnection) model is a conceptual framework which standardises how different computer systems communicate over the internet. It is made up of seven layers, each layer has a specific role in managing different steps of the data transfer process between devices.\n",
    "\n",
    "Understanding the OSI model is important for cloud and DevOps engineers because it compartmentalises and simplifies the network connection process. This makes it easier to diagnose and fix networking issues, as well as design secure and efficient cloud architectures. \n",
    "\n",
    "The layers of the OSI model are as follows:\n",
    "\n",
    "1. **Physical layer:** Transmission of raw bits over the physical equipment of the source machine\n",
    "\n",
    "2. **Data link layer:** Defines the format of the data to be transferred, and facilitates transfer of data on the same network\n",
    "3. **Network layer:** Responsible for facilitating data transfer between two different networks\n",
    "4. **Transport layer:** Transmits data using protocols like TCP and UDP\n",
    "5. **Session layer:** Maintains connections and is responsible for controlling ports and sessions\n",
    "6. **Presentation layer:** Ensures data is in a usable format and is where data encryption occurs\n",
    "7. **Application layer:** Human-computer interaction layer, where applications can access the network services"
   ]
  },
  {
   "cell_type": "markdown",
   "metadata": {},
   "source": [
    "## Clients & Servers\n",
    "Generally when discussing networking in the context of the internet, the terms used to describe two computers communicating with eachother are client and server:\n",
    "\n",
    ">A *client* is the device that is requesting the information, the *server* is the machine or group of machines where that information is stored and is sent from. For example, when you visit google.com your local computer is the client, and the server is a group machines managed by Google.\n",
    "\n",
    "It is often the responsibility of a DevOps or cloud engineer to manage server infrastructure, so that organisations can efficiently serve the information they need to on the internet. Servers can be used in many different forms, including database servers, web servers, application servers and mail servers.\n",
    "\n",
    "A server will consist of the hardware, an OS, and server software to handle the particular purpose of the server."
   ]
  },
  {
   "cell_type": "markdown",
   "metadata": {},
   "source": [
    "## Ports\n",
    ">A port is a virtual point on a machine where network connections start and end. Computers have many ports, and some of them are reserved for a specific process or service: emails go to a different port than web traffic, for example. In the OSI Model they are part of layer 4 (transport).\n",
    "\n",
    "There are 65,535 possible port numbers in total on each computer, these are some of the most commonly used ports:\n",
    "\n",
    "- **22:** Secure Shell (SSH), this is one of the many ways to send secure and encrypted data between computers.\n",
    "\n",
    "- **80 and 443:** Responsible for all web traffic\n",
    "- **5432:** If you use a PostgreSQL database, this is the port used by default\n",
    "- **3389:** Microsoft users can use a service called Remote Desktop Protocol (RDP) to access their device remotely from another computer.\n",
    "\n",
    "### Ephemeral Ports\n",
    "For an client and a server to establish a connection they must both use ports. The client connects to a *defined port* on the target, and expects a response on an *ephemeral port*, which is chosen by the client machine and reserved temporarily for the server to send information to."
   ]
  }
 ],
 "metadata": {
  "language_info": {
   "name": "python"
  }
 },
 "nbformat": 4,
 "nbformat_minor": 2
}
