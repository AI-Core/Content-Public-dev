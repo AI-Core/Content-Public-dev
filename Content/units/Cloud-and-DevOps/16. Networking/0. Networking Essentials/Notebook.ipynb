{
 "cells": [
  {
   "cell_type": "markdown",
   "metadata": {},
   "source": [
    "- remember to introduce WAN/LANs"
   ]
  }
 ],
 "metadata": {
  "language_info": {
   "name": "python"
  }
 },
 "nbformat": 4,
 "nbformat_minor": 2
}
