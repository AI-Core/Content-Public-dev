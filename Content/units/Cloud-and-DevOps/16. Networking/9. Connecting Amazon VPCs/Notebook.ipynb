{
 "cells": [
  {
   "cell_type": "markdown",
   "metadata": {},
   "source": [
    "# Connecting Amazon VPCs\n",
    "An Amazon VPC is by default a range of private IP addresses, and it requires an array of components to be able to communicate with the public internet. There are various other methods of connecting Amazon VPCs to external networks and services, each providing different features and benefits. It's important to know about these alternative connectivity options so that you can make the most informed decisions when building and maintaining VPCs and their surrounding infrastructure.\n",
    "\n",
    "This notebook will explore the most commonly used methods for connecting a VPC to another VPC, different AWS services, or an on-premises network. These are as follows:\n",
    "\n",
    "- *VPC Peering* is for connecting together two VPCs\n",
    "\n",
    "- *VPC Endpoints* are for connecting your VPC to other public AWS services such as S3 or DynamoDB\n",
    "- A *Site-to-Site VPN* connection is a simple way to connect an on-premises network to a VPC over the public internet\n",
    "- *AWS Direct Connect* allows you to connect an on-premises network to a VPC using a private, dedicated connection\n",
    "- *AWS Transit Gateway* enables multiple VPCs to connect to each other, and use a Site-to-Site VPN connection or Direct Connect to link an on-premises network"
   ]
  },
  {
   "cell_type": "markdown",
   "metadata": {},
   "source": [
    "## VPC Peering \n",
    ">*VPC peering* is a way of connecting two VPCs that then allows you to route traffic between them using the private IP addresses defined in each VPC. \n",
    "\n",
    "Some key features and benefits of VPC peering\n",
    "- Instances in each VPC can communicate with each other as if they are in the same VPC\n",
    "\n",
    "- The connection uses existing AWS infrastructure which means it does not rely on a separate piece of physical hardware or require a separate AWS service. This also means there is no single point of failure or a bandwidth bottleneck.\n",
    "- You can peer accross AWS accounts, as well as different AWS regions\n",
    "- You can reference Security Groups in a peered VPC as if they are in your own VPC\n",
    "\n",
    "### Requirements of VPC Peering\n",
    "- VPCs must not have any overlapping CIDR blocks\n",
    "\n",
    "- VPC peering is not *transitive*, which means that each connection links two single VPCs only. For example, if there is a peering connection between VPCs A and B, and also a peering connection between VPCs B and C, then VPCs A and C are not then automatically peered. You need to set up a separate peering connection between VPCs A and C.\n",
    "- In order for instances in each VPC to communicate with each other, you need to configure the route tables in the relevant subnets of each VPC to contain the correct routes"
   ]
  },
  {
   "cell_type": "markdown",
   "metadata": {},
   "source": [
    "<p align=\"center\"> <img src=\"images/vpc-peering.png\" height=\"388\" width=\"467\"/> </p>"
   ]
  },
  {
   "cell_type": "markdown",
   "metadata": {},
   "source": [
    "### Hands-On: Creating a VPC Peering Connection\n",
    "\n",
    "1. Create another VPC to peer with, in addition to a custom VPC you have used in a previous Hands-On (create again if necessary). Make sure it has non-overlapping CIDR block with your original custom VPC.\n",
    "\n",
    "2. From the VPC dashboard sidebar, select **Peering connections**, then **Create peering connection**\n",
    "\n",
    "3. Enter a name for your peering connection, then select each of the VPCs in the *VPC ID* dropdown lists\n",
    "\n",
    "4. From the next screen, select *Actions* then *Accept request*. Accept the request."
   ]
  },
  {
   "cell_type": "markdown",
   "metadata": {},
   "source": [
    "At this point you could set up routes in the route table between resources in each of the VPCs, as if they were on the same network."
   ]
  },
  {
   "cell_type": "markdown",
   "metadata": {},
   "source": [
    "## VPC Endpoints\n",
    ">*VPC Endpoints* simplify the connection process between a VPC and other AWS services, without needing to go through the public internet. \n",
    "\n",
    "Without a VPC Endpoint, connecting instances in your VPC to other AWS services requires a relatively complicated set up: \n",
    "- An Internet Gateway for public subnets\n",
    "- A NAT Gateway that routes through the Internet Gateway for private subnets \n",
    "\n",
    "VPC Endpoints provide a one-step solution to allow instances in private or public subnets to connect to other AWS services. They are also redundant, highly-available and horizontally scalable.\n",
    "\n",
    "There are two types of VPC Endpoints:\n",
    "\n",
    "### Interface Endpoints\n",
    ">*Interface endpoints* allow you to connect with most AWS services (listed in the image below), and they serve as single entry points for traffic to that service. \n",
    "\n",
    "- Interface Endpoints have a private IP address provisioned to it by *AWS PrivateLink*, which is a service that uses Network Load Balancers to connect to external AWS services using a high-speed connection. (A *Network Load Balancer* is a service that distributes incoming traffic across multiple targets, such as EC2 instances, to ensure high availability and reliability.)\n",
    "\n",
    "- They are made up of one or more *Elastic Network Interfaces (ENIs)*, which are standalone networking components that allow you to control networking to a compute instance, but keep it separate from the instance\n",
    "- Interface Endpoints must be set up with a Security Group to allow traffic out of the VPC to the relevant AWS service\n",
    "- They are also a paid service charged per hour and per GB of data processed\n",
    "\n",
    "### Gateway Endpoints\n",
    ">*Gateway Endpoints* are designed to be used only with Amazon S3 and DynamoDB (a NoSQL database service).\n",
    "\n",
    "- They work by targeting specific routes in a VPC route table to allow traffic to only the supported services \n",
    "\n",
    "- They are a free service"
   ]
  },
  {
   "cell_type": "markdown",
   "metadata": {},
   "source": [
    "<p align=\"center\"> <img src=\"images/vpc-endpoints.png\" height=\"531\" width=\"604\"/> </p>"
   ]
  },
  {
   "cell_type": "markdown",
   "metadata": {},
   "source": [
    "### Hands-On: Connecting API Gateway Using a VPC Endpoint\n",
    "\n",
    "[SUBJECT TO EXTENSION DEPENDING ON PROJECT REQUIREMENTS]\n",
    "\n",
    "**Configure VPC to allow DNS hostnames generation**\n",
    "1. From the VPC Dashboard, navigate to Your VPCs then select one of your custom VPCs (create again if necessary)\n",
    "\n",
    "2. From your custom VPC page, press *Actions* then *Edit VPC settings*\n",
    "\n",
    "3. Check the box for Enable DNS hostnames. This allows AWS to automatically generate DNS hostnames to use as endpoints within your VPC.\n",
    "\n",
    "**Create endpoint connection**\n",
    "\n",
    "1. From the main VPC dashboard select *Endpoints* on the sidebar, then *Create endpoint*\n",
    "\n",
    "2. Enter a name for your VPC endpoint, and make sure *AWS services* is selected under *Service Category*\n",
    "\n",
    "3. Under *Services* search for \"execute\" and select the option that comes up. This is the AWS service API Gateway. Check the box underneath *Service Name*.\n",
    "\n",
    "4. Choose your custom VPC from the dropdown menu at the end, then press *Create endpoint*\n",
    "\n",
    "5. Select one of the subnets\n",
    "\n",
    "6. Select one of the security groups\n",
    "\n",
    "7. Leave everything else as it is, then press *Create endpoint*"
   ]
  },
  {
   "cell_type": "markdown",
   "metadata": {},
   "source": [
    "## Site-to-Site VPN\n",
    ">A *Site-to-Site VPN (Virtual Private Network)* is one method of establishing a connection between an Amazon VPC and a remote, on-premises network. \n",
    "\n",
    "It works by using a VPN connection over the public internet. A VPN creates an encrypted 'tunnel' connection between two devices which ensures that data can be safely and anonymously transmitted over the public internet.\n",
    "\n",
    "These are the components of a Site-to-Site VPN connection:\n",
    "\n",
    "- A ***Virtual Private Gateway (VGW)*** is used on the Amazon side to allow for the VPN connection. You create a virtual private gateway in the VPC and associate it with the resources which need access to the Site-to-Site VPN connection.\n",
    "\n",
    "- A ***Customer Gateway (CGW)*** is needed at the on-premises side. It requires a *Customer Gateway Device*, which is a physical device or software application installed and capable of accepting traffic from the Site-to-Site VPN connection."
   ]
  },
  {
   "cell_type": "markdown",
   "metadata": {},
   "source": [
    "<p align=center> <img src=images/S2S_virtual_private_gateway.png width=600 height=300> </p>"
   ]
  },
  {
   "cell_type": "markdown",
   "metadata": {},
   "source": [
    "## AWS Direct Connect\n",
    ">*AWS Direct Connect* provides a dedicated, private connection between a remote network and a VPC. \n",
    "\n",
    "While a Site-to-Site VPN connection works over the public internet, AWS Direct Connect uses a fibre-optic ethernet connection to directly link together a router in the on-premises infrastructure (a Customer Gateway), with a VPC or other public AWS services such as S3. This is also known as a *Virtual Interface* (*VIF*). \n",
    "\n",
    "There are three different types of VIFs that can be configured:\n",
    "\n",
    "- **Public**: Enables connectivity between an on-premises network and AWS public services, VPCs and Transit Gateways\n",
    "\n",
    "- **Transit**: Enables private connectivity between an on-premises network and AWS Transit Gateways\n",
    "- **Private**: Enables connectivity between an on-premises network and an Amazon VPC only. This scenario is illustrated in the image below."
   ]
  },
  {
   "cell_type": "markdown",
   "metadata": {},
   "source": [
    "<p align=\"center\"> <img src=\"images/direct-connect.png\" height=\"484\" width=\"911\"/> </p>"
   ]
  },
  {
   "cell_type": "markdown",
   "metadata": {},
   "source": [
    "## Transit Gateway\n",
    ">A *Transit Gateway* is an AWS service that acts as a hub between many VPCs, otherwise known as the *hub-and-spoke* connectivity model. \n",
    "\n",
    "The problem it solves is that since VPC peering is a non-transitive connection, using peering to connect many VPCs together becomes an unreasonable option at scale (for example, to connect 20 VPCs requires 190 different peering connections). \n",
    "\n",
    "The way it works is by acting as a virtual router to route traffic between the VPCs and on-premises networks. The route tables of each VPC connected to the Transit Gateway must be configured properly to limit which VPCs can communicate with each other.\n",
    "\n",
    "There are various benefits of an AWS transit gateway:\n",
    "\n",
    "- It is a highly-available service and can elastically scale depending on the volume of traffic\n",
    "\n",
    "- To connect an on-premises network to the Transit Gateway you can use either a Site-to-Site VPN connection or a AWS Direct Connect gateway for a dedicated private connection\n",
    "- It is a regional resource, but you can peer Transit Gateways together across regions, like in the image below"
   ]
  },
  {
   "cell_type": "markdown",
   "metadata": {},
   "source": [
    "<p align=\"center\"> <img src=\"images/transit-gateway.png\" height=\"574\" width=\"710\"/> </p>"
   ]
  },
  {
   "cell_type": "markdown",
   "metadata": {},
   "source": [
    "## Key Takeaways\n",
    "- VPC Peering allows you to connect two separate VPCs as if they were using the same CIDR range, meaning subnets and Security Groups can be used across both VPCs. \n",
    "However, it is not a transitive connection.\n",
    "\n",
    "- VPC Endpoints create a private connection between a VPC and other AWS services. There are two types of VPC Endpoints:\n",
    "    - Interface Endpoints, which are one or more ENIs using AWS PrivateLink to connect almost any AWS service, but at a financial cost\n",
    "\n",
    "    - Gateway Endpoints are specific routes in a route table that allow traffic to only Amazon S3 or Dynamo DB, but are free to use\n",
    "\n",
    "- If you want to connect a VPC to an on-premises network there are two main options:\n",
    "    - Site-to-Site VPN uses an encrypted connection over the public internet to connect a VGW on the VPC side and a CGW at the on-premises side.\n",
    "\n",
    "    - AWS Direct Connect uses a VIF on a private, wired connection for high-speed and secure connectivity. The VIF can be public, private or transit.\n",
    "- A Transit Gateway is a hub-and-spoke model service which enables the connectivity of multiple VPCs with each other, or with an on-premises network via Site-to-Site VPN or Direct Connect. "
   ]
  }
 ],
 "metadata": {
  "language_info": {
   "name": "python"
  }
 },
 "nbformat": 4,
 "nbformat_minor": 2
}
