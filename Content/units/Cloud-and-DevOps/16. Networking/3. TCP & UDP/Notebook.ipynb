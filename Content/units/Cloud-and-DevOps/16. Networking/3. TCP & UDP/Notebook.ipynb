{
 "cells": [
  {
   "cell_type": "markdown",
   "metadata": {},
   "source": [
    "# TCP & UDP\n",
    "TCP and UDP play important yet distinct roles in how data is transmitted over the internet. They both operate on the transport layer of the TCP/IP Model, but differ significantly in terms of mechanism and use cases."
   ]
  },
  {
   "cell_type": "markdown",
   "metadata": {},
   "source": [
    "## TCP (Transmission Control Protocol)\n",
    ">TCP is a **stateful** protocol which operates on layer 4 (the transport layer) of the OSI model. It involves a three-step process to establish a connection between the client and server before data is transferred, followed by a four-step connection termination process. Each of these processes can sometimes be referred to as a *handshake*.\n",
    "\n",
    "\n",
    "### The Three-Step Connection Handshake\n",
    "1. Firstly, the client sends an initial segment to start the conversation, containing a *SYN* (synchronisation) flag\n",
    "\n",
    "2. Then the server acknowledges with a segment containing an *ACK* (acknowledgment) flag, as well as a *SYN* flag of its own\n",
    "3. Finally, the client sends an *ACK* flag to confirm. Then the actual data can be sent."
   ]
  },
  {
   "cell_type": "markdown",
   "metadata": {},
   "source": [
    "<p align=\"center\"> <img src=\"images/tcp-connection.png\" height=\"502\" width=\"576\"/> </p>"
   ]
  },
  {
   "cell_type": "markdown",
   "metadata": {},
   "source": [
    "### The Four-Step Termination Handshake\n",
    "1. Once all the data has been transferred, the client sends the server a segment with a *FIN* (finish) flag\n",
    "\n",
    "2. The server responds with an *ACK* flag, then changes its state to be disconnected\n",
    "3. Once the server state has been changed, it can send a *FIN* flag of its own\n",
    "4. The client then responds with an *ACK*, acknowledging the termination"
   ]
  },
  {
   "cell_type": "markdown",
   "metadata": {},
   "source": [
    "<p align=\"center\"> <img src=\"images/tcp-termination.png\" height=\"519\" width=\"693\"/> </p>"
   ]
  },
  {
   "cell_type": "markdown",
   "metadata": {},
   "source": [
    "This connection process ensures a reliable and ordered delivery of data, though it has a relatively slow transfer speed because of the lengthy handshake process. It is well-suited to the following use cases:\n",
    "\n",
    "- Email delivery\n",
    "\n",
    "- Database access: TCP guarantees secure and dependable transmission of queries and database responses\n",
    "- Web browsing: A TCP connection must be established between the client and server before the HTTP request and response process can begin. "
   ]
  },
  {
   "cell_type": "markdown",
   "metadata": {},
   "source": [
    "## UDP (User Datagram Protocol)\n",
    ">UDP is a **stateless** protocol which also operates on the transport layer. It uses a relatively simpler request-response process, and is sometimes referred to as being *connectionless*, which means that no formal connection is established before data is transferred. The result of this is that data can be transferred very quickly, but comes at the cost of reliability, as data is more likely to be lost in the transmission. \n",
    "\n",
    "UDP is commonly used in time-sensitive communications where occasionally dropping packets is better than waiting. The following cases all prioritise speed of data transfer, but are designed to handle some level of packet loss. \n",
    "\n",
    "- Online gaming\n",
    "\n",
    "- Video streaming \n",
    "- Voice and video calls"
   ]
  },
  {
   "cell_type": "markdown",
   "metadata": {},
   "source": [
    "<p align=\"center\"> <img src=\"images/udp-connection.png\" height=\"215\" width=\"749\"/> </p>"
   ]
  },
  {
   "cell_type": "markdown",
   "metadata": {},
   "source": [
    "## TCP vs UDP\n",
    "\n",
    "Feature | UDP | TCP\n",
    "-|-|-\n",
    "Connection type|Connectionless | Connected\n",
    "State control  |Stateless      | Stateful\n",
    "Error control | No | Yes\n",
    "Speed of transfer|Fast transfer | Slow transfer\n",
    "Reliability| Unreliable | Reliable\n",
    "Use cases | Online gaming, video streaming, voice and video calls | Email delivery, database access, web browsing"
   ]
  },
  {
   "cell_type": "markdown",
   "metadata": {},
   "source": [
    "## Key Takeaways\n",
    "- TCP is a stateful protocol which is used for reliable data delivery because of it's robust, three-part handshake connection process\n",
    "\n",
    "- UDP is a connectionless, stateless protocol perfect for instances where speed of data transfer is prioritised over reliable packet delivery"
   ]
  }
 ],
 "metadata": {
  "language_info": {
   "name": "python"
  }
 },
 "nbformat": 4,
 "nbformat_minor": 2
}
