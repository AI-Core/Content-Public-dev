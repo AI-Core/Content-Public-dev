{
 "cells": [
  {
   "cell_type": "markdown",
   "metadata": {},
   "source": [
    "# HTTP\n",
    ">HTTP is the foundation of the World Wide Web, governing how information is transmitted and displayed across the internet. It establishes a standardised set of rules for communication in a client-server relationship. HTTP is located in the application layer of the TCP/IP model. It runs on top of other protocols, mainly TCP in the transport layer. \n",
    "\n",
    "This notebook will explore the structure and function of HTTP, including the request-response model, session management, how to make programmatic HTTP requests, and an introduction to APIs."
   ]
  },
  {
   "cell_type": "markdown",
   "metadata": {},
   "source": [
    "## Resources and URIs\n",
    "\n",
    "HTTP allows a browser to interact with different *resources* hosted by servers, which can be web pages or parts of web pages like text data or images. A complete document is reconstructed from the different parts fetched, for instance, text, layout description, images, videos, scripts, and more. \n",
    "\n",
    "To do this the browser needs both the identity and the location of the resources. These two pieces of information are described by a *URI (Uniform Resource Identifier)*.\n",
    "\n",
    "The most common form of URI is a *URL (Uniform Resource Locator)*. For example, https://google.com is the URL, which can be typed into a browser to get the Google homepage (the resource)."
   ]
  },
  {
   "cell_type": "markdown",
   "metadata": {},
   "source": [
    "## The Request-Response Model\n",
    "The basis of HTTP is a *request* and *response* interaction, where each request and response separately are known as *HTTP messages*. The entire interaction runs as follows:\n",
    "\n",
    "1. The client sends a request to the server\n",
    "\n",
    "2. The server receives and processes the request\n",
    "\n",
    "3. The server then formulates and sends a response back to the client\n",
    "\n",
    "4. The client interprets the response and displays the relevant data <br></br>\n",
    "\n",
    "The request and response each comprise some different elements in order to complete their functions, but they both share the following components:\n",
    "\n",
    "- **Headers:** Metadata of the request in key-value pairs which can be used to communicate information such as authentication details, what web browser the client is using, and what data is being transferred.\n",
    "\n",
    "- **Body:** The body of a HTTP message contains data to be transferred from the client to the server, or vice versa. For example, in a request this might include form data. In a response it could contain the HTML of a webpage, an image, or any other data from the server.\n",
    "\n",
    "- **Version:** The version of the HTTP protocol being used for this request and response. HTTP/3 is the most recent version."
   ]
  },
  {
   "cell_type": "markdown",
   "metadata": {},
   "source": [
    "### The Request\n",
    "\n",
    "<p align=\"center\"> <img src=\"images/http-request.png\" height=\"405\" width=\"604\"/> </p>\n",
    "\n",
    "In addition to the elements already discussed above, the following are also included in a HTTP request:\n",
    "\n",
    "#### HTTP Method \n",
    "HTTP operates through a set of methods that dictates the action to be performed on a given resource. Commonly used methods are:\n",
    "\n",
    "- `GET`: The `GET` method requests data to be sent from the server to the client. When you enter a URL into your web browser you are making a `GET` request for the website information.\n",
    "\n",
    "- `POST`: This method allows data to be sent from a client to the server. For example, filling out a form with personal details. When you press 'Submit', a `POST` request is being made.\n",
    "\n",
    "- `PUT`: A `PUT` request also sends data from the client to a server. The main difference is that `PUT` is idempotent, which means multiple occurences of the same `PUT` request have the same effect as only one `PUT` request. Whereas multiple occurences of the same `POST` requests mean the same data is being sent and received multiple times. Also, in a `PUT` request, the client specifies the exact URL to be updated update with the supplied data, whereas in a `POST` request, how the information is utilised is left up to the server.\n",
    "\n",
    "- `DELETE`: This method deletes the specified resource\n",
    "\n",
    "#### Resource URI: \n",
    "\n",
    "Consider the following URI as an example: `http://www.example.com:80/path/to/file.html?key1=value1#anchor`\n",
    "\n",
    "- **Protocol:** `http://` is the protocol. It indicates the browser must use HTTP for this request. Usually it is HTTP but browsers can also handle other protocols such as `ftp://` for the File Transfer Protocol, or `mailto:` to open a mail client. \n",
    "\n",
    "- **Domain:** `www.example.com` is the domain name. This is the human-readable translation of an IP addresss, managed by the DNS protocol.\n",
    "\n",
    "- **Port:** `:80` is the port in this example. It points to a virtual space on the web server where the resource is stored. It is usually omitted if the web server uses the standard ports of the HTTP protocol (80 for HTTP and 443 for HTTPS).\n",
    "\n",
    "- **Path:** `/path/to/file.html` is the path to the resource itself on the web server\n",
    "\n",
    "- **Query:** `?key1=value1` are extra pieces of information provided to the web server. These are used by the web server to decide in more detail how it should send the requested information. For example, when you Google something, that thing then becomes part of a query: `https://google.com?q=something`.\n",
    "\n",
    "- **Anchor:** `#anchor` points to a specific part of the resource itself. Also known as a *fragment*, it could be a particular heading on a web page, for example.\n",
    "    \n",
    "#### Request Headers\n",
    "These are some common things to be included as request headers:\n",
    "\n",
    "- **`Content-Type`:** The media type of the data in the request body. It informs the server or client about how to interpret and handle the data. Common values for the `Content-Type` header include:\n",
    "\n",
    "    - `application/json`: This indicates that the request or response body contains data in JSON format\n",
    "\n",
    "    - `application/xml`: This signifies that the data is in XML format. XML (eXtensible Markup Language) is another popular format for representing structured data.\n",
    "\n",
    "- **`Authorisation`:** This header element carries credentials or tokens to prove the identity of the client making the request\n",
    "\n",
    "- **`Accept`:** This allows the client to specify the media types it can accept in the response. It informs the server about the preferred format of the response data, for example: `Accept: application/json`.\n",
    "\n",
    "- **`User-Agent`:** Identifies the client application or user agent that is making the request. It provides information about the software, device, and platform used by the client. \n",
    "\n",
    "    For example: `User-Agent: Mozilla/5.0 (Windows NT 10.0; Win64; x64) AppleWebKit/537.36 (KHTML, like Gecko) Chrome/91.0.4472.124 Safari/537.36.`\n",
    "\n",
    "    In this example, the User-Agent indicates that the request is coming from a web browser running on Windows 10 (Windows NT 10.0). The browser is Google Chrome version 91.0.4472.124, and it utilizes the WebKit rendering engine.\n",
    "\n",
    "\n",
    "#### Request Body\n",
    "The body of a HTTP request contains any information needing to be sent to the server. This is optional; requests that send data to the server such as `PUT` or `POST` requests typically require a body, but methods that only fetch information from the server usually do not need a body.\n",
    "\n",
    "Bodies can be broadly divided into two categories:\n",
    "\n",
    "- **Single-resource bodies:** One single file, defined by the two headers: `Content-Type` and `Content-Length`\n",
    "\n",
    "- **Multi-resource bodies:** Multiple parts to the body, each containing a different bit of information. This is typically associated with HTML forms."
   ]
  },
  {
   "cell_type": "markdown",
   "metadata": {},
   "source": [
    "### The Response\n",
    "<p align=\"center\"> <img src=\"images/http-response.png\" height=\"373\" width=\"751\"/> </p>\n",
    "\n",
    "#### Status Line \n",
    "This is the first line of an HTTP response, it contains the following information:\n",
    "    \n",
    "- **Protocol and Version:** `HTTP/1.1` in the image above\n",
    "\n",
    "- **Status Code:** A three digit code which indicates if the request was successful or not, and why. These are the groups of status codes:\n",
    "\n",
    "    - **100 - 199 (Informational):** The server acknowledges and is processing the request\n",
    "\n",
    "    - **200 - 299 (Success):** The server successfully received, understood, and processed the request\n",
    "\n",
    "    - **300 — 399 (Redirection):** The server received the request, but there’s a redirect to somewhere else, which means the requested resource is in a different location\n",
    "    \n",
    "    - **400 — 499 (Client Error):** The server couldn’t find (or reach) the requested information, most likely due to something wrong or missing from the request on the client's side\n",
    "    \n",
    "    - **500 - 599 (Server Error):** The client made a valid request, but the server failed to complete the request\n",
    "\n",
    "#### Response Headers\n",
    "Response headers use the same format as request headers: key-value pairs of strings. These are some examples of response headers:\n",
    "\n",
    "- **`Cache-Control`:** This header specifies how the response should be cached (saved in memory by the client)\n",
    "\n",
    "- **`Location`:** The location header is used to redirect the client to a different URL. This is commonly used for HTTP redirects, such as when a user submits a form and is redirected to a confirmation page.\n",
    "\n",
    "#### Response Body\n",
    "The response body contains the actual requested information. In most web requests, this is HTML data that a web browser will translate into a webpage. For example, in the above image the body is HTML data displaying the text \"Hello, World!\".\n",
    "\n",
    "The response body can often be translated into a format that is more efficient for storage or transmission, and then translated back later, a process known as *serialisation*."
   ]
  },
  {
   "cell_type": "markdown",
   "metadata": {},
   "source": [
    "## HTTP Cookies\n",
    ">A *cookie* is a small piece of data sent from a server to a web browser that is used to communicate state information. Browsers can store cookies, create new cookies, modify existing ones, and send them back to the server with later requests. So while the core of HTTP itself is stateless, HTTP cookies allow for stateful sessions. This technique is a type of *session management*, other techniques include communicating values in URL query parameters or headers.\n",
    "\n",
    "One example use case of HTTP cookies is to retain a user's sign-in state while they are logged in to a website. This would enable the user to navigate to other pages of the website and for them to receive a tailored experience, since the browser has retained state information about the user."
   ]
  },
  {
   "cell_type": "markdown",
   "metadata": {},
   "source": [
    "## HTTPS (HyperText Transfer Protocol Secure)\n",
    ">HTTPS is an extension of HTTP that adds an extra layer of security through encryption. It provides protection of sensitive data from unauthorised access. \n",
    "\n",
    "These are the key aspects of HTTPS:\n",
    "\n",
    "- **Encryption:** HTTPS uses encryption protocols such as *SSL (Secure Sockets Layer)* or *TLS (Transport Layer Security)*, which operate between the application layer and the transport layer of the TCP/IP suite to encrypt the data exchanged between the client and server. This ensures that the information transmitted cannot be easily intercepted or deciphered by unauthorised parties.\n",
    "\n",
    "- **Digital Certificates:** HTTPS relies on digital certificates issued by trusted Certificate Authorities (CAs) to verify the authenticity of the server. Certificate Authorities are organisations that are trusted to issue digital certificates by the makers of browsers and operating systems. The certificates establish a secure connection and enable the client to trust that it is communicating with the intended server.\n",
    "\n",
    "- **Port:** HTTPS typically uses port 443 for communication, while HTTP uses port 80. The use of a different port helps differentiate between secure and non-secure connections."
   ]
  },
  {
   "cell_type": "markdown",
   "metadata": {},
   "source": [
    "## Making HTTP Requests Programmatically\n",
    "It's important for a developer to be able to make HTTP requests outside the scope of a web browser. This allows for testing and debugging of web applications and infrastructure, automation and HTTP requests can be integrated into scripts or applications to allow for more complex workflows.\n",
    "\n",
    "### cURL\n",
    "`cURL` is a tool used for querying URLs from the command line. It works by performing a `GET` request to the given URL. For example:\n",
    "\n",
    "- Open a terminal and type `curl parrot.live`. You should be rewarded with a dancing ASCII parrot as the response.\n",
    "\n",
    "- `curl cheat.sh` responds with a cheatsheet for `cURL` itself\n",
    "\n",
    "#### cURL Options\n",
    "`cURL` is a simple tool but there are various flag options which can customise the output:\n",
    "\n",
    "- **`-o <file>`:** This flag writes the output to a file \n",
    "\n",
    "- **`-v`:** The verbose flag, `cURL` provides a detailed output of its operations\n",
    "\n",
    "- **`-i`:** Include the HTTP header in the output\n",
    "\n",
    "### The Python Requests Library\n",
    "Python provides several libraries and modules that make it straightforward to send HTTP requests. These libraries abstract the complexities of HTTP communication, allowing developers to interact with web services using simple and intuitive code. One commonly used library for making HTTP requests in Python is `requests`.\n",
    "\n",
    "Before using the `requests` library, you need to install it. Run the following command to install the `requests` library:\n",
    " \n",
    "```\n",
    "pip install requests\n",
    "```\n",
    "\n",
    "The example below demonstrates how to make a `GET` request to retrieve some simple JSON information stored on a web page using the `get()` function."
   ]
  },
  {
   "cell_type": "code",
   "execution_count": 9,
   "metadata": {},
   "outputs": [
    {
     "name": "stdout",
     "output_type": "stream",
     "text": [
      "{\n",
      "  \"slideshow\": {\n",
      "    \"author\": \"Yours Truly\", \n",
      "    \"date\": \"date of publication\", \n",
      "    \"slides\": [\n",
      "      {\n",
      "        \"title\": \"Wake up to WonderWidgets!\", \n",
      "        \"type\": \"all\"\n",
      "      }, \n",
      "      {\n",
      "        \"items\": [\n",
      "          \"Why <em>WonderWidgets</em> are great\", \n",
      "          \"Who <em>buys</em> WonderWidgets\"\n",
      "        ], \n",
      "        \"title\": \"Overview\", \n",
      "        \"type\": \"all\"\n",
      "      }\n",
      "    ], \n",
      "    \"title\": \"Sample Slide Show\"\n",
      "  }\n",
      "}\n",
      "\n"
     ]
    }
   ],
   "source": [
    "import requests\n",
    "\n",
    "# Send a GET request to the URL to retrieve the JSON information \n",
    "response = requests.get('http://httpbin.org/json')\n",
    "\n",
    "# Check if the request was successful (status code 200)\n",
    "if response.status_code == 200:\n",
    "    # Access the response data\n",
    "    data = response.text\n",
    "    print(data)\n",
    "\n",
    "# If the request was not successful, print the status code and response text\n",
    "else:\n",
    "    print(f\"Request failed with status code: {response.status_code}\")\n",
    "    print(f\"Response Text: {response.text}\")"
   ]
  },
  {
   "cell_type": "markdown",
   "metadata": {},
   "source": [
    "We use `requests.get()` to send a `GET` request to the resource at `http://httpbin.org/json`. The response from the server is stored in the `response` object. If the request was successful (status code 200), we print the JSON data. If the request was not successful, we print the status code and the response text, which provides additional information about the error."
   ]
  },
  {
   "cell_type": "markdown",
   "metadata": {},
   "source": [
    "## HTTP APIs\n",
    ">An *API (Application Programming Interface)* is a set of rules and protocols that allow different software applications and web services to communicate with each other, acting like a bridge. APIs can use specific, custom URLs called *endpoint URLs* which map to a third-party application or resource that a client can then interact with. An API then allows you to create routes within this endpoint that enable more granular organisation and management of the services and data within that resource. \n",
    "\n",
    "The term API is a broad concept used in all areas of programming, but this lesson is specifically about a type of API known as a *HTTP API* (sometimes referred to as a *RESTful API*) which is an API that allows communication between web services using HTTP.\n",
    "\n",
    "As a concrete example, consider this scenario: you are building an application for a hotel's guests, and you want to add a feature to display the current weather conditions. Instead of 'reinventing the wheel' by building a system to gather and process raw meteorological data, you can use an API from a service like the Met Office, which uses the endpoint URL `http://metoffice-api.gov.uk/data` (not the actual Met Office API). \n",
    "\n",
    "Your application sends a request to the Met Office's API with the specifics about what data it needs, such as the location you want to know the weather for. The specific route you would use might then be `http://metoffice-api.gov.uk/data/locationId`. The API then processes your request and returns the information you requested, which your application can then display to the user.\n",
    "\n",
    "### API Authentication\n",
    "Authentication in APIs involves verifying the identity of a client, before granting access to protected resources. It ensures that only authorised individuals or entities can interact with the API and perform specific actions. Authentication typically occurs during the initial stages of an API request, where the client provides credentials to prove its identity.\n",
    "\n",
    "The primary objectives of authentication in APIs are:\n",
    "\n",
    "- **Identity Verification:** Ensuring that the client's claimed identity is valid and can be trusted\n",
    "- **Access Control:** Granting or denying access to specific resources based on the client's authenticated identity\n",
    "\n",
    "#### Bearer Token Authentication\n",
    "One of the most common forms of authentication for APIs is the use of *bearer tokens*, which are credentials that represent a client's authorisation for accessing protected resources. These are some of the most common types of authentication tokens: \n",
    "\n",
    "- **Access Tokens:** Access tokens are temporary credentials issued to authenticated clients after a successful authentication process. Access tokens are used to authorise subsequent API requests. They are typically short-lived and have an expiration time. Access tokens can be more secure than API keys as they have a limited validity period, reducing the risk if they are compromised.\n",
    "\n",
    "- **Refresh Tokens:** Refresh tokens are additional tokens issued alongside access tokens. They are used to obtain new access tokens when the original access token expires. Refresh tokens are usually long-lived and can be used to maintain an authenticated session without requiring the client to re-enter their credentials. Refresh tokens need to be securely stored and transmitted since they grant the ability to obtain new access tokens.\n",
    "\n",
    "-  **API Keys:** API keys are unique identifiers issued to clients by the API provider, so that clients can include them in API requests to authenticate themselves. API keys are typically long alphanumeric strings, and do not expire. Clients include the API key in the request headers, such as the `X-API-Key` header."
   ]
  },
  {
   "cell_type": "markdown",
   "metadata": {},
   "source": [
    "Consider the below example, which is making a HTTP GET request to a free weather API, specifying longitude and latitude values in the URL, and passing an API key in as a request header for authentication."
   ]
  },
  {
   "cell_type": "code",
   "execution_count": null,
   "metadata": {},
   "outputs": [],
   "source": [
    "response = requests.request(\n",
    "    method=\"GET\", \n",
    "    url='https://api.openweathermap.org/data/weather?lat=44.34&lon=10.99',\n",
    "    headers={'X-API-Key': 'e0cec6bdc76d35d2842baf84a3'}\n",
    "    )"
   ]
  },
  {
   "cell_type": "markdown",
   "metadata": {},
   "source": [
    "## Key Takeaways\n",
    "\n",
    "- **HTTP Basics:** HTTP is the protocol used for communication on the web, operating in a client-server model with request and response messages.\n",
    "\n",
    "- **Resources and URIs:** Resources are where web pages or parts of web pages are stored. URIs are used to identify and locate resources; URLs are the most common type of URI\n",
    "\n",
    "- **Request Components:** A HTTP request comprises a method, body, version, and header, where the header contains the resource URI\n",
    "\n",
    "- **Response Components:** A HTTP response comprises a status line (protocol and version, and a status code), headers and body\n",
    "\n",
    "- **Session Management:** Cookies retain state information, allowing for persistent sessions despite HTTP being stateless\n",
    "\n",
    "- **Programmatic HTTP Requests:** Tools like cURL and Python's Requests library allow for testing, debugging, and automating HTTP requests\n",
    "\n",
    "- **HTTPS:** HTTPS adds security through encryption (SSL/TLS) and uses port 443 instead of port 80\n",
    "\n",
    "- **HTTP APIs:** An API is a set of rules and protocols that allow different software applications and web services to communicate with each other. A HTTP API (or RESTful API) is one that uses HTTP. \n",
    "\n",
    "- **API Authentication:** Ensures only authorised clients can access API resources. Mechanisms include Basic Authentication, Bearer Token Authentication, OAuth 2.0, and JWTs."
   ]
  }
 ],
 "metadata": {
  "kernelspec": {
   "display_name": "base",
   "language": "python",
   "name": "python3"
  },
  "language_info": {
   "codemirror_mode": {
    "name": "ipython",
    "version": 3
   },
   "file_extension": ".py",
   "mimetype": "text/x-python",
   "name": "python",
   "nbconvert_exporter": "python",
   "pygments_lexer": "ipython3",
   "version": "3.9.13"
  }
 },
 "nbformat": 4,
 "nbformat_minor": 2
}
