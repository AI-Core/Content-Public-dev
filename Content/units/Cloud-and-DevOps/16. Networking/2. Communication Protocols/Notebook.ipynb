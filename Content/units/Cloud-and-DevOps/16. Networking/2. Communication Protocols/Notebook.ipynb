{
 "cells": [
  {
   "cell_type": "markdown",
   "metadata": {},
   "source": [
    "# Communication Protocols\n",
    ">Sending data between computers over the internet is a complex process, particularly because of the huge diversity of different computer operating systems and hardware. To ensure reliable data exchange there are established rules known as protocols that govern how computers communicate with one another.\n",
    "\n",
    "Protocols can be defined in one of two ways:\n",
    "\n",
    "- **Stateful** protocols track and retain information about the state of a connection. They are a bit like a telephone call: a constant connection between the two parties must be established before communication can occur. In stateful protocols it is the server's job to retain the session information.\n",
    "\n",
    "- **Stateless** protocols conversely do not retain information about the state of a connection. Consider an SMS text message: the receiver's availability is not confirmed before the message is sent. There is no confirmation from the receiving device to the sending device that the message has been received.\n",
    "\n",
    "Protocols standardise the steps of the packet transfer process to ensure that they are disassembled and reassembled properly at either end of the transfer. These are the main protocols you need to know about: HTTP, TCP and UDP."
   ]
  },
  {
   "cell_type": "markdown",
   "metadata": {},
   "source": [
    "## HTTP (HyperText Transfer Protocol)\n",
    ">HTTP is the foundation of the World Wide Web, governing how information is transmitted and displayed across the internet. It establishes a standardised set of rules for communication between web browsers (clients) and web servers. The basis of HTTP lies in its request-response model, where a client sends a *request* to a server, and the server responds with a *response*. HTTP is located at layer 7 (the application layer) of the OSI model. Revisit [this](https://colab.research.google.com/github/AI-Core/Content-Public-dev/blob/main/Content/units/Cloud-and-DevOps/16.%20Networking/2.%20Communication%20Protocols/Notebook.ipynb) notebook to remind yourself about the OSI model. The 'S' in HTTPS stands for secure, meaning a layer of encryption has been added to the transferred data. \n",
    "\n",
    "\n",
    "\n",
    "HTTP is a **stateless** protocol because both the request and response contain all of the information they need to fulfill their purpose; there is no need for the server to retain any state information about the client.\n",
    "\n",
    "### The Request\n",
    "\n",
    "- **The method:** HTTP operates through a set of methods that dictates the action to be performed on a given resource. Commonly used methods are:\n",
    "\n",
    "    - `GET`: The `GET` method requests data to be sent from the server to the client. When you enter a URL into your web browser you are making a `GET` request for the website information.\n",
    "\n",
    "    - `POST`: This method allows data to be sent from a client to the server. For example, filling out a form with personal details. When you press 'Submit', a `POST` request is being made.\n",
    "    - `PUT`: Similar to `POST`, a `PUT` request also sends data from a client to a server. The main difference is that `PUT` is idempotent, which means multiple occurences of the same `PUT` request have the same effect as only one `PUT` request. Whereas multiple occurences of the same `POST` requests mean the same data is being sent and received multiple times.\n",
    "    - `DELETE`: This method deletes the specified resource\n",
    "    \n",
    "- **The version:** HTTP/3 is the most recent version\n",
    "- **A request header:** Metadata of the request in key-value pairs which can be used to facilitate authentication, manage session state, and more efficiently decide what data is to be transferred. \n",
    "- **A request body:** The information that has to be transferred\n",
    "\n",
    "### The Response\n",
    "\n",
    "- **A status code:** This tells us if the data transfer is successful or not\n",
    "\n",
    "- **A response header:** Core information about the response such as the language and format of the data being sent\n",
    "- **A response body:** The actual requested information. In most web requests, this is HTML data that a web browser will translate into a webpage."
   ]
  },
  {
   "cell_type": "markdown",
   "metadata": {},
   "source": [
    "<p align=\"center\"> <img src=\"images/http-cycle.png\" height=\"345\" width=\"482\"/> </p>\n",
    "\n",
    "If you want to learn more about HTTP and HTTPS as well how they relate to APIs, please refer to [this](https://colab.research.google.com/github/AI-Core/Content-Public/blob/main/Content/units/Cloud-and-DevOps/0.%20APIs%20%26%20Requests/0.%20Basics%20of%20APIs%20and%20Communication%20Protocols/Notebook.ipynb) notebook."
   ]
  },
  {
   "cell_type": "markdown",
   "metadata": {},
   "source": [
    "## TCP (Transmission Control Protocol)\n",
    ">TCP is a **stateful** protocol which operates on layer 4 (the transport layer) of the OSI model. It involves a three-step process to establish a connection between the client and server before data is transferred, followed by a four-step connection termination process. Each of these processes can sometimes be referred to as a *handshake*.\n",
    "\n",
    "\n",
    "### The Three-Step Connection Handshake\n",
    "1. Firstly, the client sends an initial segment to start the conversation, containing a *SYN* (synchronisation) flag\n",
    "\n",
    "2. Then the server acknowledges with a segment containing an *ACK* (acknowledgment) flag, as well as a *SYN* flag of its own\n",
    "3. Finally, the client sends an *ACK* flag to confirm. Then the actual data can be sent."
   ]
  },
  {
   "cell_type": "markdown",
   "metadata": {},
   "source": [
    "<p align=\"center\"> <img src=\"images/tcp-connection.png\" height=\"502\" width=\"576\"/> </p>"
   ]
  },
  {
   "cell_type": "markdown",
   "metadata": {},
   "source": [
    "### The Four-Step Termination Handshake\n",
    "1. Once all the data has been transferred, the client sends the server a segment with a *FIN* (finish) flag\n",
    "\n",
    "2. The server responds with an *ACK* flag, then changes its state to be disconnected\n",
    "3. Once the server state has been changed, it can send a *FIN* flag of its own\n",
    "4. The client then responds with an *ACK*, acknowledging the termination"
   ]
  },
  {
   "cell_type": "markdown",
   "metadata": {},
   "source": [
    "<p align=\"center\"> <img src=\"images/tcp-termination.png\" height=\"519\" width=\"693\"/> </p>"
   ]
  },
  {
   "cell_type": "markdown",
   "metadata": {},
   "source": [
    "This connection process ensures a reliable and ordered delivery of data, though it has a relatively slow transfer speed because of the lengthy handshake process. It is well-suited to the following use cases:\n",
    "\n",
    "- Email delivery\n",
    "\n",
    "- Database access: TCP guarantees secure and dependable transmission of queries and database responses\n",
    "- Web browsing: A TCP connection must be established between the client and server before the HTTP request and response process can begin. "
   ]
  },
  {
   "cell_type": "markdown",
   "metadata": {},
   "source": [
    "### TCP/IP Model\n",
    "The TCP/IP model is an evolution of the OSI model. The OSI model was developed as a protocol-independent framework for understanding the steps of the connection process between two devices. The TCP/IP model is an updated, more practical model which addresses specific communication challenges and relies on specific protocols, namely TCP and IP.\n",
    "\n",
    "The TCP/IP model groups together the top three layers of the OSI model into *Application,* and the bottom two layers into *Network Access.*"
   ]
  },
  {
   "cell_type": "markdown",
   "metadata": {},
   "source": [
    "<p align=center> <img src=images/TCP-IP-model.png width=400 height=300> </p>"
   ]
  },
  {
   "cell_type": "markdown",
   "metadata": {},
   "source": [
    "**1. Network Access:** This layer handles the physical equipment on the source device being able to connect to the network\n",
    "\n",
    "**2. Internet:** The internet layer controls network traffic flow and facilitates routing, to ensure data reaches its intended destination. This is the IP component of the TCP/IP model.\n",
    "    \n",
    "**3. Transport:** The transport layer creates a connection between the devices. It handles network error checking and is responsible for choosing how the message is divided into packets before transfer. This layer is the TCP component of the TCP/IP model, UDP also operates on this layer.\n",
    "\n",
    "**4. Application:** Finally, the application layer consists of the actual group of applications that let the user access the network. HTTP operates on this layer."
   ]
  },
  {
   "cell_type": "markdown",
   "metadata": {},
   "source": [
    "## UDP (User Datagram Protocol)\n",
    ">UDP is a **stateless** protocol which also operates on the transport layer. It uses a relatively simpler request-response process, and is sometimes referred to as being *connectionless*, which means that no formal connection is established before data is transferred. The result of this is that data can be transferred very quickly, but comes at the cost of reliability, as data is more likely to be lost in the transmission. \n",
    "\n",
    "UDP is commonly used in time-sensitive communications where occasionally dropping packets is better than waiting. The following cases all prioritise speed of data transfer, but are designed to handle some level of packet loss. \n",
    "\n",
    "- Online gaming\n",
    "\n",
    "- Video streaming \n",
    "- Voice and video calls"
   ]
  },
  {
   "cell_type": "markdown",
   "metadata": {},
   "source": [
    "<p align=\"center\"> <img src=\"images/udp-connection.png\" height=\"215\" width=\"749\"/> </p>"
   ]
  },
  {
   "cell_type": "markdown",
   "metadata": {},
   "source": [
    "## UDP vs TCP\n",
    "\n",
    "Feature | UDP | TCP\n",
    "---------------|---------------|------------\n",
    "Connection type|Connectionless | Connected\n",
    "State control  |Stateless      | Stateful\n",
    "Error control | No | Yes\n",
    "Speed of transfer|Fast transfer | Slow transfer\n",
    "Reliability| Unreliable | Reliable\n",
    "Use cases | Online gaming, video streaming, voice and video calls | Email delivery, database access, web browsing"
   ]
  },
  {
   "cell_type": "markdown",
   "metadata": {},
   "source": [
    "## Key Takeaways\n",
    "\n",
    "- Protocols can be stateful or stateless. Stateful protocols track and retain information about the connection process, stateless protocols do not.\n",
    "\n",
    "- HTTP is a stateless protocol used by web browsers to load websites, it consists of a request and response process between the client and server\n",
    "- TCP is a stateful protocol which is used for reliable data delivery because of it's robust, three-part handshake connection process\n",
    "- UDP is a connectionless, stateless protocol perfect for instances where speed of data transfer is prioritised over reliable packet delivery\n",
    "- The TCP/IP model is a practical framework for implementation of these protocols and troubleshooting of network connection issues"
   ]
  }
 ],
 "metadata": {
  "language_info": {
   "name": "python"
  }
 },
 "nbformat": 4,
 "nbformat_minor": 2
}
