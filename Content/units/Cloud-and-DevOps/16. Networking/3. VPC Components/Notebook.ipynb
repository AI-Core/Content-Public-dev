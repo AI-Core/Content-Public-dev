{
 "cells": [
  {
   "cell_type": "markdown",
   "metadata": {},
   "source": [
    "# VPC Components  \n",
    ">A *VPC (Virtual Private Cloud)* is a secure, isolated cloud environment hosted within a public cloud. A VPC allows you to group together cloud resources and control the networking environment around them. \n",
    "\n",
    "There are various components needed to build and operate a VPC, which will be covered in this notebook. These components will be discussed generally first of all, and then in the context of Amazon VPCs more specifically.\n",
    "\n",
    "These are the key features & benefits of a VPC:\n",
    "\n",
    "- Comprehensive control over the virtual networking environment of groups of resources\n",
    "\n",
    "- Allows for the division of a large network into smaller parts\n",
    "- Allows for granular control of the flow of traffic in and out of specific CIDR blocks, including automatically determining where that traffic should go depending on it's volume\n",
    "- Sophisticated network monitoring and logging capabilities \n",
    "- Easy to implement a hybrid cloud deployment by connecting the VPC to an on-premises infrastructure \n",
    "\n",
    "### Use Cases of a VPC\n",
    "- **Hosting a public facing website:** When hosting a website, you may require multiple compute instances along with a database. Using a VPC allows you to add layers of security and traffic monitoring so you can control the inbound and outbound traffic to your site, avoiding attacks.\n",
    "\n",
    "- **Connecting branch offices with a cloud system:** There are various different options for connecting remote, on-premises systems to a VPC. This would allow you to benefit from the high availability and reliability of cloud resources, while being fully connected to your on-premises system.\n",
    "\n",
    "- **Development and testing environments:** Creating isolated VPCs for different environments ensures that testing does not affect the production environment and allows for secure and controlled development processes."
   ]
  },
  {
   "cell_type": "markdown",
   "metadata": {},
   "source": [
    "The following diagram illustrates at a high level the components of a VPC we will be discussing in this notebook. Refer back to this as you progress through the different concepts.\n",
    "\n",
    "<p align=\"center\"> <img src=\"images/VPC-Components.jpeg\" height=\"588\" width=\"880\"/> </p>"
   ]
  },
  {
   "cell_type": "markdown",
   "metadata": {},
   "source": [
    "## Subnets\n",
    ">*Subnets* are subdivisions of the IP address range defined for the VPC. They allow you to split the VPC into smaller sub-networks, or subnets. This is useful because it means you can control the networking around cloud resources at a more granular level. Subnets can be configured to be either public or private: accessible from the internet or not, depending on the use case of the resources inside each subnet.\n",
    "\n",
    "When configuring a subnet in an Amazon VPC, you can allow AWS to auto-assign public IP addresses to instances launched in that subnet. This does not mean those instances are then publicly accessible from the internet; the public IP address assigned to the instances are picked from a pool of protected, public IP addresses owned by Amazon.\n",
    "\n",
    "Before discussing public and private subnets in more depth, it's important to understand what an Internet Gateway is.\n",
    "\n",
    ">An *Internet Gateway (IGW)* is an AWS service designed to facilitate bidirectional communication between resources within the VPC and the internet. It allows inbound traffic from the internet to reach resources hosted in the VPC and enables outbound traffic from resources within the VPC to reach the internet. An Internet Gateway is also a horizontally scalable and highly available service.\n",
    "\n",
    "### Public vs Private Subnets\n",
    ">A *public subnet* is defined by AWS as one which has a direct route to an Internet Gateway, and can therefore access the internet and be accessed from the internet. A *private subnet* is one which does not have a direct route to an Internet Gateway.\n",
    "\n",
    "\n",
    "For example, a private subnet would be used for resources such as database servers which need high levels of protection, and are only accessed by other resources in your VPC so no public internet connection is required. Public subnets are used for resources which need to be accessed from the internet, such as public-facing web servers."
   ]
  },
  {
   "cell_type": "markdown",
   "metadata": {},
   "source": [
    "## NAT Services\n",
    "The primary benefit of private subnets is that they enhance security by preventing direct access from the internet, since they are not connected to an Internet Gateway. However, without an Internet Gateway, instances in a private subnet can not send outbound traffic either, because they don't have a publicly routable IP address to set as the reply field. To solve this problem, we need to perform NAT for any instances in private subnets.\n",
    "\n",
    ">As a reminder, *NAT (Network Access Translation)* is the process of assigning public IP addresses to devices and instances so they can be accessed outside a private network such as a private subnet or LAN. Without NAT, resources in a private subnet cannot communicate with anything outside of that VPC. \n",
    "\n",
    "Traditionally, you could provision a special type of EC2 instance in a public subnet which would perform NAT and allow instances in a private subnet to send outbound traffic. This method is known as a *NAT Instance*. Although this is still possible, it less common today because it is difficult to scale and is unreliable: if that EC2 instance fails then your private subnet is cut off. As a solution to this, Amazon created NAT Gateways.\n",
    "\n",
    "### NAT Gateways\n",
    ">A *NAT Gateway* is an AWS service which performs NAT on instances in private subnets so that they have public IP addresses, and can therefore connect to the internet. This means that multiple instances can share the same public IP address. Each NAT Gateway is created in a specific Availability Zone, with redundancy within that Availability Zone. They can also scale automatically and can handle large volumes of traffic. \n",
    "\n",
    "When you create a NAT Gateway, you specify one of the following connectivity types:\n",
    "\n",
    "- **Public:** Choosing this option allows instances in private subnets to connect to the internet, but cannot receive unsolicited inbound connections. This method requires the NAT Gateway to be provisioned in a public subnet, because it works in conjunction with an Internet Gateway to allow outbound traffic from the private subnet to the internet. \n",
    "\n",
    "- **Private:** Private NAT Gateways only allow traffic from instances to other VPCs on your AWS account or a connected on-premises network. Any traffic sent from a private NAT Gateway through an Internet Gateway will be automatically dropped.\n",
    "\n",
    "<p align=\"center\"> <img src=\"images/NAT-Gateways.jpeg\" height=\"630\" width=\"539\"/> </p>"
   ]
  },
  {
   "cell_type": "markdown",
   "metadata": {},
   "source": [
    "#### Elastic IP Addresses\n",
    ">An *elastic IP address* in AWS is a public IPv4 address which you can associate with an instance in your VPC, and if that instance fails the elastic IP address can quickly and automatically remap itself to another instance within the same VPC. This is useful because it means you can ensure very little downtime for an application or server, should an instance fail.\n",
    "\n",
    "When you create a public NAT gateway you must associate an elastic IP address with the NAT gateway at creation. AWS does this automatically for you by default, but you can create and assign your own. You cannot associate an elastic IP address with a private NAT gateway."
   ]
  },
  {
   "cell_type": "markdown",
   "metadata": {},
   "source": [
    "## Route Tables\n",
    ">A *route table* contains a set of rules, called routes, that determine where network traffic from your subnet is directed. When you create a VPC with AWS you get a route table by default, called the *main route table*, which you can add routes to, or you can create your own *custom route table*.\n",
    "\n",
    "The following are the key concepts you need to know about route tables:\n",
    "\n",
    "- **Destination:** This is the first column in a route table, it is the range of IP addresses where you want the traffic to go, defined using CIDR notation.\n",
    "\n",
    "- **Target:** The second column in a route table, this is the connection through which the traffic should go, such as a NAT Gateway, Internet Gateway or instance ID (for traffic directed to specific instances in a VPC).\n",
    "\n",
    "- **Route priority:** Routes are evaluated in priority order, with more specific routes taking precedence over less specific ones\n",
    "\n",
    "- **Route table association:** The association between a route table and a subnet or internet gateway. "
   ]
  },
  {
   "cell_type": "markdown",
   "metadata": {},
   "source": [
    "Consider the following use cases and route table configurations:\n",
    "\n",
    "**Example 1:** For a web server to be able to serve content to users on the internet, a route table would be requireed to allow traffic from your subnet to anywhere on the public internet. The following route would achieve this: \n",
    "\n",
    "Destination | Target\n",
    "------------|--------\n",
    "`0.0.0.0/0` |`internetgateway-id`\n",
    "\n",
    "\n",
    "**Example 2:** In this next example, a database server in a private subnet needs access to the internet for software updates, but should be directly accessible from the internet. The following route table directs non-local traffic to a NAT Gateway in a public subnet, allowing outbound internet access while keeping inbound traffic restricted.\n",
    "\n",
    "Destination | Target\n",
    "------------|--------\n",
    "`10.0.0.0/16` |`local` (default route for internal VPC communication)\n",
    "`0.0.0.0/0` | `nat-123456`\n",
    "    \n",
    "**Example 3:** In this route table, traffic destined for a subnet with the `172.9.31.0/20` CIDR block is routed to a specific network interface. Traffic to all other subnets in the VPC uses the local route.\n",
    "\n",
    "Destination | Target\n",
    "------------|--------\n",
    "`172.9.31.0/16` | Local\n",
    "`172.9.31.0/20` | `eni-id`"
   ]
  },
  {
   "cell_type": "markdown",
   "metadata": {},
   "source": [
    "## Hands-On: Creating a Custom VPC With Public and Private Subnets\n",
    "AWS automatically provides a *default VPC* in each AWS region. The default VPC simplifies the process of getting started with AWS resources by providing pre-configured settings and infrastructure. It includes a pre-defined CIDR block and a public subnets. However, you also have the option to create a *custom VPC*. A custom VPC allows for more control and customization, giving you the flexibility to define your own CIDR block and subnets.\n",
    "\n",
    "When creating a VPC, you define an IP address range using CIDR notation. AWS recommends that you use a private IPv4 address range for setting up your VPC, although it is possible to define a publicly routable CIDR block instead. Doing this would require you to own or have access to this public range of IP addresses, however. Also, for the remainder of this notebook we will discuss VPCs as if they have been defined with a private IPv4 address range.\n",
    "<br></br>\n",
    "\n",
    "### Creating the Custom VPC\n",
    "\n",
    "1. After logging in to the AWS console, navigate to VPC using the search bar and select *Create VPC*\n",
    "\n",
    "2. On the next screen, select *VPC only*. We are going to manually create the other resources in a later Hands-On exercise.\n",
    "3. Enter a name for your VPC\n",
    "4. IPv4 CIDR block: Select *IPv4 CIDR manual input*\n",
    "5. Define your CIDR block. For the purposes of this Hands-On we will use `10.0.0.0/24`, which contains 256 IP addresses.\n",
    "6. IPv6 CIDR block: Select *No IPv6 CIDR block*\n",
    "6. Tenancy: Select *Default*. This attribute determines if instances that are launched into the VPC will run on hardware that's shared with other AWS accounts, or on dedicated for your use only.\n",
    "8. Press *Create VPC*"
   ]
  },
  {
   "cell_type": "markdown",
   "metadata": {},
   "source": [
    "<p align=\"center\"> <img src=\"images/1-vpc-settings.png\" height=\"587\" width=\"508\"/> </p>"
   ]
  },
  {
   "cell_type": "markdown",
   "metadata": {},
   "source": [
    "Once you have created your VPC you will be redirected back to the *Your VPCs* page. You should be able to see two VPCs in the list: the first one is the default VPC that comes with your AWS account, the second is the one we just created, with the IPv4 CIDR block of `10.0.0.0/24`."
   ]
  },
  {
   "cell_type": "markdown",
   "metadata": {},
   "source": [
    "### Creating the Subnets\n",
    "In this step we are going to create two subnets, which will be configured as public and private later.\n",
    "\n",
    "1. From the main VPC dashboard, on the sidebar, click *Subnets*. There will be three subnets listed here already. These are for the default VPC, one subnet for each of the availability zones in your region.\n",
    "\n",
    "2. Press *Create Subnet*\n",
    "3. Select the VPC we created a moment ago\n",
    "4. Enter a name. This step is actually optional, but doing so allows you to more easily differentiate between subnets. Call this first subnet `my-test-public-subnet-1`, for example\n",
    "5. Choose an Availability Zone\n",
    "6. Enter `10.0.0.0/28` for the *IPv4 subnet CIDR block*. This subnet has 16 IP addresses.\n",
    "7. Leave everything else as it is\n",
    "\n",
    "8. Complete this step once again to create a second subnet, but calling it something like `my-test-private-subnet-1` instead. Make sure to select a different CIDR block so it doesn't overlap with the public subnet."
   ]
  },
  {
   "cell_type": "markdown",
   "metadata": {},
   "source": [
    "<p align=\"center\"> <img src=\"images/2-subnet-settings.png\" height=\"587\" width=\"508\"/> </p>"
   ]
  },
  {
   "cell_type": "markdown",
   "metadata": {},
   "source": [
    "### Configure the Public subnet\n",
    "In this step we are going to allow the instances in this subnet to be auto-assigned a public IP address owned by Amazon.\n",
    "\n",
    "1. Select your public subnet\n",
    "\n",
    "2. Press *Actions* then *Edit subnet settings*\n",
    "3. Select the box for *Enable auto-assign public IPv4 address*"
   ]
  },
  {
   "cell_type": "markdown",
   "metadata": {},
   "source": [
    "### Create the Internet Gateway\n",
    "In this step we are going to create an Internet Gateway which will allow the public subnet to communicate with the internet.\n",
    "\n",
    "1. From the main VPC dashboard, on the sidebar, press *Internet Gateways*\n",
    "\n",
    "2. There will be one there already, this is the default IGW. Click *Create internet gateway*.\n",
    "3. Enter a name. Press *Create Internet Gateway*.\n",
    "4. On the next screen, press *Actions*, then *Attach to a VPC*\n",
    "5. Select the VPC you created"
   ]
  },
  {
   "cell_type": "markdown",
   "metadata": {
    "vscode": {
     "languageId": "html"
    }
   },
   "source": [
    "### Create the NAT Gateway\n",
    "1. From the main VPC dashboard, on the sidebar, press *NAT Gateways*, then *Create NAT Gateway*\n",
    "\n",
    "2. Enter a name for your NAT Gateway\n",
    "3. Select the public subnet you created\n",
    "4. For connectivity type, select *Public*\n",
    "5. Press *Allocate Elastic IP*\n",
    "6. Press *Create NAT gateway*"
   ]
  },
  {
   "cell_type": "markdown",
   "metadata": {},
   "source": [
    "<p align=\"center\"> <img src=\"images/5-create-nat-gateway.png\" height=\"536\" width=\"505\"/> </p>"
   ]
  },
  {
   "cell_type": "markdown",
   "metadata": {
    "vscode": {
     "languageId": "plaintext"
    }
   },
   "source": [
    "### Create Route Tables\n",
    "The last step of this process is to create custom route tables, and then associate them with the relevant subnet. The private subnet will be routed to the NAT Gateway you just created, and the public subnet will be routed to the Internet Gateway.\n",
    "\n",
    "1. From the main VPC dashboard, on the sidebar, press *Route Tables*\n",
    "\n",
    "2. Select *Create route table*\n",
    "3. Enter a name corresponding to one of the subnets (`public-route-table`, for example). Select your VPC, then press *Create route table*.\n",
    "4. From the next screen, press *Subnet associations*, then the *Edit subnet associations* button underneath *Explicit subnet associations* (see below screenshot)"
   ]
  },
  {
   "cell_type": "markdown",
   "metadata": {},
   "source": [
    "<p align=\"center\"> <img src=\"images/6-edit-subnet-associations.png\" height=\"533\" width=\"1083\"/> </p>"
   ]
  },
  {
   "cell_type": "markdown",
   "metadata": {},
   "source": [
    "5. On the next screen, select the corresponding subnet, then press *Save assocations*\n",
    "\n",
    "6. Next, in the *Routes* pane of the main route table page, press *Edit routes*\n",
    "7. Press *Add route*, then enter `0.0.0.0/0` under *Destination* and select the Internet Gateway you created for *Target*. This will allow any traffic out of the subnet to go through the Internet Gateway and be able to commmunicate with the internet. Press *Save changes*.\n",
    "8. Repeat this whole step for the private subnet and route table, but make the NAT Gateway you have created the target in the route table instead of the Internet Gateway."
   ]
  },
  {
   "cell_type": "markdown",
   "metadata": {},
   "source": [
    "## Key Takeaways\n",
    "- A VPC is a secure, isolated cloud environment within a public cloud. It allows for comprehensive control of the networking environment surrounding groups of resources, by defining a range of IP addresses which you have complete control over.\n",
    "\n",
    "- Subnets are subdivisions of that IP address range, they can be made public or private\n",
    "- An Internet Gateway is a service which acts as a link between a VPC and the internet. It is required in order for instances in subnets to connect to the internet, other VPCs or an on-premises network.\n",
    "- A NAT Gateway is a managed service which allows a private subnet to send outbound traffic to the internet, other VPCs or a connected on-premises network. They can be configured with public or private connectivity: a public NAT Gateway creates a connection with the internet, a private NAT Gateway only allows communication with other VPCs on your account and a connected on-premises network.\n",
    "- An elastic IP address is a public IPv4 address owned by Amazon which upon failure of an instance it's associated with, can automatically remap itself to another instance to avoid downtime\n",
    "- A route table is a set of rules which determine where network traffic from your subnet should be directed\n",
    "- An elastic load balancer is a service which provides a single point of contact in your VPC to then distribute traffic across different targets such as EC2 instances. There are three types of load balancer you need to know about: network, application and gateway."
   ]
  }
 ],
 "metadata": {
  "language_info": {
   "name": "python"
  }
 },
 "nbformat": 4,
 "nbformat_minor": 2
}
