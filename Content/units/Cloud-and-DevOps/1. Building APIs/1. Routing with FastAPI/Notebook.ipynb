{
 "cells": [
  {
   "attachments": {},
   "cell_type": "markdown",
   "metadata": {},
   "source": [
    "# Routing with FastAPI"
   ]
  },
  {
   "attachments": {},
   "cell_type": "markdown",
   "metadata": {},
   "source": [
    ">In the context of APIs, *routing* refers to the process of defining how an application responds to client requests. Routing acts like a map or guide for how the application should respond when a certain path is accessed or when a certain action is performed. It helps in directing the traffic of requests to the correct code that can process these requests and return the appropriate response."
   ]
  },
  {
   "attachments": {},
   "cell_type": "markdown",
   "metadata": {},
   "source": [
    "When working on a project, the code for each feature of your application will often be partitioned into it's own script, rather than having a single large file containing all of the different functions. As a result you might have several python scripts, each with their own API endpoints defined, all of which need to be available in the main application.\n",
    "\n",
    "In FastAPI, this can be achieved using the `APIRouter` class. `APIRouter` helps you divide your web application into smaller, manageable parts (called \"routers\"). Each router can have its own set of endpoints, and can be responsible for a specific part of the application. You can think of each instance of `APIRouter` as a \"mini\" API instance. They instances can then be added together in your main file, to create the full API.\n",
    "\n",
    "As an example, consider a case where you are building an API for a book shop, and you have a separate set of endpoints for retrieving the details of books, and another for retrieving authors. While it is possible to achieve this in a single python file, it would be better to encapsulate your endpoints so that the two different concerns are separated into their own scripts.\n",
    "\n"
   ]
  },
  {
   "cell_type": "code",
   "execution_count": null,
   "metadata": {},
   "outputs": [],
   "source": [
    "# An example script where the author and book APIs are combined in a single script\n",
    "import fastapi\n",
    "import uvicorn\n",
    "\n",
    "bookshop = fastapi.FastAPI()\n",
    "\n",
    "@bookshop.get('/')\n",
    "def index():\n",
    "    return 'Welcome to the bookshop!'\n",
    "\n",
    "@bookshop.get('/author/all/')\n",
    "def get_all_authors():\n",
    "    return 'Here is a list of all the authors we stock!'\n",
    "\n",
    "@bookshop.get('/book/all')\n",
    "def get_all_books():\n",
    "    return 'Here is a list of all the books we stock!'\n",
    "\n",
    "@bookshop.get('/book/{book_id}')\n",
    "def get_book(book_id: int):\n",
    "    return f'Here is the book with id {book_id}'\n",
    "    \n",
    "if __name__ == '__main__':\n",
    "    uvicorn.run(api, port=8000, host='127.0.0.1')"
   ]
  },
  {
   "attachments": {},
   "cell_type": "markdown",
   "metadata": {},
   "source": [
    "One approach for separating these functions would be having one script for the home page, and another for the methods related to books and the methods related to authors. The directory structure of our project might then look a little like the following:\n",
    "\n",
    "```\n",
    "root/\n",
    "│\n",
    "├── store_api\n",
    "|           └── author_api.py\n",
    "|           └── home.py\n",
    "|           └── book_api.py\n",
    "└── main.py\n",
    "```"
   ]
  },
  {
   "attachments": {},
   "cell_type": "markdown",
   "metadata": {},
   "source": [
    "We would then define our script for `home.py` as follows:"
   ]
  },
  {
   "cell_type": "code",
   "execution_count": null,
   "metadata": {},
   "outputs": [],
   "source": [
    "# This might be our home.py script:\n",
    "\n",
    "import fastapi\n",
    "router = fastapi.APIRouter()\n",
    "\n",
    "\n",
    "@router.get('/')\n",
    "def index():\n",
    "    return 'Welcome to the bookshop!'\n",
    "\n"
   ]
  },
  {
   "attachments": {},
   "cell_type": "markdown",
   "metadata": {},
   "source": [
    "We could then encapsulate both of the endpoints related to retrieving books in `book.py`:"
   ]
  },
  {
   "cell_type": "code",
   "execution_count": null,
   "metadata": {},
   "outputs": [],
   "source": [
    "# This would be our book.py script:\n",
    "\n",
    "import fastapi\n",
    "router = fastapi.APIRouter()\n",
    "\n",
    "@router.get('/book/all')\n",
    "def get_all_books():\n",
    "    return 'Here is a list of all the books we stock!'\n",
    "\n",
    "@router.get('/book/{book_id}')\n",
    "def get_book(book_id: int):\n",
    "    return f'Here is the book with id {book_id}'"
   ]
  },
  {
   "attachments": {},
   "cell_type": "markdown",
   "metadata": {},
   "source": [
    "And the endpoint related to retrieving authors in `author.py`:"
   ]
  },
  {
   "cell_type": "code",
   "execution_count": null,
   "metadata": {},
   "outputs": [],
   "source": [
    "# and this would be our author.py script:\n",
    "import fastapi\n",
    "router = fastapi.APIRouter()\n",
    "\n",
    "@router.get('/author/all/')\n",
    "def get_all_authors():\n",
    "    return 'Here is a list of all the authors we stock!'"
   ]
  },
  {
   "attachments": {},
   "cell_type": "markdown",
   "metadata": {},
   "source": [
    "Finally, we would run the application from `main.py`, using a script like this:"
   ]
  },
  {
   "cell_type": "code",
   "execution_count": null,
   "metadata": {},
   "outputs": [],
   "source": [
    "# main.py\n",
    "import fastapi\n",
    "import uvicorn\n",
    "import store_api.author\n",
    "import store_api.book\n",
    "import store_api.home\n",
    "\n",
    "api = fastapi.FastAPI()\n",
    "\n",
    "def configure_routing():\n",
    "    api.include_router(store_api.home.router)\n",
    "    api.include_router(store_api.author.router)\n",
    "    api.include_router(store_api.book.router)\n",
    "\n",
    "\n",
    "\n",
    "if __name__ == '__main__':\n",
    "    configure_routing()\n",
    "    uvicorn.run(api, port=8000, host='127.0.0.1')\n"
   ]
  },
  {
   "attachments": {},
   "cell_type": "markdown",
   "metadata": {},
   "source": [
    "Notice that in `store_api/home.py`,  `store_api/book.py` and `store_api/author.py`, we included `router = fastapi.APIRouter()`. We then added all three of those router instances to our main API using the `configure_routing` function we defined in `main.py`. The `include_router` method tells our API instance to take all the routes defined in a particular `APIRouter` and add them to your main application."
   ]
  },
  {
   "attachments": {},
   "cell_type": "markdown",
   "metadata": {},
   "source": [
    "## Key Takeaways\n",
    "\n",
    "- Routing is the process of defining how an application responds to client requests\n",
    "- The `APIRouter` class in FastAPI can be used to separate out your endpoint definitions across multiple files\n",
    "\n"
   ]
  }
 ],
 "metadata": {
  "kernelspec": {
   "display_name": "content_repo",
   "language": "python",
   "name": "python3"
  },
  "language_info": {
   "codemirror_mode": {
    "name": "ipython",
    "version": 3
   },
   "file_extension": ".py",
   "mimetype": "text/x-python",
   "name": "python",
   "nbconvert_exporter": "python",
   "pygments_lexer": "ipython3",
   "version": "3.11.3"
  }
 },
 "nbformat": 4,
 "nbformat_minor": 2
}
