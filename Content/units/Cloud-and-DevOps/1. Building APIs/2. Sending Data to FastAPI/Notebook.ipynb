{
 "cells": [
  {
   "attachments": {},
   "cell_type": "markdown",
   "metadata": {},
   "source": [
    "# Sending Data to FastAPI\n"
   ]
  },
  {
   "attachments": {},
   "cell_type": "markdown",
   "metadata": {},
   "source": [
    "## Motivation\n",
    "\n",
    "For many types of API query, it is necessary to send data to the API along with your request. Here are some examples of why you might need to send data to an API:\n",
    "\n",
    "- Make a GET request for some filtered subset of the data provided by the API (eg. listing all products in a specific category)\n",
    "- Make POST requests where you supply data to the API, for example when making a post on a social media website\n",
    "- Authenticating yourself to prove that you are able to access a specific service\n",
    "- Sending an image to the API of a machine learning model"
   ]
  },
  {
   "attachments": {},
   "cell_type": "markdown",
   "metadata": {},
   "source": [
    "## Sending Data via the Query String\n",
    "\n",
    "You can send individual parameters to your API via the URL query string. As previously discussed, the query parameters come after the endpoint URL, separated from it with a `?` symbol, and take the form of key-value pairs separated by ampersands (`&`):\n",
    "\n",
    "```\n",
    "my_example_api.com/this_query?parameter1=value1&parameter2=value2\n",
    "```\n",
    "\n",
    "The associated endpoint function then looks for matches between the supplied parameter keys and the named parameters in the function definition:"
   ]
  },
  {
   "cell_type": "code",
   "execution_count": null,
   "metadata": {},
   "outputs": [],
   "source": [
    "import fastapi\n",
    "import uvicorn\n",
    "\n",
    "api = fastapi.FastAPI()\n",
    "\n",
    "@api.get('/book/by_genre')\n",
    "def get_book_by_genre(genre: str):\n",
    "    # This function is looking for a query parameter called 'genre'\n",
    "    print(f'Getting books in genre: {genre}')\n"
   ]
  },
  {
   "attachments": {},
   "cell_type": "markdown",
   "metadata": {},
   "source": [
    "Sending a query to this endpoint such as the following:"
   ]
  },
  {
   "cell_type": "code",
   "execution_count": null,
   "metadata": {},
   "outputs": [],
   "source": [
    "import requests\n",
    "response = requests.get(\"http://127.0.0.1:8000/book/by_genre?genre=scifi\")"
   ]
  },
  {
   "attachments": {},
   "cell_type": "markdown",
   "metadata": {},
   "source": [
    "Will assign the string value `scifi` to the parameter `genre` in the function associated with the api decorator. The response will look like this:\n",
    "\n",
    "<div style=\"text-align:center\"><img src=\"images/booksingenre.gif\" width=500/></div>"
   ]
  },
  {
   "attachments": {},
   "cell_type": "markdown",
   "metadata": {},
   "source": [
    "## Sending Data via the Path:\n",
    "\n",
    "Another way to send values in an API request is via the URI path itself. You can define a variable inside braces `{}` in the URI path referenced in the API decorator, and if this matches the name of a parameter in the associated function, then the value will that appears at that part of the query will be passed to the function as an argument. \n",
    "\n",
    "For example, the function `get_book_by_ID` defined below is looking for an integer input parameter called `book_id`, and the location of the parameter in the URI has been defined by the location of `{book_id}`."
   ]
  },
  {
   "cell_type": "code",
   "execution_count": null,
   "metadata": {},
   "outputs": [],
   "source": [
    "import fastapi\n",
    "import uvicorn\n",
    "\n",
    "api = fastapi.FastAPI()\n",
    "\n",
    "@api.get('/book/by_id/{book_id}')\n",
    "def get_book_by_ID(book_id: int):\n",
    "    # This function is looking for a query parameter called 'genre'\n",
    "    print(f'Fetching book with id: {book_id}')"
   ]
  },
  {
   "attachments": {},
   "cell_type": "markdown",
   "metadata": {},
   "source": [
    "We can then send a book ID in the URI query as follows:"
   ]
  },
  {
   "cell_type": "code",
   "execution_count": null,
   "metadata": {},
   "outputs": [],
   "source": [
    "import requests\n",
    "response = requests.get(\"http://127.0.0.1:8000/book/by_id/1234\")"
   ]
  },
  {
   "attachments": {},
   "cell_type": "markdown",
   "metadata": {},
   "source": [
    "and the response will look like this:\n",
    "\n",
    "<div style=\"text-align:center\"><img src=\"images/book_by_id.gif\" width=500/></div>\n",
    "\n"
   ]
  },
  {
   "attachments": {},
   "cell_type": "markdown",
   "metadata": {},
   "source": [
    "## Sending Data in the Request Body\n",
    "\n",
    "The third way to send data to an API is in the request body. The format here is to pass the endpoint URI, along with some value associated with the `data` keyword argument.\n",
    "\n",
    "Lets imagine we wanted to add a feature to our book shop API where we can add a new author to our database. We want to create a POST request endpoint and have it parse in a dictionary of key-value pairs representing the information fields we want to add for a given author.\n",
    "\n",
    "To send this information to the endpoint is easy. We just need to create a dictionary of the data we wish to add, and then serialise it into JSON format using the `json.dumps()` method, and pass it as the value associated with the `data` keyword argument in the request."
   ]
  },
  {
   "cell_type": "code",
   "execution_count": null,
   "metadata": {},
   "outputs": [],
   "source": [
    "import requests\n",
    "import json\n",
    "\n",
    "author_data = {'name': 'Isaac Asimov', 'genre': 'science fiction', 'author_id': 1234}\n",
    "\n",
    "response = requests.post(\"http://127.0.0.1:8000/author/new_author/\", data=json.dumps(author_data))"
   ]
  },
  {
   "attachments": {},
   "cell_type": "markdown",
   "metadata": {},
   "source": [
    "But how do we set up the API to interpret our input data here? By default, FastAPI will look for the input parameters to the function in the query string. To tell it to look for it in the request body instead, we need to define a class, and then if it finds a match for the specification of that class, it will use the data in the body rather than the data in the query string."
   ]
  },
  {
   "attachments": {},
   "cell_type": "markdown",
   "metadata": {},
   "source": [
    "## Introducing the Pydantic Model\n",
    "\n",
    "> Pydantic is a data validation library in Python that provides a way to validate that the incoming data structures are as expected. It enables you to define what data your application can receive, and Pydantic will ensure that incoming data corresponds to your model, taking care of validation and error handling.\n",
    "\n",
    "Pydantic models are built around Pydantic's `BaseModel` class. To build your own datamodel, you can create a class that inherits from `BaseModel` and then specify your data structure within it. For example, we could create an `Author` class as follows:"
   ]
  },
  {
   "cell_type": "code",
   "execution_count": null,
   "metadata": {},
   "outputs": [],
   "source": [
    "from pydantic import BaseModel\n",
    "\n",
    "class Author(BaseModel):\n",
    "    name: str\n",
    "    genre: str = None\n",
    "    author_id: int\n",
    "    "
   ]
  },
  {
   "attachments": {},
   "cell_type": "markdown",
   "metadata": {},
   "source": [
    "We can now refer to this class in the function associated with our `.post(/author/new_author)` endpoint:"
   ]
  },
  {
   "cell_type": "code",
   "execution_count": null,
   "metadata": {},
   "outputs": [],
   "source": [
    "import fastapi\n",
    "import uvicorn\n",
    "\n",
    "api = fastapi.FastAPI()\n",
    "\n",
    "@api.post('/author/new_author')\n",
    "def create_new_author(author: Author):\n",
    "   print(f\"adding new author, name: {author.name}, id: {author.author_id}\")"
   ]
  },
  {
   "attachments": {},
   "cell_type": "markdown",
   "metadata": {},
   "source": [
    "FastAPI will look for some data that fits this model in the body of the request, and if it finds a match, it will pass the variable to the input of the function.\n",
    "\n",
    "<div style=\"text-align:center\"><img src=\"images/body.gif\" width=800/></div>"
   ]
  }
 ],
 "metadata": {
  "language_info": {
   "name": "python"
  }
 },
 "nbformat": 4,
 "nbformat_minor": 2
}
