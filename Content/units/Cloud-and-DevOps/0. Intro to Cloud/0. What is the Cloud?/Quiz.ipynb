{
 "cells": [
  {
   "attachments": {},
   "cell_type": "markdown",
   "metadata": {},
   "source": [
    "# What is the Cloud?"
   ]
  },
  {
   "attachments": {},
   "cell_type": "markdown",
   "metadata": {},
   "source": [
    "## Which of the following statements are True about the Cloud?\n",
    "\n",
    "- 1. It allows access to resources and services over the internet.\n",
    "- 2. It provides on-demand self-service.\n",
    "- 3. It is typically pay-as-you-go or usage-based.\n",
    "- 4. It is not scalable and cannot handle large workloads.\n",
    "\n",
    "The correct answer is:\n",
    "- A) 1 and 2\n",
    "- B) 1,2 and 3 ***\n",
    "- C) 1 and 3\n",
    "- D) 2 and 4\n"
   ]
  },
  {
   "attachments": {},
   "cell_type": "markdown",
   "metadata": {},
   "source": [
    "## Which of the following statements about the Cloud is False?\n",
    "\n",
    "- A) The Cloud allows access to resources and services over the internet.\n",
    "- B) It provides on-demand self-service.\n",
    "- C) It is typically pay-per-use or usage-based.\n",
    "- D) The Cloud is a physical device that could be held in your hand. ***"
   ]
  },
  {
   "attachments": {},
   "cell_type": "markdown",
   "metadata": {},
   "source": [
    "## Which of the follow companies are considered to be part of the main cloud providers?\n",
    "\n",
    "- 1. Amazon Web Services (AWS)\n",
    "- 2. Confluent\n",
    "- 3. Google Cloud Platform (GCP)\n",
    "- 4. Microsoft Azure\n",
    "\n",
    "The correct answer is:\n",
    "- A) 1 and 4\n",
    "- B) 1 and 2\n",
    "- C) 1, 2 and 4\n",
    "- D) 1, 3 and 4 ***"
   ]
  }
 ],
 "metadata": {
  "language_info": {
   "name": "python"
  },
  "orig_nbformat": 4
 },
 "nbformat": 4,
 "nbformat_minor": 2
}
