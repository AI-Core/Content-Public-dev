{
 "cells": [
  {
   "attachments": {},
   "cell_type": "markdown",
   "metadata": {},
   "source": [
    "# Numpy - Intro"
   ]
  },
  {
   "attachments": {},
   "cell_type": "markdown",
   "metadata": {},
   "source": [
    "## Which of the following statements best describes a numpy `ndarray`?\n",
    "\n",
    "- A) It is a one-dimensional array that can only hold integer values.\n",
    "- B) It is a multi-dimensional array that can hold any data type. ***\n",
    "- C) It is a data structure used only for numerical calculations.\n",
    "- D) It is a built-in function in Python for creating arrays."
   ]
  },
  {
   "attachments": {},
   "cell_type": "markdown",
   "metadata": {},
   "source": [
    "## Which of the following code snippets correctly generates a 2D numpy `ndarray` of shape (3,4) with all elements initialized to 1?\n",
    "\n",
    "- A) `np.zeros((3,4))`\n",
    "- B) `np.ones((3,4))` ***\n",
    "- C) `np.random.rand((3,4))`\n",
    "- D) `np.full((3,4), 1)`"
   ]
  },
  {
   "attachments": {},
   "cell_type": "markdown",
   "metadata": {},
   "source": [
    "## What is the purpose of the `astype()` method in numpy arrays?\n",
    "\n",
    "- A) It is used to convert a numpy array into a Python list.\n",
    "- B) It is used to convert the data type of the elements in a numpy array. ***\n",
    "- C) It is used to transpose the dimensions of a numpy array.\n",
    "- D) It is used to reshape a numpy array into a different shape."
   ]
  },
  {
   "attachments": {},
   "cell_type": "markdown",
   "metadata": {},
   "source": [
    "## Which of the following code snippets correctly generates a numpy `ndarray` with values ranging from 0 to 9, reshapes it into a 2D array of shape (2,5), and assigns it to a variable `arr`?\n",
    "\n",
    "- A) `arr = np.reshape(np.arrange(10), (2,5))`\n",
    "- B) `arr = np.reshape(np.arange(10), (5,2))`\n",
    "- C) `arr = np.reshape(np.arange(0,10), (2,5))` ***\n",
    "- D) `arr = np.reshape(np.arange(0,10), (5,2))`"
   ]
  },
  {
   "attachments": {},
   "cell_type": "markdown",
   "metadata": {},
   "source": [
    "## Which of the following code snippets correctly transposes a 2D numpy `ndarray arr`?\n",
    "\n",
    "- A) `arr.transpose()`\n",
    "- B) `np.transpose(arr)`\n",
    "- C) `arr.T`\n",
    "- D) All of the above ***"
   ]
  },
  {
   "attachments": {},
   "cell_type": "markdown",
   "metadata": {},
   "source": [
    "## Which of the following code snippets correctly creates a numpy `ndarray` filled with zeros of shape (3, 4)?\n",
    "\n",
    "- A) `np.zeros((3, 4), 1)`\n",
    "- B) `np.zeros(3, 4)`\n",
    "- C) `np.zeros((3, 4))` ***\n",
    "- D) `np.zeros((4, 3))`"
   ]
  },
  {
   "attachments": {},
   "cell_type": "markdown",
   "metadata": {},
   "source": [
    "## Which of the following code snippets correctly creates a numpy `ndarray` filled with random numbers drawn from a standard normal distribution of shape (2, 3)?\n",
    "\n",
    "- A) `np.random.randn(2, 3)` ***\n",
    "- B) `np.random.rand(3, 2)`\n",
    "- C) `np.random.normal(2, 3)`\n",
    "- D) `np.random.standard_normal(2, 3)`"
   ]
  },
  {
   "attachments": {},
   "cell_type": "markdown",
   "metadata": {},
   "source": [
    "## Which of the following code snippets correctly changes the shape of a numpy `ndarray arr` of shape (4, 3) to (3, 4)?\n",
    "\n",
    "- A) `arr.reshape(4, 3)`\n",
    "- B) `arr.reshape((3, 4))` ***\n",
    "- C) `arr.resize((3, 4))`\n",
    "- D) `arr.resize(3, 4)`"
   ]
  }
 ],
 "metadata": {
  "language_info": {
   "name": "python"
  },
  "orig_nbformat": 4
 },
 "nbformat": 4,
 "nbformat_minor": 2
}
