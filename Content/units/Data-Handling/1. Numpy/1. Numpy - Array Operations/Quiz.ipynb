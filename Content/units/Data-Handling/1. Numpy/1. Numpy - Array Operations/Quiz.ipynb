{
 "cells": [
  {
   "attachments": {},
   "cell_type": "markdown",
   "metadata": {},
   "source": [
    "# Numpy - Array Operations"
   ]
  },
  {
   "attachments": {},
   "cell_type": "markdown",
   "metadata": {},
   "source": [
    "## What is the result of the following code snippet?\n",
    "\n",
    "``` python\n",
    "import numpy as np\n",
    "\n",
    "a = np.array([1, 2, 3])\n",
    "b = np.array([4, 5, 6])\n",
    "c = a + b * 2\n",
    "print(c)\n",
    "```\n",
    "\n",
    "- A) `[10 12 14]`\n",
    "- B) `[9 12 15]`\n",
    "- C) `[14 17 20]`\n",
    "- D) `[10 15 20]` ***"
   ]
  },
  {
   "attachments": {},
   "cell_type": "markdown",
   "metadata": {},
   "source": [
    "## Suppose you have two matrices `A` and `B`, with shapes (2, 3) and (3, 4) respectively. Which of the following operations is valid in NumPy?\n",
    "\n",
    "- A) `A + B`\n",
    "- B) `A - B`\n",
    "- C) `A * B`\n",
    "- D) `np.dot(A, B)` ***"
   ]
  },
  {
   "attachments": {},
   "cell_type": "markdown",
   "metadata": {},
   "source": [
    "## Given a NumPy array `arr = np.array([1, 2, 3, 4, 5])`, what is the value of `arr[3]`?\n",
    "\n",
    "- A) `1`\n",
    "- B) `2`\n",
    "- C) `3`\n",
    "- D) `4` ***"
   ]
  },
  {
   "attachments": {},
   "cell_type": "markdown",
   "metadata": {},
   "source": [
    "## Given a NumPy array `arr = np.array([[1, 2, 3], [4, 5, 6], [7, 8, 9]])`, what is the value of `arr[:, 0]`?\n",
    "\n",
    "- A) `[1, 2, 3]`\n",
    "- B) `[4, 5, 6]`\n",
    "- C) `[7, 8, 9]`\n",
    "- D) `[1, 4, 7]` ***"
   ]
  },
  {
   "attachments": {},
   "cell_type": "markdown",
   "metadata": {},
   "source": [
    "## Given a NumPy array `arr = np.array([[1, 2, 3], [4, 5, 6], [7, 8, 9], [10, 11, 12]])`, what is the value of `arr[2:, :]`?\n",
    "\n",
    "- A) `[[1, 2, 3]]`\n",
    "- B) `[[4, 5, 6], [7, 8, 9], [10, 11, 12]]` ***\n",
    "- C) `[[7, 8, 9], [10, 11, 12]]`\n",
    "- D) `[[1, 4, 7], [2, 5, 8], [3, 6, 9], [10, 11, 12]]`"
   ]
  },
  {
   "attachments": {},
   "cell_type": "markdown",
   "metadata": {},
   "source": [
    "## Given a NumPy array `arr = np.array([1, 2, 3, 4, 5])`, what is the value of `arr[-3:]`?\n",
    "\n",
    "- A) `[]`\n",
    "- B) `[1, 2, 3]`\n",
    "- C) `[3, 4, 5]` ***\n",
    "- D) `[2, 3, 4, 5]`"
   ]
  }
 ],
 "metadata": {
  "language_info": {
   "name": "python"
  },
  "orig_nbformat": 4
 },
 "nbformat": 4,
 "nbformat_minor": 2
}
