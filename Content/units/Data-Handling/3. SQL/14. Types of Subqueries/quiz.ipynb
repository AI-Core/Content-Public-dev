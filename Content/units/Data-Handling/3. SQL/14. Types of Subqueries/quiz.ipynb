{
 "cells": [
  {
   "attachments": {},
   "cell_type": "markdown",
   "metadata": {},
   "source": [
    "# Types of subqueries"
   ]
  },
  {
   "attachments": {},
   "cell_type": "markdown",
   "metadata": {},
   "source": [
    "## Which of the following statements are a good use case for single row/scalar subqueries?\n",
    "\n",
    "- Updating, deleting or inserting data ***\n",
    "- Returning a scalar value to use as a comparison in you `WHERE` and `HAVING` statement ***\n",
    "- Updating multivalued at once in your table\n",
    "- To set the amount of records returned in a `LIMIT` clause\n",
    "- Updating a single value in your table ***"
   ]
  },
  {
   "attachments": {},
   "cell_type": "markdown",
   "metadata": {},
   "source": [
    "## Which of the following statements are true about multiple row subqueries?\n",
    "\n",
    "- Great for targeting subsets of data ***\n",
    "- Can be used in conjunction with the `ANY/SOME, IN, NOT IN` and `ALL` operations to perform complex filter of data ***\n",
    "- Will still run even if the result returns no columns\n",
    "- Are usually seen in the `FROM` statement of an outer query\n",
    "- You can use `ANY` in a `WHERE` statement to check if any of the rows in the outer query exist in the rows returned by the subquery\n",
    "- `SOME` checks that at least two rows in the result of the subquery match and `ANY` check at least one row does"
   ]
  },
  {
   "attachments": {},
   "cell_type": "markdown",
   "metadata": {},
   "source": [
    "## Which statements are true about *correlated subqueries* and *multiple column subqueries*?\n",
    "\n",
    "- Multiple column subqueries are named as such because the outer query contains multiple columns\n",
    "- Correlated subqueries can often be replaced with a `JOIN` ***\n",
    "- Correlated subqueries can named as such since the output of the subquery depends on the **outside query**\n",
    "- Correlated subqueries are often more efficient than `JOIN`s\n",
    "- Multiple column subqueries are often used to filter data in the outside query based on the results of the subquery"
   ]
  },
  {
   "attachments": {},
   "cell_type": "markdown",
   "metadata": {},
   "source": [
    "## Which of the following statements is true about *nested queries* and *dervied tables*?\n",
    "\n",
    "- Nested queries are queries nested inside other subqueries up to 255 level deep ***\n",
    "- When nesting subqueries the subqueries are evaluated from the outside in \n",
    "- A derived table is named as such since is a table derived from a subquery ***\n",
    "- Derived tables need to be defined in the `WHERE` statement\n",
    "- Derived tables are great to use when you want to operate on some subset of your table ***"
   ]
  },
  {
   "attachments": {},
   "cell_type": "markdown",
   "metadata": {},
   "source": [
    "## "
   ]
  }
 ],
 "metadata": {
  "kernelspec": {
   "display_name": "base",
   "language": "python",
   "name": "python3"
  },
  "language_info": {
   "name": "python",
   "version": "3.10.9"
  },
  "orig_nbformat": 4,
  "vscode": {
   "interpreter": {
    "hash": "a2592652612463181e69ac003232387e3e9a99279aa6b168e76f5df16d5110f4"
   }
  }
 },
 "nbformat": 4,
 "nbformat_minor": 2
}
