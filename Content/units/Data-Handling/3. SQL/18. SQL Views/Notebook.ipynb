{
 "cells": [
  {
   "cell_type": "markdown",
   "metadata": {},
   "source": [
    "# Views"
   ]
  },
  {
   "cell_type": "markdown",
   "metadata": {},
   "source": [
    ">Views are database objects that take the form of virtual tables, acting like shortcuts to regularly used queries.  You can save a query as a view, so that rather than repeatedly typing out the same query structure, you can just refer to the view instead. Once created and stored, views can be used in any subsequent query. They provide a way to encapsulate frequently-used logic into reusable elements, making your queries more DRY."
   ]
  },
  {
   "cell_type": "markdown",
   "metadata": {},
   "source": [
    "## Properties of Views"
   ]
  },
  {
   "cell_type": "markdown",
   "metadata": {},
   "source": [
    "Like other tables, you can:\n",
    "\n",
    "- Query a view\n",
    "- `JOIN` views to regular tables, or to other views\n",
    "- Perform **CRUD** operations via the view onto the underlying tables\n",
    "\n",
    "Common use-cases of views:\n",
    "\n",
    "- **Avoid Effort Duplication:** Write a query once, and store it as a view for referencing in future queries\n",
    "- **Reduce Complexity:** Improve readability and use for yourself or other database users by showing only the columns relevant for a particular task\n",
    "- **Increase Security:** Views can be used to limit user access to specific subsets of a database by granting permissions for users to use specific views, but not the underlying tables"
   ]
  },
  {
   "cell_type": "markdown",
   "metadata": {},
   "source": [
    ">Views are dynamic. They do not store any data directly, but instead are new representations of the tables from which they are created. They don’t change the side of your data model, unlike for example duplicating and altering a table. if you update the date in the underlying table, the view will also update accordingly."
   ]
  },
  {
   "cell_type": "markdown",
   "metadata": {},
   "source": [
    "## Creating Views"
   ]
  },
  {
   "cell_type": "markdown",
   "metadata": {},
   "source": [
    "The syntax for creating a view is as follows:\n",
    "\n",
    "\n",
    "```sql\n",
    "CREATE VIEW view_name AS {query};\n",
    "```\n",
    "\n",
    "\n",
    "You can also overwrite an existing view with the following syntax:\n",
    "\n",
    "\n",
    "```sql\n",
    "REPLACE VIEW view_name AS {query};\n",
    "```\n",
    "\n",
    "Typically these two pieces of syntax are combined into a single statement which will either create or update the view depending on whether it already exists:\n",
    "\n",
    "```sql\n",
    "CREATE OR REPLACE VIEW view_name AS {query};\n",
    "```\n",
    "\n",
    "As a simple example, you might create a view called `movie_list` from the `film` table in the **Pagila** database, containing just the `film_id` (primary key), `title` and `rating` of the film, as follows:\n"
   ]
  },
  {
   "cell_type": "code",
   "execution_count": null,
   "metadata": {
    "vscode": {
     "languageId": "sql"
    }
   },
   "outputs": [],
   "source": [
    "\n",
    "\n",
    "CREATE OR REPLACE VIEW movie_list AS\n",
    "SELECT \n",
    "    film_id,\n",
    "    title,\n",
    "    rating\n",
    "FROM \n",
    "    film;\n",
    "\n"
   ]
  },
  {
   "cell_type": "markdown",
   "metadata": {},
   "source": [
    "\n",
    "After creating the view, you can then query it just like any other table:\n"
   ]
  },
  {
   "cell_type": "code",
   "execution_count": null,
   "metadata": {
    "vscode": {
     "languageId": "sql"
    }
   },
   "outputs": [],
   "source": [
    "\n",
    "SELECT title, rating FROM movie_list\n",
    "WHERE rating = 'PG-13'\n",
    "ORDER BY title DESC\n",
    "LIMIT 5;"
   ]
  },
  {
   "cell_type": "markdown",
   "metadata": {},
   "source": [
    "\n",
    "<p align=\"center\">\n",
    "    <img src=\"images/first_query_result.jpg\"  width=\"700\"/>\n",
    "</p>\n",
    "<br>"
   ]
  }
 ],
 "metadata": {
  "language_info": {
   "name": "python"
  }
 },
 "nbformat": 4,
 "nbformat_minor": 2
}
