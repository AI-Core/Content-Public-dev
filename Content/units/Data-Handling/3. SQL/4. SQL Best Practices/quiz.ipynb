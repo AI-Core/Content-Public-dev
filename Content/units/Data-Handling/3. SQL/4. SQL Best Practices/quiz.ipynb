{
 "cells": [
  {
   "attachments": {},
   "cell_type": "markdown",
   "metadata": {},
   "source": [
    "# SQL Best Practices"
   ]
  },
  {
   "attachments": {},
   "cell_type": "markdown",
   "metadata": {},
   "source": [
    "## Which of the following is the correct syntax for writing the SQL `SELECT` keyword?\n",
    "\n",
    "- `SELECT` ***\n",
    "- `select`\n",
    "- `Select`\n",
    "- None of the above"
   ]
  },
  {
   "attachments": {},
   "cell_type": "markdown",
   "metadata": {},
   "source": [
    "## Which of the following are reasons why you should avoid the `*` to select columns using SQL? Select all that apply.\n",
    "\n",
    "- `*` just adds unnecessary data to the resultant data making it harder to understand ***\n",
    "- If you are pulling the data over a network then it could increase the bandwidth required to retrieve the data ***\n",
    "- It makes it more difficult to `SELECT` all columns from a table\n",
    "- You can't use it when your query has a `GROUP BY` statement\n",
    "- It deletes columns from the database"
   ]
  },
  {
   "attachments": {},
   "cell_type": "markdown",
   "metadata": {},
   "source": [
    "## What are some of the positives of using **aliases** when writing SQL queries? Select all that apply.\n",
    "\n",
    "- Aliasing your columns can help users of your data more easily understand it's use ***\n",
    "- They make your queries more readable to other people on your team ***\n",
    "- The database column in the table will be updated with the alias you use\n",
    "- Aliases can be shared using the `ALIAS` command\n",
    "- The make your query more performant"
   ]
  },
  {
   "attachments": {},
   "cell_type": "markdown",
   "metadata": {},
   "source": [
    "## Why should you use `JOIN`s to join SQL tables instead of the `WHERE` statement? Select all that apply.\n",
    "\n",
    "- `JOIN`s are generally more performant when joining tables ***\n",
    "- It can help you separate your logic so that your code is easier to follow ***\n",
    "- `JOIN`s will always get more data than a `WHERE` statement\n",
    "- `JOIN`s while less performant are easier to read\n",
    "- `JOIN`s while more error prone are more performant"
   ]
  }
 ],
 "metadata": {
  "kernelspec": {
   "display_name": "base",
   "language": "python",
   "name": "python3"
  },
  "language_info": {
   "name": "python",
   "version": "3.10.9"
  },
  "orig_nbformat": 4,
  "vscode": {
   "interpreter": {
    "hash": "a2592652612463181e69ac003232387e3e9a99279aa6b168e76f5df16d5110f4"
   }
  }
 },
 "nbformat": 4,
 "nbformat_minor": 2
}
