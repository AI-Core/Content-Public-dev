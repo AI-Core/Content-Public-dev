{
 "cells": [
  {
   "attachments": {},
   "cell_type": "markdown",
   "metadata": {},
   "source": [
    "<h1 style=\"color: rgb(241, 90, 36)\"><img src=\"./images/SQLIcon.png?modified=23342\" width=80px height=80px style=\"vertical-align: middle;\">  SQL Commands</h1>\n",
    "\n",
    "\n",
    "<h2 style=\"color: rgb(241, 90, 36)\">Command types</h2>\n",
    "\n",
    "*SQL (Structured Query Language)* commands are used to interact with and manipulate data in a relational database. SQL is a programming language specifically designed for managing data in relational databases, and it is used by a wide range of applications, from small personal databases to large enterprise-level systems.\n",
    "\n",
    "There are several types of SQL commands, including:\n",
    "\n",
    "- <b style=\"color: rgb(241, 90, 36)\">*Data Definition Language (DDL)*</b> commands, which are used to define the database schema (e.g: `CREATE`, `ALTER`, and `DROP`)\n",
    "\n",
    "- <b style=\"color: rgb(241, 90, 36)\">*Data Manipulation Language (DML)*</b> commands, which are used to manipulate the data stored in the database (e.g: `SELECT`, `INSERT`, `UPDATE`, and `DELETE`)\n",
    "\n",
    "- <b style=\"color: rgb(241, 90, 36)\">*Data Control Language (DCL)*</b> commands, which are used to control access to the data stored in the database (e.g: `GRANT` and `REVOKE`)\n",
    "\n",
    "- <b style=\"color: rgb(241, 90, 36)\">*Data Query Language (DQL)*</b> commands, that are used to retrieve data from the database (e.g: `SELECT`, `SELECT INTO`, and `SELECT DISTINCT`)\n",
    "\n",
    "- <b style=\"color: rgb(241, 90, 36)\">*Transaction Control Language (TCL)*</b> commands, are used to manage the changes made by Data Manipulation Language (**DML**) statements. **TCL** commands allow you to control the changes made to the data in a database by allowing you to commit or rollback those changes. The three main TCL commands are `COMMIT`, `ROLLBACK` and `SAVEPOINT`.\n",
    "\n",
    "There are many other commands that fall under the above categories but here is a helpful summary of the main commands:\n",
    "\n",
    "<img src=\"./images/SQL_command_types.png?modified=33342\" width=70% height=70% style=\"justify: centre;\">\n",
    "\n",
    "<h2 style=\"color: rgb(241, 90, 36)\">Order of execution</h2>\n",
    "\n",
    "The SQL *order of execution* will be different to that of other programming languages, such as Python, where each line of code is executed sequentially. With SQL, queries are executed in a predefined order and understanding the order can often help you understand why your SQL query won't run. \n",
    "\n",
    "The order of execution of SQL statements is as follows:\n",
    "\n",
    "- <b style=\"color: rgb(241, 90, 36)\">FROM</b>: The table(s) specified in the `FROM` clause are joined and the resulting rows are filtered based on the conditions in the `WHERE` clause\n",
    "\n",
    "- <b style=\"color: rgb(241, 90, 36)\">JOIN</b>: The tables specified in the `JOIN` clause are combined, with each row from the first table being matched with any corresponding rows from the second table\n",
    "\n",
    "- <b style=\"color: rgb(241, 90, 36)\">WHERE</b>: The conditions specified in the `WHERE` clause are used to filter the rows from the result set of the `JOIN` operation\n",
    "\n",
    "- <b style=\"color: rgb(241, 90, 36)\">GROUP BY</b>: The rows are grouped based on the columns specified in the `GROUP BY` clause, and aggregate functions (such as `SUM`, `COUNT`, `AVG`, etc.) are applied to the groups\n",
    "\n",
    "- <b style=\"color: rgb(241, 90, 36)\">HAVING</b>: The conditions specified in the `HAVING` clause are used to filter the groups from the result set of the `GROUP BY` operation\n",
    "\n",
    "- <b style=\"color: rgb(241, 90, 36)\">SELECT</b>: The columns specified in the `SELECT` clause are retrieved from the result set of the `HAVING` operation\n",
    "\n",
    "- <b style=\"color: rgb(241, 90, 36)\">DISTINCT</b>: The duplicate rows are removed from the result set of the `SELECT` operation\n",
    "\n",
    "- <b style=\"color: rgb(241, 90, 36)\">ORDER BY</b>: The result set is sorted based on the columns specified in the `ORDER BY` clause\n",
    "\n",
    "This order can be summarised in the following table:\n",
    "\n",
    "<img src=\"./images/order_execution.png?modified=33342\" width=50% height=50% style=\"justify: centre;\">\n",
    "\n",
    "It's important to note that not all of these clauses are required in a SQL statement.\n",
    "\n",
    "<h2 style=\"color: rgb(241, 90, 36)\">Order of execution in detail</h2>\n",
    "\n",
    "Let's look at a SQL statement containing all clauses from the SQL **order of execution** and how SQL processes it. I have used the pagila database here and joined the `actor` table to the `film_actor` table to get the result. Don't worry about the details of each clause they will be covered in more detail in later notebooks.\n",
    "\n",
    "A SQL query is a statement used to retrieve data from a database, and it is written in SQL syntax.\n",
    "\n",
    "The SQL query:"
   ]
  },
  {
   "cell_type": "code",
   "execution_count": null,
   "metadata": {
    "vscode": {
     "languageId": "sql"
    }
   },
   "outputs": [],
   "source": [
    "SELECT actor.first_name, COUNT(film_actor.film_id) as film_count FROM actor\n",
    "JOIN film_actor ON actor.actor_id = film_actor.actor_id\n",
    "WHERE first_name LIKE 'A%'\n",
    "GROUP BY actor.first_name\n",
    "HAVING COUNT(film_actor.film_id) > 31\n",
    "ORDER BY first_name\n",
    "LIMIT 3"
   ]
  },
  {
   "attachments": {},
   "cell_type": "markdown",
   "metadata": {},
   "source": [
    ">The tables in the images shown here before the query completes are just a visual representation of what SQL is performing in the background. You don't need to understand the query \n",
    ">in detail, rather try to understand the order the query is executing in. You may want to revisit this notebook after leaning more SQL to solidify your understanding. \n",
    "\n",
    "Notice the order of the query is written similarly to the SQL **order of execution** but the `SELECT` statement comes first. This is just a syntactical choice by the creators of SQL. You might think the way to read this query is top to bottom like you normally would with other programming languages. The way to read it is to think about the SQL **order of execution**, SQL will process it in the following way:\n",
    "\n",
    "Step 1 <b style=\"color: rgb(241, 90, 36)\">FROM</b>: "
   ]
  },
  {
   "cell_type": "code",
   "execution_count": null,
   "metadata": {
    "vscode": {
     "languageId": "sql"
    }
   },
   "outputs": [],
   "source": [
    "FROM actor"
   ]
  },
  {
   "attachments": {},
   "cell_type": "markdown",
   "metadata": {},
   "source": [
    "<img src=\"./images/actor_table.png?modified=33322342\" width=40% height=40% style=\"justify: centre;\">\n",
    "\n",
    "The first step in the order of execution is the `FROM` statement. Here SQL is beginning the query by targeting all the data in the `actor` table. \n",
    "\n",
    "Step 2  <b style=\"color: rgb(241, 90, 36)\">JOIN</b>:"
   ]
  },
  {
   "cell_type": "code",
   "execution_count": null,
   "metadata": {
    "vscode": {
     "languageId": "sql"
    }
   },
   "outputs": [],
   "source": [
    "JOIN film_actor ON actor.actor_id = film_actor.actor_id"
   ]
  },
  {
   "attachments": {},
   "cell_type": "markdown",
   "metadata": {},
   "source": [
    "\n",
    "<img src=\"./images/joins.png?modified=2342322\" width=80% height=80% style=\"justify: centre;\">\n",
    "\n",
    "Don't worry about the specifics of the join. Here we're joining the `actor` table to the `film_actor` table where the `actor_id`'s match. Notice in the resulting table there is two columns for `actor_id` and `last_update`. This happens because both columns are present in both table. To remedy this, SQL will postfix one of the columns with an incremental integer. You can see in the tables the're the columns:\n",
    "\n",
    "- `last_update` and `last_update(1)`\n",
    "- `actor_id` and `actor_id(1)`\n",
    "\n",
    "\n",
    "In the image above, you can see that SQL will join the rows coloured green together to produce the rows coloured red in the table on the right. It will do this for every actor in the `actor` table creating rows for each movie they played in. \n",
    "\n",
    "Step 3 <b style=\"color: rgb(241, 90, 36)\">WHERE</b>:\n"
   ]
  },
  {
   "cell_type": "code",
   "execution_count": null,
   "metadata": {
    "vscode": {
     "languageId": "sql"
    }
   },
   "outputs": [],
   "source": [
    "WHERE first_name LIKE 'A%'"
   ]
  },
  {
   "attachments": {},
   "cell_type": "markdown",
   "metadata": {},
   "source": [
    "Now we apply filtering to the data, using the `WHERE` statement. Here the data is filtered with the `LIKE` command to find actors where their first name starts with the letter A. Resulting in the following table:\n",
    "\n",
    "<img src=\"./images/actor_group.png?modified=2342322\" width=60% height=60% style=\"justify: centre;\">\n",
    "\n",
    "Step 4 <b style=\"color: rgb(241, 90, 36)\">GROUP BY</b>:"
   ]
  },
  {
   "cell_type": "code",
   "execution_count": null,
   "metadata": {
    "vscode": {
     "languageId": "sql"
    }
   },
   "outputs": [],
   "source": [
    "GROUP BY actor.first_name"
   ]
  },
  {
   "attachments": {},
   "cell_type": "markdown",
   "metadata": {},
   "source": [
    "Now we apply the `GROUP BY` aggregation which will group all actors together by first name. You can see in the image below it will try to group the rows highlighted in green and every other row where the actor's name is `Adam` together.\n",
    "\n",
    "<img src=\"./images/actor_groupby.png?modified=2342322\" width=60% height=60% style=\"justify: centre;\">\n",
    "\n",
    ">We can't see the remainder of the table but the `GROUP BY` will group any remaining rows together where the actors `first_name` is Adam. If there was also more than one actor named `Christopher` it would also group all those rows together. It will continue to do this for all `first_name`'s. "
   ]
  },
  {
   "attachments": {},
   "cell_type": "markdown",
   "metadata": {},
   "source": [
    "Step 5 <b style=\"color: rgb(241, 90, 36)\">HAVING</b>: "
   ]
  },
  {
   "cell_type": "code",
   "execution_count": null,
   "metadata": {
    "vscode": {
     "languageId": "sql"
    }
   },
   "outputs": [],
   "source": [
    "HAVING COUNT(film_actor.film_id) > 31"
   ]
  },
  {
   "attachments": {},
   "cell_type": "markdown",
   "metadata": {},
   "source": [
    "<img src=\"./images/having_filter.png?modified=2342322\" width=20% height=20% style=\"justify: centre;\">\n",
    "\n",
    "After SQL has grouped all the entries by `first_name`. The `HAVING` clause here will only display the rows where the amount of entries in the `film_id` column for that name is greater than `31`. \n",
    "\n",
    "STEP 6 <b style=\"color: rgb(241, 90, 36)\">SELECT</b>:"
   ]
  },
  {
   "cell_type": "code",
   "execution_count": null,
   "metadata": {
    "vscode": {
     "languageId": "sql"
    }
   },
   "outputs": [],
   "source": [
    "SELECT actor.first_name, COUNT(film_actor.film_id) as film_id_count as film_count FROM actor"
   ]
  },
  {
   "attachments": {},
   "cell_type": "markdown",
   "metadata": {},
   "source": [
    "Now the `SELECT` clause will determine which columns we will choose from the data. In this case we have decided on the count of the `film_id` column, naming this `film_id_count` and the actors `first_name`. \n",
    "\n",
    "<img src=\"./images/select_statement.png?modified=23422\" width=20% height=20% style=\"justify: centre;\">\n",
    "\n",
    "\n",
    "STEP 7 <b style=\"color: rgb(241, 90, 36)\">ORDER BY</b>:"
   ]
  },
  {
   "cell_type": "code",
   "execution_count": null,
   "metadata": {
    "vscode": {
     "languageId": "sql"
    }
   },
   "outputs": [],
   "source": [
    "ORDER BY first_name"
   ]
  },
  {
   "attachments": {},
   "cell_type": "markdown",
   "metadata": {},
   "source": [
    "<img src=\"./images/order_by.png?modified=23422\" width=20% height=20% style=\"justify: centre;\">\n",
    "\n",
    "Using `ORDER BY` the data will be ordered by `first_name` which will sort the data by the `first_name` column in ascending order.\n",
    "\n",
    "STEP 8 <b style=\"color: rgb(241, 90, 36)\">LIMIT</b>:"
   ]
  },
  {
   "cell_type": "code",
   "execution_count": null,
   "metadata": {
    "vscode": {
     "languageId": "sql"
    }
   },
   "outputs": [],
   "source": [
    "LIMIT 3"
   ]
  },
  {
   "attachments": {},
   "cell_type": "markdown",
   "metadata": {},
   "source": [
    "<img src=\"./images/limit_clause.png?modified=34232\" width=20% height=20% style=\"justify: centre;\">\n",
    "\n",
    "Finally we limit the data selecting only the top three entries. This completes the query and returns the resulting data. \n",
    "\n",
    ">So why does this matter? Well when you first start writing queries you may write a query which logically makes sense but in fact following the **order of execution** fails. \n",
    "\n",
    "Let's look at an example: "
   ]
  },
  {
   "cell_type": "code",
   "execution_count": null,
   "metadata": {
    "vscode": {
     "languageId": "sql"
    }
   },
   "outputs": [],
   "source": [
    "SELECT actor.first_name, COUNT(film_actor.film_id) as film_count FROM actor\n",
    "JOIN film_actor ON actor.actor_id = film_actor.actor_id\n",
    "WHERE first_name LIKE 'A%'\n",
    "GROUP BY actor.first_name\n",
    "HAVING film_count > 31\n",
    "ORDER BY first_name\n",
    "LIMIT 3"
   ]
  },
  {
   "attachments": {},
   "cell_type": "markdown",
   "metadata": {},
   "source": [
    "Notice this is nearly the same query we wrote before. The only line changed is the line with the `HAVING` clause."
   ]
  },
  {
   "cell_type": "code",
   "execution_count": null,
   "metadata": {
    "vscode": {
     "languageId": "sql"
    }
   },
   "outputs": [],
   "source": [
    "HAVING film_count > 31"
   ]
  },
  {
   "attachments": {},
   "cell_type": "markdown",
   "metadata": {},
   "source": [
    "In our mind this might look correct, we're wanting all actors having a `film_count > 31` and we referenced `film_count` in the `SELECT` statement. "
   ]
  },
  {
   "cell_type": "code",
   "execution_count": null,
   "metadata": {
    "vscode": {
     "languageId": "sql"
    }
   },
   "outputs": [],
   "source": [
    "SELECT actor.first_name, COUNT(film_actor.film_id) as film_count"
   ]
  },
  {
   "attachments": {},
   "cell_type": "markdown",
   "metadata": {},
   "source": [
    "This makes sense if you read the statement as a whole, but following the order of execution. `HAVING` is 5th in the order and `SELECT` is 6th in the order of execution. So the `film_count` column we're trying to reference with our `HAVING` clause hasn't actually been generated by SQL yet and so we will get an error.\n",
    "\n",
    "<img src=\"./images/film_count_error.png?modified=34232\" width=40% height=40% style=\"justify: centre;\">\n",
    "\n",
    "The error is telling us the `film_count` column doesn't exist, which is to be expected since the `SELECT` clause hasn't run yet allowing the `HAVING` clause to reference it. So if you get some unexpected errors when writing SQL statements try to keep in mind the order of execution as it's often the source of the problem. \n",
    "\n",
    "<h2 style=\"color: rgb(241, 90, 36)\">Conclusion</h2>\n",
    "\n",
    "In this notebook you have learned:\n",
    "\n",
    "- The different types of **SQL commands** \n",
    "- How SQL processes queries in the background using the **SQL order of execution**\n",
    "- Why the order execution matters and how non-obvious errors can occur unless you understand the **order of execution**"
   ]
  }
 ],
 "metadata": {
  "kernelspec": {
   "display_name": "base",
   "language": "python",
   "name": "python3"
  },
  "language_info": {
   "codemirror_mode": {
    "name": "ipython",
    "version": 3
   },
   "file_extension": ".py",
   "mimetype": "text/x-python",
   "name": "python",
   "nbconvert_exporter": "python",
   "pygments_lexer": "ipython3",
   "version": "3.10.9"
  },
  "vscode": {
   "interpreter": {
    "hash": "a2592652612463181e69ac003232387e3e9a99279aa6b168e76f5df16d5110f4"
   }
  }
 },
 "nbformat": 4,
 "nbformat_minor": 2
}
