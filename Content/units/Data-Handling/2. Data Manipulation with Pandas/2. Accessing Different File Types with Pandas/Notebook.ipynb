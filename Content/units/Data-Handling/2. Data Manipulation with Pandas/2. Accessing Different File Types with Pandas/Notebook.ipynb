{
 "cells": [
  {
   "attachments": {},
   "cell_type": "markdown",
   "metadata": {},
   "source": [
    "# Accessing Different File Types with Pandas"
   ]
  },
  {
   "cell_type": "code",
   "execution_count": null,
   "id": "0c0e8722",
   "metadata": {},
   "outputs": [],
   "source": [
    "#@title ### Run the following cell to download the necessary files for this lesson { display-mode: \"form\" } \n",
    "#@markdown Don't worry about what's in this collapsed cell\n",
    "\n",
    "print('Downloading Notebook.ipynb...')\n",
    "!wget https://s3-eu-west-1.amazonaws.com/aicore-portal-public-dev-524288083424/lesson_files/3d1ad53c-8b55-41f0-8772-08c39b437cfb/Notebook.ipynb -q -O {file_name}\n",
    "print('Downloading Salaries.csv...')\n",
    "!wget https://s3-eu-west-1.amazonaws.com/aicore-portal-public-dev-524288083424/lesson_files/3d1ad53c-8b55-41f0-8772-08c39b437cfb/Salaries.csv -q -O {file_name}\n",
    "print('Downloading yaml_example.yaml...')\n",
    "!wget https://s3-eu-west-1.amazonaws.com/aicore-portal-public-dev-524288083424/lesson_files/3d1ad53c-8b55-41f0-8772-08c39b437cfb/yaml_example.yaml -q -O {file_name}\n",
    "print('Downloading lesson.yaml...')\n",
    "!wget https://s3-eu-west-1.amazonaws.com/aicore-portal-public-dev-524288083424/lesson_files/3d1ad53c-8b55-41f0-8772-08c39b437cfb/lesson.yaml -q -O {file_name}\n",
    "print('Downloading JSON_sample.json...')\n",
    "!wget https://s3-eu-west-1.amazonaws.com/aicore-portal-public-dev-524288083424/lesson_files/3d1ad53c-8b55-41f0-8772-08c39b437cfb/JSON_sample.json -q -O {file_name}\n",
    "print('Downloading employees.xml...')\n",
    "!wget https://s3-eu-west-1.amazonaws.com/aicore-portal-public-dev-524288083424/lesson_files/3d1ad53c-8b55-41f0-8772-08c39b437cfb/employees.xml -q -O {file_name}\n",
    "print('Downloading employees 2.xml...')\n",
    "!wget https://s3-eu-west-1.amazonaws.com/aicore-portal-public-dev-524288083424/lesson_files/3d1ad53c-8b55-41f0-8772-08c39b437cfb/employees 2.xml -q -O {file_name}\n"
   ]
  },
  {
   "attachments": {},
   "cell_type": "markdown",
   "metadata": {},
   "source": [
    "## Learning Objectives\n",
    "\n",
    "- Understand how to read different file types into Pandas\n",
    "- Understand how to write different file types from Pandas"
   ]
  },
  {
   "cell_type": "code",
   "execution_count": null,
   "metadata": {},
   "outputs": [],
   "source": []
  }
 ],
 "metadata": {
  "language_info": {
   "name": "python"
  }
 },
 "nbformat": 4,
 "nbformat_minor": 2
}
