{
 "cells": [
  {
   "attachments": {},
   "cell_type": "markdown",
   "metadata": {},
   "source": [
    "# Missing Data"
   ]
  },
  {
   "attachments": {},
   "cell_type": "markdown",
   "metadata": {},
   "source": [
    "## What method can be used in Pandas to check for missing data in a DataFrame, and what is the output format of this method?\n",
    "\n",
    "- A) `is_missing()`, which returns a boolean array indicating whether each element in the DataFrame is missing or not.\n",
    "- B) `unique()`, which returns a array indicating each unique value. This can point to other type of missing data besides `null` values.\n",
    "- C) `isnull()`, which returns a boolean array indicating whether each element in the DataFrame is missing or not.\n",
    "- D) B and C ***"
   ]
  },
  {
   "attachments": {},
   "cell_type": "markdown",
   "metadata": {},
   "source": [
    "## Which argument can be used with the `read_csv()` method in Pandas to replace `NaN` values while reading data into a DataFrame?\n",
    "\n",
    "- A) `fill_nan`\n",
    "- B) `replace_nan`\n",
    "- C) `na_values` ***\n",
    "- D) `dropna`"
   ]
  },
  {
   "attachments": {},
   "cell_type": "markdown",
   "metadata": {},
   "source": [
    "## What method can be used to find the number of `null` values in each column of a Pandas DataFrame?\n",
    "\n",
    "- A) `null_count()`\n",
    "- B) `count_null()`\n",
    "- C) `isnull()`\n",
    "- D) `isnull().sum()` ***"
   ]
  },
  {
   "attachments": {},
   "cell_type": "markdown",
   "metadata": {},
   "source": [
    "## Which command can be used to visualize missing data in a Pandas DataFrame using the `Missingno` library?\n",
    "\n",
    "- A) `missing_data(df)`\n",
    "- B) `visualize_missing(df)`\n",
    "- C) `msno.matrix(df)` ***\n",
    "- D) `nan_plot(df)`"
   ]
  },
  {
   "attachments": {},
   "cell_type": "markdown",
   "metadata": {},
   "source": [
    "## Which of the following code snippets demonstrates the correct usage of the `fillna()` method in Pandas to replace `NaN` values with a specific value, say `0`?\n",
    "\n",
    "- A) `df.fillna(0)`\n",
    "- B) `df.fillna(value=0)` ***\n",
    "- C) `df.fillna(method='0')`\n",
    "- D) `df.fillna(method='0')`"
   ]
  }
 ],
 "metadata": {
  "language_info": {
   "name": "python"
  },
  "orig_nbformat": 4
 },
 "nbformat": 4,
 "nbformat_minor": 2
}
